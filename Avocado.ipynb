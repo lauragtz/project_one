{
 "metadata": {
  "orig_nbformat": 2,
  "kernelspec": {
   "name": "python3",
   "display_name": "Python 3"
  }
 },
 "nbformat": 4,
 "nbformat_minor": 2,
 "cells": [
  {
   "cell_type": "code",
   "execution_count": 1,
   "metadata": {},
   "outputs": [],
   "source": [
    "import pandas as pd\n",
    "\n",
    "\n",
    "avocado_df = pd.read_csv('Resources/Avocado.csv')"
   ]
  },
  {
   "cell_type": "code",
   "execution_count": 2,
   "metadata": {},
   "outputs": [
    {
     "output_type": "execute_result",
     "data": {
      "text/plain": [
       "array(['Albany', 'Atlanta', 'Baltimore/Washington', 'BaltimoreWashington',\n",
       "       'Boise', 'Boston', 'Buffalo/Rochester', 'BuffaloRochester',\n",
       "       'California', 'Charlotte', 'Chicago', 'Cincinnati/Dayton',\n",
       "       'CincinnatiDayton', 'Columbus', 'Dallas/Ft. Worth',\n",
       "       'DallasFtWorth', 'Denver', 'Detroit', 'Grand Rapids',\n",
       "       'GrandRapids', 'Great Lakes', 'GreatLakes', 'Harrisburg/Scranton',\n",
       "       'HarrisburgScranton', 'Hartford/Springfield',\n",
       "       'HartfordSpringfield', 'Houston', 'Indianapolis', 'Jacksonville',\n",
       "       'Las Vegas', 'LasVegas', 'Los Angeles', 'LosAngeles', 'Louisville',\n",
       "       'Miami/Ft. Lauderdale', 'MiamiFtLauderdale', 'Midsouth',\n",
       "       'Nashville', 'New Orleans/Mobile', 'New York', 'NewOrleansMobile',\n",
       "       'NewYork', 'Northeast', 'Northern New England',\n",
       "       'NorthernNewEngland', 'Orlando', 'Philadelphia', 'Phoenix/Tucson',\n",
       "       'PhoenixTucson', 'Pittsburgh', 'Plains', 'Portland',\n",
       "       'Raleigh/Greensboro', 'RaleighGreensboro', 'Richmond/Norfolk',\n",
       "       'RichmondNorfolk', 'Roanoke', 'Sacramento', 'San Diego',\n",
       "       'San Francisco', 'SanDiego', 'SanFrancisco', 'Seattle',\n",
       "       'South Carolina', 'South Central', 'SouthCarolina', 'SouthCentral',\n",
       "       'Southeast', 'Spokane', 'St. Louis', 'StLouis', 'Syracuse',\n",
       "       'Tampa', 'Total U.S.', 'TotalUS', 'West', 'West Tex/New Mexico',\n",
       "       'WestTexNewMexico'], dtype=object)"
      ]
     },
     "metadata": {},
     "execution_count": 2
    }
   ],
   "source": [
    "avocado_df['region'].unique()"
   ]
  },
  {
   "cell_type": "code",
   "execution_count": 3,
   "metadata": {},
   "outputs": [],
   "source": [
    "avocado_df['region'] = avocado_df['region'].replace(\n",
    "    {'LosAngeles': 'Los Angeles', 'BaltimoreWashington': 'Baltimore/Washington', 'BuffaloRochester': 'Buffalo/Rochester', 'CincinnatiDayton': 'Cincinnati/Dayton', 'DallasFtWorth': 'Dallas/Ft. Worth', 'GrandRapids': 'Grand Rapids', 'GreatLakes': 'Great Lakes', 'HarrisburgScranton': 'Harrisburg/Scranton', 'HartfordSpringfield': 'Hartford/Springfield', 'Harford/Springfield': 'Hartford/Springfield', 'LasVegas': 'Las Vegas', 'MiamiFtLauderdale': 'Miami/Ft. Lauderdale', 'NewOrleansMobile': 'New Orleans/Mobile', 'NewYork': 'New York', 'NorthernNewEngland': 'Northern New England', 'PhoenixTucson': 'Phoenix/Tucson', 'RaleighGreensboro': 'Raleigh/Greensboro', 'RichmondNorfolk': 'Richmond/Norfolk', 'SanDiego': 'San Diego', 'SanFrancisco': 'San Francisco', 'SouthCarolina': 'South Carolina', 'SouthCentral': 'South Central', 'StLouis': 'St. Louis', 'Total U.S.': 'Total US', 'TotalUS': 'Total US', 'WestTexNewMexico': 'West Tex/New Mexico'})"
   ]
  },
  {
   "cell_type": "code",
   "execution_count": 4,
   "metadata": {},
   "outputs": [
    {
     "output_type": "execute_result",
     "data": {
      "text/plain": [
       "array(['Albany', 'Atlanta', 'Baltimore/Washington', 'Boise', 'Boston',\n",
       "       'Buffalo/Rochester', 'California', 'Charlotte', 'Chicago',\n",
       "       'Cincinnati/Dayton', 'Columbus', 'Dallas/Ft. Worth', 'Denver',\n",
       "       'Detroit', 'Grand Rapids', 'Great Lakes', 'Harrisburg/Scranton',\n",
       "       'Hartford/Springfield', 'Houston', 'Indianapolis', 'Jacksonville',\n",
       "       'Las Vegas', 'Los Angeles', 'Louisville', 'Miami/Ft. Lauderdale',\n",
       "       'Midsouth', 'Nashville', 'New Orleans/Mobile', 'New York',\n",
       "       'Northeast', 'Northern New England', 'Orlando', 'Philadelphia',\n",
       "       'Phoenix/Tucson', 'Pittsburgh', 'Plains', 'Portland',\n",
       "       'Raleigh/Greensboro', 'Richmond/Norfolk', 'Roanoke', 'Sacramento',\n",
       "       'San Diego', 'San Francisco', 'Seattle', 'South Carolina',\n",
       "       'South Central', 'Southeast', 'Spokane', 'St. Louis', 'Syracuse',\n",
       "       'Tampa', 'Total US', 'West', 'West Tex/New Mexico'], dtype=object)"
      ]
     },
     "metadata": {},
     "execution_count": 4
    }
   ],
   "source": [
    "avocado_df['region'].unique()"
   ]
  },
  {
   "cell_type": "code",
   "execution_count": 5,
   "metadata": {},
   "outputs": [],
   "source": [
    "junk_cities = ['Baltimore/Washington', 'Buffalo/Rochester', 'Cincinnati/Dayton', 'Dallas/Ft. Worth', 'Harrisburg/Scranton', 'Hartford/Springfield', 'Miami/Ft. Lauderdale', 'New Orleans/Mobile', 'Northeast', 'Phoenix/Tucson', 'Raleigh/Greensboro', 'Richmond/Norfolk', 'South Central', 'Southeast', 'West', 'West Tex/New Mexico', 'Total US', 'California', 'Mid South']\n",
    "clean_df =avocado_df\n",
    "for city in junk_cities:\n",
    "    clean_df.drop(clean_df.loc[clean_df['region']==city].index, inplace=True)\n",
    "\n",
    "\n"
   ]
  },
  {
   "cell_type": "code",
   "execution_count": 6,
   "metadata": {},
   "outputs": [
    {
     "output_type": "execute_result",
     "data": {
      "text/plain": [
       "array(['Albany', 'Atlanta', 'Boise', 'Boston', 'Charlotte', 'Chicago',\n",
       "       'Columbus', 'Denver', 'Detroit', 'Grand Rapids', 'Great Lakes',\n",
       "       'Houston', 'Indianapolis', 'Jacksonville', 'Las Vegas',\n",
       "       'Los Angeles', 'Louisville', 'Midsouth', 'Nashville', 'New York',\n",
       "       'Northern New England', 'Orlando', 'Philadelphia', 'Pittsburgh',\n",
       "       'Plains', 'Portland', 'Roanoke', 'Sacramento', 'San Diego',\n",
       "       'San Francisco', 'Seattle', 'South Carolina', 'Spokane',\n",
       "       'St. Louis', 'Syracuse', 'Tampa'], dtype=object)"
      ]
     },
     "metadata": {},
     "execution_count": 6
    }
   ],
   "source": [
    "clean_df['region'].unique()"
   ]
  },
  {
   "cell_type": "code",
   "execution_count": 7,
   "metadata": {},
   "outputs": [],
   "source": [
    "clean_df.to_csv('Resources/clean_avocado.csv')"
   ]
  },
  {
   "cell_type": "code",
   "execution_count": 8,
   "metadata": {},
   "outputs": [
    {
     "output_type": "execute_result",
     "data": {
      "text/plain": [
       "array([2015, 2016, 2017, 2018, 2019], dtype=int64)"
      ]
     },
     "metadata": {},
     "execution_count": 8
    }
   ],
   "source": [
    "clean_df['year'].unique()"
   ]
  },
  {
   "cell_type": "code",
   "execution_count": 9,
   "metadata": {},
   "outputs": [],
   "source": [
    "#matching names to other CSV files and to clarify what state\n",
    "clean_df['region'] = clean_df['region'].replace({'Albany': 'Albany, NY', 'Atlanta': 'Atlanta, GA', 'Boise': 'Boise City, ID', 'Boston': 'Boston, MA', \n",
    "                                          'Charlotte': 'Charlotte, NC','Chicago': 'Chicago, IL', 'Columbus': 'Columbus, OH', 'Denver': 'Denver, CO', \n",
    "                                          'Detroit': 'Detroit, MI', 'Grand Rapids': 'Grand Rapids, MI', 'Houston': 'Houston, TX', \n",
    "                                          'Indianapolis': 'Indianapolis, IN', 'Jacksonville': 'Jacksonville, FL', 'Las Vegas': 'Las Vegas, NV', \n",
    "                                          'Los Angeles': 'Los Angeles, CA', 'Nashville': 'Nashville, NC', 'New York': 'New York, NY', 'Orlando': \n",
    "                                          'Orlando, FL', 'Philadelphia': 'Philadelphia, PA', 'Pittsburgh': 'Pittsburgh, PA', 'Portland': 'Portland, OR', \n",
    "                                          'Roanoke': 'Roanoke, VA', 'Sacramento': 'Sacramento, CA', 'San Diego': 'San Diego, CA', \n",
    "                                          'San Francisco': 'San Francisco, CA', 'Seattle': 'Seattle, WA', 'Spokane':'Spokane, WA', \n",
    "                                          'St. Louis': 'St.Louis, MO', 'Syracuse': 'Syracuse, NY', 'Tampa': 'Tampa, FL'})"
   ]
  },
  {
   "cell_type": "code",
   "execution_count": 10,
   "metadata": {},
   "outputs": [
    {
     "output_type": "execute_result",
     "data": {
      "text/plain": [
       "             Date  AveragePrice  Total Volume     4046      4225    4770  \\\n",
       "0        1/4/2015          1.22      40873.28  2819.50  28287.42   49.90   \n",
       "1       1/11/2015          1.24      41195.08  1002.85  31640.34  127.12   \n",
       "2       1/18/2015          1.17      44511.28   914.14  31540.32  135.77   \n",
       "3       1/25/2015          1.06      45147.50   941.38  33196.16  164.14   \n",
       "4        2/1/2015          0.99      70873.60  1353.90  60017.20  179.32   \n",
       "...           ...           ...           ...      ...       ...     ...   \n",
       "26560   11/3/2019          0.96      10247.59   264.26      0.00    0.00   \n",
       "26561  11/10/2019          1.23       9234.00   209.00      1.00    0.00   \n",
       "26562  11/17/2019          1.26       7134.00   287.00      0.00    0.00   \n",
       "26563  11/24/2019          1.24       7257.00   187.00      2.00    0.00   \n",
       "26564   12/1/2019          1.17       6957.00   126.00      0.00    0.00   \n",
       "\n",
       "       Total Bags  Small Bags  Large Bags  XLarge Bags          type  year  \\\n",
       "0         9716.46     9186.93      529.53          0.0  conventional  2015   \n",
       "1         8424.77     8036.04      388.73          0.0  conventional  2015   \n",
       "2        11921.05    11651.09      269.96          0.0  conventional  2015   \n",
       "3        10845.82    10103.35      742.47          0.0  conventional  2015   \n",
       "4         9323.18     9170.82      152.36          0.0  conventional  2015   \n",
       "...           ...         ...         ...          ...           ...   ...   \n",
       "26560     9983.33     9983.33        0.00          0.0       organic  2019   \n",
       "26561     9024.00     9024.00        0.00          0.0       organic  2019   \n",
       "26562     6847.00     6847.00        0.00          0.0       organic  2019   \n",
       "26563     7068.00     7068.00        0.00          0.0       organic  2019   \n",
       "26564     6831.00     6831.00        0.00          0.0       organic  2019   \n",
       "\n",
       "           region  \n",
       "0      Albany, NY  \n",
       "1      Albany, NY  \n",
       "2      Albany, NY  \n",
       "3      Albany, NY  \n",
       "4      Albany, NY  \n",
       "...           ...  \n",
       "26560   Tampa, FL  \n",
       "26561   Tampa, FL  \n",
       "26562   Tampa, FL  \n",
       "26563   Tampa, FL  \n",
       "26564   Tampa, FL  \n",
       "\n",
       "[18216 rows x 13 columns]"
      ],
      "text/html": "<div>\n<style scoped>\n    .dataframe tbody tr th:only-of-type {\n        vertical-align: middle;\n    }\n\n    .dataframe tbody tr th {\n        vertical-align: top;\n    }\n\n    .dataframe thead th {\n        text-align: right;\n    }\n</style>\n<table border=\"1\" class=\"dataframe\">\n  <thead>\n    <tr style=\"text-align: right;\">\n      <th></th>\n      <th>Date</th>\n      <th>AveragePrice</th>\n      <th>Total Volume</th>\n      <th>4046</th>\n      <th>4225</th>\n      <th>4770</th>\n      <th>Total Bags</th>\n      <th>Small Bags</th>\n      <th>Large Bags</th>\n      <th>XLarge Bags</th>\n      <th>type</th>\n      <th>year</th>\n      <th>region</th>\n    </tr>\n  </thead>\n  <tbody>\n    <tr>\n      <th>0</th>\n      <td>1/4/2015</td>\n      <td>1.22</td>\n      <td>40873.28</td>\n      <td>2819.50</td>\n      <td>28287.42</td>\n      <td>49.90</td>\n      <td>9716.46</td>\n      <td>9186.93</td>\n      <td>529.53</td>\n      <td>0.0</td>\n      <td>conventional</td>\n      <td>2015</td>\n      <td>Albany, NY</td>\n    </tr>\n    <tr>\n      <th>1</th>\n      <td>1/11/2015</td>\n      <td>1.24</td>\n      <td>41195.08</td>\n      <td>1002.85</td>\n      <td>31640.34</td>\n      <td>127.12</td>\n      <td>8424.77</td>\n      <td>8036.04</td>\n      <td>388.73</td>\n      <td>0.0</td>\n      <td>conventional</td>\n      <td>2015</td>\n      <td>Albany, NY</td>\n    </tr>\n    <tr>\n      <th>2</th>\n      <td>1/18/2015</td>\n      <td>1.17</td>\n      <td>44511.28</td>\n      <td>914.14</td>\n      <td>31540.32</td>\n      <td>135.77</td>\n      <td>11921.05</td>\n      <td>11651.09</td>\n      <td>269.96</td>\n      <td>0.0</td>\n      <td>conventional</td>\n      <td>2015</td>\n      <td>Albany, NY</td>\n    </tr>\n    <tr>\n      <th>3</th>\n      <td>1/25/2015</td>\n      <td>1.06</td>\n      <td>45147.50</td>\n      <td>941.38</td>\n      <td>33196.16</td>\n      <td>164.14</td>\n      <td>10845.82</td>\n      <td>10103.35</td>\n      <td>742.47</td>\n      <td>0.0</td>\n      <td>conventional</td>\n      <td>2015</td>\n      <td>Albany, NY</td>\n    </tr>\n    <tr>\n      <th>4</th>\n      <td>2/1/2015</td>\n      <td>0.99</td>\n      <td>70873.60</td>\n      <td>1353.90</td>\n      <td>60017.20</td>\n      <td>179.32</td>\n      <td>9323.18</td>\n      <td>9170.82</td>\n      <td>152.36</td>\n      <td>0.0</td>\n      <td>conventional</td>\n      <td>2015</td>\n      <td>Albany, NY</td>\n    </tr>\n    <tr>\n      <th>...</th>\n      <td>...</td>\n      <td>...</td>\n      <td>...</td>\n      <td>...</td>\n      <td>...</td>\n      <td>...</td>\n      <td>...</td>\n      <td>...</td>\n      <td>...</td>\n      <td>...</td>\n      <td>...</td>\n      <td>...</td>\n      <td>...</td>\n    </tr>\n    <tr>\n      <th>26560</th>\n      <td>11/3/2019</td>\n      <td>0.96</td>\n      <td>10247.59</td>\n      <td>264.26</td>\n      <td>0.00</td>\n      <td>0.00</td>\n      <td>9983.33</td>\n      <td>9983.33</td>\n      <td>0.00</td>\n      <td>0.0</td>\n      <td>organic</td>\n      <td>2019</td>\n      <td>Tampa, FL</td>\n    </tr>\n    <tr>\n      <th>26561</th>\n      <td>11/10/2019</td>\n      <td>1.23</td>\n      <td>9234.00</td>\n      <td>209.00</td>\n      <td>1.00</td>\n      <td>0.00</td>\n      <td>9024.00</td>\n      <td>9024.00</td>\n      <td>0.00</td>\n      <td>0.0</td>\n      <td>organic</td>\n      <td>2019</td>\n      <td>Tampa, FL</td>\n    </tr>\n    <tr>\n      <th>26562</th>\n      <td>11/17/2019</td>\n      <td>1.26</td>\n      <td>7134.00</td>\n      <td>287.00</td>\n      <td>0.00</td>\n      <td>0.00</td>\n      <td>6847.00</td>\n      <td>6847.00</td>\n      <td>0.00</td>\n      <td>0.0</td>\n      <td>organic</td>\n      <td>2019</td>\n      <td>Tampa, FL</td>\n    </tr>\n    <tr>\n      <th>26563</th>\n      <td>11/24/2019</td>\n      <td>1.24</td>\n      <td>7257.00</td>\n      <td>187.00</td>\n      <td>2.00</td>\n      <td>0.00</td>\n      <td>7068.00</td>\n      <td>7068.00</td>\n      <td>0.00</td>\n      <td>0.0</td>\n      <td>organic</td>\n      <td>2019</td>\n      <td>Tampa, FL</td>\n    </tr>\n    <tr>\n      <th>26564</th>\n      <td>12/1/2019</td>\n      <td>1.17</td>\n      <td>6957.00</td>\n      <td>126.00</td>\n      <td>0.00</td>\n      <td>0.00</td>\n      <td>6831.00</td>\n      <td>6831.00</td>\n      <td>0.00</td>\n      <td>0.0</td>\n      <td>organic</td>\n      <td>2019</td>\n      <td>Tampa, FL</td>\n    </tr>\n  </tbody>\n</table>\n<p>18216 rows × 13 columns</p>\n</div>"
     },
     "metadata": {},
     "execution_count": 10
    }
   ],
   "source": [
    "clean_df"
   ]
  },
  {
   "cell_type": "code",
   "execution_count": 11,
   "metadata": {},
   "outputs": [],
   "source": [
    "clean_df.drop(clean_df.loc[clean_df['year']==2019].index, inplace=True)"
   ]
  },
  {
   "cell_type": "code",
   "execution_count": 12,
   "metadata": {},
   "outputs": [
    {
     "output_type": "execute_result",
     "data": {
      "text/plain": [
       "             Date  AveragePrice  Total Volume     4046      4225    4770  \\\n",
       "0        1/4/2015          1.22      40873.28  2819.50  28287.42   49.90   \n",
       "1       1/11/2015          1.24      41195.08  1002.85  31640.34  127.12   \n",
       "2       1/18/2015          1.17      44511.28   914.14  31540.32  135.77   \n",
       "3       1/25/2015          1.06      45147.50   941.38  33196.16  164.14   \n",
       "4        2/1/2015          0.99      70873.60  1353.90  60017.20  179.32   \n",
       "...           ...           ...           ...      ...       ...     ...   \n",
       "26512   11/4/2018          1.49       8300.71   152.99    521.23    0.00   \n",
       "26513  11/11/2018          1.54       9113.31   136.55    670.58    0.00   \n",
       "26514  11/18/2018          1.52      12259.52   220.91   1231.73    0.00   \n",
       "26515  11/25/2018          1.24        710.36    52.13     25.74    0.00   \n",
       "26516   12/2/2018          1.29       7374.15   176.32      5.44    0.00   \n",
       "\n",
       "       Total Bags  Small Bags  Large Bags  XLarge Bags          type  year  \\\n",
       "0         9716.46     9186.93      529.53          0.0  conventional  2015   \n",
       "1         8424.77     8036.04      388.73          0.0  conventional  2015   \n",
       "2        11921.05    11651.09      269.96          0.0  conventional  2015   \n",
       "3        10845.82    10103.35      742.47          0.0  conventional  2015   \n",
       "4         9323.18     9170.82      152.36          0.0  conventional  2015   \n",
       "...           ...         ...         ...          ...           ...   ...   \n",
       "26512     7626.49     6953.34      673.15          0.0       organic  2018   \n",
       "26513     8306.18     7048.18     1258.00          0.0       organic  2018   \n",
       "26514    10806.88     7333.34     3473.54          0.0       organic  2018   \n",
       "26515      632.49      567.77       64.72          0.0       organic  2018   \n",
       "26516     7192.39     7192.39        0.00          0.0       organic  2018   \n",
       "\n",
       "           region  \n",
       "0      Albany, NY  \n",
       "1      Albany, NY  \n",
       "2      Albany, NY  \n",
       "3      Albany, NY  \n",
       "4      Albany, NY  \n",
       "...           ...  \n",
       "26512   Tampa, FL  \n",
       "26513   Tampa, FL  \n",
       "26514   Tampa, FL  \n",
       "26515   Tampa, FL  \n",
       "26516   Tampa, FL  \n",
       "\n",
       "[14760 rows x 13 columns]"
      ],
      "text/html": "<div>\n<style scoped>\n    .dataframe tbody tr th:only-of-type {\n        vertical-align: middle;\n    }\n\n    .dataframe tbody tr th {\n        vertical-align: top;\n    }\n\n    .dataframe thead th {\n        text-align: right;\n    }\n</style>\n<table border=\"1\" class=\"dataframe\">\n  <thead>\n    <tr style=\"text-align: right;\">\n      <th></th>\n      <th>Date</th>\n      <th>AveragePrice</th>\n      <th>Total Volume</th>\n      <th>4046</th>\n      <th>4225</th>\n      <th>4770</th>\n      <th>Total Bags</th>\n      <th>Small Bags</th>\n      <th>Large Bags</th>\n      <th>XLarge Bags</th>\n      <th>type</th>\n      <th>year</th>\n      <th>region</th>\n    </tr>\n  </thead>\n  <tbody>\n    <tr>\n      <th>0</th>\n      <td>1/4/2015</td>\n      <td>1.22</td>\n      <td>40873.28</td>\n      <td>2819.50</td>\n      <td>28287.42</td>\n      <td>49.90</td>\n      <td>9716.46</td>\n      <td>9186.93</td>\n      <td>529.53</td>\n      <td>0.0</td>\n      <td>conventional</td>\n      <td>2015</td>\n      <td>Albany, NY</td>\n    </tr>\n    <tr>\n      <th>1</th>\n      <td>1/11/2015</td>\n      <td>1.24</td>\n      <td>41195.08</td>\n      <td>1002.85</td>\n      <td>31640.34</td>\n      <td>127.12</td>\n      <td>8424.77</td>\n      <td>8036.04</td>\n      <td>388.73</td>\n      <td>0.0</td>\n      <td>conventional</td>\n      <td>2015</td>\n      <td>Albany, NY</td>\n    </tr>\n    <tr>\n      <th>2</th>\n      <td>1/18/2015</td>\n      <td>1.17</td>\n      <td>44511.28</td>\n      <td>914.14</td>\n      <td>31540.32</td>\n      <td>135.77</td>\n      <td>11921.05</td>\n      <td>11651.09</td>\n      <td>269.96</td>\n      <td>0.0</td>\n      <td>conventional</td>\n      <td>2015</td>\n      <td>Albany, NY</td>\n    </tr>\n    <tr>\n      <th>3</th>\n      <td>1/25/2015</td>\n      <td>1.06</td>\n      <td>45147.50</td>\n      <td>941.38</td>\n      <td>33196.16</td>\n      <td>164.14</td>\n      <td>10845.82</td>\n      <td>10103.35</td>\n      <td>742.47</td>\n      <td>0.0</td>\n      <td>conventional</td>\n      <td>2015</td>\n      <td>Albany, NY</td>\n    </tr>\n    <tr>\n      <th>4</th>\n      <td>2/1/2015</td>\n      <td>0.99</td>\n      <td>70873.60</td>\n      <td>1353.90</td>\n      <td>60017.20</td>\n      <td>179.32</td>\n      <td>9323.18</td>\n      <td>9170.82</td>\n      <td>152.36</td>\n      <td>0.0</td>\n      <td>conventional</td>\n      <td>2015</td>\n      <td>Albany, NY</td>\n    </tr>\n    <tr>\n      <th>...</th>\n      <td>...</td>\n      <td>...</td>\n      <td>...</td>\n      <td>...</td>\n      <td>...</td>\n      <td>...</td>\n      <td>...</td>\n      <td>...</td>\n      <td>...</td>\n      <td>...</td>\n      <td>...</td>\n      <td>...</td>\n      <td>...</td>\n    </tr>\n    <tr>\n      <th>26512</th>\n      <td>11/4/2018</td>\n      <td>1.49</td>\n      <td>8300.71</td>\n      <td>152.99</td>\n      <td>521.23</td>\n      <td>0.00</td>\n      <td>7626.49</td>\n      <td>6953.34</td>\n      <td>673.15</td>\n      <td>0.0</td>\n      <td>organic</td>\n      <td>2018</td>\n      <td>Tampa, FL</td>\n    </tr>\n    <tr>\n      <th>26513</th>\n      <td>11/11/2018</td>\n      <td>1.54</td>\n      <td>9113.31</td>\n      <td>136.55</td>\n      <td>670.58</td>\n      <td>0.00</td>\n      <td>8306.18</td>\n      <td>7048.18</td>\n      <td>1258.00</td>\n      <td>0.0</td>\n      <td>organic</td>\n      <td>2018</td>\n      <td>Tampa, FL</td>\n    </tr>\n    <tr>\n      <th>26514</th>\n      <td>11/18/2018</td>\n      <td>1.52</td>\n      <td>12259.52</td>\n      <td>220.91</td>\n      <td>1231.73</td>\n      <td>0.00</td>\n      <td>10806.88</td>\n      <td>7333.34</td>\n      <td>3473.54</td>\n      <td>0.0</td>\n      <td>organic</td>\n      <td>2018</td>\n      <td>Tampa, FL</td>\n    </tr>\n    <tr>\n      <th>26515</th>\n      <td>11/25/2018</td>\n      <td>1.24</td>\n      <td>710.36</td>\n      <td>52.13</td>\n      <td>25.74</td>\n      <td>0.00</td>\n      <td>632.49</td>\n      <td>567.77</td>\n      <td>64.72</td>\n      <td>0.0</td>\n      <td>organic</td>\n      <td>2018</td>\n      <td>Tampa, FL</td>\n    </tr>\n    <tr>\n      <th>26516</th>\n      <td>12/2/2018</td>\n      <td>1.29</td>\n      <td>7374.15</td>\n      <td>176.32</td>\n      <td>5.44</td>\n      <td>0.00</td>\n      <td>7192.39</td>\n      <td>7192.39</td>\n      <td>0.00</td>\n      <td>0.0</td>\n      <td>organic</td>\n      <td>2018</td>\n      <td>Tampa, FL</td>\n    </tr>\n  </tbody>\n</table>\n<p>14760 rows × 13 columns</p>\n</div>"
     },
     "metadata": {},
     "execution_count": 12
    }
   ],
   "source": [
    "clean_df"
   ]
  },
  {
   "cell_type": "code",
   "execution_count": 13,
   "metadata": {},
   "outputs": [],
   "source": [
    "clean_df.to_csv('Resources/clean_avocado.csv', index= False)\n"
   ]
  },
  {
   "cell_type": "code",
   "execution_count": null,
   "metadata": {},
   "outputs": [],
   "source": []
  }
 ]
}