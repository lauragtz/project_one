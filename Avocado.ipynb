{
 "metadata": {
  "language_info": {
   "codemirror_mode": {
    "name": "ipython",
    "version": 3
   },
   "file_extension": ".py",
   "mimetype": "text/x-python",
   "name": "python",
   "nbconvert_exporter": "python",
   "pygments_lexer": "ipython3",
   "version": "3.8.3-final"
  },
  "orig_nbformat": 2,
  "kernelspec": {
   "name": "python3",
   "display_name": "Python 3"
  }
 },
 "nbformat": 4,
 "nbformat_minor": 2,
 "cells": [
  {
   "cell_type": "code",
   "execution_count": 1,
   "metadata": {},
   "outputs": [],
   "source": [
    "import pandas as pd\n",
    "\n",
    "\n",
    "avocado_df = pd.read_csv('Resources/Avocado.csv')"
   ]
  },
  {
   "cell_type": "code",
   "execution_count": 2,
   "metadata": {},
   "outputs": [
    {
     "output_type": "execute_result",
     "data": {
      "text/plain": [
       "array(['Albany', 'Atlanta', 'Baltimore/Washington', 'BaltimoreWashington',\n",
       "       'Boise', 'Boston', 'Buffalo/Rochester', 'BuffaloRochester',\n",
       "       'California', 'Charlotte', 'Chicago', 'Cincinnati/Dayton',\n",
       "       'CincinnatiDayton', 'Columbus', 'Dallas/Ft. Worth',\n",
       "       'DallasFtWorth', 'Denver', 'Detroit', 'Grand Rapids',\n",
       "       'GrandRapids', 'Great Lakes', 'GreatLakes', 'Harrisburg/Scranton',\n",
       "       'HarrisburgScranton', 'Hartford/Springfield',\n",
       "       'HartfordSpringfield', 'Houston', 'Indianapolis', 'Jacksonville',\n",
       "       'Las Vegas', 'LasVegas', 'Los Angeles', 'LosAngeles', 'Louisville',\n",
       "       'Miami/Ft. Lauderdale', 'MiamiFtLauderdale', 'Midsouth',\n",
       "       'Nashville', 'New Orleans/Mobile', 'New York', 'NewOrleansMobile',\n",
       "       'NewYork', 'Northeast', 'Northern New England',\n",
       "       'NorthernNewEngland', 'Orlando', 'Philadelphia', 'Phoenix/Tucson',\n",
       "       'PhoenixTucson', 'Pittsburgh', 'Plains', 'Portland',\n",
       "       'Raleigh/Greensboro', 'RaleighGreensboro', 'Richmond/Norfolk',\n",
       "       'RichmondNorfolk', 'Roanoke', 'Sacramento', 'San Diego',\n",
       "       'San Francisco', 'SanDiego', 'SanFrancisco', 'Seattle',\n",
       "       'South Carolina', 'South Central', 'SouthCarolina', 'SouthCentral',\n",
       "       'Southeast', 'Spokane', 'St. Louis', 'StLouis', 'Syracuse',\n",
       "       'Tampa', 'Total U.S.', 'TotalUS', 'West', 'West Tex/New Mexico',\n",
       "       'WestTexNewMexico'], dtype=object)"
      ]
     },
     "metadata": {},
     "execution_count": 2
    }
   ],
   "source": [
    "avocado_df['region'].unique()"
   ]
  },
  {
   "cell_type": "code",
   "execution_count": 3,
   "metadata": {},
   "outputs": [],
   "source": [
    "avocado_df['region'] = avocado_df['region'].replace(\n",
    "    {'LosAngeles': 'Los Angeles', 'BaltimoreWashington': 'Baltimore/Washington', 'BuffaloRochester': 'Buffalo/Rochester', 'CincinnatiDayton': 'Cincinnati/Dayton', 'DallasFtWorth': 'Dallas/Ft. Worth', 'GrandRapids': 'Grand Rapids', 'GreatLakes': 'Great Lakes', 'HarrisburgScranton': 'Harrisburg/Scranton', 'HartfordSpringfield': 'Hartford/Springfield', 'Harford/Springfield': 'Hartford/Springfield', 'LasVegas': 'Las Vegas', 'MiamiFtLauderdale': 'Miami/Ft. Lauderdale', 'NewOrleansMobile': 'New Orleans/Mobile', 'NewYork': 'New York', 'NorthernNewEngland': 'Northern New England', 'PhoenixTucson': 'Phoenix/Tucson', 'RaleighGreensboro': 'Raleigh/Greensboro', 'RichmondNorfolk': 'Richmond/Norfolk', 'SanDiego': 'San Diego', 'SanFrancisco': 'San Francisco', 'SouthCarolina': 'South Carolina', 'SouthCentral': 'South Central', 'StLouis': 'St. Louis', 'Total U.S.': 'Total US', 'TotalUS': 'Total US', 'WestTexNewMexico': 'West Tex/New Mexico'})"
   ]
  },
  {
   "cell_type": "code",
   "execution_count": 4,
   "metadata": {},
   "outputs": [
    {
     "output_type": "execute_result",
     "data": {
      "text/plain": [
       "array(['Albany', 'Atlanta', 'Baltimore/Washington', 'Boise', 'Boston',\n",
       "       'Buffalo/Rochester', 'California', 'Charlotte', 'Chicago',\n",
       "       'Cincinnati/Dayton', 'Columbus', 'Dallas/Ft. Worth', 'Denver',\n",
       "       'Detroit', 'Grand Rapids', 'Great Lakes', 'Harrisburg/Scranton',\n",
       "       'Hartford/Springfield', 'Houston', 'Indianapolis', 'Jacksonville',\n",
       "       'Las Vegas', 'Los Angeles', 'Louisville', 'Miami/Ft. Lauderdale',\n",
       "       'Midsouth', 'Nashville', 'New Orleans/Mobile', 'New York',\n",
       "       'Northeast', 'Northern New England', 'Orlando', 'Philadelphia',\n",
       "       'Phoenix/Tucson', 'Pittsburgh', 'Plains', 'Portland',\n",
       "       'Raleigh/Greensboro', 'Richmond/Norfolk', 'Roanoke', 'Sacramento',\n",
       "       'San Diego', 'San Francisco', 'Seattle', 'South Carolina',\n",
       "       'South Central', 'Southeast', 'Spokane', 'St. Louis', 'Syracuse',\n",
       "       'Tampa', 'Total US', 'West', 'West Tex/New Mexico'], dtype=object)"
      ]
     },
     "metadata": {},
     "execution_count": 4
    }
   ],
   "source": [
    "avocado_df['region'].unique()"
   ]
  },
  {
   "cell_type": "code",
   "execution_count": 5,
   "metadata": {},
   "outputs": [],
   "source": [
    "junk_cities = ['Baltimore/Washington', 'Buffalo/Rochester', 'Cincinnati/Dayton', 'Dallas/Ft. Worth', 'Harrisburg/Scranton', 'Hartford/Springfield', 'Miami/Ft. Lauderdale', 'New Orleans/Mobile', 'Northeast', 'Phoenix/Tucson', 'Raleigh/Greensboro', 'Richmond/Norfolk', 'South Central', 'Southeast', 'West', 'West Tex/New Mexico', 'Total US']\n",
    "clean_df =avocado_df\n",
    "for city in junk_cities:\n",
    "    clean_df.drop(clean_df.loc[clean_df['region']==city].index, inplace=True)\n",
    "\n",
    "\n"
   ]
  },
  {
   "cell_type": "code",
   "execution_count": 7,
   "metadata": {},
   "outputs": [
    {
     "output_type": "execute_result",
     "data": {
      "text/plain": [
       "array(['Albany', 'Atlanta', 'Boise', 'Boston', 'California', 'Charlotte',\n",
       "       'Chicago', 'Columbus', 'Denver', 'Detroit', 'Grand Rapids',\n",
       "       'Great Lakes', 'Houston', 'Indianapolis', 'Jacksonville',\n",
       "       'Las Vegas', 'Los Angeles', 'Louisville', 'Midsouth', 'Nashville',\n",
       "       'New York', 'Northern New England', 'Orlando', 'Philadelphia',\n",
       "       'Pittsburgh', 'Plains', 'Portland', 'Roanoke', 'Sacramento',\n",
       "       'San Diego', 'San Francisco', 'Seattle', 'South Carolina',\n",
       "       'Spokane', 'St. Louis', 'Syracuse', 'Tampa'], dtype=object)"
      ]
     },
     "metadata": {},
     "execution_count": 7
    }
   ],
   "source": [
    "clean_df['region'].unique()"
   ]
  },
  {
   "cell_type": "code",
   "execution_count": 12,
   "metadata": {},
   "outputs": [],
   "source": [
    "clean_df.to_csv('Resources/clean_avocado.csv')"
   ]
  },
  {
   "cell_type": "code",
   "execution_count": null,
   "metadata": {},
   "outputs": [],
   "source": []
  }
 ]
}