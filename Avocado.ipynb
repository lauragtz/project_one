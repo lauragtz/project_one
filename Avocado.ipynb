{
 "metadata": {
  "language_info": {
   "codemirror_mode": {
    "name": "ipython",
    "version": 3
   },
   "file_extension": ".py",
   "mimetype": "text/x-python",
   "name": "python",
   "nbconvert_exporter": "python",
   "pygments_lexer": "ipython3",
   "version": "3.8.5-final"
  },
  "orig_nbformat": 2,
  "kernelspec": {
   "name": "python3",
   "display_name": "Python 3"
  }
 },
 "nbformat": 4,
 "nbformat_minor": 2,
 "cells": [
  {
   "cell_type": "code",
   "execution_count": null,
   "metadata": {},
   "outputs": [],
   "source": [
    "import pandas as pd\n",
    "\n",
    "\n",
    "avocado_df = pd.read_csv('Resources/Avocado.csv')"
   ]
  },
  {
   "cell_type": "code",
   "execution_count": null,
   "metadata": {},
   "outputs": [],
   "source": [
    "avocado_df['region'].unique()"
   ]
  },
  {
   "cell_type": "code",
   "execution_count": null,
   "metadata": {},
   "outputs": [],
   "source": [
    "avocado_df['region'] = avocado_df['region'].replace(\n",
    "    {'LosAngeles': 'Los Angeles', 'BaltimoreWashington': 'Baltimore/Washington', 'BuffaloRochester': 'Buffalo/Rochester', 'CincinnatiDayton': 'Cincinnati/Dayton', 'DallasFtWorth': 'Dallas/Ft. Worth', 'GrandRapids': 'Grand Rapids', 'GreatLakes': 'Great Lakes', 'HarrisburgScranton': 'Harrisburg/Scranton', 'HartfordSpringfield': 'Hartford/Springfield', 'Harford/Springfield': 'Hartford/Springfield', 'LasVegas': 'Las Vegas', 'MiamiFtLauderdale': 'Miami/Ft. Lauderdale', 'NewOrleansMobile': 'New Orleans/Mobile', 'NewYork': 'New York', 'NorthernNewEngland': 'Northern New England', 'PhoenixTucson': 'Phoenix/Tucson', 'RaleighGreensboro': 'Raleigh/Greensboro', 'RichmondNorfolk': 'Richmond/Norfolk', 'SanDiego': 'San Diego', 'SanFrancisco': 'San Francisco', 'SouthCarolina': 'South Carolina', 'SouthCentral': 'South Central', 'StLouis': 'St. Louis', 'Total U.S.': 'Total US', 'TotalUS': 'Total US', 'WestTexNewMexico': 'West Tex/New Mexico'})"
   ]
  },
  {
   "cell_type": "code",
   "execution_count": null,
   "metadata": {},
   "outputs": [],
   "source": [
    "avocado_df['region'].unique()"
   ]
  },
  {
   "cell_type": "code",
   "execution_count": null,
   "metadata": {},
   "outputs": [],
   "source": [
    "junk_cities = ['Baltimore/Washington', 'Buffalo/Rochester', 'Cincinnati/Dayton', 'Dallas/Ft. Worth', 'Harrisburg/Scranton', 'Hartford/Springfield', 'Miami/Ft. Lauderdale', 'New Orleans/Mobile', 'Northeast', 'Phoenix/Tucson', 'Raleigh/Greensboro', 'Richmond/Norfolk', 'South Central', 'Southeast', 'West', 'West Tex/New Mexico', 'Total US']\n",
    "clean_df =avocado_df\n",
    "for city in junk_cities:\n",
    "    clean_df.drop(clean_df.loc[clean_df['region']==city].index, inplace=True)\n",
    "\n",
    "\n"
   ]
  },
  {
   "cell_type": "code",
   "execution_count": null,
   "metadata": {},
   "outputs": [],
   "source": [
    "clean_df['region'].unique()"
   ]
  },
  {
   "cell_type": "code",
   "execution_count": null,
   "metadata": {},
   "outputs": [],
   "source": [
    "clean_df.to_csv('Resources/clean_avocado.csv')"
   ]
  },
  {
   "cell_type": "code",
   "execution_count": null,
   "metadata": {},
   "outputs": [],
   "source": []
  }
 ]
}