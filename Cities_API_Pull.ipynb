{
 "metadata": {
  "language_info": {
   "codemirror_mode": {
    "name": "ipython",
    "version": 3
   },
   "file_extension": ".py",
   "mimetype": "text/x-python",
   "name": "python",
   "nbconvert_exporter": "python",
   "pygments_lexer": "ipython3",
   "version": "3.8.3-final"
  },
  "orig_nbformat": 2,
  "kernelspec": {
   "name": "python3",
   "display_name": "Python 3"
  }
 },
 "nbformat": 4,
 "nbformat_minor": 2,
 "cells": [
  {
   "cell_type": "code",
   "execution_count": 1,
   "metadata": {},
   "outputs": [
    {
     "output_type": "execute_result",
     "data": {
      "text/plain": [
       "{'ID Nation': '01000US',\n",
       " 'Nation': 'United States',\n",
       " 'ID Year': 2017,\n",
       " 'Year': '2017',\n",
       " 'Population': 325719178,\n",
       " 'Slug Nation': 'united-states'}"
      ]
     },
     "metadata": {},
     "execution_count": 1
    }
   ],
   "source": [
    "#import dependancies\n",
    "import pandas as pd \n",
    "import pprint as pp \n",
    "import json\n",
    "import requests\n",
    "\n",
    "#testing JSON URL to see it visually\n",
    "url = 'https://datausa.io/api/data?drilldowns=Nation&measures=Population'\n",
    "results = requests.get(url).json()\n",
    "results[\"data\"][1]"
   ]
  },
  {
   "cell_type": "code",
   "execution_count": 8,
   "metadata": {},
   "outputs": [
    {
     "output_type": "execute_result",
     "data": {
      "text/plain": [
       "{'ID Age': 10,\n",
       " 'Age': '75 Years & Over',\n",
       " 'ID Year': 2018,\n",
       " 'Year': '2018',\n",
       " 'Birthplace': 216817,\n",
       " 'Birthplace Moe': 6002.368865706271,\n",
       " 'Geography': 'Los Angeles, CA',\n",
       " 'ID Geography': '16000US0644000',\n",
       " 'Slug Geography': 'los-angeles-ca'}"
      ]
     },
     "metadata": {},
     "execution_count": 8
    }
   ],
   "source": [
    "#setting up query 1 for age group data\n",
    "query_1_url = 'https://datausa.io/api/data?Geography=16000US0644000&measures=Birthplace,Birthplace%20Moe&drilldowns=Age'\n",
    "results_1 = requests.get(query_1_url).json()\n",
    "results_1['data'][1]"
   ]
  },
  {
   "cell_type": "code",
   "execution_count": 4,
   "metadata": {},
   "outputs": [
    {
     "output_type": "execute_result",
     "data": {
      "text/plain": [
       "{'ID Year': 2018,\n",
       " 'Year': '2018',\n",
       " 'Household Income by Race': 61937,\n",
       " 'Household Income by Race Moe': 94,\n",
       " 'Geography': 'United States',\n",
       " 'ID Geography': '01000US',\n",
       " 'Slug Geography': 'united-states'}"
      ]
     },
     "metadata": {},
     "execution_count": 4
    }
   ],
   "source": [
    "#setting up query 2 for income data\n",
    "query_2_url = 'https://datausa.io/api/data?measure=Household%20Income%20by%20Race,Household%20Income%20by%20Race%20Moe&Geography=16000US0644000:parents,16000US0644000,16000US0644000:similar'\n",
    "results_2 = requests.get(query_2_url).json()\n",
    "results_2['data'][1]"
   ]
  },
  {
   "cell_type": "code",
   "execution_count": 5,
   "metadata": {},
   "outputs": [
    {
     "output_type": "execute_result",
     "data": {
      "text/plain": [
       "            City                  Geo Code\n",
       "0     Albany, NY  Geography=16000US3601000\n",
       "1    Atlanta, GA  Geography=16000US1304000\n",
       "2  Baltimore, MD  Geography=16000US1304000\n",
       "3      Boise, ID  Geography=16000US1608830\n",
       "4     Boston, MA  Geography=16000US2507000"
      ],
      "text/html": "<div>\n<style scoped>\n    .dataframe tbody tr th:only-of-type {\n        vertical-align: middle;\n    }\n\n    .dataframe tbody tr th {\n        vertical-align: top;\n    }\n\n    .dataframe thead th {\n        text-align: right;\n    }\n</style>\n<table border=\"1\" class=\"dataframe\">\n  <thead>\n    <tr style=\"text-align: right;\">\n      <th></th>\n      <th>City</th>\n      <th>Geo Code</th>\n    </tr>\n  </thead>\n  <tbody>\n    <tr>\n      <th>0</th>\n      <td>Albany, NY</td>\n      <td>Geography=16000US3601000</td>\n    </tr>\n    <tr>\n      <th>1</th>\n      <td>Atlanta, GA</td>\n      <td>Geography=16000US1304000</td>\n    </tr>\n    <tr>\n      <th>2</th>\n      <td>Baltimore, MD</td>\n      <td>Geography=16000US1304000</td>\n    </tr>\n    <tr>\n      <th>3</th>\n      <td>Boise, ID</td>\n      <td>Geography=16000US1608830</td>\n    </tr>\n    <tr>\n      <th>4</th>\n      <td>Boston, MA</td>\n      <td>Geography=16000US2507000</td>\n    </tr>\n  </tbody>\n</table>\n</div>"
     },
     "metadata": {},
     "execution_count": 5
    }
   ],
   "source": [
    "#pulling in geo-codes to set up search loop\n",
    "city_geo_codes = \"Resources/City Geo Join Table.xlsx\"\n",
    "search_data = pd.read_excel(city_geo_codes)\n",
    "search_data.head()"
   ]
  },
  {
   "cell_type": "code",
   "execution_count": 9,
   "metadata": {},
   "outputs": [],
   "source": [
    "#query 1 loop to getting age group data from each city\n",
    "years = [2013,2014,2015,2016,2017,2018]\n",
    "\n",
    "city_data_1 = {\n",
    "    \"Year\": [],\n",
    "    \"City\": [],\n",
    "    \"Age Range\": [],\n",
    "    \"Number in Range\": []\n",
    "\n",
    "}\n",
    "\n",
    "geography = search_data[\"Geo Code\"].tolist()\n",
    "cities = search_data[\"City\"].tolist()"
   ]
  },
  {
   "cell_type": "code",
   "execution_count": null,
   "metadata": {},
   "outputs": [],
   "source": [
    "for geo in geography:\n",
    "\n",
    "    query_1_url = 'https://datausa.io/api/data?measures=Birthplace,Birthplace%20Moe&drilldowns=Age&{}'.format(geo)\n",
    "    results_1 = requests.get(query_1_url).json()\n",
    "\n",
    "    for year in years:\n",
    "        for i in range(len(results_1['data'])):\n",
    "            try:\n",
    "                results_1 = requests.get(query_1_url).json()\n",
    "                city_data_1[\"City\"].append(results_1['data'][i]['Geography'])\n",
    "                city_data_1[\"Year\"].append(results_1['data'][i]['Year'])\n",
    "                city_data_1[\"Age Range\"].append(results_1['data'][i]['Age'])\n",
    "                city_data_1[\"Number in Range\"].append(results_1['data'][i]['Birthplace'])\n",
    "            except:\n",
    "                pass"
   ]
  },
  {
   "cell_type": "code",
   "execution_count": null,
   "metadata": {},
   "outputs": [],
   "source": [
    "#query 2 loop for getting income data\n",
    "years = [2013,2014,2015,2016,2017,2018]\n",
    "\n",
    "city_data_2 = {\n",
    "    \"Year\": [],\n",
    "    \"City\": [],\n",
    "    \"Household Income by Race\": []\n",
    "}\n",
    "\n",
    "for geo in geography:\n",
    "    query_2_url = 'https://datausa.io/api/data?measure=Household%20Income%20by%20Race,Household%20Income%20by%20Race%20Moe&{}:parents,16000US0644000,16000US0644000:similar'.format(geo)\n",
    "\n",
    "\n",
    "\n",
    "    results_2 = requests.get(query_2_url).json()\n",
    "\n",
    "    for year in years:\n",
    "        for i in range(len(results_2['data'])):\n",
    "            try:       \n",
    "                results_2 = requests.get(query_2_url).json()\n",
    "                city_data_2['City'].append(results_2['data'][i]['Geography'])\n",
    "                city_data_2['Household Income by Race'].append(results_2['data'][i]['Household Income by Race'])\n",
    "                city_data_2['Year'].append(results_2['data'][i]['Year'])\n",
    "            except:\n",
    "                pass\n",
    "            \n",
    "    "
   ]
  },
  {
   "cell_type": "code",
   "execution_count": null,
   "metadata": {},
   "outputs": [],
   "source": [
    "city_data_1 = pd.DataFrame(city_data_1)\n",
    "city_data_1.head()"
   ]
  },
  {
   "cell_type": "code",
   "execution_count": null,
   "metadata": {},
   "outputs": [],
   "source": [
    "city_data_2 = pd.DataFrame(city_data_2)\n",
    "city_data_2.head()"
   ]
  }
 ]
}