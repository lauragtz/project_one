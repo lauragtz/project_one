{
 "metadata": {
  "language_info": {
   "codemirror_mode": {
    "name": "ipython",
    "version": 3
   },
   "file_extension": ".py",
   "mimetype": "text/x-python",
   "name": "python",
   "nbconvert_exporter": "python",
   "pygments_lexer": "ipython3",
   "version": "3.8.3-final"
  },
  "orig_nbformat": 2,
  "kernelspec": {
   "name": "python3",
   "display_name": "Python 3.8.3 64-bit ('testenv': conda)",
   "metadata": {
    "interpreter": {
     "hash": "0a9284ede8fa73046c974278a15de4ed166a07f8fe6aba72454a874989be213f"
    }
   }
  }
 },
 "nbformat": 4,
 "nbformat_minor": 2,
 "cells": [
  {
   "cell_type": "code",
   "execution_count": null,
   "metadata": {},
   "outputs": [],
   "source": [
    "#LG Notes for reference\n",
    "#4.1.05 -> unique/array\n",
    "#4.1.07 -> column rename\n",
    "#4.1.11 -> unique for adding up\n",
    "    #author_count = len(goodreads_df[\"Authors\"].unique())\n",
    "\n",
    "#4.2.01 -> loc\n",
    "    # Grab the data contained within the \"Berry\" row and the \"Phone Number\" column\n",
    "    #berry_phone = df.loc[\"Berry\", \"Phone Number\"]\n",
    "    #print(\"Using Loc: \" + berry_phone)\n",
    "#4.2.03 -> cleaning data\n",
    "#4.3.06 -> clean data & loc"
   ]
  },
  {
   "cell_type": "code",
   "execution_count": null,
   "metadata": {},
   "outputs": [],
   "source": [
    "#clean data by age group desired, city, and year\n",
    "#age group = 25-39\n",
    "#cities: all for now\n",
    "#year = 2015"
   ]
  },
  {
   "cell_type": "code",
   "execution_count": 3,
   "metadata": {},
   "outputs": [],
   "source": [
    "#dependencies\n",
    "\n",
    "import pandas as pd"
   ]
  },
  {
   "cell_type": "code",
   "execution_count": 4,
   "metadata": {},
   "outputs": [],
   "source": [
    "#Use Pandas to read data\n",
    "age_data = pd.read_csv(\"../Resources/Age_Data.csv\")\n"
   ]
  },
  {
   "cell_type": "code",
   "execution_count": 5,
   "metadata": {},
   "outputs": [
    {
     "output_type": "execute_result",
     "data": {
      "text/plain": [
       "   Unnamed: 0  Year        City        Age Range  Number in Range\n",
       "0           0  2018  Albany, NY   18 to 24 Years            21091\n",
       "1           1  2018  Albany, NY  75 Years & Over             5906\n",
       "2           2  2018  Albany, NY   45 to 54 Years            10514\n",
       "3           3  2018  Albany, NY    Under 5 Years             5491\n",
       "4           4  2018  Albany, NY   65 to 74 Years             6670"
      ],
      "text/html": "<div>\n<style scoped>\n    .dataframe tbody tr th:only-of-type {\n        vertical-align: middle;\n    }\n\n    .dataframe tbody tr th {\n        vertical-align: top;\n    }\n\n    .dataframe thead th {\n        text-align: right;\n    }\n</style>\n<table border=\"1\" class=\"dataframe\">\n  <thead>\n    <tr style=\"text-align: right;\">\n      <th></th>\n      <th>Unnamed: 0</th>\n      <th>Year</th>\n      <th>City</th>\n      <th>Age Range</th>\n      <th>Number in Range</th>\n    </tr>\n  </thead>\n  <tbody>\n    <tr>\n      <th>0</th>\n      <td>0</td>\n      <td>2018</td>\n      <td>Albany, NY</td>\n      <td>18 to 24 Years</td>\n      <td>21091</td>\n    </tr>\n    <tr>\n      <th>1</th>\n      <td>1</td>\n      <td>2018</td>\n      <td>Albany, NY</td>\n      <td>75 Years &amp; Over</td>\n      <td>5906</td>\n    </tr>\n    <tr>\n      <th>2</th>\n      <td>2</td>\n      <td>2018</td>\n      <td>Albany, NY</td>\n      <td>45 to 54 Years</td>\n      <td>10514</td>\n    </tr>\n    <tr>\n      <th>3</th>\n      <td>3</td>\n      <td>2018</td>\n      <td>Albany, NY</td>\n      <td>Under 5 Years</td>\n      <td>5491</td>\n    </tr>\n    <tr>\n      <th>4</th>\n      <td>4</td>\n      <td>2018</td>\n      <td>Albany, NY</td>\n      <td>65 to 74 Years</td>\n      <td>6670</td>\n    </tr>\n  </tbody>\n</table>\n</div>"
     },
     "metadata": {},
     "execution_count": 5
    }
   ],
   "source": [
    "#print to view\n",
    "age_data.head()"
   ]
  },
  {
   "cell_type": "code",
   "execution_count": 6,
   "metadata": {},
   "outputs": [
    {
     "output_type": "execute_result",
     "data": {
      "text/plain": [
       "Unnamed: 0         16236\n",
       "Year               16236\n",
       "City               16236\n",
       "Age Range          16236\n",
       "Number in Range    16236\n",
       "dtype: int64"
      ]
     },
     "metadata": {},
     "execution_count": 6
    }
   ],
   "source": [
    "#look for missing values\n",
    "#awesome to see!\n",
    "age_data.count() "
   ]
  },
  {
   "cell_type": "code",
   "execution_count": 7,
   "metadata": {},
   "outputs": [
    {
     "output_type": "execute_result",
     "data": {
      "text/plain": [
       "      Unnamed: 0  Year                             City        Age Range  \\\n",
       "8117        8117  2013                  Los Angeles, CA    Under 5 Years   \n",
       "6991        6991  2013  Indianapolis city (balance), IN    60 & 61 Years   \n",
       "6990        6990  2013  Indianapolis city (balance), IN   25 to 34 Years   \n",
       "6989        6989  2013  Indianapolis city (balance), IN   35 to 44 Years   \n",
       "6988        6988  2013  Indianapolis city (balance), IN   62 to 64 Years   \n",
       "...          ...   ...                              ...              ...   \n",
       "6602        6602  2018                      Houston, TX   45 to 54 Years   \n",
       "6601        6601  2018                      Houston, TX  75 Years & Over   \n",
       "6600        6600  2018                      Houston, TX   18 to 24 Years   \n",
       "6609        6609  2018                      Houston, TX   25 to 34 Years   \n",
       "0              0  2018                       Albany, NY   18 to 24 Years   \n",
       "\n",
       "      Number in Range  \n",
       "8117           249942  \n",
       "6991            18161  \n",
       "6990           139215  \n",
       "6989           108946  \n",
       "6988            23520  \n",
       "...               ...  \n",
       "6602           273635  \n",
       "6601           100271  \n",
       "6600           230538  \n",
       "6609           428263  \n",
       "0               21091  \n",
       "\n",
       "[16236 rows x 5 columns]"
      ],
      "text/html": "<div>\n<style scoped>\n    .dataframe tbody tr th:only-of-type {\n        vertical-align: middle;\n    }\n\n    .dataframe tbody tr th {\n        vertical-align: top;\n    }\n\n    .dataframe thead th {\n        text-align: right;\n    }\n</style>\n<table border=\"1\" class=\"dataframe\">\n  <thead>\n    <tr style=\"text-align: right;\">\n      <th></th>\n      <th>Unnamed: 0</th>\n      <th>Year</th>\n      <th>City</th>\n      <th>Age Range</th>\n      <th>Number in Range</th>\n    </tr>\n  </thead>\n  <tbody>\n    <tr>\n      <th>8117</th>\n      <td>8117</td>\n      <td>2013</td>\n      <td>Los Angeles, CA</td>\n      <td>Under 5 Years</td>\n      <td>249942</td>\n    </tr>\n    <tr>\n      <th>6991</th>\n      <td>6991</td>\n      <td>2013</td>\n      <td>Indianapolis city (balance), IN</td>\n      <td>60 &amp; 61 Years</td>\n      <td>18161</td>\n    </tr>\n    <tr>\n      <th>6990</th>\n      <td>6990</td>\n      <td>2013</td>\n      <td>Indianapolis city (balance), IN</td>\n      <td>25 to 34 Years</td>\n      <td>139215</td>\n    </tr>\n    <tr>\n      <th>6989</th>\n      <td>6989</td>\n      <td>2013</td>\n      <td>Indianapolis city (balance), IN</td>\n      <td>35 to 44 Years</td>\n      <td>108946</td>\n    </tr>\n    <tr>\n      <th>6988</th>\n      <td>6988</td>\n      <td>2013</td>\n      <td>Indianapolis city (balance), IN</td>\n      <td>62 to 64 Years</td>\n      <td>23520</td>\n    </tr>\n    <tr>\n      <th>...</th>\n      <td>...</td>\n      <td>...</td>\n      <td>...</td>\n      <td>...</td>\n      <td>...</td>\n    </tr>\n    <tr>\n      <th>6602</th>\n      <td>6602</td>\n      <td>2018</td>\n      <td>Houston, TX</td>\n      <td>45 to 54 Years</td>\n      <td>273635</td>\n    </tr>\n    <tr>\n      <th>6601</th>\n      <td>6601</td>\n      <td>2018</td>\n      <td>Houston, TX</td>\n      <td>75 Years &amp; Over</td>\n      <td>100271</td>\n    </tr>\n    <tr>\n      <th>6600</th>\n      <td>6600</td>\n      <td>2018</td>\n      <td>Houston, TX</td>\n      <td>18 to 24 Years</td>\n      <td>230538</td>\n    </tr>\n    <tr>\n      <th>6609</th>\n      <td>6609</td>\n      <td>2018</td>\n      <td>Houston, TX</td>\n      <td>25 to 34 Years</td>\n      <td>428263</td>\n    </tr>\n    <tr>\n      <th>0</th>\n      <td>0</td>\n      <td>2018</td>\n      <td>Albany, NY</td>\n      <td>18 to 24 Years</td>\n      <td>21091</td>\n    </tr>\n  </tbody>\n</table>\n<p>16236 rows × 5 columns</p>\n</div>"
     },
     "metadata": {},
     "execution_count": 7
    }
   ],
   "source": [
    "#sort by year\n",
    "age_data.sort_values(by=[\"Year\"])"
   ]
  },
  {
   "cell_type": "code",
   "execution_count": 8,
   "metadata": {},
   "outputs": [
    {
     "output_type": "execute_result",
     "data": {
      "text/plain": [
       "Index(['Unnamed: 0', 'Year', 'City', 'Age Range', 'Number in Range'], dtype='object')"
      ]
     },
     "metadata": {},
     "execution_count": 8
    }
   ],
   "source": [
    "#get a list of all of our columns for easy reference\n",
    "age_data.columns"
   ]
  },
  {
   "cell_type": "code",
   "execution_count": 9,
   "metadata": {},
   "outputs": [],
   "source": [
    "#collect data that includes year 2015 & age of 25-34\n",
    "#'Year' = 2015\n",
    "#'Age Range' = 25 t0 34 Years\n",
    "\n",
    "age_data_2015_df = age_data.loc[(age_data[\"Year\"] == 2015) & (age_data[\"Age Range\"] == \"25 to 34 Years\")]"
   ]
  },
  {
   "cell_type": "code",
   "execution_count": 10,
   "metadata": {},
   "outputs": [
    {
     "output_type": "execute_result",
     "data": {
      "text/plain": [
       "     Unnamed: 0  Year        City       Age Range  Number in Range\n",
       "33           33  2015  Albany, NY  25 to 34 Years            16221\n",
       "99           99  2015  Albany, NY  25 to 34 Years            16221\n",
       "165         165  2015  Albany, NY  25 to 34 Years            16221\n",
       "231         231  2015  Albany, NY  25 to 34 Years            16221\n",
       "297         297  2015  Albany, NY  25 to 34 Years            16221"
      ],
      "text/html": "<div>\n<style scoped>\n    .dataframe tbody tr th:only-of-type {\n        vertical-align: middle;\n    }\n\n    .dataframe tbody tr th {\n        vertical-align: top;\n    }\n\n    .dataframe thead th {\n        text-align: right;\n    }\n</style>\n<table border=\"1\" class=\"dataframe\">\n  <thead>\n    <tr style=\"text-align: right;\">\n      <th></th>\n      <th>Unnamed: 0</th>\n      <th>Year</th>\n      <th>City</th>\n      <th>Age Range</th>\n      <th>Number in Range</th>\n    </tr>\n  </thead>\n  <tbody>\n    <tr>\n      <th>33</th>\n      <td>33</td>\n      <td>2015</td>\n      <td>Albany, NY</td>\n      <td>25 to 34 Years</td>\n      <td>16221</td>\n    </tr>\n    <tr>\n      <th>99</th>\n      <td>99</td>\n      <td>2015</td>\n      <td>Albany, NY</td>\n      <td>25 to 34 Years</td>\n      <td>16221</td>\n    </tr>\n    <tr>\n      <th>165</th>\n      <td>165</td>\n      <td>2015</td>\n      <td>Albany, NY</td>\n      <td>25 to 34 Years</td>\n      <td>16221</td>\n    </tr>\n    <tr>\n      <th>231</th>\n      <td>231</td>\n      <td>2015</td>\n      <td>Albany, NY</td>\n      <td>25 to 34 Years</td>\n      <td>16221</td>\n    </tr>\n    <tr>\n      <th>297</th>\n      <td>297</td>\n      <td>2015</td>\n      <td>Albany, NY</td>\n      <td>25 to 34 Years</td>\n      <td>16221</td>\n    </tr>\n  </tbody>\n</table>\n</div>"
     },
     "metadata": {},
     "execution_count": 10
    }
   ],
   "source": [
    "#print\n",
    "age_data_2015_df.head()"
   ]
  },
  {
   "cell_type": "code",
   "execution_count": 11,
   "metadata": {},
   "outputs": [],
   "source": [
    "#drop column \"Unnamed: 0\"\n",
    "#add at end inplace=True -> to allow panda to edit the original DF\n",
    "age_data_2015_df.drop(columns=[\"Unnamed: 0\"], inplace=True)"
   ]
  },
  {
   "cell_type": "code",
   "execution_count": 12,
   "metadata": {},
   "outputs": [],
   "source": [
    "#drop duplicates!\n",
    "#missed the first time\n",
    "#use city as subset - since it varies\n",
    "#add at end inplace=True -> to allow panda to edit the original DF\n",
    "#inplace=False -> does not affect the original DF\n",
    "age_data_2015_df.drop_duplicates(subset=\"City\", keep=\"first\", inplace=True)"
   ]
  },
  {
   "cell_type": "code",
   "execution_count": 14,
   "metadata": {},
   "outputs": [
    {
     "output_type": "execute_result",
     "data": {
      "text/plain": [
       "       Year                             City       Age Range  Number in Range\n",
       "33     2015                       Albany, NY  25 to 34 Years            16221\n",
       "429    2015                      Atlanta, GA  25 to 34 Years            97769\n",
       "1221   2015                   Boise City, ID  25 to 34 Years            32674\n",
       "1617   2015                       Boston, MA  25 to 34 Years           160732\n",
       "2013   2015                      Buffalo, NY  25 to 34 Years            45033\n",
       "2409   2015                    Charlotte, NC  25 to 34 Years           145380\n",
       "2805   2015                      Chicago, IL  25 to 34 Years           530744\n",
       "3201   2015                   Cincinnati, OH  25 to 34 Years            55956\n",
       "3597   2015                     Columbus, OH  25 to 34 Years           174071\n",
       "3993   2015                       Dallas, TX  25 to 34 Years           237015\n",
       "4389   2015                       Denver, CO  25 to 34 Years           152706\n",
       "4785   2015                      Detroit, MI  25 to 34 Years            95152\n",
       "5181   2015                 Grand Rapids, MI  25 to 34 Years            35422\n",
       "5577   2015                   Harrisburg, PA  25 to 34 Years             8005\n",
       "5973   2015                     Hartford, CT  25 to 34 Years            19859\n",
       "6369   2015                      Houston, TX  25 to 34 Years           417068\n",
       "6765   2015  Indianapolis city (balance), IN  25 to 34 Years           140893\n",
       "7161   2015                 Jacksonville, FL  25 to 34 Years           140159\n",
       "7557   2015                    Las Vegas, NV  25 to 34 Years            87920\n",
       "7953   2015                  Los Angeles, CA  25 to 34 Years           704854\n",
       "8349   2015                        Miami, FL  25 to 34 Years            74621\n",
       "8745   2015                    Nashville, NC  25 to 34 Years              537\n",
       "9141   2015                  New Orleans, LA  25 to 34 Years            72223\n",
       "9537   2015                     New York, NY  25 to 34 Years          1526724\n",
       "9933   2015                      Orlando, FL  25 to 34 Years            63965\n",
       "10329  2015                 Philadelphia, PA  25 to 34 Years           290196\n",
       "10725  2015                      Phoenix, AZ  25 to 34 Years           244164\n",
       "11121  2015                   Pittsburgh, PA  25 to 34 Years            62755\n",
       "11517  2015                     Portland, OR  25 to 34 Years           125143\n",
       "11913  2015                      Raleigh, NC  25 to 34 Years            81670\n",
       "12309  2015                     Richmond, VA  25 to 34 Years            42797\n",
       "12705  2015                      Roanoke, VA  25 to 34 Years            15171\n",
       "13101  2015                   Sacramento, CA  25 to 34 Years            88813\n",
       "13497  2015                    San Diego, CA  25 to 34 Years           262399\n",
       "13893  2015                San Francisco, CA  25 to 34 Years           200061\n",
       "14289  2015                      Seattle, WA  25 to 34 Years           157858\n",
       "14685  2015                      Spokane, WA  25 to 34 Years            33577\n",
       "15081  2015                    St. Louis, MO  25 to 34 Years            61677\n",
       "15477  2015                     Syracuse, NY  25 to 34 Years            22863\n",
       "15873  2015                        Tampa, FL  25 to 34 Years            61534"
      ],
      "text/html": "<div>\n<style scoped>\n    .dataframe tbody tr th:only-of-type {\n        vertical-align: middle;\n    }\n\n    .dataframe tbody tr th {\n        vertical-align: top;\n    }\n\n    .dataframe thead th {\n        text-align: right;\n    }\n</style>\n<table border=\"1\" class=\"dataframe\">\n  <thead>\n    <tr style=\"text-align: right;\">\n      <th></th>\n      <th>Year</th>\n      <th>City</th>\n      <th>Age Range</th>\n      <th>Number in Range</th>\n    </tr>\n  </thead>\n  <tbody>\n    <tr>\n      <th>33</th>\n      <td>2015</td>\n      <td>Albany, NY</td>\n      <td>25 to 34 Years</td>\n      <td>16221</td>\n    </tr>\n    <tr>\n      <th>429</th>\n      <td>2015</td>\n      <td>Atlanta, GA</td>\n      <td>25 to 34 Years</td>\n      <td>97769</td>\n    </tr>\n    <tr>\n      <th>1221</th>\n      <td>2015</td>\n      <td>Boise City, ID</td>\n      <td>25 to 34 Years</td>\n      <td>32674</td>\n    </tr>\n    <tr>\n      <th>1617</th>\n      <td>2015</td>\n      <td>Boston, MA</td>\n      <td>25 to 34 Years</td>\n      <td>160732</td>\n    </tr>\n    <tr>\n      <th>2013</th>\n      <td>2015</td>\n      <td>Buffalo, NY</td>\n      <td>25 to 34 Years</td>\n      <td>45033</td>\n    </tr>\n    <tr>\n      <th>2409</th>\n      <td>2015</td>\n      <td>Charlotte, NC</td>\n      <td>25 to 34 Years</td>\n      <td>145380</td>\n    </tr>\n    <tr>\n      <th>2805</th>\n      <td>2015</td>\n      <td>Chicago, IL</td>\n      <td>25 to 34 Years</td>\n      <td>530744</td>\n    </tr>\n    <tr>\n      <th>3201</th>\n      <td>2015</td>\n      <td>Cincinnati, OH</td>\n      <td>25 to 34 Years</td>\n      <td>55956</td>\n    </tr>\n    <tr>\n      <th>3597</th>\n      <td>2015</td>\n      <td>Columbus, OH</td>\n      <td>25 to 34 Years</td>\n      <td>174071</td>\n    </tr>\n    <tr>\n      <th>3993</th>\n      <td>2015</td>\n      <td>Dallas, TX</td>\n      <td>25 to 34 Years</td>\n      <td>237015</td>\n    </tr>\n    <tr>\n      <th>4389</th>\n      <td>2015</td>\n      <td>Denver, CO</td>\n      <td>25 to 34 Years</td>\n      <td>152706</td>\n    </tr>\n    <tr>\n      <th>4785</th>\n      <td>2015</td>\n      <td>Detroit, MI</td>\n      <td>25 to 34 Years</td>\n      <td>95152</td>\n    </tr>\n    <tr>\n      <th>5181</th>\n      <td>2015</td>\n      <td>Grand Rapids, MI</td>\n      <td>25 to 34 Years</td>\n      <td>35422</td>\n    </tr>\n    <tr>\n      <th>5577</th>\n      <td>2015</td>\n      <td>Harrisburg, PA</td>\n      <td>25 to 34 Years</td>\n      <td>8005</td>\n    </tr>\n    <tr>\n      <th>5973</th>\n      <td>2015</td>\n      <td>Hartford, CT</td>\n      <td>25 to 34 Years</td>\n      <td>19859</td>\n    </tr>\n    <tr>\n      <th>6369</th>\n      <td>2015</td>\n      <td>Houston, TX</td>\n      <td>25 to 34 Years</td>\n      <td>417068</td>\n    </tr>\n    <tr>\n      <th>6765</th>\n      <td>2015</td>\n      <td>Indianapolis city (balance), IN</td>\n      <td>25 to 34 Years</td>\n      <td>140893</td>\n    </tr>\n    <tr>\n      <th>7161</th>\n      <td>2015</td>\n      <td>Jacksonville, FL</td>\n      <td>25 to 34 Years</td>\n      <td>140159</td>\n    </tr>\n    <tr>\n      <th>7557</th>\n      <td>2015</td>\n      <td>Las Vegas, NV</td>\n      <td>25 to 34 Years</td>\n      <td>87920</td>\n    </tr>\n    <tr>\n      <th>7953</th>\n      <td>2015</td>\n      <td>Los Angeles, CA</td>\n      <td>25 to 34 Years</td>\n      <td>704854</td>\n    </tr>\n    <tr>\n      <th>8349</th>\n      <td>2015</td>\n      <td>Miami, FL</td>\n      <td>25 to 34 Years</td>\n      <td>74621</td>\n    </tr>\n    <tr>\n      <th>8745</th>\n      <td>2015</td>\n      <td>Nashville, NC</td>\n      <td>25 to 34 Years</td>\n      <td>537</td>\n    </tr>\n    <tr>\n      <th>9141</th>\n      <td>2015</td>\n      <td>New Orleans, LA</td>\n      <td>25 to 34 Years</td>\n      <td>72223</td>\n    </tr>\n    <tr>\n      <th>9537</th>\n      <td>2015</td>\n      <td>New York, NY</td>\n      <td>25 to 34 Years</td>\n      <td>1526724</td>\n    </tr>\n    <tr>\n      <th>9933</th>\n      <td>2015</td>\n      <td>Orlando, FL</td>\n      <td>25 to 34 Years</td>\n      <td>63965</td>\n    </tr>\n    <tr>\n      <th>10329</th>\n      <td>2015</td>\n      <td>Philadelphia, PA</td>\n      <td>25 to 34 Years</td>\n      <td>290196</td>\n    </tr>\n    <tr>\n      <th>10725</th>\n      <td>2015</td>\n      <td>Phoenix, AZ</td>\n      <td>25 to 34 Years</td>\n      <td>244164</td>\n    </tr>\n    <tr>\n      <th>11121</th>\n      <td>2015</td>\n      <td>Pittsburgh, PA</td>\n      <td>25 to 34 Years</td>\n      <td>62755</td>\n    </tr>\n    <tr>\n      <th>11517</th>\n      <td>2015</td>\n      <td>Portland, OR</td>\n      <td>25 to 34 Years</td>\n      <td>125143</td>\n    </tr>\n    <tr>\n      <th>11913</th>\n      <td>2015</td>\n      <td>Raleigh, NC</td>\n      <td>25 to 34 Years</td>\n      <td>81670</td>\n    </tr>\n    <tr>\n      <th>12309</th>\n      <td>2015</td>\n      <td>Richmond, VA</td>\n      <td>25 to 34 Years</td>\n      <td>42797</td>\n    </tr>\n    <tr>\n      <th>12705</th>\n      <td>2015</td>\n      <td>Roanoke, VA</td>\n      <td>25 to 34 Years</td>\n      <td>15171</td>\n    </tr>\n    <tr>\n      <th>13101</th>\n      <td>2015</td>\n      <td>Sacramento, CA</td>\n      <td>25 to 34 Years</td>\n      <td>88813</td>\n    </tr>\n    <tr>\n      <th>13497</th>\n      <td>2015</td>\n      <td>San Diego, CA</td>\n      <td>25 to 34 Years</td>\n      <td>262399</td>\n    </tr>\n    <tr>\n      <th>13893</th>\n      <td>2015</td>\n      <td>San Francisco, CA</td>\n      <td>25 to 34 Years</td>\n      <td>200061</td>\n    </tr>\n    <tr>\n      <th>14289</th>\n      <td>2015</td>\n      <td>Seattle, WA</td>\n      <td>25 to 34 Years</td>\n      <td>157858</td>\n    </tr>\n    <tr>\n      <th>14685</th>\n      <td>2015</td>\n      <td>Spokane, WA</td>\n      <td>25 to 34 Years</td>\n      <td>33577</td>\n    </tr>\n    <tr>\n      <th>15081</th>\n      <td>2015</td>\n      <td>St. Louis, MO</td>\n      <td>25 to 34 Years</td>\n      <td>61677</td>\n    </tr>\n    <tr>\n      <th>15477</th>\n      <td>2015</td>\n      <td>Syracuse, NY</td>\n      <td>25 to 34 Years</td>\n      <td>22863</td>\n    </tr>\n    <tr>\n      <th>15873</th>\n      <td>2015</td>\n      <td>Tampa, FL</td>\n      <td>25 to 34 Years</td>\n      <td>61534</td>\n    </tr>\n  </tbody>\n</table>\n</div>"
     },
     "metadata": {},
     "execution_count": 14
    }
   ],
   "source": [
    "#print\n",
    "age_data_2015_df"
   ]
  },
  {
   "cell_type": "code",
   "execution_count": 15,
   "metadata": {},
   "outputs": [],
   "source": [
    "#export DF into a .csv\n",
    "age_data_2015_df.to_csv(\"2015_all_cities_age_data.csv\")"
   ]
  },
  {
   "cell_type": "code",
   "execution_count": null,
   "metadata": {},
   "outputs": [],
   "source": []
  }
 ]
}