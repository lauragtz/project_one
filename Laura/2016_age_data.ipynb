{
 "metadata": {
  "language_info": {
   "codemirror_mode": {
    "name": "ipython",
    "version": 3
   },
   "file_extension": ".py",
   "mimetype": "text/x-python",
   "name": "python",
   "nbconvert_exporter": "python",
   "pygments_lexer": "ipython3",
   "version": "3.8.3-final"
  },
  "orig_nbformat": 2,
  "kernelspec": {
   "name": "python3",
   "display_name": "Python 3"
  }
 },
 "nbformat": 4,
 "nbformat_minor": 2,
 "cells": [
  {
   "cell_type": "code",
   "execution_count": 4,
   "metadata": {},
   "outputs": [],
   "source": [
    "#dependencies\n",
    "\n",
    "import pandas as pd"
   ]
  },
  {
   "cell_type": "code",
   "execution_count": 5,
   "metadata": {},
   "outputs": [],
   "source": [
    "#Use Pandas to read data\n",
    "age_data = pd.read_csv(\"../Resources/Age_Data.csv\")"
   ]
  },
  {
   "cell_type": "code",
   "execution_count": 6,
   "metadata": {},
   "outputs": [
    {
     "output_type": "execute_result",
     "data": {
      "text/plain": [
       "   Unnamed: 0  Year        City        Age Range  Number in Range\n",
       "0           0  2018  Albany, NY   18 to 24 Years            21091\n",
       "1           1  2018  Albany, NY  75 Years & Over             5906\n",
       "2           2  2018  Albany, NY   45 to 54 Years            10514\n",
       "3           3  2018  Albany, NY    Under 5 Years             5491\n",
       "4           4  2018  Albany, NY   65 to 74 Years             6670"
      ],
      "text/html": "<div>\n<style scoped>\n    .dataframe tbody tr th:only-of-type {\n        vertical-align: middle;\n    }\n\n    .dataframe tbody tr th {\n        vertical-align: top;\n    }\n\n    .dataframe thead th {\n        text-align: right;\n    }\n</style>\n<table border=\"1\" class=\"dataframe\">\n  <thead>\n    <tr style=\"text-align: right;\">\n      <th></th>\n      <th>Unnamed: 0</th>\n      <th>Year</th>\n      <th>City</th>\n      <th>Age Range</th>\n      <th>Number in Range</th>\n    </tr>\n  </thead>\n  <tbody>\n    <tr>\n      <th>0</th>\n      <td>0</td>\n      <td>2018</td>\n      <td>Albany, NY</td>\n      <td>18 to 24 Years</td>\n      <td>21091</td>\n    </tr>\n    <tr>\n      <th>1</th>\n      <td>1</td>\n      <td>2018</td>\n      <td>Albany, NY</td>\n      <td>75 Years &amp; Over</td>\n      <td>5906</td>\n    </tr>\n    <tr>\n      <th>2</th>\n      <td>2</td>\n      <td>2018</td>\n      <td>Albany, NY</td>\n      <td>45 to 54 Years</td>\n      <td>10514</td>\n    </tr>\n    <tr>\n      <th>3</th>\n      <td>3</td>\n      <td>2018</td>\n      <td>Albany, NY</td>\n      <td>Under 5 Years</td>\n      <td>5491</td>\n    </tr>\n    <tr>\n      <th>4</th>\n      <td>4</td>\n      <td>2018</td>\n      <td>Albany, NY</td>\n      <td>65 to 74 Years</td>\n      <td>6670</td>\n    </tr>\n  </tbody>\n</table>\n</div>"
     },
     "metadata": {},
     "execution_count": 6
    }
   ],
   "source": [
    "#print to view\n",
    "age_data.head()"
   ]
  },
  {
   "cell_type": "code",
   "execution_count": 7,
   "metadata": {},
   "outputs": [
    {
     "output_type": "execute_result",
     "data": {
      "text/plain": [
       "Unnamed: 0         16236\n",
       "Year               16236\n",
       "City               16236\n",
       "Age Range          16236\n",
       "Number in Range    16236\n",
       "dtype: int64"
      ]
     },
     "metadata": {},
     "execution_count": 7
    }
   ],
   "source": [
    "#look for missing values\n",
    "#awesome to see!\n",
    "age_data.count() "
   ]
  },
  {
   "cell_type": "code",
   "execution_count": 8,
   "metadata": {},
   "outputs": [
    {
     "output_type": "execute_result",
     "data": {
      "text/plain": [
       "Index(['Unnamed: 0', 'Year', 'City', 'Age Range', 'Number in Range'], dtype='object')"
      ]
     },
     "metadata": {},
     "execution_count": 8
    }
   ],
   "source": [
    "#get a list of all of our columns for easy reference\n",
    "age_data.columns"
   ]
  },
  {
   "cell_type": "code",
   "execution_count": 9,
   "metadata": {},
   "outputs": [],
   "source": [
    "#collect data that includes year 2016 & age of 25-34\n",
    "#'Year' = 2016\n",
    "#'Age Range' = 25 t0 34 Years\n",
    "\n",
    "age_data_2016_df = age_data.loc[(age_data[\"Year\"] == 2016) & (age_data[\"Age Range\"] == \"25 to 34 Years\")]"
   ]
  },
  {
   "cell_type": "code",
   "execution_count": 10,
   "metadata": {},
   "outputs": [
    {
     "output_type": "execute_result",
     "data": {
      "text/plain": [
       "     Unnamed: 0  Year        City       Age Range  Number in Range\n",
       "32           32  2016  Albany, NY  25 to 34 Years            16205\n",
       "98           98  2016  Albany, NY  25 to 34 Years            16205\n",
       "164         164  2016  Albany, NY  25 to 34 Years            16205\n",
       "230         230  2016  Albany, NY  25 to 34 Years            16205\n",
       "296         296  2016  Albany, NY  25 to 34 Years            16205"
      ],
      "text/html": "<div>\n<style scoped>\n    .dataframe tbody tr th:only-of-type {\n        vertical-align: middle;\n    }\n\n    .dataframe tbody tr th {\n        vertical-align: top;\n    }\n\n    .dataframe thead th {\n        text-align: right;\n    }\n</style>\n<table border=\"1\" class=\"dataframe\">\n  <thead>\n    <tr style=\"text-align: right;\">\n      <th></th>\n      <th>Unnamed: 0</th>\n      <th>Year</th>\n      <th>City</th>\n      <th>Age Range</th>\n      <th>Number in Range</th>\n    </tr>\n  </thead>\n  <tbody>\n    <tr>\n      <th>32</th>\n      <td>32</td>\n      <td>2016</td>\n      <td>Albany, NY</td>\n      <td>25 to 34 Years</td>\n      <td>16205</td>\n    </tr>\n    <tr>\n      <th>98</th>\n      <td>98</td>\n      <td>2016</td>\n      <td>Albany, NY</td>\n      <td>25 to 34 Years</td>\n      <td>16205</td>\n    </tr>\n    <tr>\n      <th>164</th>\n      <td>164</td>\n      <td>2016</td>\n      <td>Albany, NY</td>\n      <td>25 to 34 Years</td>\n      <td>16205</td>\n    </tr>\n    <tr>\n      <th>230</th>\n      <td>230</td>\n      <td>2016</td>\n      <td>Albany, NY</td>\n      <td>25 to 34 Years</td>\n      <td>16205</td>\n    </tr>\n    <tr>\n      <th>296</th>\n      <td>296</td>\n      <td>2016</td>\n      <td>Albany, NY</td>\n      <td>25 to 34 Years</td>\n      <td>16205</td>\n    </tr>\n  </tbody>\n</table>\n</div>"
     },
     "metadata": {},
     "execution_count": 10
    }
   ],
   "source": [
    "#print\n",
    "age_data_2016_df.head()"
   ]
  },
  {
   "cell_type": "code",
   "execution_count": 11,
   "metadata": {},
   "outputs": [],
   "source": [
    "#drop column \"Unnamed: 0\"\n",
    "#add at end inplace=True -> to allow panda to edit the original DF\n",
    "age_data_2016_df.drop(columns=[\"Unnamed: 0\"], inplace=True)"
   ]
  },
  {
   "cell_type": "code",
   "execution_count": 12,
   "metadata": {},
   "outputs": [],
   "source": [
    "#drop duplicates!\n",
    "#missed the first time\n",
    "#use city as subset - since it varies\n",
    "#add at end inplace=True -> to allow panda to edit the original DF\n",
    "#inplace=False -> does not affect the original DF\n",
    "age_data_2016_df.drop_duplicates(subset=\"City\", keep=\"first\", inplace=True)"
   ]
  },
  {
   "cell_type": "code",
   "execution_count": 13,
   "metadata": {},
   "outputs": [
    {
     "output_type": "execute_result",
     "data": {
      "text/plain": [
       "       Year                             City       Age Range  Number in Range\n",
       "32     2016                       Albany, NY  25 to 34 Years            16205\n",
       "428    2016                      Atlanta, GA  25 to 34 Years           101787\n",
       "1220   2016                   Boise City, ID  25 to 34 Years            33822\n",
       "1616   2016                       Boston, MA  25 to 34 Years           163811\n",
       "2012   2016                      Buffalo, NY  25 to 34 Years            45118\n",
       "2408   2016                    Charlotte, NC  25 to 34 Years           149024\n",
       "2804   2016                      Chicago, IL  25 to 34 Years           532349\n",
       "3200   2016                   Cincinnati, OH  25 to 34 Years            54754\n",
       "3596   2016                     Columbus, OH  25 to 34 Years           180685\n",
       "3992   2016                       Dallas, TX  25 to 34 Years           243721\n",
       "4388   2016                       Denver, CO  25 to 34 Years           156779\n",
       "4784   2016                      Detroit, MI  25 to 34 Years           101246\n",
       "5180   2016                 Grand Rapids, MI  25 to 34 Years            36962\n",
       "5576   2016                   Harrisburg, PA  25 to 34 Years             8406\n",
       "5972   2016                     Hartford, CT  25 to 34 Years            20263\n",
       "6368   2016                      Houston, TX  25 to 34 Years           414304\n",
       "6764   2016  Indianapolis city (balance), IN  25 to 34 Years           143328\n",
       "7160   2016                 Jacksonville, FL  25 to 34 Years           144849\n",
       "7556   2016                    Las Vegas, NV  25 to 34 Years            84756\n",
       "7952   2016                  Los Angeles, CA  25 to 34 Years           708811\n",
       "8348   2016                        Miami, FL  25 to 34 Years            74135\n",
       "8744   2016                    Nashville, NC  25 to 34 Years              474\n",
       "9140   2016                  New Orleans, LA  25 to 34 Years            73170\n",
       "9536   2016                     New York, NY  25 to 34 Years          1532884\n",
       "9932   2016                      Orlando, FL  25 to 34 Years            63947\n",
       "10328  2016                 Philadelphia, PA  25 to 34 Years           295799\n",
       "10724  2016                      Phoenix, AZ  25 to 34 Years           251243\n",
       "11120  2016                   Pittsburgh, PA  25 to 34 Years            62515\n",
       "11516  2016                     Portland, OR  25 to 34 Years           127557\n",
       "11912  2016                      Raleigh, NC  25 to 34 Years            85608\n",
       "12308  2016                     Richmond, VA  25 to 34 Years            44020\n",
       "12704  2016                      Roanoke, VA  25 to 34 Years            15265\n",
       "13100  2016                   Sacramento, CA  25 to 34 Years            92883\n",
       "13496  2016                    San Diego, CA  25 to 34 Years           264385\n",
       "13892  2016                San Francisco, CA  25 to 34 Years           203463\n",
       "14288  2016                      Seattle, WA  25 to 34 Years           160215\n",
       "14684  2016                      Spokane, WA  25 to 34 Years            33479\n",
       "15080  2016                    St. Louis, MO  25 to 34 Years            61779\n",
       "15476  2016                     Syracuse, NY  25 to 34 Years            23202\n",
       "15872  2016                        Tampa, FL  25 to 34 Years            61411"
      ],
      "text/html": "<div>\n<style scoped>\n    .dataframe tbody tr th:only-of-type {\n        vertical-align: middle;\n    }\n\n    .dataframe tbody tr th {\n        vertical-align: top;\n    }\n\n    .dataframe thead th {\n        text-align: right;\n    }\n</style>\n<table border=\"1\" class=\"dataframe\">\n  <thead>\n    <tr style=\"text-align: right;\">\n      <th></th>\n      <th>Year</th>\n      <th>City</th>\n      <th>Age Range</th>\n      <th>Number in Range</th>\n    </tr>\n  </thead>\n  <tbody>\n    <tr>\n      <th>32</th>\n      <td>2016</td>\n      <td>Albany, NY</td>\n      <td>25 to 34 Years</td>\n      <td>16205</td>\n    </tr>\n    <tr>\n      <th>428</th>\n      <td>2016</td>\n      <td>Atlanta, GA</td>\n      <td>25 to 34 Years</td>\n      <td>101787</td>\n    </tr>\n    <tr>\n      <th>1220</th>\n      <td>2016</td>\n      <td>Boise City, ID</td>\n      <td>25 to 34 Years</td>\n      <td>33822</td>\n    </tr>\n    <tr>\n      <th>1616</th>\n      <td>2016</td>\n      <td>Boston, MA</td>\n      <td>25 to 34 Years</td>\n      <td>163811</td>\n    </tr>\n    <tr>\n      <th>2012</th>\n      <td>2016</td>\n      <td>Buffalo, NY</td>\n      <td>25 to 34 Years</td>\n      <td>45118</td>\n    </tr>\n    <tr>\n      <th>2408</th>\n      <td>2016</td>\n      <td>Charlotte, NC</td>\n      <td>25 to 34 Years</td>\n      <td>149024</td>\n    </tr>\n    <tr>\n      <th>2804</th>\n      <td>2016</td>\n      <td>Chicago, IL</td>\n      <td>25 to 34 Years</td>\n      <td>532349</td>\n    </tr>\n    <tr>\n      <th>3200</th>\n      <td>2016</td>\n      <td>Cincinnati, OH</td>\n      <td>25 to 34 Years</td>\n      <td>54754</td>\n    </tr>\n    <tr>\n      <th>3596</th>\n      <td>2016</td>\n      <td>Columbus, OH</td>\n      <td>25 to 34 Years</td>\n      <td>180685</td>\n    </tr>\n    <tr>\n      <th>3992</th>\n      <td>2016</td>\n      <td>Dallas, TX</td>\n      <td>25 to 34 Years</td>\n      <td>243721</td>\n    </tr>\n    <tr>\n      <th>4388</th>\n      <td>2016</td>\n      <td>Denver, CO</td>\n      <td>25 to 34 Years</td>\n      <td>156779</td>\n    </tr>\n    <tr>\n      <th>4784</th>\n      <td>2016</td>\n      <td>Detroit, MI</td>\n      <td>25 to 34 Years</td>\n      <td>101246</td>\n    </tr>\n    <tr>\n      <th>5180</th>\n      <td>2016</td>\n      <td>Grand Rapids, MI</td>\n      <td>25 to 34 Years</td>\n      <td>36962</td>\n    </tr>\n    <tr>\n      <th>5576</th>\n      <td>2016</td>\n      <td>Harrisburg, PA</td>\n      <td>25 to 34 Years</td>\n      <td>8406</td>\n    </tr>\n    <tr>\n      <th>5972</th>\n      <td>2016</td>\n      <td>Hartford, CT</td>\n      <td>25 to 34 Years</td>\n      <td>20263</td>\n    </tr>\n    <tr>\n      <th>6368</th>\n      <td>2016</td>\n      <td>Houston, TX</td>\n      <td>25 to 34 Years</td>\n      <td>414304</td>\n    </tr>\n    <tr>\n      <th>6764</th>\n      <td>2016</td>\n      <td>Indianapolis city (balance), IN</td>\n      <td>25 to 34 Years</td>\n      <td>143328</td>\n    </tr>\n    <tr>\n      <th>7160</th>\n      <td>2016</td>\n      <td>Jacksonville, FL</td>\n      <td>25 to 34 Years</td>\n      <td>144849</td>\n    </tr>\n    <tr>\n      <th>7556</th>\n      <td>2016</td>\n      <td>Las Vegas, NV</td>\n      <td>25 to 34 Years</td>\n      <td>84756</td>\n    </tr>\n    <tr>\n      <th>7952</th>\n      <td>2016</td>\n      <td>Los Angeles, CA</td>\n      <td>25 to 34 Years</td>\n      <td>708811</td>\n    </tr>\n    <tr>\n      <th>8348</th>\n      <td>2016</td>\n      <td>Miami, FL</td>\n      <td>25 to 34 Years</td>\n      <td>74135</td>\n    </tr>\n    <tr>\n      <th>8744</th>\n      <td>2016</td>\n      <td>Nashville, NC</td>\n      <td>25 to 34 Years</td>\n      <td>474</td>\n    </tr>\n    <tr>\n      <th>9140</th>\n      <td>2016</td>\n      <td>New Orleans, LA</td>\n      <td>25 to 34 Years</td>\n      <td>73170</td>\n    </tr>\n    <tr>\n      <th>9536</th>\n      <td>2016</td>\n      <td>New York, NY</td>\n      <td>25 to 34 Years</td>\n      <td>1532884</td>\n    </tr>\n    <tr>\n      <th>9932</th>\n      <td>2016</td>\n      <td>Orlando, FL</td>\n      <td>25 to 34 Years</td>\n      <td>63947</td>\n    </tr>\n    <tr>\n      <th>10328</th>\n      <td>2016</td>\n      <td>Philadelphia, PA</td>\n      <td>25 to 34 Years</td>\n      <td>295799</td>\n    </tr>\n    <tr>\n      <th>10724</th>\n      <td>2016</td>\n      <td>Phoenix, AZ</td>\n      <td>25 to 34 Years</td>\n      <td>251243</td>\n    </tr>\n    <tr>\n      <th>11120</th>\n      <td>2016</td>\n      <td>Pittsburgh, PA</td>\n      <td>25 to 34 Years</td>\n      <td>62515</td>\n    </tr>\n    <tr>\n      <th>11516</th>\n      <td>2016</td>\n      <td>Portland, OR</td>\n      <td>25 to 34 Years</td>\n      <td>127557</td>\n    </tr>\n    <tr>\n      <th>11912</th>\n      <td>2016</td>\n      <td>Raleigh, NC</td>\n      <td>25 to 34 Years</td>\n      <td>85608</td>\n    </tr>\n    <tr>\n      <th>12308</th>\n      <td>2016</td>\n      <td>Richmond, VA</td>\n      <td>25 to 34 Years</td>\n      <td>44020</td>\n    </tr>\n    <tr>\n      <th>12704</th>\n      <td>2016</td>\n      <td>Roanoke, VA</td>\n      <td>25 to 34 Years</td>\n      <td>15265</td>\n    </tr>\n    <tr>\n      <th>13100</th>\n      <td>2016</td>\n      <td>Sacramento, CA</td>\n      <td>25 to 34 Years</td>\n      <td>92883</td>\n    </tr>\n    <tr>\n      <th>13496</th>\n      <td>2016</td>\n      <td>San Diego, CA</td>\n      <td>25 to 34 Years</td>\n      <td>264385</td>\n    </tr>\n    <tr>\n      <th>13892</th>\n      <td>2016</td>\n      <td>San Francisco, CA</td>\n      <td>25 to 34 Years</td>\n      <td>203463</td>\n    </tr>\n    <tr>\n      <th>14288</th>\n      <td>2016</td>\n      <td>Seattle, WA</td>\n      <td>25 to 34 Years</td>\n      <td>160215</td>\n    </tr>\n    <tr>\n      <th>14684</th>\n      <td>2016</td>\n      <td>Spokane, WA</td>\n      <td>25 to 34 Years</td>\n      <td>33479</td>\n    </tr>\n    <tr>\n      <th>15080</th>\n      <td>2016</td>\n      <td>St. Louis, MO</td>\n      <td>25 to 34 Years</td>\n      <td>61779</td>\n    </tr>\n    <tr>\n      <th>15476</th>\n      <td>2016</td>\n      <td>Syracuse, NY</td>\n      <td>25 to 34 Years</td>\n      <td>23202</td>\n    </tr>\n    <tr>\n      <th>15872</th>\n      <td>2016</td>\n      <td>Tampa, FL</td>\n      <td>25 to 34 Years</td>\n      <td>61411</td>\n    </tr>\n  </tbody>\n</table>\n</div>"
     },
     "metadata": {},
     "execution_count": 13
    }
   ],
   "source": [
    "#print\n",
    "age_data_2016_df"
   ]
  },
  {
   "cell_type": "code",
   "execution_count": 15,
   "metadata": {},
   "outputs": [],
   "source": [
    "#export DF into a .csv\n",
    "age_data_2016_df.to_csv(\"2016_all_cities_age_data.csv\")"
   ]
  },
  {
   "cell_type": "code",
   "execution_count": null,
   "metadata": {},
   "outputs": [],
   "source": []
  }
 ]
}