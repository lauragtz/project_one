{
 "metadata": {
  "language_info": {
   "codemirror_mode": {
    "name": "ipython",
    "version": 3
   },
   "file_extension": ".py",
   "mimetype": "text/x-python",
   "name": "python",
   "nbconvert_exporter": "python",
   "pygments_lexer": "ipython3",
   "version": "3.8.3-final"
  },
  "orig_nbformat": 2,
  "kernelspec": {
   "name": "python3",
   "display_name": "Python 3"
  }
 },
 "nbformat": 4,
 "nbformat_minor": 2,
 "cells": [
  {
   "cell_type": "code",
   "execution_count": 1,
   "metadata": {},
   "outputs": [],
   "source": [
    "#dependencies\n",
    "\n",
    "import pandas as pd"
   ]
  },
  {
   "cell_type": "code",
   "execution_count": 4,
   "metadata": {},
   "outputs": [],
   "source": [
    "#Use Pandas to read data\n",
    "age_data = pd.read_csv(\"../Resources/Age_Data.csv\")"
   ]
  },
  {
   "cell_type": "code",
   "execution_count": 5,
   "metadata": {},
   "outputs": [
    {
     "output_type": "execute_result",
     "data": {
      "text/plain": [
       "   Unnamed: 0  Year        City        Age Range  Number in Range\n",
       "0           0  2018  Albany, NY   18 to 24 Years            21091\n",
       "1           1  2018  Albany, NY  75 Years & Over             5906\n",
       "2           2  2018  Albany, NY   45 to 54 Years            10514\n",
       "3           3  2018  Albany, NY    Under 5 Years             5491\n",
       "4           4  2018  Albany, NY   65 to 74 Years             6670"
      ],
      "text/html": "<div>\n<style scoped>\n    .dataframe tbody tr th:only-of-type {\n        vertical-align: middle;\n    }\n\n    .dataframe tbody tr th {\n        vertical-align: top;\n    }\n\n    .dataframe thead th {\n        text-align: right;\n    }\n</style>\n<table border=\"1\" class=\"dataframe\">\n  <thead>\n    <tr style=\"text-align: right;\">\n      <th></th>\n      <th>Unnamed: 0</th>\n      <th>Year</th>\n      <th>City</th>\n      <th>Age Range</th>\n      <th>Number in Range</th>\n    </tr>\n  </thead>\n  <tbody>\n    <tr>\n      <th>0</th>\n      <td>0</td>\n      <td>2018</td>\n      <td>Albany, NY</td>\n      <td>18 to 24 Years</td>\n      <td>21091</td>\n    </tr>\n    <tr>\n      <th>1</th>\n      <td>1</td>\n      <td>2018</td>\n      <td>Albany, NY</td>\n      <td>75 Years &amp; Over</td>\n      <td>5906</td>\n    </tr>\n    <tr>\n      <th>2</th>\n      <td>2</td>\n      <td>2018</td>\n      <td>Albany, NY</td>\n      <td>45 to 54 Years</td>\n      <td>10514</td>\n    </tr>\n    <tr>\n      <th>3</th>\n      <td>3</td>\n      <td>2018</td>\n      <td>Albany, NY</td>\n      <td>Under 5 Years</td>\n      <td>5491</td>\n    </tr>\n    <tr>\n      <th>4</th>\n      <td>4</td>\n      <td>2018</td>\n      <td>Albany, NY</td>\n      <td>65 to 74 Years</td>\n      <td>6670</td>\n    </tr>\n  </tbody>\n</table>\n</div>"
     },
     "metadata": {},
     "execution_count": 5
    }
   ],
   "source": [
    "#print to view\n",
    "age_data.head()"
   ]
  },
  {
   "cell_type": "code",
   "execution_count": null,
   "metadata": {},
   "outputs": [],
   "source": [
    "#look for missing values\n",
    "#awesome to see!\n",
    "age_data.count() "
   ]
  },
  {
   "cell_type": "code",
   "execution_count": 6,
   "metadata": {},
   "outputs": [
    {
     "output_type": "execute_result",
     "data": {
      "text/plain": [
       "Index(['Unnamed: 0', 'Year', 'City', 'Age Range', 'Number in Range'], dtype='object')"
      ]
     },
     "metadata": {},
     "execution_count": 6
    }
   ],
   "source": [
    "#get a list of all of our columns for easy reference\n",
    "age_data.columns"
   ]
  },
  {
   "cell_type": "code",
   "execution_count": 7,
   "metadata": {},
   "outputs": [],
   "source": [
    "#collect data that includes year 2016 & age of 25-34\n",
    "#'Year' = 2016\n",
    "#'Age Range' = 25 t0 34 Years\n",
    "\n",
    "age_data_2016_df = age_data.loc[(age_data[\"Year\"] == 2016) & (age_data[\"Age Range\"] == \"25 to 34 Years\")]"
   ]
  },
  {
   "cell_type": "code",
   "execution_count": 8,
   "metadata": {},
   "outputs": [
    {
     "output_type": "execute_result",
     "data": {
      "text/plain": [
       "     Unnamed: 0  Year        City       Age Range  Number in Range\n",
       "32           32  2016  Albany, NY  25 to 34 Years            16205\n",
       "98           98  2016  Albany, NY  25 to 34 Years            16205\n",
       "164         164  2016  Albany, NY  25 to 34 Years            16205\n",
       "230         230  2016  Albany, NY  25 to 34 Years            16205\n",
       "296         296  2016  Albany, NY  25 to 34 Years            16205"
      ],
      "text/html": "<div>\n<style scoped>\n    .dataframe tbody tr th:only-of-type {\n        vertical-align: middle;\n    }\n\n    .dataframe tbody tr th {\n        vertical-align: top;\n    }\n\n    .dataframe thead th {\n        text-align: right;\n    }\n</style>\n<table border=\"1\" class=\"dataframe\">\n  <thead>\n    <tr style=\"text-align: right;\">\n      <th></th>\n      <th>Unnamed: 0</th>\n      <th>Year</th>\n      <th>City</th>\n      <th>Age Range</th>\n      <th>Number in Range</th>\n    </tr>\n  </thead>\n  <tbody>\n    <tr>\n      <th>32</th>\n      <td>32</td>\n      <td>2016</td>\n      <td>Albany, NY</td>\n      <td>25 to 34 Years</td>\n      <td>16205</td>\n    </tr>\n    <tr>\n      <th>98</th>\n      <td>98</td>\n      <td>2016</td>\n      <td>Albany, NY</td>\n      <td>25 to 34 Years</td>\n      <td>16205</td>\n    </tr>\n    <tr>\n      <th>164</th>\n      <td>164</td>\n      <td>2016</td>\n      <td>Albany, NY</td>\n      <td>25 to 34 Years</td>\n      <td>16205</td>\n    </tr>\n    <tr>\n      <th>230</th>\n      <td>230</td>\n      <td>2016</td>\n      <td>Albany, NY</td>\n      <td>25 to 34 Years</td>\n      <td>16205</td>\n    </tr>\n    <tr>\n      <th>296</th>\n      <td>296</td>\n      <td>2016</td>\n      <td>Albany, NY</td>\n      <td>25 to 34 Years</td>\n      <td>16205</td>\n    </tr>\n  </tbody>\n</table>\n</div>"
     },
     "metadata": {},
     "execution_count": 8
    }
   ],
   "source": [
    "#print\n",
    "age_data_2016_df.head()"
   ]
  },
  {
   "cell_type": "code",
   "execution_count": 9,
   "metadata": {},
   "outputs": [],
   "source": [
    "#export DF into a .csv\n",
    "age_data_2016_df.to_csv(\"2016_age_data_all_cities.csv\")"
   ]
  },
  {
   "cell_type": "code",
   "execution_count": null,
   "metadata": {},
   "outputs": [],
   "source": []
  }
 ]
}