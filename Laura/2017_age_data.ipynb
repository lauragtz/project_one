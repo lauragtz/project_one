{
 "metadata": {
  "language_info": {
   "codemirror_mode": {
    "name": "ipython",
    "version": 3
   },
   "file_extension": ".py",
   "mimetype": "text/x-python",
   "name": "python",
   "nbconvert_exporter": "python",
   "pygments_lexer": "ipython3",
   "version": "3.8.3-final"
  },
  "orig_nbformat": 2,
  "kernelspec": {
   "name": "python3",
   "display_name": "Python 3"
  }
 },
 "nbformat": 4,
 "nbformat_minor": 2,
 "cells": [
  {
   "cell_type": "code",
   "execution_count": 1,
   "metadata": {},
   "outputs": [],
   "source": [
    "#dependencies\n",
    "\n",
    "import pandas as pd"
   ]
  },
  {
   "cell_type": "code",
   "execution_count": 2,
   "metadata": {},
   "outputs": [],
   "source": [
    "#Use Pandas to read data\n",
    "age_data = pd.read_csv(\"../Resources/Age_Data.csv\")"
   ]
  },
  {
   "cell_type": "code",
   "execution_count": 3,
   "metadata": {},
   "outputs": [
    {
     "output_type": "execute_result",
     "data": {
      "text/plain": [
       "   Unnamed: 0  Year        City        Age Range  Number in Range\n",
       "0           0  2018  Albany, NY   18 to 24 Years            21091\n",
       "1           1  2018  Albany, NY  75 Years & Over             5906\n",
       "2           2  2018  Albany, NY   45 to 54 Years            10514\n",
       "3           3  2018  Albany, NY    Under 5 Years             5491\n",
       "4           4  2018  Albany, NY   65 to 74 Years             6670"
      ],
      "text/html": "<div>\n<style scoped>\n    .dataframe tbody tr th:only-of-type {\n        vertical-align: middle;\n    }\n\n    .dataframe tbody tr th {\n        vertical-align: top;\n    }\n\n    .dataframe thead th {\n        text-align: right;\n    }\n</style>\n<table border=\"1\" class=\"dataframe\">\n  <thead>\n    <tr style=\"text-align: right;\">\n      <th></th>\n      <th>Unnamed: 0</th>\n      <th>Year</th>\n      <th>City</th>\n      <th>Age Range</th>\n      <th>Number in Range</th>\n    </tr>\n  </thead>\n  <tbody>\n    <tr>\n      <th>0</th>\n      <td>0</td>\n      <td>2018</td>\n      <td>Albany, NY</td>\n      <td>18 to 24 Years</td>\n      <td>21091</td>\n    </tr>\n    <tr>\n      <th>1</th>\n      <td>1</td>\n      <td>2018</td>\n      <td>Albany, NY</td>\n      <td>75 Years &amp; Over</td>\n      <td>5906</td>\n    </tr>\n    <tr>\n      <th>2</th>\n      <td>2</td>\n      <td>2018</td>\n      <td>Albany, NY</td>\n      <td>45 to 54 Years</td>\n      <td>10514</td>\n    </tr>\n    <tr>\n      <th>3</th>\n      <td>3</td>\n      <td>2018</td>\n      <td>Albany, NY</td>\n      <td>Under 5 Years</td>\n      <td>5491</td>\n    </tr>\n    <tr>\n      <th>4</th>\n      <td>4</td>\n      <td>2018</td>\n      <td>Albany, NY</td>\n      <td>65 to 74 Years</td>\n      <td>6670</td>\n    </tr>\n  </tbody>\n</table>\n</div>"
     },
     "metadata": {},
     "execution_count": 3
    }
   ],
   "source": [
    "#print to view\n",
    "age_data.head()"
   ]
  },
  {
   "cell_type": "code",
   "execution_count": 4,
   "metadata": {},
   "outputs": [
    {
     "output_type": "execute_result",
     "data": {
      "text/plain": [
       "Unnamed: 0         16236\n",
       "Year               16236\n",
       "City               16236\n",
       "Age Range          16236\n",
       "Number in Range    16236\n",
       "dtype: int64"
      ]
     },
     "metadata": {},
     "execution_count": 4
    }
   ],
   "source": [
    "#look for missing values\n",
    "#awesome to see!\n",
    "age_data.count() "
   ]
  },
  {
   "cell_type": "code",
   "execution_count": 5,
   "metadata": {},
   "outputs": [
    {
     "output_type": "execute_result",
     "data": {
      "text/plain": [
       "Index(['Unnamed: 0', 'Year', 'City', 'Age Range', 'Number in Range'], dtype='object')"
      ]
     },
     "metadata": {},
     "execution_count": 5
    }
   ],
   "source": [
    "#get a list of all of our columns for easy reference\n",
    "age_data.columns"
   ]
  },
  {
   "cell_type": "code",
   "execution_count": 6,
   "metadata": {},
   "outputs": [],
   "source": [
    "#collect data that includes year 2015 & age of 25-34\n",
    "#'Year' = 2017\n",
    "#'Age Range' = 25 t0 34 Years\n",
    "\n",
    "age_data_2017_df = age_data.loc[(age_data[\"Year\"] == 2017) & (age_data[\"Age Range\"] == \"25 to 34 Years\")]"
   ]
  },
  {
   "cell_type": "code",
   "execution_count": 7,
   "metadata": {},
   "outputs": [
    {
     "output_type": "execute_result",
     "data": {
      "text/plain": [
       "     Unnamed: 0  Year        City       Age Range  Number in Range\n",
       "14           14  2017  Albany, NY  25 to 34 Years            16607\n",
       "80           80  2017  Albany, NY  25 to 34 Years            16607\n",
       "146         146  2017  Albany, NY  25 to 34 Years            16607\n",
       "212         212  2017  Albany, NY  25 to 34 Years            16607\n",
       "278         278  2017  Albany, NY  25 to 34 Years            16607"
      ],
      "text/html": "<div>\n<style scoped>\n    .dataframe tbody tr th:only-of-type {\n        vertical-align: middle;\n    }\n\n    .dataframe tbody tr th {\n        vertical-align: top;\n    }\n\n    .dataframe thead th {\n        text-align: right;\n    }\n</style>\n<table border=\"1\" class=\"dataframe\">\n  <thead>\n    <tr style=\"text-align: right;\">\n      <th></th>\n      <th>Unnamed: 0</th>\n      <th>Year</th>\n      <th>City</th>\n      <th>Age Range</th>\n      <th>Number in Range</th>\n    </tr>\n  </thead>\n  <tbody>\n    <tr>\n      <th>14</th>\n      <td>14</td>\n      <td>2017</td>\n      <td>Albany, NY</td>\n      <td>25 to 34 Years</td>\n      <td>16607</td>\n    </tr>\n    <tr>\n      <th>80</th>\n      <td>80</td>\n      <td>2017</td>\n      <td>Albany, NY</td>\n      <td>25 to 34 Years</td>\n      <td>16607</td>\n    </tr>\n    <tr>\n      <th>146</th>\n      <td>146</td>\n      <td>2017</td>\n      <td>Albany, NY</td>\n      <td>25 to 34 Years</td>\n      <td>16607</td>\n    </tr>\n    <tr>\n      <th>212</th>\n      <td>212</td>\n      <td>2017</td>\n      <td>Albany, NY</td>\n      <td>25 to 34 Years</td>\n      <td>16607</td>\n    </tr>\n    <tr>\n      <th>278</th>\n      <td>278</td>\n      <td>2017</td>\n      <td>Albany, NY</td>\n      <td>25 to 34 Years</td>\n      <td>16607</td>\n    </tr>\n  </tbody>\n</table>\n</div>"
     },
     "metadata": {},
     "execution_count": 7
    }
   ],
   "source": [
    "#print\n",
    "age_data_2017_df.head()"
   ]
  },
  {
   "cell_type": "code",
   "execution_count": 8,
   "metadata": {},
   "outputs": [],
   "source": [
    "#drop column \"Unnamed: 0\"\n",
    "#add at end inplace=True -> to allow panda to edit the original DF\n",
    "age_data_2017_df.drop(columns=[\"Unnamed: 0\"], inplace=True)"
   ]
  },
  {
   "cell_type": "code",
   "execution_count": 9,
   "metadata": {},
   "outputs": [],
   "source": [
    "#drop duplicates!\n",
    "#missed the first time\n",
    "#use city as subset - since it varies\n",
    "#add at end inplace=True -> to allow panda to edit the original DF\n",
    "#inplace=False -> does not affect the original DF\n",
    "age_data_2017_df.drop_duplicates(subset=\"City\", keep=\"first\", inplace=True)"
   ]
  },
  {
   "cell_type": "code",
   "execution_count": 10,
   "metadata": {},
   "outputs": [
    {
     "output_type": "execute_result",
     "data": {
      "text/plain": [
       "       Year                             City       Age Range  Number in Range\n",
       "14     2017                       Albany, NY  25 to 34 Years            16607\n",
       "410    2017                      Atlanta, GA  25 to 34 Years           100614\n",
       "1202   2017                   Boise City, ID  25 to 34 Years            34039\n",
       "1598   2017                       Boston, MA  25 to 34 Years           165832\n",
       "1994   2017                      Buffalo, NY  25 to 34 Years            49207\n",
       "2390   2017                    Charlotte, NC  25 to 34 Years           155229\n",
       "2786   2017                      Chicago, IL  25 to 34 Years           542190\n",
       "3182   2017                   Cincinnati, OH  25 to 34 Years            57700\n",
       "3578   2017                     Columbus, OH  25 to 34 Years           182309\n",
       "3974   2017                       Dallas, TX  25 to 34 Years           257313\n",
       "4370   2017                       Denver, CO  25 to 34 Years           161633\n",
       "4766   2017                      Detroit, MI  25 to 34 Years           103202\n",
       "5162   2017                 Grand Rapids, MI  25 to 34 Years            37924\n",
       "5558   2017                   Harrisburg, PA  25 to 34 Years             8535\n",
       "5954   2017                     Hartford, CT  25 to 34 Years            20176\n",
       "6350   2017                      Houston, TX  25 to 34 Years           427232\n",
       "6746   2017  Indianapolis city (balance), IN  25 to 34 Years           147561\n",
       "7142   2017                 Jacksonville, FL  25 to 34 Years           148426\n",
       "7538   2017                    Las Vegas, NV  25 to 34 Years            95322\n",
       "7934   2017                  Los Angeles, CA  25 to 34 Years           714226\n",
       "8330   2017                        Miami, FL  25 to 34 Years            77577\n",
       "8726   2017                    Nashville, NC  25 to 34 Years              481\n",
       "9122   2017                  New Orleans, LA  25 to 34 Years            71100\n",
       "9518   2017                     New York, NY  25 to 34 Years          1551985\n",
       "9914   2017                      Orlando, FL  25 to 34 Years            61102\n",
       "10310  2017                 Philadelphia, PA  25 to 34 Years           299973\n",
       "10706  2017                      Phoenix, AZ  25 to 34 Years           255124\n",
       "11102  2017                   Pittsburgh, PA  25 to 34 Years            67339\n",
       "11498  2017                     Portland, OR  25 to 34 Years           128861\n",
       "11894  2017                      Raleigh, NC  25 to 34 Years            87741\n",
       "12290  2017                     Richmond, VA  25 to 34 Years            45872\n",
       "12686  2017                      Roanoke, VA  25 to 34 Years            15339\n",
       "13082  2017                   Sacramento, CA  25 to 34 Years            90201\n",
       "13478  2017                    San Diego, CA  25 to 34 Years           281489\n",
       "13874  2017                San Francisco, CA  25 to 34 Years           207492\n",
       "14270  2017                      Seattle, WA  25 to 34 Years           167622\n",
       "14666  2017                      Spokane, WA  25 to 34 Years            34328\n",
       "15062  2017                    St. Louis, MO  25 to 34 Years            61937\n",
       "15458  2017                     Syracuse, NY  25 to 34 Years            22964\n",
       "15854  2017                        Tampa, FL  25 to 34 Years            62853"
      ],
      "text/html": "<div>\n<style scoped>\n    .dataframe tbody tr th:only-of-type {\n        vertical-align: middle;\n    }\n\n    .dataframe tbody tr th {\n        vertical-align: top;\n    }\n\n    .dataframe thead th {\n        text-align: right;\n    }\n</style>\n<table border=\"1\" class=\"dataframe\">\n  <thead>\n    <tr style=\"text-align: right;\">\n      <th></th>\n      <th>Year</th>\n      <th>City</th>\n      <th>Age Range</th>\n      <th>Number in Range</th>\n    </tr>\n  </thead>\n  <tbody>\n    <tr>\n      <th>14</th>\n      <td>2017</td>\n      <td>Albany, NY</td>\n      <td>25 to 34 Years</td>\n      <td>16607</td>\n    </tr>\n    <tr>\n      <th>410</th>\n      <td>2017</td>\n      <td>Atlanta, GA</td>\n      <td>25 to 34 Years</td>\n      <td>100614</td>\n    </tr>\n    <tr>\n      <th>1202</th>\n      <td>2017</td>\n      <td>Boise City, ID</td>\n      <td>25 to 34 Years</td>\n      <td>34039</td>\n    </tr>\n    <tr>\n      <th>1598</th>\n      <td>2017</td>\n      <td>Boston, MA</td>\n      <td>25 to 34 Years</td>\n      <td>165832</td>\n    </tr>\n    <tr>\n      <th>1994</th>\n      <td>2017</td>\n      <td>Buffalo, NY</td>\n      <td>25 to 34 Years</td>\n      <td>49207</td>\n    </tr>\n    <tr>\n      <th>2390</th>\n      <td>2017</td>\n      <td>Charlotte, NC</td>\n      <td>25 to 34 Years</td>\n      <td>155229</td>\n    </tr>\n    <tr>\n      <th>2786</th>\n      <td>2017</td>\n      <td>Chicago, IL</td>\n      <td>25 to 34 Years</td>\n      <td>542190</td>\n    </tr>\n    <tr>\n      <th>3182</th>\n      <td>2017</td>\n      <td>Cincinnati, OH</td>\n      <td>25 to 34 Years</td>\n      <td>57700</td>\n    </tr>\n    <tr>\n      <th>3578</th>\n      <td>2017</td>\n      <td>Columbus, OH</td>\n      <td>25 to 34 Years</td>\n      <td>182309</td>\n    </tr>\n    <tr>\n      <th>3974</th>\n      <td>2017</td>\n      <td>Dallas, TX</td>\n      <td>25 to 34 Years</td>\n      <td>257313</td>\n    </tr>\n    <tr>\n      <th>4370</th>\n      <td>2017</td>\n      <td>Denver, CO</td>\n      <td>25 to 34 Years</td>\n      <td>161633</td>\n    </tr>\n    <tr>\n      <th>4766</th>\n      <td>2017</td>\n      <td>Detroit, MI</td>\n      <td>25 to 34 Years</td>\n      <td>103202</td>\n    </tr>\n    <tr>\n      <th>5162</th>\n      <td>2017</td>\n      <td>Grand Rapids, MI</td>\n      <td>25 to 34 Years</td>\n      <td>37924</td>\n    </tr>\n    <tr>\n      <th>5558</th>\n      <td>2017</td>\n      <td>Harrisburg, PA</td>\n      <td>25 to 34 Years</td>\n      <td>8535</td>\n    </tr>\n    <tr>\n      <th>5954</th>\n      <td>2017</td>\n      <td>Hartford, CT</td>\n      <td>25 to 34 Years</td>\n      <td>20176</td>\n    </tr>\n    <tr>\n      <th>6350</th>\n      <td>2017</td>\n      <td>Houston, TX</td>\n      <td>25 to 34 Years</td>\n      <td>427232</td>\n    </tr>\n    <tr>\n      <th>6746</th>\n      <td>2017</td>\n      <td>Indianapolis city (balance), IN</td>\n      <td>25 to 34 Years</td>\n      <td>147561</td>\n    </tr>\n    <tr>\n      <th>7142</th>\n      <td>2017</td>\n      <td>Jacksonville, FL</td>\n      <td>25 to 34 Years</td>\n      <td>148426</td>\n    </tr>\n    <tr>\n      <th>7538</th>\n      <td>2017</td>\n      <td>Las Vegas, NV</td>\n      <td>25 to 34 Years</td>\n      <td>95322</td>\n    </tr>\n    <tr>\n      <th>7934</th>\n      <td>2017</td>\n      <td>Los Angeles, CA</td>\n      <td>25 to 34 Years</td>\n      <td>714226</td>\n    </tr>\n    <tr>\n      <th>8330</th>\n      <td>2017</td>\n      <td>Miami, FL</td>\n      <td>25 to 34 Years</td>\n      <td>77577</td>\n    </tr>\n    <tr>\n      <th>8726</th>\n      <td>2017</td>\n      <td>Nashville, NC</td>\n      <td>25 to 34 Years</td>\n      <td>481</td>\n    </tr>\n    <tr>\n      <th>9122</th>\n      <td>2017</td>\n      <td>New Orleans, LA</td>\n      <td>25 to 34 Years</td>\n      <td>71100</td>\n    </tr>\n    <tr>\n      <th>9518</th>\n      <td>2017</td>\n      <td>New York, NY</td>\n      <td>25 to 34 Years</td>\n      <td>1551985</td>\n    </tr>\n    <tr>\n      <th>9914</th>\n      <td>2017</td>\n      <td>Orlando, FL</td>\n      <td>25 to 34 Years</td>\n      <td>61102</td>\n    </tr>\n    <tr>\n      <th>10310</th>\n      <td>2017</td>\n      <td>Philadelphia, PA</td>\n      <td>25 to 34 Years</td>\n      <td>299973</td>\n    </tr>\n    <tr>\n      <th>10706</th>\n      <td>2017</td>\n      <td>Phoenix, AZ</td>\n      <td>25 to 34 Years</td>\n      <td>255124</td>\n    </tr>\n    <tr>\n      <th>11102</th>\n      <td>2017</td>\n      <td>Pittsburgh, PA</td>\n      <td>25 to 34 Years</td>\n      <td>67339</td>\n    </tr>\n    <tr>\n      <th>11498</th>\n      <td>2017</td>\n      <td>Portland, OR</td>\n      <td>25 to 34 Years</td>\n      <td>128861</td>\n    </tr>\n    <tr>\n      <th>11894</th>\n      <td>2017</td>\n      <td>Raleigh, NC</td>\n      <td>25 to 34 Years</td>\n      <td>87741</td>\n    </tr>\n    <tr>\n      <th>12290</th>\n      <td>2017</td>\n      <td>Richmond, VA</td>\n      <td>25 to 34 Years</td>\n      <td>45872</td>\n    </tr>\n    <tr>\n      <th>12686</th>\n      <td>2017</td>\n      <td>Roanoke, VA</td>\n      <td>25 to 34 Years</td>\n      <td>15339</td>\n    </tr>\n    <tr>\n      <th>13082</th>\n      <td>2017</td>\n      <td>Sacramento, CA</td>\n      <td>25 to 34 Years</td>\n      <td>90201</td>\n    </tr>\n    <tr>\n      <th>13478</th>\n      <td>2017</td>\n      <td>San Diego, CA</td>\n      <td>25 to 34 Years</td>\n      <td>281489</td>\n    </tr>\n    <tr>\n      <th>13874</th>\n      <td>2017</td>\n      <td>San Francisco, CA</td>\n      <td>25 to 34 Years</td>\n      <td>207492</td>\n    </tr>\n    <tr>\n      <th>14270</th>\n      <td>2017</td>\n      <td>Seattle, WA</td>\n      <td>25 to 34 Years</td>\n      <td>167622</td>\n    </tr>\n    <tr>\n      <th>14666</th>\n      <td>2017</td>\n      <td>Spokane, WA</td>\n      <td>25 to 34 Years</td>\n      <td>34328</td>\n    </tr>\n    <tr>\n      <th>15062</th>\n      <td>2017</td>\n      <td>St. Louis, MO</td>\n      <td>25 to 34 Years</td>\n      <td>61937</td>\n    </tr>\n    <tr>\n      <th>15458</th>\n      <td>2017</td>\n      <td>Syracuse, NY</td>\n      <td>25 to 34 Years</td>\n      <td>22964</td>\n    </tr>\n    <tr>\n      <th>15854</th>\n      <td>2017</td>\n      <td>Tampa, FL</td>\n      <td>25 to 34 Years</td>\n      <td>62853</td>\n    </tr>\n  </tbody>\n</table>\n</div>"
     },
     "metadata": {},
     "execution_count": 10
    }
   ],
   "source": [
    "#print\n",
    "age_data_2017_df"
   ]
  },
  {
   "cell_type": "code",
   "execution_count": 11,
   "metadata": {},
   "outputs": [],
   "source": [
    "#export DF into a .csv\n",
    "age_data_2017_df.to_csv(\"2017_all_cities_age_data.csv\")"
   ]
  },
  {
   "cell_type": "code",
   "execution_count": null,
   "metadata": {},
   "outputs": [],
   "source": []
  }
 ]
}