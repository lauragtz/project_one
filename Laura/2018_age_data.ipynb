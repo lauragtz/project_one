{
 "metadata": {
  "language_info": {
   "codemirror_mode": {
    "name": "ipython",
    "version": 3
   },
   "file_extension": ".py",
   "mimetype": "text/x-python",
   "name": "python",
   "nbconvert_exporter": "python",
   "pygments_lexer": "ipython3",
   "version": "3.8.3-final"
  },
  "orig_nbformat": 2,
  "kernelspec": {
   "name": "python3",
   "display_name": "Python 3"
  }
 },
 "nbformat": 4,
 "nbformat_minor": 2,
 "cells": [
  {
   "cell_type": "code",
   "execution_count": 56,
   "metadata": {},
   "outputs": [],
   "source": [
    "#dependencies\n",
    "\n",
    "import pandas as pd"
   ]
  },
  {
   "cell_type": "code",
   "execution_count": 57,
   "metadata": {},
   "outputs": [],
   "source": [
    "#Use Pandas to read data\n",
    "age_data = pd.read_csv(\"../Resources/Age_Data.csv\")"
   ]
  },
  {
   "cell_type": "code",
   "execution_count": 58,
   "metadata": {},
   "outputs": [
    {
     "output_type": "execute_result",
     "data": {
      "text/plain": [
       "   Unnamed: 0  Year        City        Age Range  Number in Range\n",
       "0           0  2018  Albany, NY   18 to 24 Years            21091\n",
       "1           1  2018  Albany, NY  75 Years & Over             5906\n",
       "2           2  2018  Albany, NY   45 to 54 Years            10514\n",
       "3           3  2018  Albany, NY    Under 5 Years             5491\n",
       "4           4  2018  Albany, NY   65 to 74 Years             6670"
      ],
      "text/html": "<div>\n<style scoped>\n    .dataframe tbody tr th:only-of-type {\n        vertical-align: middle;\n    }\n\n    .dataframe tbody tr th {\n        vertical-align: top;\n    }\n\n    .dataframe thead th {\n        text-align: right;\n    }\n</style>\n<table border=\"1\" class=\"dataframe\">\n  <thead>\n    <tr style=\"text-align: right;\">\n      <th></th>\n      <th>Unnamed: 0</th>\n      <th>Year</th>\n      <th>City</th>\n      <th>Age Range</th>\n      <th>Number in Range</th>\n    </tr>\n  </thead>\n  <tbody>\n    <tr>\n      <th>0</th>\n      <td>0</td>\n      <td>2018</td>\n      <td>Albany, NY</td>\n      <td>18 to 24 Years</td>\n      <td>21091</td>\n    </tr>\n    <tr>\n      <th>1</th>\n      <td>1</td>\n      <td>2018</td>\n      <td>Albany, NY</td>\n      <td>75 Years &amp; Over</td>\n      <td>5906</td>\n    </tr>\n    <tr>\n      <th>2</th>\n      <td>2</td>\n      <td>2018</td>\n      <td>Albany, NY</td>\n      <td>45 to 54 Years</td>\n      <td>10514</td>\n    </tr>\n    <tr>\n      <th>3</th>\n      <td>3</td>\n      <td>2018</td>\n      <td>Albany, NY</td>\n      <td>Under 5 Years</td>\n      <td>5491</td>\n    </tr>\n    <tr>\n      <th>4</th>\n      <td>4</td>\n      <td>2018</td>\n      <td>Albany, NY</td>\n      <td>65 to 74 Years</td>\n      <td>6670</td>\n    </tr>\n  </tbody>\n</table>\n</div>"
     },
     "metadata": {},
     "execution_count": 58
    }
   ],
   "source": [
    "#print to view\n",
    "age_data.head()"
   ]
  },
  {
   "cell_type": "code",
   "execution_count": 59,
   "metadata": {},
   "outputs": [
    {
     "output_type": "execute_result",
     "data": {
      "text/plain": [
       "Unnamed: 0         16236\n",
       "Year               16236\n",
       "City               16236\n",
       "Age Range          16236\n",
       "Number in Range    16236\n",
       "dtype: int64"
      ]
     },
     "metadata": {},
     "execution_count": 59
    }
   ],
   "source": [
    "#look for missing values\n",
    "#awesome to see!\n",
    "age_data.count() "
   ]
  },
  {
   "cell_type": "code",
   "execution_count": 60,
   "metadata": {},
   "outputs": [
    {
     "output_type": "execute_result",
     "data": {
      "text/plain": [
       "Index(['Unnamed: 0', 'Year', 'City', 'Age Range', 'Number in Range'], dtype='object')"
      ]
     },
     "metadata": {},
     "execution_count": 60
    }
   ],
   "source": [
    "#get a list of all of our columns for easy reference\n",
    "age_data.columns"
   ]
  },
  {
   "cell_type": "code",
   "execution_count": 61,
   "metadata": {},
   "outputs": [],
   "source": [
    "#collect data that includes year 2018 & age of 25-34\n",
    "#'Year' = 2018\n",
    "#'Age Range' = 25 t0 34 Years\n",
    "\n",
    "age_data_2018_df = age_data.loc[(age_data[\"Year\"] == 2018) & (age_data[\"Age Range\"] == \"25 to 34 Years\")]"
   ]
  },
  {
   "cell_type": "code",
   "execution_count": 62,
   "metadata": {},
   "outputs": [
    {
     "output_type": "execute_result",
     "data": {
      "text/plain": [
       "       Unnamed: 0  Year        City       Age Range  Number in Range\n",
       "9               9  2018  Albany, NY  25 to 34 Years            15951\n",
       "75             75  2018  Albany, NY  25 to 34 Years            15951\n",
       "141           141  2018  Albany, NY  25 to 34 Years            15951\n",
       "207           207  2018  Albany, NY  25 to 34 Years            15951\n",
       "273           273  2018  Albany, NY  25 to 34 Years            15951\n",
       "...           ...   ...         ...             ...              ...\n",
       "15915       15915  2018   Tampa, FL  25 to 34 Years            69950\n",
       "15981       15981  2018   Tampa, FL  25 to 34 Years            69950\n",
       "16047       16047  2018   Tampa, FL  25 to 34 Years            69950\n",
       "16113       16113  2018   Tampa, FL  25 to 34 Years            69950\n",
       "16179       16179  2018   Tampa, FL  25 to 34 Years            69950\n",
       "\n",
       "[246 rows x 5 columns]"
      ],
      "text/html": "<div>\n<style scoped>\n    .dataframe tbody tr th:only-of-type {\n        vertical-align: middle;\n    }\n\n    .dataframe tbody tr th {\n        vertical-align: top;\n    }\n\n    .dataframe thead th {\n        text-align: right;\n    }\n</style>\n<table border=\"1\" class=\"dataframe\">\n  <thead>\n    <tr style=\"text-align: right;\">\n      <th></th>\n      <th>Unnamed: 0</th>\n      <th>Year</th>\n      <th>City</th>\n      <th>Age Range</th>\n      <th>Number in Range</th>\n    </tr>\n  </thead>\n  <tbody>\n    <tr>\n      <th>9</th>\n      <td>9</td>\n      <td>2018</td>\n      <td>Albany, NY</td>\n      <td>25 to 34 Years</td>\n      <td>15951</td>\n    </tr>\n    <tr>\n      <th>75</th>\n      <td>75</td>\n      <td>2018</td>\n      <td>Albany, NY</td>\n      <td>25 to 34 Years</td>\n      <td>15951</td>\n    </tr>\n    <tr>\n      <th>141</th>\n      <td>141</td>\n      <td>2018</td>\n      <td>Albany, NY</td>\n      <td>25 to 34 Years</td>\n      <td>15951</td>\n    </tr>\n    <tr>\n      <th>207</th>\n      <td>207</td>\n      <td>2018</td>\n      <td>Albany, NY</td>\n      <td>25 to 34 Years</td>\n      <td>15951</td>\n    </tr>\n    <tr>\n      <th>273</th>\n      <td>273</td>\n      <td>2018</td>\n      <td>Albany, NY</td>\n      <td>25 to 34 Years</td>\n      <td>15951</td>\n    </tr>\n    <tr>\n      <th>...</th>\n      <td>...</td>\n      <td>...</td>\n      <td>...</td>\n      <td>...</td>\n      <td>...</td>\n    </tr>\n    <tr>\n      <th>15915</th>\n      <td>15915</td>\n      <td>2018</td>\n      <td>Tampa, FL</td>\n      <td>25 to 34 Years</td>\n      <td>69950</td>\n    </tr>\n    <tr>\n      <th>15981</th>\n      <td>15981</td>\n      <td>2018</td>\n      <td>Tampa, FL</td>\n      <td>25 to 34 Years</td>\n      <td>69950</td>\n    </tr>\n    <tr>\n      <th>16047</th>\n      <td>16047</td>\n      <td>2018</td>\n      <td>Tampa, FL</td>\n      <td>25 to 34 Years</td>\n      <td>69950</td>\n    </tr>\n    <tr>\n      <th>16113</th>\n      <td>16113</td>\n      <td>2018</td>\n      <td>Tampa, FL</td>\n      <td>25 to 34 Years</td>\n      <td>69950</td>\n    </tr>\n    <tr>\n      <th>16179</th>\n      <td>16179</td>\n      <td>2018</td>\n      <td>Tampa, FL</td>\n      <td>25 to 34 Years</td>\n      <td>69950</td>\n    </tr>\n  </tbody>\n</table>\n<p>246 rows × 5 columns</p>\n</div>"
     },
     "metadata": {},
     "execution_count": 62
    }
   ],
   "source": [
    "#print\n",
    "age_data_2018_df"
   ]
  },
  {
   "cell_type": "code",
   "execution_count": 69,
   "metadata": {},
   "outputs": [],
   "source": [
    "#drop column \"Unnamed: 0\"\n",
    "#add at end inplace=True -> to allow panda to edit the original DF\n",
    "age_data_2018_df.drop(columns=[\"Unnamed: 0\"], inplace=True)"
   ]
  },
  {
   "cell_type": "code",
   "execution_count": 70,
   "metadata": {},
   "outputs": [],
   "source": [
    "#drop duplicates!\n",
    "#missed the first time\n",
    "#use city as subset - since it varies\n",
    "#add at end inplace=True -> to allow panda to edit the original DF\n",
    "#inplace=False -> does not affect the original DF\n",
    "age_data_2018_df.drop_duplicates(subset=\"City\", keep=\"first\", inplace=True)"
   ]
  },
  {
   "cell_type": "code",
   "execution_count": 71,
   "metadata": {},
   "outputs": [
    {
     "output_type": "execute_result",
     "data": {
      "text/plain": [
       "       Year                             City       Age Range  Number in Range\n",
       "9      2018                       Albany, NY  25 to 34 Years            15951\n",
       "405    2018                      Atlanta, GA  25 to 34 Years           102941\n",
       "1197   2018                   Boise City, ID  25 to 34 Years            34737\n",
       "1593   2018                       Boston, MA  25 to 34 Years           171798\n",
       "1989   2018                      Buffalo, NY  25 to 34 Years            47375\n",
       "2385   2018                    Charlotte, NC  25 to 34 Years           157640\n",
       "2781   2018                      Chicago, IL  25 to 34 Years           540134\n",
       "3177   2018                   Cincinnati, OH  25 to 34 Years            58295\n",
       "3573   2018                     Columbus, OH  25 to 34 Years           187258\n",
       "3969   2018                       Dallas, TX  25 to 34 Years           249912\n",
       "4365   2018                       Denver, CO  25 to 34 Years           167260\n",
       "4761   2018                      Detroit, MI  25 to 34 Years           102047\n",
       "5157   2018                 Grand Rapids, MI  25 to 34 Years            38939\n",
       "5553   2018                   Harrisburg, PA  25 to 34 Years             8620\n",
       "5949   2018                     Hartford, CT  25 to 34 Years            19964\n",
       "6345   2018                      Houston, TX  25 to 34 Years           428263\n",
       "6741   2018  Indianapolis city (balance), IN  25 to 34 Years           147293\n",
       "7137   2018                 Jacksonville, FL  25 to 34 Years           149930\n",
       "7533   2018                    Las Vegas, NV  25 to 34 Years            90715\n",
       "7929   2018                  Los Angeles, CA  25 to 34 Years           732538\n",
       "8325   2018                        Miami, FL  25 to 34 Years            80956\n",
       "8721   2018                    Nashville, NC  25 to 34 Years              649\n",
       "9117   2018                  New Orleans, LA  25 to 34 Years            69532\n",
       "9513   2018                     New York, NY  25 to 34 Years          1500032\n",
       "9909   2018                      Orlando, FL  25 to 34 Years            69245\n",
       "10305  2018                 Philadelphia, PA  25 to 34 Years           301903\n",
       "10701  2018                      Phoenix, AZ  25 to 34 Years           279670\n",
       "11097  2018                   Pittsburgh, PA  25 to 34 Years            62762\n",
       "11493  2018                     Portland, OR  25 to 34 Years           127379\n",
       "11889  2018                      Raleigh, NC  25 to 34 Years            87433\n",
       "12285  2018                     Richmond, VA  25 to 34 Years            47292\n",
       "12681  2018                      Roanoke, VA  25 to 34 Years            15320\n",
       "13077  2018                   Sacramento, CA  25 to 34 Years            96884\n",
       "13473  2018                    San Diego, CA  25 to 34 Years           266772\n",
       "13869  2018                San Francisco, CA  25 to 34 Years           207779\n",
       "14265  2018                      Seattle, WA  25 to 34 Years           177548\n",
       "14661  2018                      Spokane, WA  25 to 34 Years            35083\n",
       "15057  2018                    St. Louis, MO  25 to 34 Years            60935\n",
       "15453  2018                     Syracuse, NY  25 to 34 Years            22997\n",
       "15849  2018                        Tampa, FL  25 to 34 Years            69950"
      ],
      "text/html": "<div>\n<style scoped>\n    .dataframe tbody tr th:only-of-type {\n        vertical-align: middle;\n    }\n\n    .dataframe tbody tr th {\n        vertical-align: top;\n    }\n\n    .dataframe thead th {\n        text-align: right;\n    }\n</style>\n<table border=\"1\" class=\"dataframe\">\n  <thead>\n    <tr style=\"text-align: right;\">\n      <th></th>\n      <th>Year</th>\n      <th>City</th>\n      <th>Age Range</th>\n      <th>Number in Range</th>\n    </tr>\n  </thead>\n  <tbody>\n    <tr>\n      <th>9</th>\n      <td>2018</td>\n      <td>Albany, NY</td>\n      <td>25 to 34 Years</td>\n      <td>15951</td>\n    </tr>\n    <tr>\n      <th>405</th>\n      <td>2018</td>\n      <td>Atlanta, GA</td>\n      <td>25 to 34 Years</td>\n      <td>102941</td>\n    </tr>\n    <tr>\n      <th>1197</th>\n      <td>2018</td>\n      <td>Boise City, ID</td>\n      <td>25 to 34 Years</td>\n      <td>34737</td>\n    </tr>\n    <tr>\n      <th>1593</th>\n      <td>2018</td>\n      <td>Boston, MA</td>\n      <td>25 to 34 Years</td>\n      <td>171798</td>\n    </tr>\n    <tr>\n      <th>1989</th>\n      <td>2018</td>\n      <td>Buffalo, NY</td>\n      <td>25 to 34 Years</td>\n      <td>47375</td>\n    </tr>\n    <tr>\n      <th>2385</th>\n      <td>2018</td>\n      <td>Charlotte, NC</td>\n      <td>25 to 34 Years</td>\n      <td>157640</td>\n    </tr>\n    <tr>\n      <th>2781</th>\n      <td>2018</td>\n      <td>Chicago, IL</td>\n      <td>25 to 34 Years</td>\n      <td>540134</td>\n    </tr>\n    <tr>\n      <th>3177</th>\n      <td>2018</td>\n      <td>Cincinnati, OH</td>\n      <td>25 to 34 Years</td>\n      <td>58295</td>\n    </tr>\n    <tr>\n      <th>3573</th>\n      <td>2018</td>\n      <td>Columbus, OH</td>\n      <td>25 to 34 Years</td>\n      <td>187258</td>\n    </tr>\n    <tr>\n      <th>3969</th>\n      <td>2018</td>\n      <td>Dallas, TX</td>\n      <td>25 to 34 Years</td>\n      <td>249912</td>\n    </tr>\n    <tr>\n      <th>4365</th>\n      <td>2018</td>\n      <td>Denver, CO</td>\n      <td>25 to 34 Years</td>\n      <td>167260</td>\n    </tr>\n    <tr>\n      <th>4761</th>\n      <td>2018</td>\n      <td>Detroit, MI</td>\n      <td>25 to 34 Years</td>\n      <td>102047</td>\n    </tr>\n    <tr>\n      <th>5157</th>\n      <td>2018</td>\n      <td>Grand Rapids, MI</td>\n      <td>25 to 34 Years</td>\n      <td>38939</td>\n    </tr>\n    <tr>\n      <th>5553</th>\n      <td>2018</td>\n      <td>Harrisburg, PA</td>\n      <td>25 to 34 Years</td>\n      <td>8620</td>\n    </tr>\n    <tr>\n      <th>5949</th>\n      <td>2018</td>\n      <td>Hartford, CT</td>\n      <td>25 to 34 Years</td>\n      <td>19964</td>\n    </tr>\n    <tr>\n      <th>6345</th>\n      <td>2018</td>\n      <td>Houston, TX</td>\n      <td>25 to 34 Years</td>\n      <td>428263</td>\n    </tr>\n    <tr>\n      <th>6741</th>\n      <td>2018</td>\n      <td>Indianapolis city (balance), IN</td>\n      <td>25 to 34 Years</td>\n      <td>147293</td>\n    </tr>\n    <tr>\n      <th>7137</th>\n      <td>2018</td>\n      <td>Jacksonville, FL</td>\n      <td>25 to 34 Years</td>\n      <td>149930</td>\n    </tr>\n    <tr>\n      <th>7533</th>\n      <td>2018</td>\n      <td>Las Vegas, NV</td>\n      <td>25 to 34 Years</td>\n      <td>90715</td>\n    </tr>\n    <tr>\n      <th>7929</th>\n      <td>2018</td>\n      <td>Los Angeles, CA</td>\n      <td>25 to 34 Years</td>\n      <td>732538</td>\n    </tr>\n    <tr>\n      <th>8325</th>\n      <td>2018</td>\n      <td>Miami, FL</td>\n      <td>25 to 34 Years</td>\n      <td>80956</td>\n    </tr>\n    <tr>\n      <th>8721</th>\n      <td>2018</td>\n      <td>Nashville, NC</td>\n      <td>25 to 34 Years</td>\n      <td>649</td>\n    </tr>\n    <tr>\n      <th>9117</th>\n      <td>2018</td>\n      <td>New Orleans, LA</td>\n      <td>25 to 34 Years</td>\n      <td>69532</td>\n    </tr>\n    <tr>\n      <th>9513</th>\n      <td>2018</td>\n      <td>New York, NY</td>\n      <td>25 to 34 Years</td>\n      <td>1500032</td>\n    </tr>\n    <tr>\n      <th>9909</th>\n      <td>2018</td>\n      <td>Orlando, FL</td>\n      <td>25 to 34 Years</td>\n      <td>69245</td>\n    </tr>\n    <tr>\n      <th>10305</th>\n      <td>2018</td>\n      <td>Philadelphia, PA</td>\n      <td>25 to 34 Years</td>\n      <td>301903</td>\n    </tr>\n    <tr>\n      <th>10701</th>\n      <td>2018</td>\n      <td>Phoenix, AZ</td>\n      <td>25 to 34 Years</td>\n      <td>279670</td>\n    </tr>\n    <tr>\n      <th>11097</th>\n      <td>2018</td>\n      <td>Pittsburgh, PA</td>\n      <td>25 to 34 Years</td>\n      <td>62762</td>\n    </tr>\n    <tr>\n      <th>11493</th>\n      <td>2018</td>\n      <td>Portland, OR</td>\n      <td>25 to 34 Years</td>\n      <td>127379</td>\n    </tr>\n    <tr>\n      <th>11889</th>\n      <td>2018</td>\n      <td>Raleigh, NC</td>\n      <td>25 to 34 Years</td>\n      <td>87433</td>\n    </tr>\n    <tr>\n      <th>12285</th>\n      <td>2018</td>\n      <td>Richmond, VA</td>\n      <td>25 to 34 Years</td>\n      <td>47292</td>\n    </tr>\n    <tr>\n      <th>12681</th>\n      <td>2018</td>\n      <td>Roanoke, VA</td>\n      <td>25 to 34 Years</td>\n      <td>15320</td>\n    </tr>\n    <tr>\n      <th>13077</th>\n      <td>2018</td>\n      <td>Sacramento, CA</td>\n      <td>25 to 34 Years</td>\n      <td>96884</td>\n    </tr>\n    <tr>\n      <th>13473</th>\n      <td>2018</td>\n      <td>San Diego, CA</td>\n      <td>25 to 34 Years</td>\n      <td>266772</td>\n    </tr>\n    <tr>\n      <th>13869</th>\n      <td>2018</td>\n      <td>San Francisco, CA</td>\n      <td>25 to 34 Years</td>\n      <td>207779</td>\n    </tr>\n    <tr>\n      <th>14265</th>\n      <td>2018</td>\n      <td>Seattle, WA</td>\n      <td>25 to 34 Years</td>\n      <td>177548</td>\n    </tr>\n    <tr>\n      <th>14661</th>\n      <td>2018</td>\n      <td>Spokane, WA</td>\n      <td>25 to 34 Years</td>\n      <td>35083</td>\n    </tr>\n    <tr>\n      <th>15057</th>\n      <td>2018</td>\n      <td>St. Louis, MO</td>\n      <td>25 to 34 Years</td>\n      <td>60935</td>\n    </tr>\n    <tr>\n      <th>15453</th>\n      <td>2018</td>\n      <td>Syracuse, NY</td>\n      <td>25 to 34 Years</td>\n      <td>22997</td>\n    </tr>\n    <tr>\n      <th>15849</th>\n      <td>2018</td>\n      <td>Tampa, FL</td>\n      <td>25 to 34 Years</td>\n      <td>69950</td>\n    </tr>\n  </tbody>\n</table>\n</div>"
     },
     "metadata": {},
     "execution_count": 71
    }
   ],
   "source": [
    "#print\n",
    "age_data_2018_df"
   ]
  },
  {
   "cell_type": "code",
   "execution_count": 72,
   "metadata": {},
   "outputs": [],
   "source": [
    "#export DF into a .csv\n",
    "age_data_2018_df.to_csv(\"2018_all_cities_age_data.csv\")"
   ]
  },
  {
   "cell_type": "code",
   "execution_count": null,
   "metadata": {},
   "outputs": [],
   "source": []
  }
 ]
}