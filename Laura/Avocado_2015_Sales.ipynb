{
 "metadata": {
  "language_info": {
   "codemirror_mode": {
    "name": "ipython",
    "version": 3
   },
   "file_extension": ".py",
   "mimetype": "text/x-python",
   "name": "python",
   "nbconvert_exporter": "python",
   "pygments_lexer": "ipython3",
   "version": "3.8.3-final"
  },
  "orig_nbformat": 2,
  "kernelspec": {
   "name": "python3",
   "display_name": "Python 3.8.3 64-bit ('testenvpip': conda)",
   "metadata": {
    "interpreter": {
     "hash": "a0080c69cd0647d7816f420c088e04179d57e8178abcfd660e8662cfa9cbe9e5"
    }
   }
  }
 },
 "nbformat": 4,
 "nbformat_minor": 2,
 "cells": [
  {
   "cell_type": "code",
   "execution_count": 5,
   "metadata": {},
   "outputs": [],
   "source": [
    "#dependencies\n",
    "\n",
    "import pandas as pd"
   ]
  },
  {
   "cell_type": "code",
   "execution_count": 6,
   "metadata": {},
   "outputs": [],
   "source": [
    "#Use Pandas to read data\n",
    "avocado_sales_2015 = pd.read_csv(\"../Resources/clean_avocado.csv\")"
   ]
  },
  {
   "cell_type": "code",
   "execution_count": 7,
   "metadata": {},
   "outputs": [
    {
     "output_type": "execute_result",
     "data": {
      "text/plain": [
       "   Unnamed: 0       Date  AveragePrice  Total Volume     4046      4225  \\\n",
       "0           0   1/4/2015          1.22      40873.28  2819.50  28287.42   \n",
       "1           1  1/11/2015          1.24      41195.08  1002.85  31640.34   \n",
       "2           2  1/18/2015          1.17      44511.28   914.14  31540.32   \n",
       "3           3  1/25/2015          1.06      45147.50   941.38  33196.16   \n",
       "4           4   2/1/2015          0.99      70873.60  1353.90  60017.20   \n",
       "\n",
       "     4770  Total Bags  Small Bags  Large Bags  XLarge Bags          type  \\\n",
       "0   49.90     9716.46     9186.93      529.53          0.0  conventional   \n",
       "1  127.12     8424.77     8036.04      388.73          0.0  conventional   \n",
       "2  135.77    11921.05    11651.09      269.96          0.0  conventional   \n",
       "3  164.14    10845.82    10103.35      742.47          0.0  conventional   \n",
       "4  179.32     9323.18     9170.82      152.36          0.0  conventional   \n",
       "\n",
       "   year  region  \n",
       "0  2015  Albany  \n",
       "1  2015  Albany  \n",
       "2  2015  Albany  \n",
       "3  2015  Albany  \n",
       "4  2015  Albany  "
      ],
      "text/html": "<div>\n<style scoped>\n    .dataframe tbody tr th:only-of-type {\n        vertical-align: middle;\n    }\n\n    .dataframe tbody tr th {\n        vertical-align: top;\n    }\n\n    .dataframe thead th {\n        text-align: right;\n    }\n</style>\n<table border=\"1\" class=\"dataframe\">\n  <thead>\n    <tr style=\"text-align: right;\">\n      <th></th>\n      <th>Unnamed: 0</th>\n      <th>Date</th>\n      <th>AveragePrice</th>\n      <th>Total Volume</th>\n      <th>4046</th>\n      <th>4225</th>\n      <th>4770</th>\n      <th>Total Bags</th>\n      <th>Small Bags</th>\n      <th>Large Bags</th>\n      <th>XLarge Bags</th>\n      <th>type</th>\n      <th>year</th>\n      <th>region</th>\n    </tr>\n  </thead>\n  <tbody>\n    <tr>\n      <th>0</th>\n      <td>0</td>\n      <td>1/4/2015</td>\n      <td>1.22</td>\n      <td>40873.28</td>\n      <td>2819.50</td>\n      <td>28287.42</td>\n      <td>49.90</td>\n      <td>9716.46</td>\n      <td>9186.93</td>\n      <td>529.53</td>\n      <td>0.0</td>\n      <td>conventional</td>\n      <td>2015</td>\n      <td>Albany</td>\n    </tr>\n    <tr>\n      <th>1</th>\n      <td>1</td>\n      <td>1/11/2015</td>\n      <td>1.24</td>\n      <td>41195.08</td>\n      <td>1002.85</td>\n      <td>31640.34</td>\n      <td>127.12</td>\n      <td>8424.77</td>\n      <td>8036.04</td>\n      <td>388.73</td>\n      <td>0.0</td>\n      <td>conventional</td>\n      <td>2015</td>\n      <td>Albany</td>\n    </tr>\n    <tr>\n      <th>2</th>\n      <td>2</td>\n      <td>1/18/2015</td>\n      <td>1.17</td>\n      <td>44511.28</td>\n      <td>914.14</td>\n      <td>31540.32</td>\n      <td>135.77</td>\n      <td>11921.05</td>\n      <td>11651.09</td>\n      <td>269.96</td>\n      <td>0.0</td>\n      <td>conventional</td>\n      <td>2015</td>\n      <td>Albany</td>\n    </tr>\n    <tr>\n      <th>3</th>\n      <td>3</td>\n      <td>1/25/2015</td>\n      <td>1.06</td>\n      <td>45147.50</td>\n      <td>941.38</td>\n      <td>33196.16</td>\n      <td>164.14</td>\n      <td>10845.82</td>\n      <td>10103.35</td>\n      <td>742.47</td>\n      <td>0.0</td>\n      <td>conventional</td>\n      <td>2015</td>\n      <td>Albany</td>\n    </tr>\n    <tr>\n      <th>4</th>\n      <td>4</td>\n      <td>2/1/2015</td>\n      <td>0.99</td>\n      <td>70873.60</td>\n      <td>1353.90</td>\n      <td>60017.20</td>\n      <td>179.32</td>\n      <td>9323.18</td>\n      <td>9170.82</td>\n      <td>152.36</td>\n      <td>0.0</td>\n      <td>conventional</td>\n      <td>2015</td>\n      <td>Albany</td>\n    </tr>\n  </tbody>\n</table>\n</div>"
     },
     "metadata": {},
     "execution_count": 7
    }
   ],
   "source": [
    "#print to view\n",
    "avocado_sales_2015.head()"
   ]
  },
  {
   "cell_type": "code",
   "execution_count": 8,
   "metadata": {},
   "outputs": [
    {
     "output_type": "execute_result",
     "data": {
      "text/plain": [
       "Unnamed: 0      18722\n",
       "Date            18722\n",
       "AveragePrice    18722\n",
       "Total Volume    18722\n",
       "4046            18722\n",
       "4225            18722\n",
       "4770            18722\n",
       "Total Bags      18722\n",
       "Small Bags      18722\n",
       "Large Bags      18722\n",
       "XLarge Bags     18722\n",
       "type            18722\n",
       "year            18722\n",
       "region          18722\n",
       "dtype: int64"
      ]
     },
     "metadata": {},
     "execution_count": 8
    }
   ],
   "source": [
    "#look for missing values\n",
    "#awesome to see!\n",
    "avocado_sales_2015.count() "
   ]
  },
  {
   "cell_type": "code",
   "execution_count": 9,
   "metadata": {},
   "outputs": [
    {
     "output_type": "execute_result",
     "data": {
      "text/plain": [
       "Index(['Unnamed: 0', 'Date', 'AveragePrice', 'Total Volume', '4046', '4225',\n",
       "       '4770', 'Total Bags', 'Small Bags', 'Large Bags', 'XLarge Bags', 'type',\n",
       "       'year', 'region'],\n",
       "      dtype='object')"
      ]
     },
     "metadata": {},
     "execution_count": 9
    }
   ],
   "source": [
    "#get a list of all of our columns for easy reference\n",
    "avocado_sales_2015.columns"
   ]
  },
  {
   "cell_type": "code",
   "execution_count": null,
   "metadata": {},
   "outputs": [],
   "source": [
    "#notes -\n",
    "\n",
    "#need to remove unnamed\n",
    "#do total volume in 2015 by major city by 'year' and 'region'"
   ]
  },
  {
   "cell_type": "code",
   "execution_count": 10,
   "metadata": {},
   "outputs": [],
   "source": [
    "#collect data that includes year 2015 - all cities\n",
    "#'year' == 2015\n",
    "\n",
    "avocado_sales_2015_df = avocado_sales_2015.loc[(avocado_sales_2015[\"year\"] == 2015)]"
   ]
  },
  {
   "cell_type": "code",
   "execution_count": 11,
   "metadata": {},
   "outputs": [
    {
     "output_type": "execute_result",
     "data": {
      "text/plain": [
       "       Unnamed: 0        Date  AveragePrice  Total Volume     4046      4225  \\\n",
       "0               0    1/4/2015          1.22      40873.28  2819.50  28287.42   \n",
       "1               1   1/11/2015          1.24      41195.08  1002.85  31640.34   \n",
       "2               2   1/18/2015          1.17      44511.28   914.14  31540.32   \n",
       "3               3   1/25/2015          1.06      45147.50   941.38  33196.16   \n",
       "4               4    2/1/2015          0.99      70873.60  1353.90  60017.20   \n",
       "...           ...         ...           ...           ...      ...       ...   \n",
       "18516       26359  11/29/2015          1.73       1685.80   791.50      8.85   \n",
       "18517       26360   12/6/2015          1.76       1739.62   919.89     16.40   \n",
       "18518       26361  12/13/2015          1.76       1844.95   947.72     25.19   \n",
       "18519       26362  12/20/2015          1.79       2078.74  1214.10     11.31   \n",
       "18520       26363  12/27/2015          1.63       2161.84   874.75     17.54   \n",
       "\n",
       "         4770  Total Bags  Small Bags  Large Bags  XLarge Bags          type  \\\n",
       "0       49.90     9716.46     9186.93      529.53          0.0  conventional   \n",
       "1      127.12     8424.77     8036.04      388.73          0.0  conventional   \n",
       "2      135.77    11921.05    11651.09      269.96          0.0  conventional   \n",
       "3      164.14    10845.82    10103.35      742.47          0.0  conventional   \n",
       "4      179.32     9323.18     9170.82      152.36          0.0  conventional   \n",
       "...       ...         ...         ...         ...          ...           ...   \n",
       "18516    0.00      885.45      885.45        0.00          0.0       organic   \n",
       "18517    0.00      803.33      803.33        0.00          0.0       organic   \n",
       "18518    0.00      872.04      872.04        0.00          0.0       organic   \n",
       "18519    0.00      853.33      853.33        0.00          0.0       organic   \n",
       "18520    0.00     1269.55     1216.67       52.88          0.0       organic   \n",
       "\n",
       "       year  region  \n",
       "0      2015  Albany  \n",
       "1      2015  Albany  \n",
       "2      2015  Albany  \n",
       "3      2015  Albany  \n",
       "4      2015  Albany  \n",
       "...     ...     ...  \n",
       "18516  2015   Tampa  \n",
       "18517  2015   Tampa  \n",
       "18518  2015   Tampa  \n",
       "18519  2015   Tampa  \n",
       "18520  2015   Tampa  \n",
       "\n",
       "[3848 rows x 14 columns]"
      ],
      "text/html": "<div>\n<style scoped>\n    .dataframe tbody tr th:only-of-type {\n        vertical-align: middle;\n    }\n\n    .dataframe tbody tr th {\n        vertical-align: top;\n    }\n\n    .dataframe thead th {\n        text-align: right;\n    }\n</style>\n<table border=\"1\" class=\"dataframe\">\n  <thead>\n    <tr style=\"text-align: right;\">\n      <th></th>\n      <th>Unnamed: 0</th>\n      <th>Date</th>\n      <th>AveragePrice</th>\n      <th>Total Volume</th>\n      <th>4046</th>\n      <th>4225</th>\n      <th>4770</th>\n      <th>Total Bags</th>\n      <th>Small Bags</th>\n      <th>Large Bags</th>\n      <th>XLarge Bags</th>\n      <th>type</th>\n      <th>year</th>\n      <th>region</th>\n    </tr>\n  </thead>\n  <tbody>\n    <tr>\n      <th>0</th>\n      <td>0</td>\n      <td>1/4/2015</td>\n      <td>1.22</td>\n      <td>40873.28</td>\n      <td>2819.50</td>\n      <td>28287.42</td>\n      <td>49.90</td>\n      <td>9716.46</td>\n      <td>9186.93</td>\n      <td>529.53</td>\n      <td>0.0</td>\n      <td>conventional</td>\n      <td>2015</td>\n      <td>Albany</td>\n    </tr>\n    <tr>\n      <th>1</th>\n      <td>1</td>\n      <td>1/11/2015</td>\n      <td>1.24</td>\n      <td>41195.08</td>\n      <td>1002.85</td>\n      <td>31640.34</td>\n      <td>127.12</td>\n      <td>8424.77</td>\n      <td>8036.04</td>\n      <td>388.73</td>\n      <td>0.0</td>\n      <td>conventional</td>\n      <td>2015</td>\n      <td>Albany</td>\n    </tr>\n    <tr>\n      <th>2</th>\n      <td>2</td>\n      <td>1/18/2015</td>\n      <td>1.17</td>\n      <td>44511.28</td>\n      <td>914.14</td>\n      <td>31540.32</td>\n      <td>135.77</td>\n      <td>11921.05</td>\n      <td>11651.09</td>\n      <td>269.96</td>\n      <td>0.0</td>\n      <td>conventional</td>\n      <td>2015</td>\n      <td>Albany</td>\n    </tr>\n    <tr>\n      <th>3</th>\n      <td>3</td>\n      <td>1/25/2015</td>\n      <td>1.06</td>\n      <td>45147.50</td>\n      <td>941.38</td>\n      <td>33196.16</td>\n      <td>164.14</td>\n      <td>10845.82</td>\n      <td>10103.35</td>\n      <td>742.47</td>\n      <td>0.0</td>\n      <td>conventional</td>\n      <td>2015</td>\n      <td>Albany</td>\n    </tr>\n    <tr>\n      <th>4</th>\n      <td>4</td>\n      <td>2/1/2015</td>\n      <td>0.99</td>\n      <td>70873.60</td>\n      <td>1353.90</td>\n      <td>60017.20</td>\n      <td>179.32</td>\n      <td>9323.18</td>\n      <td>9170.82</td>\n      <td>152.36</td>\n      <td>0.0</td>\n      <td>conventional</td>\n      <td>2015</td>\n      <td>Albany</td>\n    </tr>\n    <tr>\n      <th>...</th>\n      <td>...</td>\n      <td>...</td>\n      <td>...</td>\n      <td>...</td>\n      <td>...</td>\n      <td>...</td>\n      <td>...</td>\n      <td>...</td>\n      <td>...</td>\n      <td>...</td>\n      <td>...</td>\n      <td>...</td>\n      <td>...</td>\n      <td>...</td>\n    </tr>\n    <tr>\n      <th>18516</th>\n      <td>26359</td>\n      <td>11/29/2015</td>\n      <td>1.73</td>\n      <td>1685.80</td>\n      <td>791.50</td>\n      <td>8.85</td>\n      <td>0.00</td>\n      <td>885.45</td>\n      <td>885.45</td>\n      <td>0.00</td>\n      <td>0.0</td>\n      <td>organic</td>\n      <td>2015</td>\n      <td>Tampa</td>\n    </tr>\n    <tr>\n      <th>18517</th>\n      <td>26360</td>\n      <td>12/6/2015</td>\n      <td>1.76</td>\n      <td>1739.62</td>\n      <td>919.89</td>\n      <td>16.40</td>\n      <td>0.00</td>\n      <td>803.33</td>\n      <td>803.33</td>\n      <td>0.00</td>\n      <td>0.0</td>\n      <td>organic</td>\n      <td>2015</td>\n      <td>Tampa</td>\n    </tr>\n    <tr>\n      <th>18518</th>\n      <td>26361</td>\n      <td>12/13/2015</td>\n      <td>1.76</td>\n      <td>1844.95</td>\n      <td>947.72</td>\n      <td>25.19</td>\n      <td>0.00</td>\n      <td>872.04</td>\n      <td>872.04</td>\n      <td>0.00</td>\n      <td>0.0</td>\n      <td>organic</td>\n      <td>2015</td>\n      <td>Tampa</td>\n    </tr>\n    <tr>\n      <th>18519</th>\n      <td>26362</td>\n      <td>12/20/2015</td>\n      <td>1.79</td>\n      <td>2078.74</td>\n      <td>1214.10</td>\n      <td>11.31</td>\n      <td>0.00</td>\n      <td>853.33</td>\n      <td>853.33</td>\n      <td>0.00</td>\n      <td>0.0</td>\n      <td>organic</td>\n      <td>2015</td>\n      <td>Tampa</td>\n    </tr>\n    <tr>\n      <th>18520</th>\n      <td>26363</td>\n      <td>12/27/2015</td>\n      <td>1.63</td>\n      <td>2161.84</td>\n      <td>874.75</td>\n      <td>17.54</td>\n      <td>0.00</td>\n      <td>1269.55</td>\n      <td>1216.67</td>\n      <td>52.88</td>\n      <td>0.0</td>\n      <td>organic</td>\n      <td>2015</td>\n      <td>Tampa</td>\n    </tr>\n  </tbody>\n</table>\n<p>3848 rows × 14 columns</p>\n</div>"
     },
     "metadata": {},
     "execution_count": 11
    }
   ],
   "source": [
    "#print\n",
    "avocado_sales_2015_df"
   ]
  },
  {
   "cell_type": "code",
   "execution_count": 12,
   "metadata": {},
   "outputs": [],
   "source": [
    "#drop column \"Unnamed: 0\"\n",
    "#add at end inplace=True -> to allow panda to edit the original DF\n",
    "avocado_sales_2015_df.drop(columns=[\"Unnamed: 0\"], inplace=True)"
   ]
  },
  {
   "cell_type": "code",
   "execution_count": 13,
   "metadata": {},
   "outputs": [
    {
     "output_type": "execute_result",
     "data": {
      "text/plain": [
       "             Date  AveragePrice  Total Volume     4046      4225    4770  \\\n",
       "0        1/4/2015          1.22      40873.28  2819.50  28287.42   49.90   \n",
       "1       1/11/2015          1.24      41195.08  1002.85  31640.34  127.12   \n",
       "2       1/18/2015          1.17      44511.28   914.14  31540.32  135.77   \n",
       "3       1/25/2015          1.06      45147.50   941.38  33196.16  164.14   \n",
       "4        2/1/2015          0.99      70873.60  1353.90  60017.20  179.32   \n",
       "...           ...           ...           ...      ...       ...     ...   \n",
       "18516  11/29/2015          1.73       1685.80   791.50      8.85    0.00   \n",
       "18517   12/6/2015          1.76       1739.62   919.89     16.40    0.00   \n",
       "18518  12/13/2015          1.76       1844.95   947.72     25.19    0.00   \n",
       "18519  12/20/2015          1.79       2078.74  1214.10     11.31    0.00   \n",
       "18520  12/27/2015          1.63       2161.84   874.75     17.54    0.00   \n",
       "\n",
       "       Total Bags  Small Bags  Large Bags  XLarge Bags          type  year  \\\n",
       "0         9716.46     9186.93      529.53          0.0  conventional  2015   \n",
       "1         8424.77     8036.04      388.73          0.0  conventional  2015   \n",
       "2        11921.05    11651.09      269.96          0.0  conventional  2015   \n",
       "3        10845.82    10103.35      742.47          0.0  conventional  2015   \n",
       "4         9323.18     9170.82      152.36          0.0  conventional  2015   \n",
       "...           ...         ...         ...          ...           ...   ...   \n",
       "18516      885.45      885.45        0.00          0.0       organic  2015   \n",
       "18517      803.33      803.33        0.00          0.0       organic  2015   \n",
       "18518      872.04      872.04        0.00          0.0       organic  2015   \n",
       "18519      853.33      853.33        0.00          0.0       organic  2015   \n",
       "18520     1269.55     1216.67       52.88          0.0       organic  2015   \n",
       "\n",
       "       region  \n",
       "0      Albany  \n",
       "1      Albany  \n",
       "2      Albany  \n",
       "3      Albany  \n",
       "4      Albany  \n",
       "...       ...  \n",
       "18516   Tampa  \n",
       "18517   Tampa  \n",
       "18518   Tampa  \n",
       "18519   Tampa  \n",
       "18520   Tampa  \n",
       "\n",
       "[3848 rows x 13 columns]"
      ],
      "text/html": "<div>\n<style scoped>\n    .dataframe tbody tr th:only-of-type {\n        vertical-align: middle;\n    }\n\n    .dataframe tbody tr th {\n        vertical-align: top;\n    }\n\n    .dataframe thead th {\n        text-align: right;\n    }\n</style>\n<table border=\"1\" class=\"dataframe\">\n  <thead>\n    <tr style=\"text-align: right;\">\n      <th></th>\n      <th>Date</th>\n      <th>AveragePrice</th>\n      <th>Total Volume</th>\n      <th>4046</th>\n      <th>4225</th>\n      <th>4770</th>\n      <th>Total Bags</th>\n      <th>Small Bags</th>\n      <th>Large Bags</th>\n      <th>XLarge Bags</th>\n      <th>type</th>\n      <th>year</th>\n      <th>region</th>\n    </tr>\n  </thead>\n  <tbody>\n    <tr>\n      <th>0</th>\n      <td>1/4/2015</td>\n      <td>1.22</td>\n      <td>40873.28</td>\n      <td>2819.50</td>\n      <td>28287.42</td>\n      <td>49.90</td>\n      <td>9716.46</td>\n      <td>9186.93</td>\n      <td>529.53</td>\n      <td>0.0</td>\n      <td>conventional</td>\n      <td>2015</td>\n      <td>Albany</td>\n    </tr>\n    <tr>\n      <th>1</th>\n      <td>1/11/2015</td>\n      <td>1.24</td>\n      <td>41195.08</td>\n      <td>1002.85</td>\n      <td>31640.34</td>\n      <td>127.12</td>\n      <td>8424.77</td>\n      <td>8036.04</td>\n      <td>388.73</td>\n      <td>0.0</td>\n      <td>conventional</td>\n      <td>2015</td>\n      <td>Albany</td>\n    </tr>\n    <tr>\n      <th>2</th>\n      <td>1/18/2015</td>\n      <td>1.17</td>\n      <td>44511.28</td>\n      <td>914.14</td>\n      <td>31540.32</td>\n      <td>135.77</td>\n      <td>11921.05</td>\n      <td>11651.09</td>\n      <td>269.96</td>\n      <td>0.0</td>\n      <td>conventional</td>\n      <td>2015</td>\n      <td>Albany</td>\n    </tr>\n    <tr>\n      <th>3</th>\n      <td>1/25/2015</td>\n      <td>1.06</td>\n      <td>45147.50</td>\n      <td>941.38</td>\n      <td>33196.16</td>\n      <td>164.14</td>\n      <td>10845.82</td>\n      <td>10103.35</td>\n      <td>742.47</td>\n      <td>0.0</td>\n      <td>conventional</td>\n      <td>2015</td>\n      <td>Albany</td>\n    </tr>\n    <tr>\n      <th>4</th>\n      <td>2/1/2015</td>\n      <td>0.99</td>\n      <td>70873.60</td>\n      <td>1353.90</td>\n      <td>60017.20</td>\n      <td>179.32</td>\n      <td>9323.18</td>\n      <td>9170.82</td>\n      <td>152.36</td>\n      <td>0.0</td>\n      <td>conventional</td>\n      <td>2015</td>\n      <td>Albany</td>\n    </tr>\n    <tr>\n      <th>...</th>\n      <td>...</td>\n      <td>...</td>\n      <td>...</td>\n      <td>...</td>\n      <td>...</td>\n      <td>...</td>\n      <td>...</td>\n      <td>...</td>\n      <td>...</td>\n      <td>...</td>\n      <td>...</td>\n      <td>...</td>\n      <td>...</td>\n    </tr>\n    <tr>\n      <th>18516</th>\n      <td>11/29/2015</td>\n      <td>1.73</td>\n      <td>1685.80</td>\n      <td>791.50</td>\n      <td>8.85</td>\n      <td>0.00</td>\n      <td>885.45</td>\n      <td>885.45</td>\n      <td>0.00</td>\n      <td>0.0</td>\n      <td>organic</td>\n      <td>2015</td>\n      <td>Tampa</td>\n    </tr>\n    <tr>\n      <th>18517</th>\n      <td>12/6/2015</td>\n      <td>1.76</td>\n      <td>1739.62</td>\n      <td>919.89</td>\n      <td>16.40</td>\n      <td>0.00</td>\n      <td>803.33</td>\n      <td>803.33</td>\n      <td>0.00</td>\n      <td>0.0</td>\n      <td>organic</td>\n      <td>2015</td>\n      <td>Tampa</td>\n    </tr>\n    <tr>\n      <th>18518</th>\n      <td>12/13/2015</td>\n      <td>1.76</td>\n      <td>1844.95</td>\n      <td>947.72</td>\n      <td>25.19</td>\n      <td>0.00</td>\n      <td>872.04</td>\n      <td>872.04</td>\n      <td>0.00</td>\n      <td>0.0</td>\n      <td>organic</td>\n      <td>2015</td>\n      <td>Tampa</td>\n    </tr>\n    <tr>\n      <th>18519</th>\n      <td>12/20/2015</td>\n      <td>1.79</td>\n      <td>2078.74</td>\n      <td>1214.10</td>\n      <td>11.31</td>\n      <td>0.00</td>\n      <td>853.33</td>\n      <td>853.33</td>\n      <td>0.00</td>\n      <td>0.0</td>\n      <td>organic</td>\n      <td>2015</td>\n      <td>Tampa</td>\n    </tr>\n    <tr>\n      <th>18520</th>\n      <td>12/27/2015</td>\n      <td>1.63</td>\n      <td>2161.84</td>\n      <td>874.75</td>\n      <td>17.54</td>\n      <td>0.00</td>\n      <td>1269.55</td>\n      <td>1216.67</td>\n      <td>52.88</td>\n      <td>0.0</td>\n      <td>organic</td>\n      <td>2015</td>\n      <td>Tampa</td>\n    </tr>\n  </tbody>\n</table>\n<p>3848 rows × 13 columns</p>\n</div>"
     },
     "metadata": {},
     "execution_count": 13
    }
   ],
   "source": [
    "#print to view\n",
    "avocado_sales_2015_df"
   ]
  },
  {
   "cell_type": "code",
   "execution_count": 14,
   "metadata": {},
   "outputs": [],
   "source": [
    "#export DF into a .csv\n",
    "avocado_sales_2015_df.to_csv(\"avocado_sales_2015.csv\")"
   ]
  },
  {
   "cell_type": "code",
   "execution_count": null,
   "metadata": {},
   "outputs": [],
   "source": []
  }
 ]
}