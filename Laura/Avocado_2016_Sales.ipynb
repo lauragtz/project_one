{
 "metadata": {
  "language_info": {
   "codemirror_mode": {
    "name": "ipython",
    "version": 3
   },
   "file_extension": ".py",
   "mimetype": "text/x-python",
   "name": "python",
   "nbconvert_exporter": "python",
   "pygments_lexer": "ipython3",
   "version": "3.8.3-final"
  },
  "orig_nbformat": 2,
  "kernelspec": {
   "name": "python3",
   "display_name": "Python 3"
  }
 },
 "nbformat": 4,
 "nbformat_minor": 2,
 "cells": [
  {
   "cell_type": "code",
   "execution_count": 1,
   "metadata": {},
   "outputs": [],
   "source": [
    "#dependencies\n",
    "\n",
    "import pandas as pd"
   ]
  },
  {
   "cell_type": "code",
   "execution_count": 2,
   "metadata": {},
   "outputs": [],
   "source": [
    "#Use Pandas to read data\n",
    "avocado_sales_2016 = pd.read_csv(\"../Resources/clean_avocado.csv\")"
   ]
  },
  {
   "cell_type": "code",
   "execution_count": 3,
   "metadata": {},
   "outputs": [
    {
     "output_type": "execute_result",
     "data": {
      "text/plain": [
       "   Unnamed: 0       Date  AveragePrice  Total Volume     4046      4225  \\\n",
       "0           0   1/4/2015          1.22      40873.28  2819.50  28287.42   \n",
       "1           1  1/11/2015          1.24      41195.08  1002.85  31640.34   \n",
       "2           2  1/18/2015          1.17      44511.28   914.14  31540.32   \n",
       "3           3  1/25/2015          1.06      45147.50   941.38  33196.16   \n",
       "4           4   2/1/2015          0.99      70873.60  1353.90  60017.20   \n",
       "\n",
       "     4770  Total Bags  Small Bags  Large Bags  XLarge Bags          type  \\\n",
       "0   49.90     9716.46     9186.93      529.53          0.0  conventional   \n",
       "1  127.12     8424.77     8036.04      388.73          0.0  conventional   \n",
       "2  135.77    11921.05    11651.09      269.96          0.0  conventional   \n",
       "3  164.14    10845.82    10103.35      742.47          0.0  conventional   \n",
       "4  179.32     9323.18     9170.82      152.36          0.0  conventional   \n",
       "\n",
       "   year  region  \n",
       "0  2015  Albany  \n",
       "1  2015  Albany  \n",
       "2  2015  Albany  \n",
       "3  2015  Albany  \n",
       "4  2015  Albany  "
      ],
      "text/html": "<div>\n<style scoped>\n    .dataframe tbody tr th:only-of-type {\n        vertical-align: middle;\n    }\n\n    .dataframe tbody tr th {\n        vertical-align: top;\n    }\n\n    .dataframe thead th {\n        text-align: right;\n    }\n</style>\n<table border=\"1\" class=\"dataframe\">\n  <thead>\n    <tr style=\"text-align: right;\">\n      <th></th>\n      <th>Unnamed: 0</th>\n      <th>Date</th>\n      <th>AveragePrice</th>\n      <th>Total Volume</th>\n      <th>4046</th>\n      <th>4225</th>\n      <th>4770</th>\n      <th>Total Bags</th>\n      <th>Small Bags</th>\n      <th>Large Bags</th>\n      <th>XLarge Bags</th>\n      <th>type</th>\n      <th>year</th>\n      <th>region</th>\n    </tr>\n  </thead>\n  <tbody>\n    <tr>\n      <th>0</th>\n      <td>0</td>\n      <td>1/4/2015</td>\n      <td>1.22</td>\n      <td>40873.28</td>\n      <td>2819.50</td>\n      <td>28287.42</td>\n      <td>49.90</td>\n      <td>9716.46</td>\n      <td>9186.93</td>\n      <td>529.53</td>\n      <td>0.0</td>\n      <td>conventional</td>\n      <td>2015</td>\n      <td>Albany</td>\n    </tr>\n    <tr>\n      <th>1</th>\n      <td>1</td>\n      <td>1/11/2015</td>\n      <td>1.24</td>\n      <td>41195.08</td>\n      <td>1002.85</td>\n      <td>31640.34</td>\n      <td>127.12</td>\n      <td>8424.77</td>\n      <td>8036.04</td>\n      <td>388.73</td>\n      <td>0.0</td>\n      <td>conventional</td>\n      <td>2015</td>\n      <td>Albany</td>\n    </tr>\n    <tr>\n      <th>2</th>\n      <td>2</td>\n      <td>1/18/2015</td>\n      <td>1.17</td>\n      <td>44511.28</td>\n      <td>914.14</td>\n      <td>31540.32</td>\n      <td>135.77</td>\n      <td>11921.05</td>\n      <td>11651.09</td>\n      <td>269.96</td>\n      <td>0.0</td>\n      <td>conventional</td>\n      <td>2015</td>\n      <td>Albany</td>\n    </tr>\n    <tr>\n      <th>3</th>\n      <td>3</td>\n      <td>1/25/2015</td>\n      <td>1.06</td>\n      <td>45147.50</td>\n      <td>941.38</td>\n      <td>33196.16</td>\n      <td>164.14</td>\n      <td>10845.82</td>\n      <td>10103.35</td>\n      <td>742.47</td>\n      <td>0.0</td>\n      <td>conventional</td>\n      <td>2015</td>\n      <td>Albany</td>\n    </tr>\n    <tr>\n      <th>4</th>\n      <td>4</td>\n      <td>2/1/2015</td>\n      <td>0.99</td>\n      <td>70873.60</td>\n      <td>1353.90</td>\n      <td>60017.20</td>\n      <td>179.32</td>\n      <td>9323.18</td>\n      <td>9170.82</td>\n      <td>152.36</td>\n      <td>0.0</td>\n      <td>conventional</td>\n      <td>2015</td>\n      <td>Albany</td>\n    </tr>\n  </tbody>\n</table>\n</div>"
     },
     "metadata": {},
     "execution_count": 3
    }
   ],
   "source": [
    "#print to view\n",
    "avocado_sales_2016.head()"
   ]
  },
  {
   "cell_type": "code",
   "execution_count": 4,
   "metadata": {},
   "outputs": [
    {
     "output_type": "execute_result",
     "data": {
      "text/plain": [
       "Unnamed: 0      18722\n",
       "Date            18722\n",
       "AveragePrice    18722\n",
       "Total Volume    18722\n",
       "4046            18722\n",
       "4225            18722\n",
       "4770            18722\n",
       "Total Bags      18722\n",
       "Small Bags      18722\n",
       "Large Bags      18722\n",
       "XLarge Bags     18722\n",
       "type            18722\n",
       "year            18722\n",
       "region          18722\n",
       "dtype: int64"
      ]
     },
     "metadata": {},
     "execution_count": 4
    }
   ],
   "source": [
    "#look for missing values\n",
    "#awesome to see!\n",
    "avocado_sales_2016.count() "
   ]
  },
  {
   "cell_type": "code",
   "execution_count": 5,
   "metadata": {},
   "outputs": [
    {
     "output_type": "execute_result",
     "data": {
      "text/plain": [
       "Index(['Unnamed: 0', 'Date', 'AveragePrice', 'Total Volume', '4046', '4225',\n",
       "       '4770', 'Total Bags', 'Small Bags', 'Large Bags', 'XLarge Bags', 'type',\n",
       "       'year', 'region'],\n",
       "      dtype='object')"
      ]
     },
     "metadata": {},
     "execution_count": 5
    }
   ],
   "source": [
    "#get a list of all of our columns for easy reference\n",
    "avocado_sales_2016.columns"
   ]
  },
  {
   "cell_type": "code",
   "execution_count": 6,
   "metadata": {},
   "outputs": [],
   "source": [
    "#collect data that includes year 2016 - all cities\n",
    "#'year' == 2016\n",
    "\n",
    "avocado_sales_2016_df = avocado_sales_2016.loc[(avocado_sales_2016[\"year\"] == 2016)]"
   ]
  },
  {
   "cell_type": "code",
   "execution_count": 7,
   "metadata": {},
   "outputs": [
    {
     "output_type": "execute_result",
     "data": {
      "text/plain": [
       "       Unnamed: 0        Date  AveragePrice  Total Volume     4046       4225  \\\n",
       "52             52    1/4/2016          1.03     149038.15   939.71  139735.90   \n",
       "53             53   1/10/2016          1.28      79121.77   848.19   66696.97   \n",
       "54             54   1/17/2016          1.26     119972.41  1202.52  100613.46   \n",
       "55             55   1/24/2016          1.22      96089.13   545.37   70802.56   \n",
       "56             56   1/31/2016          1.16     102038.32  1386.24   79881.67   \n",
       "...           ...         ...           ...           ...      ...        ...   \n",
       "18568       26411  11/27/2016          1.47       4523.75   283.60      34.68   \n",
       "18569       26412   12/4/2016          1.45       4668.39   306.82      50.00   \n",
       "18570       26413  12/11/2016          1.37       5795.54   317.18      16.63   \n",
       "18571       26414  12/18/2016          1.22       6281.56   317.02      46.96   \n",
       "18572       26415  12/25/2016          1.21       6117.58   254.26      25.30   \n",
       "\n",
       "         4770  Total Bags  Small Bags  Large Bags  XLarge Bags          type  \\\n",
       "52     132.35     8230.19     8056.43      173.76          0.0  conventional   \n",
       "53     109.08    11467.53    11293.65      173.88          0.0  conventional   \n",
       "54      51.22    18105.21    17980.53      124.68          0.0  conventional   \n",
       "55      68.41    24672.79    23926.35      746.44          0.0  conventional   \n",
       "56      69.46    20700.95    19788.78      912.17          0.0  conventional   \n",
       "...       ...         ...         ...         ...          ...           ...   \n",
       "18568    0.00     4205.47     2350.00     1855.47          0.0       organic   \n",
       "18569    0.00     4311.57     2263.33     2048.24          0.0       organic   \n",
       "18570    0.00     5461.73     3273.33     2188.40          0.0       organic   \n",
       "18571    0.00     5917.58     3796.67     2120.91          0.0       organic   \n",
       "18572    0.00     5838.02     3800.00     2038.02          0.0       organic   \n",
       "\n",
       "       year  region  \n",
       "52     2016  Albany  \n",
       "53     2016  Albany  \n",
       "54     2016  Albany  \n",
       "55     2016  Albany  \n",
       "56     2016  Albany  \n",
       "...     ...     ...  \n",
       "18568  2016   Tampa  \n",
       "18569  2016   Tampa  \n",
       "18570  2016   Tampa  \n",
       "18571  2016   Tampa  \n",
       "18572  2016   Tampa  \n",
       "\n",
       "[3848 rows x 14 columns]"
      ],
      "text/html": "<div>\n<style scoped>\n    .dataframe tbody tr th:only-of-type {\n        vertical-align: middle;\n    }\n\n    .dataframe tbody tr th {\n        vertical-align: top;\n    }\n\n    .dataframe thead th {\n        text-align: right;\n    }\n</style>\n<table border=\"1\" class=\"dataframe\">\n  <thead>\n    <tr style=\"text-align: right;\">\n      <th></th>\n      <th>Unnamed: 0</th>\n      <th>Date</th>\n      <th>AveragePrice</th>\n      <th>Total Volume</th>\n      <th>4046</th>\n      <th>4225</th>\n      <th>4770</th>\n      <th>Total Bags</th>\n      <th>Small Bags</th>\n      <th>Large Bags</th>\n      <th>XLarge Bags</th>\n      <th>type</th>\n      <th>year</th>\n      <th>region</th>\n    </tr>\n  </thead>\n  <tbody>\n    <tr>\n      <th>52</th>\n      <td>52</td>\n      <td>1/4/2016</td>\n      <td>1.03</td>\n      <td>149038.15</td>\n      <td>939.71</td>\n      <td>139735.90</td>\n      <td>132.35</td>\n      <td>8230.19</td>\n      <td>8056.43</td>\n      <td>173.76</td>\n      <td>0.0</td>\n      <td>conventional</td>\n      <td>2016</td>\n      <td>Albany</td>\n    </tr>\n    <tr>\n      <th>53</th>\n      <td>53</td>\n      <td>1/10/2016</td>\n      <td>1.28</td>\n      <td>79121.77</td>\n      <td>848.19</td>\n      <td>66696.97</td>\n      <td>109.08</td>\n      <td>11467.53</td>\n      <td>11293.65</td>\n      <td>173.88</td>\n      <td>0.0</td>\n      <td>conventional</td>\n      <td>2016</td>\n      <td>Albany</td>\n    </tr>\n    <tr>\n      <th>54</th>\n      <td>54</td>\n      <td>1/17/2016</td>\n      <td>1.26</td>\n      <td>119972.41</td>\n      <td>1202.52</td>\n      <td>100613.46</td>\n      <td>51.22</td>\n      <td>18105.21</td>\n      <td>17980.53</td>\n      <td>124.68</td>\n      <td>0.0</td>\n      <td>conventional</td>\n      <td>2016</td>\n      <td>Albany</td>\n    </tr>\n    <tr>\n      <th>55</th>\n      <td>55</td>\n      <td>1/24/2016</td>\n      <td>1.22</td>\n      <td>96089.13</td>\n      <td>545.37</td>\n      <td>70802.56</td>\n      <td>68.41</td>\n      <td>24672.79</td>\n      <td>23926.35</td>\n      <td>746.44</td>\n      <td>0.0</td>\n      <td>conventional</td>\n      <td>2016</td>\n      <td>Albany</td>\n    </tr>\n    <tr>\n      <th>56</th>\n      <td>56</td>\n      <td>1/31/2016</td>\n      <td>1.16</td>\n      <td>102038.32</td>\n      <td>1386.24</td>\n      <td>79881.67</td>\n      <td>69.46</td>\n      <td>20700.95</td>\n      <td>19788.78</td>\n      <td>912.17</td>\n      <td>0.0</td>\n      <td>conventional</td>\n      <td>2016</td>\n      <td>Albany</td>\n    </tr>\n    <tr>\n      <th>...</th>\n      <td>...</td>\n      <td>...</td>\n      <td>...</td>\n      <td>...</td>\n      <td>...</td>\n      <td>...</td>\n      <td>...</td>\n      <td>...</td>\n      <td>...</td>\n      <td>...</td>\n      <td>...</td>\n      <td>...</td>\n      <td>...</td>\n      <td>...</td>\n    </tr>\n    <tr>\n      <th>18568</th>\n      <td>26411</td>\n      <td>11/27/2016</td>\n      <td>1.47</td>\n      <td>4523.75</td>\n      <td>283.60</td>\n      <td>34.68</td>\n      <td>0.00</td>\n      <td>4205.47</td>\n      <td>2350.00</td>\n      <td>1855.47</td>\n      <td>0.0</td>\n      <td>organic</td>\n      <td>2016</td>\n      <td>Tampa</td>\n    </tr>\n    <tr>\n      <th>18569</th>\n      <td>26412</td>\n      <td>12/4/2016</td>\n      <td>1.45</td>\n      <td>4668.39</td>\n      <td>306.82</td>\n      <td>50.00</td>\n      <td>0.00</td>\n      <td>4311.57</td>\n      <td>2263.33</td>\n      <td>2048.24</td>\n      <td>0.0</td>\n      <td>organic</td>\n      <td>2016</td>\n      <td>Tampa</td>\n    </tr>\n    <tr>\n      <th>18570</th>\n      <td>26413</td>\n      <td>12/11/2016</td>\n      <td>1.37</td>\n      <td>5795.54</td>\n      <td>317.18</td>\n      <td>16.63</td>\n      <td>0.00</td>\n      <td>5461.73</td>\n      <td>3273.33</td>\n      <td>2188.40</td>\n      <td>0.0</td>\n      <td>organic</td>\n      <td>2016</td>\n      <td>Tampa</td>\n    </tr>\n    <tr>\n      <th>18571</th>\n      <td>26414</td>\n      <td>12/18/2016</td>\n      <td>1.22</td>\n      <td>6281.56</td>\n      <td>317.02</td>\n      <td>46.96</td>\n      <td>0.00</td>\n      <td>5917.58</td>\n      <td>3796.67</td>\n      <td>2120.91</td>\n      <td>0.0</td>\n      <td>organic</td>\n      <td>2016</td>\n      <td>Tampa</td>\n    </tr>\n    <tr>\n      <th>18572</th>\n      <td>26415</td>\n      <td>12/25/2016</td>\n      <td>1.21</td>\n      <td>6117.58</td>\n      <td>254.26</td>\n      <td>25.30</td>\n      <td>0.00</td>\n      <td>5838.02</td>\n      <td>3800.00</td>\n      <td>2038.02</td>\n      <td>0.0</td>\n      <td>organic</td>\n      <td>2016</td>\n      <td>Tampa</td>\n    </tr>\n  </tbody>\n</table>\n<p>3848 rows × 14 columns</p>\n</div>"
     },
     "metadata": {},
     "execution_count": 7
    }
   ],
   "source": [
    "#print\n",
    "avocado_sales_2016_df"
   ]
  },
  {
   "cell_type": "code",
   "execution_count": 8,
   "metadata": {},
   "outputs": [],
   "source": [
    "#drop column \"Unnamed: 0\"\n",
    "#add at end inplace=True -> to allow panda to edit the original DF\n",
    "avocado_sales_2016_df.drop(columns=[\"Unnamed: 0\"], inplace=True)"
   ]
  },
  {
   "cell_type": "code",
   "execution_count": 9,
   "metadata": {},
   "outputs": [
    {
     "output_type": "execute_result",
     "data": {
      "text/plain": [
       "             Date  AveragePrice  Total Volume     4046       4225    4770  \\\n",
       "52       1/4/2016          1.03     149038.15   939.71  139735.90  132.35   \n",
       "53      1/10/2016          1.28      79121.77   848.19   66696.97  109.08   \n",
       "54      1/17/2016          1.26     119972.41  1202.52  100613.46   51.22   \n",
       "55      1/24/2016          1.22      96089.13   545.37   70802.56   68.41   \n",
       "56      1/31/2016          1.16     102038.32  1386.24   79881.67   69.46   \n",
       "...           ...           ...           ...      ...        ...     ...   \n",
       "18568  11/27/2016          1.47       4523.75   283.60      34.68    0.00   \n",
       "18569   12/4/2016          1.45       4668.39   306.82      50.00    0.00   \n",
       "18570  12/11/2016          1.37       5795.54   317.18      16.63    0.00   \n",
       "18571  12/18/2016          1.22       6281.56   317.02      46.96    0.00   \n",
       "18572  12/25/2016          1.21       6117.58   254.26      25.30    0.00   \n",
       "\n",
       "       Total Bags  Small Bags  Large Bags  XLarge Bags          type  year  \\\n",
       "52        8230.19     8056.43      173.76          0.0  conventional  2016   \n",
       "53       11467.53    11293.65      173.88          0.0  conventional  2016   \n",
       "54       18105.21    17980.53      124.68          0.0  conventional  2016   \n",
       "55       24672.79    23926.35      746.44          0.0  conventional  2016   \n",
       "56       20700.95    19788.78      912.17          0.0  conventional  2016   \n",
       "...           ...         ...         ...          ...           ...   ...   \n",
       "18568     4205.47     2350.00     1855.47          0.0       organic  2016   \n",
       "18569     4311.57     2263.33     2048.24          0.0       organic  2016   \n",
       "18570     5461.73     3273.33     2188.40          0.0       organic  2016   \n",
       "18571     5917.58     3796.67     2120.91          0.0       organic  2016   \n",
       "18572     5838.02     3800.00     2038.02          0.0       organic  2016   \n",
       "\n",
       "       region  \n",
       "52     Albany  \n",
       "53     Albany  \n",
       "54     Albany  \n",
       "55     Albany  \n",
       "56     Albany  \n",
       "...       ...  \n",
       "18568   Tampa  \n",
       "18569   Tampa  \n",
       "18570   Tampa  \n",
       "18571   Tampa  \n",
       "18572   Tampa  \n",
       "\n",
       "[3848 rows x 13 columns]"
      ],
      "text/html": "<div>\n<style scoped>\n    .dataframe tbody tr th:only-of-type {\n        vertical-align: middle;\n    }\n\n    .dataframe tbody tr th {\n        vertical-align: top;\n    }\n\n    .dataframe thead th {\n        text-align: right;\n    }\n</style>\n<table border=\"1\" class=\"dataframe\">\n  <thead>\n    <tr style=\"text-align: right;\">\n      <th></th>\n      <th>Date</th>\n      <th>AveragePrice</th>\n      <th>Total Volume</th>\n      <th>4046</th>\n      <th>4225</th>\n      <th>4770</th>\n      <th>Total Bags</th>\n      <th>Small Bags</th>\n      <th>Large Bags</th>\n      <th>XLarge Bags</th>\n      <th>type</th>\n      <th>year</th>\n      <th>region</th>\n    </tr>\n  </thead>\n  <tbody>\n    <tr>\n      <th>52</th>\n      <td>1/4/2016</td>\n      <td>1.03</td>\n      <td>149038.15</td>\n      <td>939.71</td>\n      <td>139735.90</td>\n      <td>132.35</td>\n      <td>8230.19</td>\n      <td>8056.43</td>\n      <td>173.76</td>\n      <td>0.0</td>\n      <td>conventional</td>\n      <td>2016</td>\n      <td>Albany</td>\n    </tr>\n    <tr>\n      <th>53</th>\n      <td>1/10/2016</td>\n      <td>1.28</td>\n      <td>79121.77</td>\n      <td>848.19</td>\n      <td>66696.97</td>\n      <td>109.08</td>\n      <td>11467.53</td>\n      <td>11293.65</td>\n      <td>173.88</td>\n      <td>0.0</td>\n      <td>conventional</td>\n      <td>2016</td>\n      <td>Albany</td>\n    </tr>\n    <tr>\n      <th>54</th>\n      <td>1/17/2016</td>\n      <td>1.26</td>\n      <td>119972.41</td>\n      <td>1202.52</td>\n      <td>100613.46</td>\n      <td>51.22</td>\n      <td>18105.21</td>\n      <td>17980.53</td>\n      <td>124.68</td>\n      <td>0.0</td>\n      <td>conventional</td>\n      <td>2016</td>\n      <td>Albany</td>\n    </tr>\n    <tr>\n      <th>55</th>\n      <td>1/24/2016</td>\n      <td>1.22</td>\n      <td>96089.13</td>\n      <td>545.37</td>\n      <td>70802.56</td>\n      <td>68.41</td>\n      <td>24672.79</td>\n      <td>23926.35</td>\n      <td>746.44</td>\n      <td>0.0</td>\n      <td>conventional</td>\n      <td>2016</td>\n      <td>Albany</td>\n    </tr>\n    <tr>\n      <th>56</th>\n      <td>1/31/2016</td>\n      <td>1.16</td>\n      <td>102038.32</td>\n      <td>1386.24</td>\n      <td>79881.67</td>\n      <td>69.46</td>\n      <td>20700.95</td>\n      <td>19788.78</td>\n      <td>912.17</td>\n      <td>0.0</td>\n      <td>conventional</td>\n      <td>2016</td>\n      <td>Albany</td>\n    </tr>\n    <tr>\n      <th>...</th>\n      <td>...</td>\n      <td>...</td>\n      <td>...</td>\n      <td>...</td>\n      <td>...</td>\n      <td>...</td>\n      <td>...</td>\n      <td>...</td>\n      <td>...</td>\n      <td>...</td>\n      <td>...</td>\n      <td>...</td>\n      <td>...</td>\n    </tr>\n    <tr>\n      <th>18568</th>\n      <td>11/27/2016</td>\n      <td>1.47</td>\n      <td>4523.75</td>\n      <td>283.60</td>\n      <td>34.68</td>\n      <td>0.00</td>\n      <td>4205.47</td>\n      <td>2350.00</td>\n      <td>1855.47</td>\n      <td>0.0</td>\n      <td>organic</td>\n      <td>2016</td>\n      <td>Tampa</td>\n    </tr>\n    <tr>\n      <th>18569</th>\n      <td>12/4/2016</td>\n      <td>1.45</td>\n      <td>4668.39</td>\n      <td>306.82</td>\n      <td>50.00</td>\n      <td>0.00</td>\n      <td>4311.57</td>\n      <td>2263.33</td>\n      <td>2048.24</td>\n      <td>0.0</td>\n      <td>organic</td>\n      <td>2016</td>\n      <td>Tampa</td>\n    </tr>\n    <tr>\n      <th>18570</th>\n      <td>12/11/2016</td>\n      <td>1.37</td>\n      <td>5795.54</td>\n      <td>317.18</td>\n      <td>16.63</td>\n      <td>0.00</td>\n      <td>5461.73</td>\n      <td>3273.33</td>\n      <td>2188.40</td>\n      <td>0.0</td>\n      <td>organic</td>\n      <td>2016</td>\n      <td>Tampa</td>\n    </tr>\n    <tr>\n      <th>18571</th>\n      <td>12/18/2016</td>\n      <td>1.22</td>\n      <td>6281.56</td>\n      <td>317.02</td>\n      <td>46.96</td>\n      <td>0.00</td>\n      <td>5917.58</td>\n      <td>3796.67</td>\n      <td>2120.91</td>\n      <td>0.0</td>\n      <td>organic</td>\n      <td>2016</td>\n      <td>Tampa</td>\n    </tr>\n    <tr>\n      <th>18572</th>\n      <td>12/25/2016</td>\n      <td>1.21</td>\n      <td>6117.58</td>\n      <td>254.26</td>\n      <td>25.30</td>\n      <td>0.00</td>\n      <td>5838.02</td>\n      <td>3800.00</td>\n      <td>2038.02</td>\n      <td>0.0</td>\n      <td>organic</td>\n      <td>2016</td>\n      <td>Tampa</td>\n    </tr>\n  </tbody>\n</table>\n<p>3848 rows × 13 columns</p>\n</div>"
     },
     "metadata": {},
     "execution_count": 9
    }
   ],
   "source": [
    "#print to view\n",
    "avocado_sales_2016_df"
   ]
  },
  {
   "cell_type": "code",
   "execution_count": 10,
   "metadata": {},
   "outputs": [],
   "source": [
    "#export DF into a .csv\n",
    "avocado_sales_2016_df.to_csv(\"avocado_sales_2016.csv\")"
   ]
  },
  {
   "cell_type": "code",
   "execution_count": null,
   "metadata": {},
   "outputs": [],
   "source": []
  }
 ]
}