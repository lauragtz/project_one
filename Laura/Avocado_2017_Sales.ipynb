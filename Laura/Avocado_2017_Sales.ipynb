{
 "metadata": {
  "language_info": {
   "codemirror_mode": {
    "name": "ipython",
    "version": 3
   },
   "file_extension": ".py",
   "mimetype": "text/x-python",
   "name": "python",
   "nbconvert_exporter": "python",
   "pygments_lexer": "ipython3",
   "version": "3.8.3-final"
  },
  "orig_nbformat": 2,
  "kernelspec": {
   "name": "python3",
   "display_name": "Python 3"
  }
 },
 "nbformat": 4,
 "nbformat_minor": 2,
 "cells": [
  {
   "cell_type": "code",
   "execution_count": 1,
   "metadata": {},
   "outputs": [],
   "source": [
    "#dependencies\n",
    "\n",
    "import pandas as pd"
   ]
  },
  {
   "cell_type": "code",
   "execution_count": 2,
   "metadata": {},
   "outputs": [],
   "source": [
    "#Use Pandas to read data\n",
    "avocado_sales_2017 = pd.read_csv(\"../Resources/clean_avocado.csv\")"
   ]
  },
  {
   "cell_type": "code",
   "execution_count": 3,
   "metadata": {},
   "outputs": [
    {
     "output_type": "execute_result",
     "data": {
      "text/plain": [
       "   Unnamed: 0       Date  AveragePrice  Total Volume     4046      4225  \\\n",
       "0           0   1/4/2015          1.22      40873.28  2819.50  28287.42   \n",
       "1           1  1/11/2015          1.24      41195.08  1002.85  31640.34   \n",
       "2           2  1/18/2015          1.17      44511.28   914.14  31540.32   \n",
       "3           3  1/25/2015          1.06      45147.50   941.38  33196.16   \n",
       "4           4   2/1/2015          0.99      70873.60  1353.90  60017.20   \n",
       "\n",
       "     4770  Total Bags  Small Bags  Large Bags  XLarge Bags          type  \\\n",
       "0   49.90     9716.46     9186.93      529.53          0.0  conventional   \n",
       "1  127.12     8424.77     8036.04      388.73          0.0  conventional   \n",
       "2  135.77    11921.05    11651.09      269.96          0.0  conventional   \n",
       "3  164.14    10845.82    10103.35      742.47          0.0  conventional   \n",
       "4  179.32     9323.18     9170.82      152.36          0.0  conventional   \n",
       "\n",
       "   year  region  \n",
       "0  2015  Albany  \n",
       "1  2015  Albany  \n",
       "2  2015  Albany  \n",
       "3  2015  Albany  \n",
       "4  2015  Albany  "
      ],
      "text/html": "<div>\n<style scoped>\n    .dataframe tbody tr th:only-of-type {\n        vertical-align: middle;\n    }\n\n    .dataframe tbody tr th {\n        vertical-align: top;\n    }\n\n    .dataframe thead th {\n        text-align: right;\n    }\n</style>\n<table border=\"1\" class=\"dataframe\">\n  <thead>\n    <tr style=\"text-align: right;\">\n      <th></th>\n      <th>Unnamed: 0</th>\n      <th>Date</th>\n      <th>AveragePrice</th>\n      <th>Total Volume</th>\n      <th>4046</th>\n      <th>4225</th>\n      <th>4770</th>\n      <th>Total Bags</th>\n      <th>Small Bags</th>\n      <th>Large Bags</th>\n      <th>XLarge Bags</th>\n      <th>type</th>\n      <th>year</th>\n      <th>region</th>\n    </tr>\n  </thead>\n  <tbody>\n    <tr>\n      <th>0</th>\n      <td>0</td>\n      <td>1/4/2015</td>\n      <td>1.22</td>\n      <td>40873.28</td>\n      <td>2819.50</td>\n      <td>28287.42</td>\n      <td>49.90</td>\n      <td>9716.46</td>\n      <td>9186.93</td>\n      <td>529.53</td>\n      <td>0.0</td>\n      <td>conventional</td>\n      <td>2015</td>\n      <td>Albany</td>\n    </tr>\n    <tr>\n      <th>1</th>\n      <td>1</td>\n      <td>1/11/2015</td>\n      <td>1.24</td>\n      <td>41195.08</td>\n      <td>1002.85</td>\n      <td>31640.34</td>\n      <td>127.12</td>\n      <td>8424.77</td>\n      <td>8036.04</td>\n      <td>388.73</td>\n      <td>0.0</td>\n      <td>conventional</td>\n      <td>2015</td>\n      <td>Albany</td>\n    </tr>\n    <tr>\n      <th>2</th>\n      <td>2</td>\n      <td>1/18/2015</td>\n      <td>1.17</td>\n      <td>44511.28</td>\n      <td>914.14</td>\n      <td>31540.32</td>\n      <td>135.77</td>\n      <td>11921.05</td>\n      <td>11651.09</td>\n      <td>269.96</td>\n      <td>0.0</td>\n      <td>conventional</td>\n      <td>2015</td>\n      <td>Albany</td>\n    </tr>\n    <tr>\n      <th>3</th>\n      <td>3</td>\n      <td>1/25/2015</td>\n      <td>1.06</td>\n      <td>45147.50</td>\n      <td>941.38</td>\n      <td>33196.16</td>\n      <td>164.14</td>\n      <td>10845.82</td>\n      <td>10103.35</td>\n      <td>742.47</td>\n      <td>0.0</td>\n      <td>conventional</td>\n      <td>2015</td>\n      <td>Albany</td>\n    </tr>\n    <tr>\n      <th>4</th>\n      <td>4</td>\n      <td>2/1/2015</td>\n      <td>0.99</td>\n      <td>70873.60</td>\n      <td>1353.90</td>\n      <td>60017.20</td>\n      <td>179.32</td>\n      <td>9323.18</td>\n      <td>9170.82</td>\n      <td>152.36</td>\n      <td>0.0</td>\n      <td>conventional</td>\n      <td>2015</td>\n      <td>Albany</td>\n    </tr>\n  </tbody>\n</table>\n</div>"
     },
     "metadata": {},
     "execution_count": 3
    }
   ],
   "source": [
    "#print to view\n",
    "avocado_sales_2017.head()"
   ]
  },
  {
   "cell_type": "code",
   "execution_count": 4,
   "metadata": {},
   "outputs": [
    {
     "output_type": "execute_result",
     "data": {
      "text/plain": [
       "Unnamed: 0      18722\n",
       "Date            18722\n",
       "AveragePrice    18722\n",
       "Total Volume    18722\n",
       "4046            18722\n",
       "4225            18722\n",
       "4770            18722\n",
       "Total Bags      18722\n",
       "Small Bags      18722\n",
       "Large Bags      18722\n",
       "XLarge Bags     18722\n",
       "type            18722\n",
       "year            18722\n",
       "region          18722\n",
       "dtype: int64"
      ]
     },
     "metadata": {},
     "execution_count": 4
    }
   ],
   "source": [
    "#look for missing values\n",
    "#awesome to see!\n",
    "avocado_sales_2017.count() "
   ]
  },
  {
   "cell_type": "code",
   "execution_count": 5,
   "metadata": {},
   "outputs": [
    {
     "output_type": "execute_result",
     "data": {
      "text/plain": [
       "Index(['Unnamed: 0', 'Date', 'AveragePrice', 'Total Volume', '4046', '4225',\n",
       "       '4770', 'Total Bags', 'Small Bags', 'Large Bags', 'XLarge Bags', 'type',\n",
       "       'year', 'region'],\n",
       "      dtype='object')"
      ]
     },
     "metadata": {},
     "execution_count": 5
    }
   ],
   "source": [
    "#get a list of all of our columns for easy reference\n",
    "avocado_sales_2017.columns"
   ]
  },
  {
   "cell_type": "code",
   "execution_count": 7,
   "metadata": {},
   "outputs": [],
   "source": [
    "#collect data that includes year 2017 - all cities\n",
    "#'year' == 2017\n",
    "\n",
    "avocado_sales_2017_df = avocado_sales_2017.loc[(avocado_sales_2017[\"year\"] == 2017)]"
   ]
  },
  {
   "cell_type": "code",
   "execution_count": 8,
   "metadata": {},
   "outputs": [
    {
     "output_type": "execute_result",
     "data": {
      "text/plain": [
       "       Unnamed: 0        Date  AveragePrice  Total Volume     4046       4225  \\\n",
       "104           104    1/2/2017          1.47     129948.23  4845.77  117027.41   \n",
       "105           105    1/8/2017          1.55      91728.18  3355.47   75641.23   \n",
       "106           106   1/15/2017          1.55      88526.26  3327.65   71956.77   \n",
       "107           107   1/22/2017          1.59     128679.24  4119.94  111173.08   \n",
       "108           108   1/29/2017          1.31      95424.59  3844.62   78315.15   \n",
       "...           ...         ...           ...           ...      ...        ...   \n",
       "18620       26463  11/26/2017          1.58       5007.93    46.18     383.97   \n",
       "18621       26464   12/3/2017          1.61       4677.74    40.64     534.88   \n",
       "18622       26465  12/10/2017          1.56       5580.67    27.66     438.56   \n",
       "18623       26466  12/17/2017          1.58       5609.58    65.61     564.27   \n",
       "18624       26467  12/24/2017          1.64       7369.95   107.68     672.37   \n",
       "\n",
       "          4770  Total Bags  Small Bags  Large Bags  XLarge Bags          type  \\\n",
       "104     200.36     7874.69     7866.86        7.83         0.00  conventional   \n",
       "105      56.91    12674.57    12606.67       67.90         0.00  conventional   \n",
       "106     607.03    12634.81    12574.72       60.09         0.00  conventional   \n",
       "107    2191.71    11194.51    11060.19      125.50         8.82  conventional   \n",
       "108     484.56    12780.26    12393.84      382.06         4.36  conventional   \n",
       "...        ...         ...         ...         ...          ...           ...   \n",
       "18620     0.00     4577.78     4567.78       10.00         0.00       organic   \n",
       "18621     0.00     4102.22     4091.12       11.10         0.00       organic   \n",
       "18622     0.00     5114.45     5111.12        3.33         0.00       organic   \n",
       "18623     0.00     4979.70     4912.21       67.49         0.00       organic   \n",
       "18624     0.00     6589.90     5882.22      707.68         0.00       organic   \n",
       "\n",
       "       year  region  \n",
       "104    2017  Albany  \n",
       "105    2017  Albany  \n",
       "106    2017  Albany  \n",
       "107    2017  Albany  \n",
       "108    2017  Albany  \n",
       "...     ...     ...  \n",
       "18620  2017   Tampa  \n",
       "18621  2017   Tampa  \n",
       "18622  2017   Tampa  \n",
       "18623  2017   Tampa  \n",
       "18624  2017   Tampa  \n",
       "\n",
       "[3848 rows x 14 columns]"
      ],
      "text/html": "<div>\n<style scoped>\n    .dataframe tbody tr th:only-of-type {\n        vertical-align: middle;\n    }\n\n    .dataframe tbody tr th {\n        vertical-align: top;\n    }\n\n    .dataframe thead th {\n        text-align: right;\n    }\n</style>\n<table border=\"1\" class=\"dataframe\">\n  <thead>\n    <tr style=\"text-align: right;\">\n      <th></th>\n      <th>Unnamed: 0</th>\n      <th>Date</th>\n      <th>AveragePrice</th>\n      <th>Total Volume</th>\n      <th>4046</th>\n      <th>4225</th>\n      <th>4770</th>\n      <th>Total Bags</th>\n      <th>Small Bags</th>\n      <th>Large Bags</th>\n      <th>XLarge Bags</th>\n      <th>type</th>\n      <th>year</th>\n      <th>region</th>\n    </tr>\n  </thead>\n  <tbody>\n    <tr>\n      <th>104</th>\n      <td>104</td>\n      <td>1/2/2017</td>\n      <td>1.47</td>\n      <td>129948.23</td>\n      <td>4845.77</td>\n      <td>117027.41</td>\n      <td>200.36</td>\n      <td>7874.69</td>\n      <td>7866.86</td>\n      <td>7.83</td>\n      <td>0.00</td>\n      <td>conventional</td>\n      <td>2017</td>\n      <td>Albany</td>\n    </tr>\n    <tr>\n      <th>105</th>\n      <td>105</td>\n      <td>1/8/2017</td>\n      <td>1.55</td>\n      <td>91728.18</td>\n      <td>3355.47</td>\n      <td>75641.23</td>\n      <td>56.91</td>\n      <td>12674.57</td>\n      <td>12606.67</td>\n      <td>67.90</td>\n      <td>0.00</td>\n      <td>conventional</td>\n      <td>2017</td>\n      <td>Albany</td>\n    </tr>\n    <tr>\n      <th>106</th>\n      <td>106</td>\n      <td>1/15/2017</td>\n      <td>1.55</td>\n      <td>88526.26</td>\n      <td>3327.65</td>\n      <td>71956.77</td>\n      <td>607.03</td>\n      <td>12634.81</td>\n      <td>12574.72</td>\n      <td>60.09</td>\n      <td>0.00</td>\n      <td>conventional</td>\n      <td>2017</td>\n      <td>Albany</td>\n    </tr>\n    <tr>\n      <th>107</th>\n      <td>107</td>\n      <td>1/22/2017</td>\n      <td>1.59</td>\n      <td>128679.24</td>\n      <td>4119.94</td>\n      <td>111173.08</td>\n      <td>2191.71</td>\n      <td>11194.51</td>\n      <td>11060.19</td>\n      <td>125.50</td>\n      <td>8.82</td>\n      <td>conventional</td>\n      <td>2017</td>\n      <td>Albany</td>\n    </tr>\n    <tr>\n      <th>108</th>\n      <td>108</td>\n      <td>1/29/2017</td>\n      <td>1.31</td>\n      <td>95424.59</td>\n      <td>3844.62</td>\n      <td>78315.15</td>\n      <td>484.56</td>\n      <td>12780.26</td>\n      <td>12393.84</td>\n      <td>382.06</td>\n      <td>4.36</td>\n      <td>conventional</td>\n      <td>2017</td>\n      <td>Albany</td>\n    </tr>\n    <tr>\n      <th>...</th>\n      <td>...</td>\n      <td>...</td>\n      <td>...</td>\n      <td>...</td>\n      <td>...</td>\n      <td>...</td>\n      <td>...</td>\n      <td>...</td>\n      <td>...</td>\n      <td>...</td>\n      <td>...</td>\n      <td>...</td>\n      <td>...</td>\n      <td>...</td>\n    </tr>\n    <tr>\n      <th>18620</th>\n      <td>26463</td>\n      <td>11/26/2017</td>\n      <td>1.58</td>\n      <td>5007.93</td>\n      <td>46.18</td>\n      <td>383.97</td>\n      <td>0.00</td>\n      <td>4577.78</td>\n      <td>4567.78</td>\n      <td>10.00</td>\n      <td>0.00</td>\n      <td>organic</td>\n      <td>2017</td>\n      <td>Tampa</td>\n    </tr>\n    <tr>\n      <th>18621</th>\n      <td>26464</td>\n      <td>12/3/2017</td>\n      <td>1.61</td>\n      <td>4677.74</td>\n      <td>40.64</td>\n      <td>534.88</td>\n      <td>0.00</td>\n      <td>4102.22</td>\n      <td>4091.12</td>\n      <td>11.10</td>\n      <td>0.00</td>\n      <td>organic</td>\n      <td>2017</td>\n      <td>Tampa</td>\n    </tr>\n    <tr>\n      <th>18622</th>\n      <td>26465</td>\n      <td>12/10/2017</td>\n      <td>1.56</td>\n      <td>5580.67</td>\n      <td>27.66</td>\n      <td>438.56</td>\n      <td>0.00</td>\n      <td>5114.45</td>\n      <td>5111.12</td>\n      <td>3.33</td>\n      <td>0.00</td>\n      <td>organic</td>\n      <td>2017</td>\n      <td>Tampa</td>\n    </tr>\n    <tr>\n      <th>18623</th>\n      <td>26466</td>\n      <td>12/17/2017</td>\n      <td>1.58</td>\n      <td>5609.58</td>\n      <td>65.61</td>\n      <td>564.27</td>\n      <td>0.00</td>\n      <td>4979.70</td>\n      <td>4912.21</td>\n      <td>67.49</td>\n      <td>0.00</td>\n      <td>organic</td>\n      <td>2017</td>\n      <td>Tampa</td>\n    </tr>\n    <tr>\n      <th>18624</th>\n      <td>26467</td>\n      <td>12/24/2017</td>\n      <td>1.64</td>\n      <td>7369.95</td>\n      <td>107.68</td>\n      <td>672.37</td>\n      <td>0.00</td>\n      <td>6589.90</td>\n      <td>5882.22</td>\n      <td>707.68</td>\n      <td>0.00</td>\n      <td>organic</td>\n      <td>2017</td>\n      <td>Tampa</td>\n    </tr>\n  </tbody>\n</table>\n<p>3848 rows × 14 columns</p>\n</div>"
     },
     "metadata": {},
     "execution_count": 8
    }
   ],
   "source": [
    "#print\n",
    "avocado_sales_2017_df"
   ]
  },
  {
   "cell_type": "code",
   "execution_count": 9,
   "metadata": {},
   "outputs": [],
   "source": [
    "#drop column \"Unnamed: 0\"\n",
    "#add at end inplace=True -> to allow panda to edit the original DF\n",
    "avocado_sales_2017_df.drop(columns=[\"Unnamed: 0\"], inplace=True)"
   ]
  },
  {
   "cell_type": "code",
   "execution_count": 10,
   "metadata": {},
   "outputs": [
    {
     "output_type": "execute_result",
     "data": {
      "text/plain": [
       "             Date  AveragePrice  Total Volume     4046       4225     4770  \\\n",
       "104      1/2/2017          1.47     129948.23  4845.77  117027.41   200.36   \n",
       "105      1/8/2017          1.55      91728.18  3355.47   75641.23    56.91   \n",
       "106     1/15/2017          1.55      88526.26  3327.65   71956.77   607.03   \n",
       "107     1/22/2017          1.59     128679.24  4119.94  111173.08  2191.71   \n",
       "108     1/29/2017          1.31      95424.59  3844.62   78315.15   484.56   \n",
       "...           ...           ...           ...      ...        ...      ...   \n",
       "18620  11/26/2017          1.58       5007.93    46.18     383.97     0.00   \n",
       "18621   12/3/2017          1.61       4677.74    40.64     534.88     0.00   \n",
       "18622  12/10/2017          1.56       5580.67    27.66     438.56     0.00   \n",
       "18623  12/17/2017          1.58       5609.58    65.61     564.27     0.00   \n",
       "18624  12/24/2017          1.64       7369.95   107.68     672.37     0.00   \n",
       "\n",
       "       Total Bags  Small Bags  Large Bags  XLarge Bags          type  year  \\\n",
       "104       7874.69     7866.86        7.83         0.00  conventional  2017   \n",
       "105      12674.57    12606.67       67.90         0.00  conventional  2017   \n",
       "106      12634.81    12574.72       60.09         0.00  conventional  2017   \n",
       "107      11194.51    11060.19      125.50         8.82  conventional  2017   \n",
       "108      12780.26    12393.84      382.06         4.36  conventional  2017   \n",
       "...           ...         ...         ...          ...           ...   ...   \n",
       "18620     4577.78     4567.78       10.00         0.00       organic  2017   \n",
       "18621     4102.22     4091.12       11.10         0.00       organic  2017   \n",
       "18622     5114.45     5111.12        3.33         0.00       organic  2017   \n",
       "18623     4979.70     4912.21       67.49         0.00       organic  2017   \n",
       "18624     6589.90     5882.22      707.68         0.00       organic  2017   \n",
       "\n",
       "       region  \n",
       "104    Albany  \n",
       "105    Albany  \n",
       "106    Albany  \n",
       "107    Albany  \n",
       "108    Albany  \n",
       "...       ...  \n",
       "18620   Tampa  \n",
       "18621   Tampa  \n",
       "18622   Tampa  \n",
       "18623   Tampa  \n",
       "18624   Tampa  \n",
       "\n",
       "[3848 rows x 13 columns]"
      ],
      "text/html": "<div>\n<style scoped>\n    .dataframe tbody tr th:only-of-type {\n        vertical-align: middle;\n    }\n\n    .dataframe tbody tr th {\n        vertical-align: top;\n    }\n\n    .dataframe thead th {\n        text-align: right;\n    }\n</style>\n<table border=\"1\" class=\"dataframe\">\n  <thead>\n    <tr style=\"text-align: right;\">\n      <th></th>\n      <th>Date</th>\n      <th>AveragePrice</th>\n      <th>Total Volume</th>\n      <th>4046</th>\n      <th>4225</th>\n      <th>4770</th>\n      <th>Total Bags</th>\n      <th>Small Bags</th>\n      <th>Large Bags</th>\n      <th>XLarge Bags</th>\n      <th>type</th>\n      <th>year</th>\n      <th>region</th>\n    </tr>\n  </thead>\n  <tbody>\n    <tr>\n      <th>104</th>\n      <td>1/2/2017</td>\n      <td>1.47</td>\n      <td>129948.23</td>\n      <td>4845.77</td>\n      <td>117027.41</td>\n      <td>200.36</td>\n      <td>7874.69</td>\n      <td>7866.86</td>\n      <td>7.83</td>\n      <td>0.00</td>\n      <td>conventional</td>\n      <td>2017</td>\n      <td>Albany</td>\n    </tr>\n    <tr>\n      <th>105</th>\n      <td>1/8/2017</td>\n      <td>1.55</td>\n      <td>91728.18</td>\n      <td>3355.47</td>\n      <td>75641.23</td>\n      <td>56.91</td>\n      <td>12674.57</td>\n      <td>12606.67</td>\n      <td>67.90</td>\n      <td>0.00</td>\n      <td>conventional</td>\n      <td>2017</td>\n      <td>Albany</td>\n    </tr>\n    <tr>\n      <th>106</th>\n      <td>1/15/2017</td>\n      <td>1.55</td>\n      <td>88526.26</td>\n      <td>3327.65</td>\n      <td>71956.77</td>\n      <td>607.03</td>\n      <td>12634.81</td>\n      <td>12574.72</td>\n      <td>60.09</td>\n      <td>0.00</td>\n      <td>conventional</td>\n      <td>2017</td>\n      <td>Albany</td>\n    </tr>\n    <tr>\n      <th>107</th>\n      <td>1/22/2017</td>\n      <td>1.59</td>\n      <td>128679.24</td>\n      <td>4119.94</td>\n      <td>111173.08</td>\n      <td>2191.71</td>\n      <td>11194.51</td>\n      <td>11060.19</td>\n      <td>125.50</td>\n      <td>8.82</td>\n      <td>conventional</td>\n      <td>2017</td>\n      <td>Albany</td>\n    </tr>\n    <tr>\n      <th>108</th>\n      <td>1/29/2017</td>\n      <td>1.31</td>\n      <td>95424.59</td>\n      <td>3844.62</td>\n      <td>78315.15</td>\n      <td>484.56</td>\n      <td>12780.26</td>\n      <td>12393.84</td>\n      <td>382.06</td>\n      <td>4.36</td>\n      <td>conventional</td>\n      <td>2017</td>\n      <td>Albany</td>\n    </tr>\n    <tr>\n      <th>...</th>\n      <td>...</td>\n      <td>...</td>\n      <td>...</td>\n      <td>...</td>\n      <td>...</td>\n      <td>...</td>\n      <td>...</td>\n      <td>...</td>\n      <td>...</td>\n      <td>...</td>\n      <td>...</td>\n      <td>...</td>\n      <td>...</td>\n    </tr>\n    <tr>\n      <th>18620</th>\n      <td>11/26/2017</td>\n      <td>1.58</td>\n      <td>5007.93</td>\n      <td>46.18</td>\n      <td>383.97</td>\n      <td>0.00</td>\n      <td>4577.78</td>\n      <td>4567.78</td>\n      <td>10.00</td>\n      <td>0.00</td>\n      <td>organic</td>\n      <td>2017</td>\n      <td>Tampa</td>\n    </tr>\n    <tr>\n      <th>18621</th>\n      <td>12/3/2017</td>\n      <td>1.61</td>\n      <td>4677.74</td>\n      <td>40.64</td>\n      <td>534.88</td>\n      <td>0.00</td>\n      <td>4102.22</td>\n      <td>4091.12</td>\n      <td>11.10</td>\n      <td>0.00</td>\n      <td>organic</td>\n      <td>2017</td>\n      <td>Tampa</td>\n    </tr>\n    <tr>\n      <th>18622</th>\n      <td>12/10/2017</td>\n      <td>1.56</td>\n      <td>5580.67</td>\n      <td>27.66</td>\n      <td>438.56</td>\n      <td>0.00</td>\n      <td>5114.45</td>\n      <td>5111.12</td>\n      <td>3.33</td>\n      <td>0.00</td>\n      <td>organic</td>\n      <td>2017</td>\n      <td>Tampa</td>\n    </tr>\n    <tr>\n      <th>18623</th>\n      <td>12/17/2017</td>\n      <td>1.58</td>\n      <td>5609.58</td>\n      <td>65.61</td>\n      <td>564.27</td>\n      <td>0.00</td>\n      <td>4979.70</td>\n      <td>4912.21</td>\n      <td>67.49</td>\n      <td>0.00</td>\n      <td>organic</td>\n      <td>2017</td>\n      <td>Tampa</td>\n    </tr>\n    <tr>\n      <th>18624</th>\n      <td>12/24/2017</td>\n      <td>1.64</td>\n      <td>7369.95</td>\n      <td>107.68</td>\n      <td>672.37</td>\n      <td>0.00</td>\n      <td>6589.90</td>\n      <td>5882.22</td>\n      <td>707.68</td>\n      <td>0.00</td>\n      <td>organic</td>\n      <td>2017</td>\n      <td>Tampa</td>\n    </tr>\n  </tbody>\n</table>\n<p>3848 rows × 13 columns</p>\n</div>"
     },
     "metadata": {},
     "execution_count": 10
    }
   ],
   "source": [
    "#print to view\n",
    "avocado_sales_2017_df"
   ]
  },
  {
   "cell_type": "code",
   "execution_count": 11,
   "metadata": {},
   "outputs": [],
   "source": [
    "#export DF into a .csv\n",
    "avocado_sales_2017_df.to_csv(\"avocado_sales_2017.csv\")"
   ]
  },
  {
   "cell_type": "code",
   "execution_count": null,
   "metadata": {},
   "outputs": [],
   "source": []
  }
 ]
}