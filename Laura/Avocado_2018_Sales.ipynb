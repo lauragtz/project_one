{
 "metadata": {
  "language_info": {
   "codemirror_mode": {
    "name": "ipython",
    "version": 3
   },
   "file_extension": ".py",
   "mimetype": "text/x-python",
   "name": "python",
   "nbconvert_exporter": "python",
   "pygments_lexer": "ipython3",
   "version": "3.8.3-final"
  },
  "orig_nbformat": 2,
  "kernelspec": {
   "name": "python3",
   "display_name": "Python 3"
  }
 },
 "nbformat": 4,
 "nbformat_minor": 2,
 "cells": [
  {
   "cell_type": "code",
   "execution_count": 1,
   "metadata": {},
   "outputs": [],
   "source": [
    "#dependencies\n",
    "\n",
    "import pandas as pd"
   ]
  },
  {
   "cell_type": "code",
   "execution_count": 2,
   "metadata": {},
   "outputs": [],
   "source": [
    "#Use Pandas to read data\n",
    "avocado_sales_2018 = pd.read_csv(\"../Resources/clean_avocado.csv\")"
   ]
  },
  {
   "cell_type": "code",
   "execution_count": 3,
   "metadata": {},
   "outputs": [
    {
     "output_type": "execute_result",
     "data": {
      "text/plain": [
       "   Unnamed: 0       Date  AveragePrice  Total Volume     4046      4225  \\\n",
       "0           0   1/4/2015          1.22      40873.28  2819.50  28287.42   \n",
       "1           1  1/11/2015          1.24      41195.08  1002.85  31640.34   \n",
       "2           2  1/18/2015          1.17      44511.28   914.14  31540.32   \n",
       "3           3  1/25/2015          1.06      45147.50   941.38  33196.16   \n",
       "4           4   2/1/2015          0.99      70873.60  1353.90  60017.20   \n",
       "\n",
       "     4770  Total Bags  Small Bags  Large Bags  XLarge Bags          type  \\\n",
       "0   49.90     9716.46     9186.93      529.53          0.0  conventional   \n",
       "1  127.12     8424.77     8036.04      388.73          0.0  conventional   \n",
       "2  135.77    11921.05    11651.09      269.96          0.0  conventional   \n",
       "3  164.14    10845.82    10103.35      742.47          0.0  conventional   \n",
       "4  179.32     9323.18     9170.82      152.36          0.0  conventional   \n",
       "\n",
       "   year  region  \n",
       "0  2015  Albany  \n",
       "1  2015  Albany  \n",
       "2  2015  Albany  \n",
       "3  2015  Albany  \n",
       "4  2015  Albany  "
      ],
      "text/html": "<div>\n<style scoped>\n    .dataframe tbody tr th:only-of-type {\n        vertical-align: middle;\n    }\n\n    .dataframe tbody tr th {\n        vertical-align: top;\n    }\n\n    .dataframe thead th {\n        text-align: right;\n    }\n</style>\n<table border=\"1\" class=\"dataframe\">\n  <thead>\n    <tr style=\"text-align: right;\">\n      <th></th>\n      <th>Unnamed: 0</th>\n      <th>Date</th>\n      <th>AveragePrice</th>\n      <th>Total Volume</th>\n      <th>4046</th>\n      <th>4225</th>\n      <th>4770</th>\n      <th>Total Bags</th>\n      <th>Small Bags</th>\n      <th>Large Bags</th>\n      <th>XLarge Bags</th>\n      <th>type</th>\n      <th>year</th>\n      <th>region</th>\n    </tr>\n  </thead>\n  <tbody>\n    <tr>\n      <th>0</th>\n      <td>0</td>\n      <td>1/4/2015</td>\n      <td>1.22</td>\n      <td>40873.28</td>\n      <td>2819.50</td>\n      <td>28287.42</td>\n      <td>49.90</td>\n      <td>9716.46</td>\n      <td>9186.93</td>\n      <td>529.53</td>\n      <td>0.0</td>\n      <td>conventional</td>\n      <td>2015</td>\n      <td>Albany</td>\n    </tr>\n    <tr>\n      <th>1</th>\n      <td>1</td>\n      <td>1/11/2015</td>\n      <td>1.24</td>\n      <td>41195.08</td>\n      <td>1002.85</td>\n      <td>31640.34</td>\n      <td>127.12</td>\n      <td>8424.77</td>\n      <td>8036.04</td>\n      <td>388.73</td>\n      <td>0.0</td>\n      <td>conventional</td>\n      <td>2015</td>\n      <td>Albany</td>\n    </tr>\n    <tr>\n      <th>2</th>\n      <td>2</td>\n      <td>1/18/2015</td>\n      <td>1.17</td>\n      <td>44511.28</td>\n      <td>914.14</td>\n      <td>31540.32</td>\n      <td>135.77</td>\n      <td>11921.05</td>\n      <td>11651.09</td>\n      <td>269.96</td>\n      <td>0.0</td>\n      <td>conventional</td>\n      <td>2015</td>\n      <td>Albany</td>\n    </tr>\n    <tr>\n      <th>3</th>\n      <td>3</td>\n      <td>1/25/2015</td>\n      <td>1.06</td>\n      <td>45147.50</td>\n      <td>941.38</td>\n      <td>33196.16</td>\n      <td>164.14</td>\n      <td>10845.82</td>\n      <td>10103.35</td>\n      <td>742.47</td>\n      <td>0.0</td>\n      <td>conventional</td>\n      <td>2015</td>\n      <td>Albany</td>\n    </tr>\n    <tr>\n      <th>4</th>\n      <td>4</td>\n      <td>2/1/2015</td>\n      <td>0.99</td>\n      <td>70873.60</td>\n      <td>1353.90</td>\n      <td>60017.20</td>\n      <td>179.32</td>\n      <td>9323.18</td>\n      <td>9170.82</td>\n      <td>152.36</td>\n      <td>0.0</td>\n      <td>conventional</td>\n      <td>2015</td>\n      <td>Albany</td>\n    </tr>\n  </tbody>\n</table>\n</div>"
     },
     "metadata": {},
     "execution_count": 3
    }
   ],
   "source": [
    "#print to view\n",
    "avocado_sales_2018.head()"
   ]
  },
  {
   "cell_type": "code",
   "execution_count": 4,
   "metadata": {},
   "outputs": [
    {
     "output_type": "execute_result",
     "data": {
      "text/plain": [
       "Unnamed: 0      18722\n",
       "Date            18722\n",
       "AveragePrice    18722\n",
       "Total Volume    18722\n",
       "4046            18722\n",
       "4225            18722\n",
       "4770            18722\n",
       "Total Bags      18722\n",
       "Small Bags      18722\n",
       "Large Bags      18722\n",
       "XLarge Bags     18722\n",
       "type            18722\n",
       "year            18722\n",
       "region          18722\n",
       "dtype: int64"
      ]
     },
     "metadata": {},
     "execution_count": 4
    }
   ],
   "source": [
    "#look for missing values\n",
    "#awesome to see!\n",
    "avocado_sales_2018.count() "
   ]
  },
  {
   "cell_type": "code",
   "execution_count": 5,
   "metadata": {},
   "outputs": [
    {
     "output_type": "execute_result",
     "data": {
      "text/plain": [
       "Index(['Unnamed: 0', 'Date', 'AveragePrice', 'Total Volume', '4046', '4225',\n",
       "       '4770', 'Total Bags', 'Small Bags', 'Large Bags', 'XLarge Bags', 'type',\n",
       "       'year', 'region'],\n",
       "      dtype='object')"
      ]
     },
     "metadata": {},
     "execution_count": 5
    }
   ],
   "source": [
    "#get a list of all of our columns for easy reference\n",
    "avocado_sales_2018.columns"
   ]
  },
  {
   "cell_type": "code",
   "execution_count": 6,
   "metadata": {},
   "outputs": [],
   "source": [
    "#collect data that includes year 2018 - all cities\n",
    "#'year' == 2018\n",
    "\n",
    "avocado_sales_2018_df = avocado_sales_2018.loc[(avocado_sales_2018[\"year\"] == 2018)]"
   ]
  },
  {
   "cell_type": "code",
   "execution_count": 7,
   "metadata": {},
   "outputs": [
    {
     "output_type": "execute_result",
     "data": {
      "text/plain": [
       "       Unnamed: 0        Date  AveragePrice  Total Volume     4046       4225  \\\n",
       "156           156    1/1/2018          1.47     113514.42  2622.70  101135.53   \n",
       "157           157    1/7/2018          1.13      98540.22  2940.63   76192.61   \n",
       "158           158   1/14/2018          1.42      95246.38  2897.41   76570.67   \n",
       "159           159   1/21/2018          1.69     135196.35  3133.37  116520.88   \n",
       "160           160   1/28/2018          1.57      93625.03  3101.17   74627.23   \n",
       "...           ...         ...           ...           ...      ...        ...   \n",
       "18669       26512   11/4/2018          1.49       8300.71   152.99     521.23   \n",
       "18670       26513  11/11/2018          1.54       9113.31   136.55     670.58   \n",
       "18671       26514  11/18/2018          1.52      12259.52   220.91    1231.73   \n",
       "18672       26515  11/25/2018          1.24        710.36    52.13      25.74   \n",
       "18673       26516   12/2/2018          1.29       7374.15   176.32       5.44   \n",
       "\n",
       "        4770  Total Bags  Small Bags  Large Bags  XLarge Bags          type  \\\n",
       "156    20.25     9735.94     5556.98     4178.96         0.00  conventional   \n",
       "157    42.63    19364.35     8633.09    10707.93        23.33  conventional   \n",
       "158    44.00    15734.30    10012.80     5721.50         0.00  conventional   \n",
       "159    88.78    15453.32    10023.79     5429.53         0.00  conventional   \n",
       "160    55.59    15841.04    11614.79     4159.58        66.67  conventional   \n",
       "...      ...         ...         ...         ...          ...           ...   \n",
       "18669   0.00     7626.49     6953.34      673.15         0.00       organic   \n",
       "18670   0.00     8306.18     7048.18     1258.00         0.00       organic   \n",
       "18671   0.00    10806.88     7333.34     3473.54         0.00       organic   \n",
       "18672   0.00      632.49      567.77       64.72         0.00       organic   \n",
       "18673   0.00     7192.39     7192.39        0.00         0.00       organic   \n",
       "\n",
       "       year  region  \n",
       "156    2018  Albany  \n",
       "157    2018  Albany  \n",
       "158    2018  Albany  \n",
       "159    2018  Albany  \n",
       "160    2018  Albany  \n",
       "...     ...     ...  \n",
       "18669  2018   Tampa  \n",
       "18670  2018   Tampa  \n",
       "18671  2018   Tampa  \n",
       "18672  2018   Tampa  \n",
       "18673  2018   Tampa  \n",
       "\n",
       "[3626 rows x 14 columns]"
      ],
      "text/html": "<div>\n<style scoped>\n    .dataframe tbody tr th:only-of-type {\n        vertical-align: middle;\n    }\n\n    .dataframe tbody tr th {\n        vertical-align: top;\n    }\n\n    .dataframe thead th {\n        text-align: right;\n    }\n</style>\n<table border=\"1\" class=\"dataframe\">\n  <thead>\n    <tr style=\"text-align: right;\">\n      <th></th>\n      <th>Unnamed: 0</th>\n      <th>Date</th>\n      <th>AveragePrice</th>\n      <th>Total Volume</th>\n      <th>4046</th>\n      <th>4225</th>\n      <th>4770</th>\n      <th>Total Bags</th>\n      <th>Small Bags</th>\n      <th>Large Bags</th>\n      <th>XLarge Bags</th>\n      <th>type</th>\n      <th>year</th>\n      <th>region</th>\n    </tr>\n  </thead>\n  <tbody>\n    <tr>\n      <th>156</th>\n      <td>156</td>\n      <td>1/1/2018</td>\n      <td>1.47</td>\n      <td>113514.42</td>\n      <td>2622.70</td>\n      <td>101135.53</td>\n      <td>20.25</td>\n      <td>9735.94</td>\n      <td>5556.98</td>\n      <td>4178.96</td>\n      <td>0.00</td>\n      <td>conventional</td>\n      <td>2018</td>\n      <td>Albany</td>\n    </tr>\n    <tr>\n      <th>157</th>\n      <td>157</td>\n      <td>1/7/2018</td>\n      <td>1.13</td>\n      <td>98540.22</td>\n      <td>2940.63</td>\n      <td>76192.61</td>\n      <td>42.63</td>\n      <td>19364.35</td>\n      <td>8633.09</td>\n      <td>10707.93</td>\n      <td>23.33</td>\n      <td>conventional</td>\n      <td>2018</td>\n      <td>Albany</td>\n    </tr>\n    <tr>\n      <th>158</th>\n      <td>158</td>\n      <td>1/14/2018</td>\n      <td>1.42</td>\n      <td>95246.38</td>\n      <td>2897.41</td>\n      <td>76570.67</td>\n      <td>44.00</td>\n      <td>15734.30</td>\n      <td>10012.80</td>\n      <td>5721.50</td>\n      <td>0.00</td>\n      <td>conventional</td>\n      <td>2018</td>\n      <td>Albany</td>\n    </tr>\n    <tr>\n      <th>159</th>\n      <td>159</td>\n      <td>1/21/2018</td>\n      <td>1.69</td>\n      <td>135196.35</td>\n      <td>3133.37</td>\n      <td>116520.88</td>\n      <td>88.78</td>\n      <td>15453.32</td>\n      <td>10023.79</td>\n      <td>5429.53</td>\n      <td>0.00</td>\n      <td>conventional</td>\n      <td>2018</td>\n      <td>Albany</td>\n    </tr>\n    <tr>\n      <th>160</th>\n      <td>160</td>\n      <td>1/28/2018</td>\n      <td>1.57</td>\n      <td>93625.03</td>\n      <td>3101.17</td>\n      <td>74627.23</td>\n      <td>55.59</td>\n      <td>15841.04</td>\n      <td>11614.79</td>\n      <td>4159.58</td>\n      <td>66.67</td>\n      <td>conventional</td>\n      <td>2018</td>\n      <td>Albany</td>\n    </tr>\n    <tr>\n      <th>...</th>\n      <td>...</td>\n      <td>...</td>\n      <td>...</td>\n      <td>...</td>\n      <td>...</td>\n      <td>...</td>\n      <td>...</td>\n      <td>...</td>\n      <td>...</td>\n      <td>...</td>\n      <td>...</td>\n      <td>...</td>\n      <td>...</td>\n      <td>...</td>\n    </tr>\n    <tr>\n      <th>18669</th>\n      <td>26512</td>\n      <td>11/4/2018</td>\n      <td>1.49</td>\n      <td>8300.71</td>\n      <td>152.99</td>\n      <td>521.23</td>\n      <td>0.00</td>\n      <td>7626.49</td>\n      <td>6953.34</td>\n      <td>673.15</td>\n      <td>0.00</td>\n      <td>organic</td>\n      <td>2018</td>\n      <td>Tampa</td>\n    </tr>\n    <tr>\n      <th>18670</th>\n      <td>26513</td>\n      <td>11/11/2018</td>\n      <td>1.54</td>\n      <td>9113.31</td>\n      <td>136.55</td>\n      <td>670.58</td>\n      <td>0.00</td>\n      <td>8306.18</td>\n      <td>7048.18</td>\n      <td>1258.00</td>\n      <td>0.00</td>\n      <td>organic</td>\n      <td>2018</td>\n      <td>Tampa</td>\n    </tr>\n    <tr>\n      <th>18671</th>\n      <td>26514</td>\n      <td>11/18/2018</td>\n      <td>1.52</td>\n      <td>12259.52</td>\n      <td>220.91</td>\n      <td>1231.73</td>\n      <td>0.00</td>\n      <td>10806.88</td>\n      <td>7333.34</td>\n      <td>3473.54</td>\n      <td>0.00</td>\n      <td>organic</td>\n      <td>2018</td>\n      <td>Tampa</td>\n    </tr>\n    <tr>\n      <th>18672</th>\n      <td>26515</td>\n      <td>11/25/2018</td>\n      <td>1.24</td>\n      <td>710.36</td>\n      <td>52.13</td>\n      <td>25.74</td>\n      <td>0.00</td>\n      <td>632.49</td>\n      <td>567.77</td>\n      <td>64.72</td>\n      <td>0.00</td>\n      <td>organic</td>\n      <td>2018</td>\n      <td>Tampa</td>\n    </tr>\n    <tr>\n      <th>18673</th>\n      <td>26516</td>\n      <td>12/2/2018</td>\n      <td>1.29</td>\n      <td>7374.15</td>\n      <td>176.32</td>\n      <td>5.44</td>\n      <td>0.00</td>\n      <td>7192.39</td>\n      <td>7192.39</td>\n      <td>0.00</td>\n      <td>0.00</td>\n      <td>organic</td>\n      <td>2018</td>\n      <td>Tampa</td>\n    </tr>\n  </tbody>\n</table>\n<p>3626 rows × 14 columns</p>\n</div>"
     },
     "metadata": {},
     "execution_count": 7
    }
   ],
   "source": [
    "#print\n",
    "avocado_sales_2018_df"
   ]
  },
  {
   "cell_type": "code",
   "execution_count": 8,
   "metadata": {},
   "outputs": [],
   "source": [
    "#drop column \"Unnamed: 0\"\n",
    "#add at end inplace=True -> to allow panda to edit the original DF\n",
    "avocado_sales_2018_df.drop(columns=[\"Unnamed: 0\"], inplace=True)"
   ]
  },
  {
   "cell_type": "code",
   "execution_count": 9,
   "metadata": {},
   "outputs": [
    {
     "output_type": "execute_result",
     "data": {
      "text/plain": [
       "             Date  AveragePrice  Total Volume     4046       4225   4770  \\\n",
       "156      1/1/2018          1.47     113514.42  2622.70  101135.53  20.25   \n",
       "157      1/7/2018          1.13      98540.22  2940.63   76192.61  42.63   \n",
       "158     1/14/2018          1.42      95246.38  2897.41   76570.67  44.00   \n",
       "159     1/21/2018          1.69     135196.35  3133.37  116520.88  88.78   \n",
       "160     1/28/2018          1.57      93625.03  3101.17   74627.23  55.59   \n",
       "...           ...           ...           ...      ...        ...    ...   \n",
       "18669   11/4/2018          1.49       8300.71   152.99     521.23   0.00   \n",
       "18670  11/11/2018          1.54       9113.31   136.55     670.58   0.00   \n",
       "18671  11/18/2018          1.52      12259.52   220.91    1231.73   0.00   \n",
       "18672  11/25/2018          1.24        710.36    52.13      25.74   0.00   \n",
       "18673   12/2/2018          1.29       7374.15   176.32       5.44   0.00   \n",
       "\n",
       "       Total Bags  Small Bags  Large Bags  XLarge Bags          type  year  \\\n",
       "156       9735.94     5556.98     4178.96         0.00  conventional  2018   \n",
       "157      19364.35     8633.09    10707.93        23.33  conventional  2018   \n",
       "158      15734.30    10012.80     5721.50         0.00  conventional  2018   \n",
       "159      15453.32    10023.79     5429.53         0.00  conventional  2018   \n",
       "160      15841.04    11614.79     4159.58        66.67  conventional  2018   \n",
       "...           ...         ...         ...          ...           ...   ...   \n",
       "18669     7626.49     6953.34      673.15         0.00       organic  2018   \n",
       "18670     8306.18     7048.18     1258.00         0.00       organic  2018   \n",
       "18671    10806.88     7333.34     3473.54         0.00       organic  2018   \n",
       "18672      632.49      567.77       64.72         0.00       organic  2018   \n",
       "18673     7192.39     7192.39        0.00         0.00       organic  2018   \n",
       "\n",
       "       region  \n",
       "156    Albany  \n",
       "157    Albany  \n",
       "158    Albany  \n",
       "159    Albany  \n",
       "160    Albany  \n",
       "...       ...  \n",
       "18669   Tampa  \n",
       "18670   Tampa  \n",
       "18671   Tampa  \n",
       "18672   Tampa  \n",
       "18673   Tampa  \n",
       "\n",
       "[3626 rows x 13 columns]"
      ],
      "text/html": "<div>\n<style scoped>\n    .dataframe tbody tr th:only-of-type {\n        vertical-align: middle;\n    }\n\n    .dataframe tbody tr th {\n        vertical-align: top;\n    }\n\n    .dataframe thead th {\n        text-align: right;\n    }\n</style>\n<table border=\"1\" class=\"dataframe\">\n  <thead>\n    <tr style=\"text-align: right;\">\n      <th></th>\n      <th>Date</th>\n      <th>AveragePrice</th>\n      <th>Total Volume</th>\n      <th>4046</th>\n      <th>4225</th>\n      <th>4770</th>\n      <th>Total Bags</th>\n      <th>Small Bags</th>\n      <th>Large Bags</th>\n      <th>XLarge Bags</th>\n      <th>type</th>\n      <th>year</th>\n      <th>region</th>\n    </tr>\n  </thead>\n  <tbody>\n    <tr>\n      <th>156</th>\n      <td>1/1/2018</td>\n      <td>1.47</td>\n      <td>113514.42</td>\n      <td>2622.70</td>\n      <td>101135.53</td>\n      <td>20.25</td>\n      <td>9735.94</td>\n      <td>5556.98</td>\n      <td>4178.96</td>\n      <td>0.00</td>\n      <td>conventional</td>\n      <td>2018</td>\n      <td>Albany</td>\n    </tr>\n    <tr>\n      <th>157</th>\n      <td>1/7/2018</td>\n      <td>1.13</td>\n      <td>98540.22</td>\n      <td>2940.63</td>\n      <td>76192.61</td>\n      <td>42.63</td>\n      <td>19364.35</td>\n      <td>8633.09</td>\n      <td>10707.93</td>\n      <td>23.33</td>\n      <td>conventional</td>\n      <td>2018</td>\n      <td>Albany</td>\n    </tr>\n    <tr>\n      <th>158</th>\n      <td>1/14/2018</td>\n      <td>1.42</td>\n      <td>95246.38</td>\n      <td>2897.41</td>\n      <td>76570.67</td>\n      <td>44.00</td>\n      <td>15734.30</td>\n      <td>10012.80</td>\n      <td>5721.50</td>\n      <td>0.00</td>\n      <td>conventional</td>\n      <td>2018</td>\n      <td>Albany</td>\n    </tr>\n    <tr>\n      <th>159</th>\n      <td>1/21/2018</td>\n      <td>1.69</td>\n      <td>135196.35</td>\n      <td>3133.37</td>\n      <td>116520.88</td>\n      <td>88.78</td>\n      <td>15453.32</td>\n      <td>10023.79</td>\n      <td>5429.53</td>\n      <td>0.00</td>\n      <td>conventional</td>\n      <td>2018</td>\n      <td>Albany</td>\n    </tr>\n    <tr>\n      <th>160</th>\n      <td>1/28/2018</td>\n      <td>1.57</td>\n      <td>93625.03</td>\n      <td>3101.17</td>\n      <td>74627.23</td>\n      <td>55.59</td>\n      <td>15841.04</td>\n      <td>11614.79</td>\n      <td>4159.58</td>\n      <td>66.67</td>\n      <td>conventional</td>\n      <td>2018</td>\n      <td>Albany</td>\n    </tr>\n    <tr>\n      <th>...</th>\n      <td>...</td>\n      <td>...</td>\n      <td>...</td>\n      <td>...</td>\n      <td>...</td>\n      <td>...</td>\n      <td>...</td>\n      <td>...</td>\n      <td>...</td>\n      <td>...</td>\n      <td>...</td>\n      <td>...</td>\n      <td>...</td>\n    </tr>\n    <tr>\n      <th>18669</th>\n      <td>11/4/2018</td>\n      <td>1.49</td>\n      <td>8300.71</td>\n      <td>152.99</td>\n      <td>521.23</td>\n      <td>0.00</td>\n      <td>7626.49</td>\n      <td>6953.34</td>\n      <td>673.15</td>\n      <td>0.00</td>\n      <td>organic</td>\n      <td>2018</td>\n      <td>Tampa</td>\n    </tr>\n    <tr>\n      <th>18670</th>\n      <td>11/11/2018</td>\n      <td>1.54</td>\n      <td>9113.31</td>\n      <td>136.55</td>\n      <td>670.58</td>\n      <td>0.00</td>\n      <td>8306.18</td>\n      <td>7048.18</td>\n      <td>1258.00</td>\n      <td>0.00</td>\n      <td>organic</td>\n      <td>2018</td>\n      <td>Tampa</td>\n    </tr>\n    <tr>\n      <th>18671</th>\n      <td>11/18/2018</td>\n      <td>1.52</td>\n      <td>12259.52</td>\n      <td>220.91</td>\n      <td>1231.73</td>\n      <td>0.00</td>\n      <td>10806.88</td>\n      <td>7333.34</td>\n      <td>3473.54</td>\n      <td>0.00</td>\n      <td>organic</td>\n      <td>2018</td>\n      <td>Tampa</td>\n    </tr>\n    <tr>\n      <th>18672</th>\n      <td>11/25/2018</td>\n      <td>1.24</td>\n      <td>710.36</td>\n      <td>52.13</td>\n      <td>25.74</td>\n      <td>0.00</td>\n      <td>632.49</td>\n      <td>567.77</td>\n      <td>64.72</td>\n      <td>0.00</td>\n      <td>organic</td>\n      <td>2018</td>\n      <td>Tampa</td>\n    </tr>\n    <tr>\n      <th>18673</th>\n      <td>12/2/2018</td>\n      <td>1.29</td>\n      <td>7374.15</td>\n      <td>176.32</td>\n      <td>5.44</td>\n      <td>0.00</td>\n      <td>7192.39</td>\n      <td>7192.39</td>\n      <td>0.00</td>\n      <td>0.00</td>\n      <td>organic</td>\n      <td>2018</td>\n      <td>Tampa</td>\n    </tr>\n  </tbody>\n</table>\n<p>3626 rows × 13 columns</p>\n</div>"
     },
     "metadata": {},
     "execution_count": 9
    }
   ],
   "source": [
    "#print to view\n",
    "avocado_sales_2018_df"
   ]
  },
  {
   "cell_type": "code",
   "execution_count": 10,
   "metadata": {},
   "outputs": [],
   "source": [
    "#export DF into a .csv\n",
    "avocado_sales_2018_df.to_csv(\"avocado_sales_2018.csv\")"
   ]
  },
  {
   "cell_type": "code",
   "execution_count": null,
   "metadata": {},
   "outputs": [],
   "source": []
  }
 ]
}