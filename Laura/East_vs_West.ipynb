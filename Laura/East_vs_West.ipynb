{
 "metadata": {
  "language_info": {
   "codemirror_mode": {
    "name": "ipython",
    "version": 3
   },
   "file_extension": ".py",
   "mimetype": "text/x-python",
   "name": "python",
   "nbconvert_exporter": "python",
   "pygments_lexer": "ipython3",
   "version": "3.8.3-final"
  },
  "orig_nbformat": 2,
  "kernelspec": {
   "name": "python3",
   "display_name": "Python 3.8.3 64-bit ('testenv': conda)",
   "metadata": {
    "interpreter": {
     "hash": "0a9284ede8fa73046c974278a15de4ed166a07f8fe6aba72454a874989be213f"
    }
   }
  }
 },
 "nbformat": 4,
 "nbformat_minor": 2,
 "cells": [
  {
   "cell_type": "code",
   "execution_count": 3,
   "metadata": {},
   "outputs": [],
   "source": [
    "#create a bar chart that show total volume of avocados sold by year - EAST vs WEST COAST EDITION\n",
    "\n",
    "#East Coast: Conneticut, Delaware, Florida, Georgia, Massachusetts, Maryland, Maine, North Carolina, New Hampshire, New Jersey, Rhode Island, South Carolina, Virgina\n",
    "\n",
    "#West Coast: Alaska, California, Oregon, Washington\n",
    "\n",
    "#2015\n",
    "#2016\n",
    "#2017\n",
    "#2018"
   ]
  },
  {
   "cell_type": "code",
   "execution_count": 4,
   "metadata": {},
   "outputs": [],
   "source": [
    "#Import Dependencies\n",
    "import pandas as pd\n",
    "import numpy as np\n",
    "import matplotlib.pyplot as plt\n",
    "import scipy.stats as st"
   ]
  },
  {
   "cell_type": "code",
   "execution_count": 5,
   "metadata": {},
   "outputs": [],
   "source": [
    "#read in the data\n",
    "avocado_2015_data = pd.read_csv(\"avocado_sales_2015.csv\")\n",
    "#print to verify\n",
    "#avocado_2015_data.head()\n",
    "\n",
    "avocado_2016_data = pd.read_csv(\"avocado_sales_2016.csv\")\n",
    "#print to verify\n",
    "#avocado_2016_data.head()\n",
    "\n",
    "avocado_2017_data = pd.read_csv(\"avocado_sales_2017.csv\")\n",
    "#avocado_2017_data.head()\n",
    "\n",
    "avocado_2018_data = pd.read_csv(\"avocado_sales_2018.csv\")\n",
    "#avocado_2018_data.head()"
   ]
  },
  {
   "cell_type": "code",
   "execution_count": 8,
   "metadata": {},
   "outputs": [
    {
     "output_type": "execute_result",
     "data": {
      "text/plain": [
       "      Unnamed: 0        Date  AveragePrice  Total Volume     4046       4225  \\\n",
       "0            156    1/1/2018          1.47     113514.42  2622.70  101135.53   \n",
       "1            157    1/7/2018          1.13      98540.22  2940.63   76192.61   \n",
       "2            158   1/14/2018          1.42      95246.38  2897.41   76570.67   \n",
       "3            159   1/21/2018          1.69     135196.35  3133.37  116520.88   \n",
       "4            160   1/28/2018          1.57      93625.03  3101.17   74627.23   \n",
       "...          ...         ...           ...           ...      ...        ...   \n",
       "3621       18669   11/4/2018          1.49       8300.71   152.99     521.23   \n",
       "3622       18670  11/11/2018          1.54       9113.31   136.55     670.58   \n",
       "3623       18671  11/18/2018          1.52      12259.52   220.91    1231.73   \n",
       "3624       18672  11/25/2018          1.24        710.36    52.13      25.74   \n",
       "3625       18673   12/2/2018          1.29       7374.15   176.32       5.44   \n",
       "\n",
       "       4770  Total Bags  Small Bags  Large Bags  XLarge Bags          type  \\\n",
       "0     20.25     9735.94     5556.98     4178.96         0.00  conventional   \n",
       "1     42.63    19364.35     8633.09    10707.93        23.33  conventional   \n",
       "2     44.00    15734.30    10012.80     5721.50         0.00  conventional   \n",
       "3     88.78    15453.32    10023.79     5429.53         0.00  conventional   \n",
       "4     55.59    15841.04    11614.79     4159.58        66.67  conventional   \n",
       "...     ...         ...         ...         ...          ...           ...   \n",
       "3621   0.00     7626.49     6953.34      673.15         0.00       organic   \n",
       "3622   0.00     8306.18     7048.18     1258.00         0.00       organic   \n",
       "3623   0.00    10806.88     7333.34     3473.54         0.00       organic   \n",
       "3624   0.00      632.49      567.77       64.72         0.00       organic   \n",
       "3625   0.00     7192.39     7192.39        0.00         0.00       organic   \n",
       "\n",
       "      year  region  \n",
       "0     2018  Albany  \n",
       "1     2018  Albany  \n",
       "2     2018  Albany  \n",
       "3     2018  Albany  \n",
       "4     2018  Albany  \n",
       "...    ...     ...  \n",
       "3621  2018   Tampa  \n",
       "3622  2018   Tampa  \n",
       "3623  2018   Tampa  \n",
       "3624  2018   Tampa  \n",
       "3625  2018   Tampa  \n",
       "\n",
       "[3626 rows x 14 columns]"
      ],
      "text/html": "<div>\n<style scoped>\n    .dataframe tbody tr th:only-of-type {\n        vertical-align: middle;\n    }\n\n    .dataframe tbody tr th {\n        vertical-align: top;\n    }\n\n    .dataframe thead th {\n        text-align: right;\n    }\n</style>\n<table border=\"1\" class=\"dataframe\">\n  <thead>\n    <tr style=\"text-align: right;\">\n      <th></th>\n      <th>Unnamed: 0</th>\n      <th>Date</th>\n      <th>AveragePrice</th>\n      <th>Total Volume</th>\n      <th>4046</th>\n      <th>4225</th>\n      <th>4770</th>\n      <th>Total Bags</th>\n      <th>Small Bags</th>\n      <th>Large Bags</th>\n      <th>XLarge Bags</th>\n      <th>type</th>\n      <th>year</th>\n      <th>region</th>\n    </tr>\n  </thead>\n  <tbody>\n    <tr>\n      <th>0</th>\n      <td>156</td>\n      <td>1/1/2018</td>\n      <td>1.47</td>\n      <td>113514.42</td>\n      <td>2622.70</td>\n      <td>101135.53</td>\n      <td>20.25</td>\n      <td>9735.94</td>\n      <td>5556.98</td>\n      <td>4178.96</td>\n      <td>0.00</td>\n      <td>conventional</td>\n      <td>2018</td>\n      <td>Albany</td>\n    </tr>\n    <tr>\n      <th>1</th>\n      <td>157</td>\n      <td>1/7/2018</td>\n      <td>1.13</td>\n      <td>98540.22</td>\n      <td>2940.63</td>\n      <td>76192.61</td>\n      <td>42.63</td>\n      <td>19364.35</td>\n      <td>8633.09</td>\n      <td>10707.93</td>\n      <td>23.33</td>\n      <td>conventional</td>\n      <td>2018</td>\n      <td>Albany</td>\n    </tr>\n    <tr>\n      <th>2</th>\n      <td>158</td>\n      <td>1/14/2018</td>\n      <td>1.42</td>\n      <td>95246.38</td>\n      <td>2897.41</td>\n      <td>76570.67</td>\n      <td>44.00</td>\n      <td>15734.30</td>\n      <td>10012.80</td>\n      <td>5721.50</td>\n      <td>0.00</td>\n      <td>conventional</td>\n      <td>2018</td>\n      <td>Albany</td>\n    </tr>\n    <tr>\n      <th>3</th>\n      <td>159</td>\n      <td>1/21/2018</td>\n      <td>1.69</td>\n      <td>135196.35</td>\n      <td>3133.37</td>\n      <td>116520.88</td>\n      <td>88.78</td>\n      <td>15453.32</td>\n      <td>10023.79</td>\n      <td>5429.53</td>\n      <td>0.00</td>\n      <td>conventional</td>\n      <td>2018</td>\n      <td>Albany</td>\n    </tr>\n    <tr>\n      <th>4</th>\n      <td>160</td>\n      <td>1/28/2018</td>\n      <td>1.57</td>\n      <td>93625.03</td>\n      <td>3101.17</td>\n      <td>74627.23</td>\n      <td>55.59</td>\n      <td>15841.04</td>\n      <td>11614.79</td>\n      <td>4159.58</td>\n      <td>66.67</td>\n      <td>conventional</td>\n      <td>2018</td>\n      <td>Albany</td>\n    </tr>\n    <tr>\n      <th>...</th>\n      <td>...</td>\n      <td>...</td>\n      <td>...</td>\n      <td>...</td>\n      <td>...</td>\n      <td>...</td>\n      <td>...</td>\n      <td>...</td>\n      <td>...</td>\n      <td>...</td>\n      <td>...</td>\n      <td>...</td>\n      <td>...</td>\n      <td>...</td>\n    </tr>\n    <tr>\n      <th>3621</th>\n      <td>18669</td>\n      <td>11/4/2018</td>\n      <td>1.49</td>\n      <td>8300.71</td>\n      <td>152.99</td>\n      <td>521.23</td>\n      <td>0.00</td>\n      <td>7626.49</td>\n      <td>6953.34</td>\n      <td>673.15</td>\n      <td>0.00</td>\n      <td>organic</td>\n      <td>2018</td>\n      <td>Tampa</td>\n    </tr>\n    <tr>\n      <th>3622</th>\n      <td>18670</td>\n      <td>11/11/2018</td>\n      <td>1.54</td>\n      <td>9113.31</td>\n      <td>136.55</td>\n      <td>670.58</td>\n      <td>0.00</td>\n      <td>8306.18</td>\n      <td>7048.18</td>\n      <td>1258.00</td>\n      <td>0.00</td>\n      <td>organic</td>\n      <td>2018</td>\n      <td>Tampa</td>\n    </tr>\n    <tr>\n      <th>3623</th>\n      <td>18671</td>\n      <td>11/18/2018</td>\n      <td>1.52</td>\n      <td>12259.52</td>\n      <td>220.91</td>\n      <td>1231.73</td>\n      <td>0.00</td>\n      <td>10806.88</td>\n      <td>7333.34</td>\n      <td>3473.54</td>\n      <td>0.00</td>\n      <td>organic</td>\n      <td>2018</td>\n      <td>Tampa</td>\n    </tr>\n    <tr>\n      <th>3624</th>\n      <td>18672</td>\n      <td>11/25/2018</td>\n      <td>1.24</td>\n      <td>710.36</td>\n      <td>52.13</td>\n      <td>25.74</td>\n      <td>0.00</td>\n      <td>632.49</td>\n      <td>567.77</td>\n      <td>64.72</td>\n      <td>0.00</td>\n      <td>organic</td>\n      <td>2018</td>\n      <td>Tampa</td>\n    </tr>\n    <tr>\n      <th>3625</th>\n      <td>18673</td>\n      <td>12/2/2018</td>\n      <td>1.29</td>\n      <td>7374.15</td>\n      <td>176.32</td>\n      <td>5.44</td>\n      <td>0.00</td>\n      <td>7192.39</td>\n      <td>7192.39</td>\n      <td>0.00</td>\n      <td>0.00</td>\n      <td>organic</td>\n      <td>2018</td>\n      <td>Tampa</td>\n    </tr>\n  </tbody>\n</table>\n<p>3626 rows × 14 columns</p>\n</div>"
     },
     "metadata": {},
     "execution_count": 8
    }
   ],
   "source": [
    "avocado_2018_data"
   ]
  },
  {
   "cell_type": "code",
   "execution_count": null,
   "metadata": {},
   "outputs": [],
   "source": [
    "#add a new column\n",
    "\n",
    "#array?\n",
    "\n",
    "#numpy -> where - condition True Add or False\n",
    "#results = np.where (\"region\" == \"Albany\")\n",
    "\n",
    "#The sum method adds every entry in the series\n",
    "#total = data_file_df[\"Amount\"].sum()\n",
    "#tota"
   ]
  },
  {
   "cell_type": "code",
   "execution_count": 9,
   "metadata": {},
   "outputs": [
    {
     "output_type": "execute_result",
     "data": {
      "text/plain": [
       "array({'Portland', 'Los Angeles', 'San Diego', 'Spokane', 'Sacramento', 'San Francisco', 'Seattle'},\n",
       "      dtype=object)"
      ]
     },
     "metadata": {},
     "execution_count": 9
    }
   ],
   "source": [
    "#array\n",
    "west_coast = np.array({\"Los Angeles\", \"Sacramento\", \"San Diego\", \"San Francisco\", \"Portland\", \"Seattle\", \"Spokane\"})\n",
    "\n",
    "#print\n",
    "west_coast"
   ]
  },
  {
   "cell_type": "code",
   "execution_count": 10,
   "metadata": {},
   "outputs": [
    {
     "output_type": "execute_result",
     "data": {
      "text/plain": [
       "array({'Jacksonville', 'Nashville', 'Hartford', 'Boston', 'Tampa', 'Albany', 'Richmond', 'Atlanta', 'Orlando', 'Buffalo', 'Syracuse', 'Raleigh', 'Miami', 'New York', 'Roanoke', 'Charlotte'},\n",
       "      dtype=object)"
      ]
     },
     "metadata": {},
     "execution_count": 10
    }
   ],
   "source": [
    "#array\n",
    "east_coast = np.array({\"Hartford\", \"Boston\", \"Charlotte\", \"Nashville\", \"Raleigh\", \"Albany\", \"Buffalo\", \"New York\", \"Syracuse\", \"Richmond\", \"Roanoke\", \"Atlanta\", \"Jacksonville\", \"Miami\", \"Orlando\", \"Tampa\"})\n",
    "\n",
    "#print\n",
    "east_coast\n"
   ]
  },
  {
   "cell_type": "code",
   "execution_count": null,
   "metadata": {},
   "outputs": [],
   "source": [
    "#generate bar plot\n",
    "#set up the plot\n",
    "ABCDE.plot(kind=\"bar\", color=\"b\", alpha=0.5, align=\"center\")"
   ]
  },
  {
   "cell_type": "code",
   "execution_count": null,
   "metadata": {},
   "outputs": [],
   "source": [
    "#Give our chart some labels and a tile\n",
    "plt.title(\"East vs West Coast 2015\")\n",
    "plt.xlabel(\"Coast\")\n",
    "plt.ylabel(\"Consumer Volume\")"
   ]
  },
  {
   "cell_type": "code",
   "execution_count": null,
   "metadata": {},
   "outputs": [],
   "source": [
    "#print\n",
    "plt.print\n",
    "plt.tight_layout()"
   ]
  }
 ]
}