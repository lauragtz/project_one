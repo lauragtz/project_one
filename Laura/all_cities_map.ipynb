{
 "metadata": {
  "language_info": {
   "codemirror_mode": {
    "name": "ipython",
    "version": 3
   },
   "file_extension": ".py",
   "mimetype": "text/x-python",
   "name": "python",
   "nbconvert_exporter": "python",
   "pygments_lexer": "ipython3",
   "version": "3.8.3-final"
  },
  "orig_nbformat": 2,
  "kernelspec": {
   "name": "python3",
   "display_name": "Python 3.8.3 64-bit ('testenvpip': conda)",
   "metadata": {
    "interpreter": {
     "hash": "a0080c69cd0647d7816f420c088e04179d57e8178abcfd660e8662cfa9cbe9e5"
    }
   }
  }
 },
 "nbformat": 4,
 "nbformat_minor": 2,
 "cells": [
  {
   "cell_type": "code",
   "execution_count": 1,
   "metadata": {},
   "outputs": [],
   "source": [
    "#dependencies\n",
    "import gmaps\n",
    "import matplotlib as plt\n",
    "import pandas as pd\n",
    "import numpy as np\n",
    "import requests\n",
    "import json"
   ]
  },
  {
   "cell_type": "code",
   "execution_count": 2,
   "metadata": {},
   "outputs": [],
   "source": [
    "#google API Key\n",
    "from config import gkey"
   ]
  },
  {
   "cell_type": "code",
   "execution_count": 3,
   "metadata": {},
   "outputs": [
    {
     "output_type": "execute_result",
     "data": {
      "text/plain": [
       "         City           State\n",
       "0      Albany        New York\n",
       "1     Atlanta         Georgia\n",
       "2  Boise City           Idaho\n",
       "3      Boston   Massachusetts\n",
       "4     Buffalo        New York"
      ],
      "text/html": "<div>\n<style scoped>\n    .dataframe tbody tr th:only-of-type {\n        vertical-align: middle;\n    }\n\n    .dataframe tbody tr th {\n        vertical-align: top;\n    }\n\n    .dataframe thead th {\n        text-align: right;\n    }\n</style>\n<table border=\"1\" class=\"dataframe\">\n  <thead>\n    <tr style=\"text-align: right;\">\n      <th></th>\n      <th>City</th>\n      <th>State</th>\n    </tr>\n  </thead>\n  <tbody>\n    <tr>\n      <th>0</th>\n      <td>Albany</td>\n      <td>New York</td>\n    </tr>\n    <tr>\n      <th>1</th>\n      <td>Atlanta</td>\n      <td>Georgia</td>\n    </tr>\n    <tr>\n      <th>2</th>\n      <td>Boise City</td>\n      <td>Idaho</td>\n    </tr>\n    <tr>\n      <th>3</th>\n      <td>Boston</td>\n      <td>Massachusetts</td>\n    </tr>\n    <tr>\n      <th>4</th>\n      <td>Buffalo</td>\n      <td>New York</td>\n    </tr>\n  </tbody>\n</table>\n</div>"
     },
     "metadata": {},
     "execution_count": 3
    }
   ],
   "source": [
    "#import cities file as DF\n",
    "cities_pd = pd.read_csv(\"cities.csv\")\n",
    "cities_pd.head()"
   ]
  },
  {
   "cell_type": "code",
   "execution_count": 4,
   "metadata": {},
   "outputs": [
    {
     "output_type": "execute_result",
     "data": {
      "text/plain": [
       "                 City            State Lat Lng\n",
       "0              Albany         New York        \n",
       "1             Atlanta          Georgia        \n",
       "2          Boise City            Idaho        \n",
       "3              Boston    Massachusetts        \n",
       "4             Buffalo         New York        \n",
       "5           Charlotte   North Carolina        \n",
       "6             Chicago         Illinois        \n",
       "7          Cincinnati             Ohio        \n",
       "8            Columbus             Ohio        \n",
       "9              Dallas            Texas        \n",
       "10             Denver         Colorado        \n",
       "11            Detroit         Michigan        \n",
       "12       Grand Rapids         Michigan        \n",
       "13         Harrisburg     Philadelphia        \n",
       "14           Hartford       Conneticut        \n",
       "15            Houston            Texas        \n",
       "16  Indianapolis City          Indiana        \n",
       "17       Jacksonville          Florida        \n",
       "18          Las Vegas           Nevada        \n",
       "19        Los Angeles       California        \n",
       "20              Miami          Florida        \n",
       "21          Nashville   North Carolina        \n",
       "22        New Orleans        Louisiana        \n",
       "23           New York         New York        \n",
       "24            Orlando          Florida        \n",
       "25       Philadelphia     Philadelphia        \n",
       "26            Phoenix          Arizona        \n",
       "27         Pittsburgh     Philadelphia        \n",
       "28           Portland           Oregon        \n",
       "29            Raleigh   North Carolina        \n",
       "30           Richmond          Virgina        \n",
       "31            Roanoke          Virgina        \n",
       "32         Sacramento       California        \n",
       "33          San Diego       California        \n",
       "34      San Francisco       California        \n",
       "35            Seattle       Washington        \n",
       "36            Spokane       Washington        \n",
       "37          St. Louis         Missouri        \n",
       "38           Syracuse         New York        \n",
       "39             Tampla          Florida        "
      ],
      "text/html": "<div>\n<style scoped>\n    .dataframe tbody tr th:only-of-type {\n        vertical-align: middle;\n    }\n\n    .dataframe tbody tr th {\n        vertical-align: top;\n    }\n\n    .dataframe thead th {\n        text-align: right;\n    }\n</style>\n<table border=\"1\" class=\"dataframe\">\n  <thead>\n    <tr style=\"text-align: right;\">\n      <th></th>\n      <th>City</th>\n      <th>State</th>\n      <th>Lat</th>\n      <th>Lng</th>\n    </tr>\n  </thead>\n  <tbody>\n    <tr>\n      <th>0</th>\n      <td>Albany</td>\n      <td>New York</td>\n      <td></td>\n      <td></td>\n    </tr>\n    <tr>\n      <th>1</th>\n      <td>Atlanta</td>\n      <td>Georgia</td>\n      <td></td>\n      <td></td>\n    </tr>\n    <tr>\n      <th>2</th>\n      <td>Boise City</td>\n      <td>Idaho</td>\n      <td></td>\n      <td></td>\n    </tr>\n    <tr>\n      <th>3</th>\n      <td>Boston</td>\n      <td>Massachusetts</td>\n      <td></td>\n      <td></td>\n    </tr>\n    <tr>\n      <th>4</th>\n      <td>Buffalo</td>\n      <td>New York</td>\n      <td></td>\n      <td></td>\n    </tr>\n    <tr>\n      <th>5</th>\n      <td>Charlotte</td>\n      <td>North Carolina</td>\n      <td></td>\n      <td></td>\n    </tr>\n    <tr>\n      <th>6</th>\n      <td>Chicago</td>\n      <td>Illinois</td>\n      <td></td>\n      <td></td>\n    </tr>\n    <tr>\n      <th>7</th>\n      <td>Cincinnati</td>\n      <td>Ohio</td>\n      <td></td>\n      <td></td>\n    </tr>\n    <tr>\n      <th>8</th>\n      <td>Columbus</td>\n      <td>Ohio</td>\n      <td></td>\n      <td></td>\n    </tr>\n    <tr>\n      <th>9</th>\n      <td>Dallas</td>\n      <td>Texas</td>\n      <td></td>\n      <td></td>\n    </tr>\n    <tr>\n      <th>10</th>\n      <td>Denver</td>\n      <td>Colorado</td>\n      <td></td>\n      <td></td>\n    </tr>\n    <tr>\n      <th>11</th>\n      <td>Detroit</td>\n      <td>Michigan</td>\n      <td></td>\n      <td></td>\n    </tr>\n    <tr>\n      <th>12</th>\n      <td>Grand Rapids</td>\n      <td>Michigan</td>\n      <td></td>\n      <td></td>\n    </tr>\n    <tr>\n      <th>13</th>\n      <td>Harrisburg</td>\n      <td>Philadelphia</td>\n      <td></td>\n      <td></td>\n    </tr>\n    <tr>\n      <th>14</th>\n      <td>Hartford</td>\n      <td>Conneticut</td>\n      <td></td>\n      <td></td>\n    </tr>\n    <tr>\n      <th>15</th>\n      <td>Houston</td>\n      <td>Texas</td>\n      <td></td>\n      <td></td>\n    </tr>\n    <tr>\n      <th>16</th>\n      <td>Indianapolis City</td>\n      <td>Indiana</td>\n      <td></td>\n      <td></td>\n    </tr>\n    <tr>\n      <th>17</th>\n      <td>Jacksonville</td>\n      <td>Florida</td>\n      <td></td>\n      <td></td>\n    </tr>\n    <tr>\n      <th>18</th>\n      <td>Las Vegas</td>\n      <td>Nevada</td>\n      <td></td>\n      <td></td>\n    </tr>\n    <tr>\n      <th>19</th>\n      <td>Los Angeles</td>\n      <td>California</td>\n      <td></td>\n      <td></td>\n    </tr>\n    <tr>\n      <th>20</th>\n      <td>Miami</td>\n      <td>Florida</td>\n      <td></td>\n      <td></td>\n    </tr>\n    <tr>\n      <th>21</th>\n      <td>Nashville</td>\n      <td>North Carolina</td>\n      <td></td>\n      <td></td>\n    </tr>\n    <tr>\n      <th>22</th>\n      <td>New Orleans</td>\n      <td>Louisiana</td>\n      <td></td>\n      <td></td>\n    </tr>\n    <tr>\n      <th>23</th>\n      <td>New York</td>\n      <td>New York</td>\n      <td></td>\n      <td></td>\n    </tr>\n    <tr>\n      <th>24</th>\n      <td>Orlando</td>\n      <td>Florida</td>\n      <td></td>\n      <td></td>\n    </tr>\n    <tr>\n      <th>25</th>\n      <td>Philadelphia</td>\n      <td>Philadelphia</td>\n      <td></td>\n      <td></td>\n    </tr>\n    <tr>\n      <th>26</th>\n      <td>Phoenix</td>\n      <td>Arizona</td>\n      <td></td>\n      <td></td>\n    </tr>\n    <tr>\n      <th>27</th>\n      <td>Pittsburgh</td>\n      <td>Philadelphia</td>\n      <td></td>\n      <td></td>\n    </tr>\n    <tr>\n      <th>28</th>\n      <td>Portland</td>\n      <td>Oregon</td>\n      <td></td>\n      <td></td>\n    </tr>\n    <tr>\n      <th>29</th>\n      <td>Raleigh</td>\n      <td>North Carolina</td>\n      <td></td>\n      <td></td>\n    </tr>\n    <tr>\n      <th>30</th>\n      <td>Richmond</td>\n      <td>Virgina</td>\n      <td></td>\n      <td></td>\n    </tr>\n    <tr>\n      <th>31</th>\n      <td>Roanoke</td>\n      <td>Virgina</td>\n      <td></td>\n      <td></td>\n    </tr>\n    <tr>\n      <th>32</th>\n      <td>Sacramento</td>\n      <td>California</td>\n      <td></td>\n      <td></td>\n    </tr>\n    <tr>\n      <th>33</th>\n      <td>San Diego</td>\n      <td>California</td>\n      <td></td>\n      <td></td>\n    </tr>\n    <tr>\n      <th>34</th>\n      <td>San Francisco</td>\n      <td>California</td>\n      <td></td>\n      <td></td>\n    </tr>\n    <tr>\n      <th>35</th>\n      <td>Seattle</td>\n      <td>Washington</td>\n      <td></td>\n      <td></td>\n    </tr>\n    <tr>\n      <th>36</th>\n      <td>Spokane</td>\n      <td>Washington</td>\n      <td></td>\n      <td></td>\n    </tr>\n    <tr>\n      <th>37</th>\n      <td>St. Louis</td>\n      <td>Missouri</td>\n      <td></td>\n      <td></td>\n    </tr>\n    <tr>\n      <th>38</th>\n      <td>Syracuse</td>\n      <td>New York</td>\n      <td></td>\n      <td></td>\n    </tr>\n    <tr>\n      <th>39</th>\n      <td>Tampla</td>\n      <td>Florida</td>\n      <td></td>\n      <td></td>\n    </tr>\n  </tbody>\n</table>\n</div>"
     },
     "metadata": {},
     "execution_count": 4
    }
   ],
   "source": [
    "#add columns for Lat & Long\n",
    "cities_pd[\"Lat\"] = \"\"\n",
    "cities_pd[\"Lng\"] = \"\"\n",
    "\n",
    "#print\n",
    "cities_pd"
   ]
  },
  {
   "cell_type": "code",
   "execution_count": 5,
   "metadata": {},
   "outputs": [
    {
     "output_type": "execute_result",
     "data": {
      "text/plain": [
       "         City           State      Lat      Lng\n",
       "0      Albany        New York  42.6526 -73.7562\n",
       "1     Atlanta         Georgia   33.749  -84.388\n",
       "2  Boise City           Idaho   43.615 -116.202\n",
       "3      Boston   Massachusetts  42.3601 -71.0589\n",
       "4     Buffalo        New York  42.8864 -78.8784"
      ],
      "text/html": "<div>\n<style scoped>\n    .dataframe tbody tr th:only-of-type {\n        vertical-align: middle;\n    }\n\n    .dataframe tbody tr th {\n        vertical-align: top;\n    }\n\n    .dataframe thead th {\n        text-align: right;\n    }\n</style>\n<table border=\"1\" class=\"dataframe\">\n  <thead>\n    <tr style=\"text-align: right;\">\n      <th></th>\n      <th>City</th>\n      <th>State</th>\n      <th>Lat</th>\n      <th>Lng</th>\n    </tr>\n  </thead>\n  <tbody>\n    <tr>\n      <th>0</th>\n      <td>Albany</td>\n      <td>New York</td>\n      <td>42.6526</td>\n      <td>-73.7562</td>\n    </tr>\n    <tr>\n      <th>1</th>\n      <td>Atlanta</td>\n      <td>Georgia</td>\n      <td>33.749</td>\n      <td>-84.388</td>\n    </tr>\n    <tr>\n      <th>2</th>\n      <td>Boise City</td>\n      <td>Idaho</td>\n      <td>43.615</td>\n      <td>-116.202</td>\n    </tr>\n    <tr>\n      <th>3</th>\n      <td>Boston</td>\n      <td>Massachusetts</td>\n      <td>42.3601</td>\n      <td>-71.0589</td>\n    </tr>\n    <tr>\n      <th>4</th>\n      <td>Buffalo</td>\n      <td>New York</td>\n      <td>42.8864</td>\n      <td>-78.8784</td>\n    </tr>\n  </tbody>\n</table>\n</div>"
     },
     "metadata": {},
     "execution_count": 5
    }
   ],
   "source": [
    "#create params dic that will be updated with new city each iteration\n",
    "params = {\"key\" : gkey}\n",
    "\n",
    "#loop through the cities_pd & run a lat/lng search for each city\n",
    "for index, row in cities_pd.iterrows():\n",
    "    base_url = \"https://maps.googleapis.com/maps/api/geocode/json\"\n",
    "\n",
    "    city = row[\"City\"]\n",
    "    state = row[\" State\"]\n",
    "\n",
    "    #update address key value\n",
    "    params[\"address\"] = f\"{city},{state}\"\n",
    "\n",
    "    #make request\n",
    "    cities_lat_lng = requests.get(base_url, params=params)\n",
    "    \n",
    "    # print the cities_lat_lng url, avoid doing for public github repos in order to avoid exposing key\n",
    "    # print(cities_lat_lng.url)\n",
    "    \n",
    "    # convert to json\n",
    "    cities_lat_lng = cities_lat_lng.json()\n",
    "\n",
    "    cities_pd.loc[index, \"Lat\"] = cities_lat_lng[\"results\"][0][\"geometry\"][\"location\"][\"lat\"]\n",
    "    cities_pd.loc[index, \"Lng\"] = cities_lat_lng[\"results\"][0][\"geometry\"][\"location\"][\"lng\"]\n",
    "\n",
    "# Visualize to confirm lat lng appear\n",
    "cities_pd.head()"
   ]
  },
  {
   "cell_type": "code",
   "execution_count": 6,
   "metadata": {},
   "outputs": [
    {
     "output_type": "execute_result",
     "data": {
      "text/plain": [
       "                 City            State      Lat      Lng\n",
       "0              Albany         New York  42.6526 -73.7562\n",
       "1             Atlanta          Georgia   33.749  -84.388\n",
       "2          Boise City            Idaho   43.615 -116.202\n",
       "3              Boston    Massachusetts  42.3601 -71.0589\n",
       "4             Buffalo         New York  42.8864 -78.8784\n",
       "5           Charlotte   North Carolina  35.2271 -80.8431\n",
       "6             Chicago         Illinois  41.8781 -87.6298\n",
       "7          Cincinnati             Ohio  39.1031  -84.512\n",
       "8            Columbus             Ohio  39.9612 -82.9988\n",
       "9              Dallas            Texas  32.7767  -96.797\n",
       "10             Denver         Colorado  39.7392  -104.99\n",
       "11            Detroit         Michigan  42.3314 -83.0458\n",
       "12       Grand Rapids         Michigan  42.9634 -85.6681\n",
       "13         Harrisburg     Philadelphia  40.0557 -75.0252\n",
       "14           Hartford       Conneticut  41.7658 -72.6734\n",
       "15            Houston            Texas  29.7604 -95.3698\n",
       "16  Indianapolis City          Indiana  39.7684 -86.1581\n",
       "17       Jacksonville          Florida  30.3322 -81.6557\n",
       "18          Las Vegas           Nevada  36.1699  -115.14\n",
       "19        Los Angeles       California  34.0522 -118.244\n",
       "20              Miami          Florida  25.7617 -80.1918\n",
       "21          Nashville   North Carolina  35.9746 -77.9655\n",
       "22        New Orleans        Louisiana  29.9511 -90.0715\n",
       "23           New York         New York  43.2994 -74.2179\n",
       "24            Orlando          Florida  28.5383 -81.3792\n",
       "25       Philadelphia     Philadelphia  39.9526 -75.1652\n",
       "26            Phoenix          Arizona  33.4484 -112.074\n",
       "27         Pittsburgh     Philadelphia  40.4447 -79.9916\n",
       "28           Portland           Oregon  45.5051 -122.675\n",
       "29            Raleigh   North Carolina  35.7796 -78.6382\n",
       "30           Richmond          Virgina  37.5407  -77.436\n",
       "31            Roanoke          Virgina   37.271 -79.9414\n",
       "32         Sacramento       California  38.5816 -121.494\n",
       "33          San Diego       California  32.7157 -117.161\n",
       "34      San Francisco       California  37.7749 -122.419\n",
       "35            Seattle       Washington  47.6062 -122.332\n",
       "36            Spokane       Washington  47.6588 -117.426\n",
       "37          St. Louis         Missouri   38.627 -90.1994\n",
       "38           Syracuse         New York  43.0481 -76.1474\n",
       "39             Tampla          Florida  27.9506 -82.4572"
      ],
      "text/html": "<div>\n<style scoped>\n    .dataframe tbody tr th:only-of-type {\n        vertical-align: middle;\n    }\n\n    .dataframe tbody tr th {\n        vertical-align: top;\n    }\n\n    .dataframe thead th {\n        text-align: right;\n    }\n</style>\n<table border=\"1\" class=\"dataframe\">\n  <thead>\n    <tr style=\"text-align: right;\">\n      <th></th>\n      <th>City</th>\n      <th>State</th>\n      <th>Lat</th>\n      <th>Lng</th>\n    </tr>\n  </thead>\n  <tbody>\n    <tr>\n      <th>0</th>\n      <td>Albany</td>\n      <td>New York</td>\n      <td>42.6526</td>\n      <td>-73.7562</td>\n    </tr>\n    <tr>\n      <th>1</th>\n      <td>Atlanta</td>\n      <td>Georgia</td>\n      <td>33.749</td>\n      <td>-84.388</td>\n    </tr>\n    <tr>\n      <th>2</th>\n      <td>Boise City</td>\n      <td>Idaho</td>\n      <td>43.615</td>\n      <td>-116.202</td>\n    </tr>\n    <tr>\n      <th>3</th>\n      <td>Boston</td>\n      <td>Massachusetts</td>\n      <td>42.3601</td>\n      <td>-71.0589</td>\n    </tr>\n    <tr>\n      <th>4</th>\n      <td>Buffalo</td>\n      <td>New York</td>\n      <td>42.8864</td>\n      <td>-78.8784</td>\n    </tr>\n    <tr>\n      <th>5</th>\n      <td>Charlotte</td>\n      <td>North Carolina</td>\n      <td>35.2271</td>\n      <td>-80.8431</td>\n    </tr>\n    <tr>\n      <th>6</th>\n      <td>Chicago</td>\n      <td>Illinois</td>\n      <td>41.8781</td>\n      <td>-87.6298</td>\n    </tr>\n    <tr>\n      <th>7</th>\n      <td>Cincinnati</td>\n      <td>Ohio</td>\n      <td>39.1031</td>\n      <td>-84.512</td>\n    </tr>\n    <tr>\n      <th>8</th>\n      <td>Columbus</td>\n      <td>Ohio</td>\n      <td>39.9612</td>\n      <td>-82.9988</td>\n    </tr>\n    <tr>\n      <th>9</th>\n      <td>Dallas</td>\n      <td>Texas</td>\n      <td>32.7767</td>\n      <td>-96.797</td>\n    </tr>\n    <tr>\n      <th>10</th>\n      <td>Denver</td>\n      <td>Colorado</td>\n      <td>39.7392</td>\n      <td>-104.99</td>\n    </tr>\n    <tr>\n      <th>11</th>\n      <td>Detroit</td>\n      <td>Michigan</td>\n      <td>42.3314</td>\n      <td>-83.0458</td>\n    </tr>\n    <tr>\n      <th>12</th>\n      <td>Grand Rapids</td>\n      <td>Michigan</td>\n      <td>42.9634</td>\n      <td>-85.6681</td>\n    </tr>\n    <tr>\n      <th>13</th>\n      <td>Harrisburg</td>\n      <td>Philadelphia</td>\n      <td>40.0557</td>\n      <td>-75.0252</td>\n    </tr>\n    <tr>\n      <th>14</th>\n      <td>Hartford</td>\n      <td>Conneticut</td>\n      <td>41.7658</td>\n      <td>-72.6734</td>\n    </tr>\n    <tr>\n      <th>15</th>\n      <td>Houston</td>\n      <td>Texas</td>\n      <td>29.7604</td>\n      <td>-95.3698</td>\n    </tr>\n    <tr>\n      <th>16</th>\n      <td>Indianapolis City</td>\n      <td>Indiana</td>\n      <td>39.7684</td>\n      <td>-86.1581</td>\n    </tr>\n    <tr>\n      <th>17</th>\n      <td>Jacksonville</td>\n      <td>Florida</td>\n      <td>30.3322</td>\n      <td>-81.6557</td>\n    </tr>\n    <tr>\n      <th>18</th>\n      <td>Las Vegas</td>\n      <td>Nevada</td>\n      <td>36.1699</td>\n      <td>-115.14</td>\n    </tr>\n    <tr>\n      <th>19</th>\n      <td>Los Angeles</td>\n      <td>California</td>\n      <td>34.0522</td>\n      <td>-118.244</td>\n    </tr>\n    <tr>\n      <th>20</th>\n      <td>Miami</td>\n      <td>Florida</td>\n      <td>25.7617</td>\n      <td>-80.1918</td>\n    </tr>\n    <tr>\n      <th>21</th>\n      <td>Nashville</td>\n      <td>North Carolina</td>\n      <td>35.9746</td>\n      <td>-77.9655</td>\n    </tr>\n    <tr>\n      <th>22</th>\n      <td>New Orleans</td>\n      <td>Louisiana</td>\n      <td>29.9511</td>\n      <td>-90.0715</td>\n    </tr>\n    <tr>\n      <th>23</th>\n      <td>New York</td>\n      <td>New York</td>\n      <td>43.2994</td>\n      <td>-74.2179</td>\n    </tr>\n    <tr>\n      <th>24</th>\n      <td>Orlando</td>\n      <td>Florida</td>\n      <td>28.5383</td>\n      <td>-81.3792</td>\n    </tr>\n    <tr>\n      <th>25</th>\n      <td>Philadelphia</td>\n      <td>Philadelphia</td>\n      <td>39.9526</td>\n      <td>-75.1652</td>\n    </tr>\n    <tr>\n      <th>26</th>\n      <td>Phoenix</td>\n      <td>Arizona</td>\n      <td>33.4484</td>\n      <td>-112.074</td>\n    </tr>\n    <tr>\n      <th>27</th>\n      <td>Pittsburgh</td>\n      <td>Philadelphia</td>\n      <td>40.4447</td>\n      <td>-79.9916</td>\n    </tr>\n    <tr>\n      <th>28</th>\n      <td>Portland</td>\n      <td>Oregon</td>\n      <td>45.5051</td>\n      <td>-122.675</td>\n    </tr>\n    <tr>\n      <th>29</th>\n      <td>Raleigh</td>\n      <td>North Carolina</td>\n      <td>35.7796</td>\n      <td>-78.6382</td>\n    </tr>\n    <tr>\n      <th>30</th>\n      <td>Richmond</td>\n      <td>Virgina</td>\n      <td>37.5407</td>\n      <td>-77.436</td>\n    </tr>\n    <tr>\n      <th>31</th>\n      <td>Roanoke</td>\n      <td>Virgina</td>\n      <td>37.271</td>\n      <td>-79.9414</td>\n    </tr>\n    <tr>\n      <th>32</th>\n      <td>Sacramento</td>\n      <td>California</td>\n      <td>38.5816</td>\n      <td>-121.494</td>\n    </tr>\n    <tr>\n      <th>33</th>\n      <td>San Diego</td>\n      <td>California</td>\n      <td>32.7157</td>\n      <td>-117.161</td>\n    </tr>\n    <tr>\n      <th>34</th>\n      <td>San Francisco</td>\n      <td>California</td>\n      <td>37.7749</td>\n      <td>-122.419</td>\n    </tr>\n    <tr>\n      <th>35</th>\n      <td>Seattle</td>\n      <td>Washington</td>\n      <td>47.6062</td>\n      <td>-122.332</td>\n    </tr>\n    <tr>\n      <th>36</th>\n      <td>Spokane</td>\n      <td>Washington</td>\n      <td>47.6588</td>\n      <td>-117.426</td>\n    </tr>\n    <tr>\n      <th>37</th>\n      <td>St. Louis</td>\n      <td>Missouri</td>\n      <td>38.627</td>\n      <td>-90.1994</td>\n    </tr>\n    <tr>\n      <th>38</th>\n      <td>Syracuse</td>\n      <td>New York</td>\n      <td>43.0481</td>\n      <td>-76.1474</td>\n    </tr>\n    <tr>\n      <th>39</th>\n      <td>Tampla</td>\n      <td>Florida</td>\n      <td>27.9506</td>\n      <td>-82.4572</td>\n    </tr>\n  </tbody>\n</table>\n</div>"
     },
     "metadata": {},
     "execution_count": 6
    }
   ],
   "source": [
    "#create city DataFrame\n",
    "cities_df = cities_pd\n",
    "\n",
    "cities_df"
   ]
  },
  {
   "cell_type": "code",
   "execution_count": 10,
   "metadata": {},
   "outputs": [],
   "source": [
    "#store latitude & longitude in locations\n",
    "locations = cities_df[[\"Lat\", \"Lng\"]]\n",
    "city = cities_df[[\"City\"]]"
   ]
  },
  {
   "cell_type": "code",
   "execution_count": 12,
   "metadata": {},
   "outputs": [
    {
     "output_type": "display_data",
     "data": {
      "text/plain": "Figure(layout=FigureLayout(height='420px'))",
      "application/vnd.jupyter.widget-view+json": {
       "version_major": 2,
       "version_minor": 0,
       "model_id": "d6df612384ea4e4d9ac6c46a963842d6"
      }
     },
     "metadata": {}
    }
   ],
   "source": [
    "#plot heatmap\n",
    "fig = gmaps.figure()\n",
    "\n",
    "# Create heat layer\n",
    "marker_layer = gmaps.marker_layer(locations)\n",
    "\n",
    "\n",
    "# Add layer\n",
    "fig.add_layer(marker_layer)\n",
    "\n",
    "# Display figure\n",
    "fig\n"
   ]
  },
  {
   "cell_type": "code",
   "execution_count": null,
   "metadata": {},
   "outputs": [],
   "source": []
  }
 ]
}