{
 "metadata": {
  "language_info": {
   "codemirror_mode": {
    "name": "ipython",
    "version": 3
   },
   "file_extension": ".py",
   "mimetype": "text/x-python",
   "name": "python",
   "nbconvert_exporter": "python",
   "pygments_lexer": "ipython3",
   "version": "3.8.3-final"
  },
  "orig_nbformat": 2,
  "kernelspec": {
   "name": "python3",
   "display_name": "Python 3.8.3 64-bit ('testenv': conda)",
   "metadata": {
    "interpreter": {
     "hash": "0a9284ede8fa73046c974278a15de4ed166a07f8fe6aba72454a874989be213f"
    }
   }
  }
 },
 "nbformat": 4,
 "nbformat_minor": 2,
 "cells": [
  {
   "cell_type": "code",
   "execution_count": null,
   "metadata": {},
   "outputs": [],
   "source": [
    "#LG Notes for reference\n",
    "#4.1.05 -> unique/array\n",
    "#4.1.07 -> column rename\n",
    "#4.1.11 -> unique for adding up\n",
    "    #author_count = len(goodreads_df[\"Authors\"].unique())\n",
    "\n",
    "#4.2.01 -> loc\n",
    "    # Grab the data contained within the \"Berry\" row and the \"Phone Number\" column\n",
    "    #berry_phone = df.loc[\"Berry\", \"Phone Number\"]\n",
    "    #print(\"Using Loc: \" + berry_phone)\n",
    "#4.2.03 -> cleaning data\n",
    "    #"
   ]
  },
  {
   "cell_type": "code",
   "execution_count": null,
   "metadata": {},
   "outputs": [],
   "source": [
    "#DataFrame.loc -> use possibly for age group"
   ]
  },
  {
   "cell_type": "code",
   "execution_count": null,
   "metadata": {},
   "outputs": [],
   "source": [
    "#clean data by age group desired, city, and year\n",
    "#age group = 25-39\n",
    "#cities:\n",
    "#year = 20"
   ]
  },
  {
   "cell_type": "code",
   "execution_count": 6,
   "metadata": {},
   "outputs": [],
   "source": [
    "#dependencies\n",
    "\n",
    "import pandas as pd"
   ]
  },
  {
   "cell_type": "code",
   "execution_count": 8,
   "metadata": {},
   "outputs": [],
   "source": [
    "#Use Pandas to read data\n",
    "age_data_df = pd.read_csv(\"Age_Data.csv\")\n"
   ]
  },
  {
   "cell_type": "code",
   "execution_count": 9,
   "metadata": {},
   "outputs": [
    {
     "output_type": "execute_result",
     "data": {
      "text/plain": [
       "   Unnamed: 0  Year        City        Age Range  Number in Range\n",
       "0           0  2018  Albany, NY   18 to 24 Years            21091\n",
       "1           1  2018  Albany, NY  75 Years & Over             5906\n",
       "2           2  2018  Albany, NY   45 to 54 Years            10514\n",
       "3           3  2018  Albany, NY    Under 5 Years             5491\n",
       "4           4  2018  Albany, NY   65 to 74 Years             6670"
      ],
      "text/html": "<div>\n<style scoped>\n    .dataframe tbody tr th:only-of-type {\n        vertical-align: middle;\n    }\n\n    .dataframe tbody tr th {\n        vertical-align: top;\n    }\n\n    .dataframe thead th {\n        text-align: right;\n    }\n</style>\n<table border=\"1\" class=\"dataframe\">\n  <thead>\n    <tr style=\"text-align: right;\">\n      <th></th>\n      <th>Unnamed: 0</th>\n      <th>Year</th>\n      <th>City</th>\n      <th>Age Range</th>\n      <th>Number in Range</th>\n    </tr>\n  </thead>\n  <tbody>\n    <tr>\n      <th>0</th>\n      <td>0</td>\n      <td>2018</td>\n      <td>Albany, NY</td>\n      <td>18 to 24 Years</td>\n      <td>21091</td>\n    </tr>\n    <tr>\n      <th>1</th>\n      <td>1</td>\n      <td>2018</td>\n      <td>Albany, NY</td>\n      <td>75 Years &amp; Over</td>\n      <td>5906</td>\n    </tr>\n    <tr>\n      <th>2</th>\n      <td>2</td>\n      <td>2018</td>\n      <td>Albany, NY</td>\n      <td>45 to 54 Years</td>\n      <td>10514</td>\n    </tr>\n    <tr>\n      <th>3</th>\n      <td>3</td>\n      <td>2018</td>\n      <td>Albany, NY</td>\n      <td>Under 5 Years</td>\n      <td>5491</td>\n    </tr>\n    <tr>\n      <th>4</th>\n      <td>4</td>\n      <td>2018</td>\n      <td>Albany, NY</td>\n      <td>65 to 74 Years</td>\n      <td>6670</td>\n    </tr>\n  </tbody>\n</table>\n</div>"
     },
     "metadata": {},
     "execution_count": 9
    }
   ],
   "source": [
    "#print to view\n",
    "age_data.head()"
   ]
  },
  {
   "cell_type": "code",
   "execution_count": 10,
   "metadata": {},
   "outputs": [
    {
     "output_type": "execute_result",
     "data": {
      "text/plain": [
       "Unnamed: 0         16236\n",
       "Year               16236\n",
       "City               16236\n",
       "Age Range          16236\n",
       "Number in Range    16236\n",
       "dtype: int64"
      ]
     },
     "metadata": {},
     "execution_count": 10
    }
   ],
   "source": [
    "#look for missing values\n",
    "#awesome to see!\n",
    "age_data_df.count() "
   ]
  },
  {
   "cell_type": "code",
   "execution_count": 14,
   "metadata": {},
   "outputs": [
    {
     "output_type": "execute_result",
     "data": {
      "text/plain": [
       "      Unnamed: 0  Year                             City        Age Range  \\\n",
       "8117        8117  2013                  Los Angeles, CA    Under 5 Years   \n",
       "6991        6991  2013  Indianapolis city (balance), IN    60 & 61 Years   \n",
       "6990        6990  2013  Indianapolis city (balance), IN   25 to 34 Years   \n",
       "6989        6989  2013  Indianapolis city (balance), IN   35 to 44 Years   \n",
       "6988        6988  2013  Indianapolis city (balance), IN   62 to 64 Years   \n",
       "...          ...   ...                              ...              ...   \n",
       "6602        6602  2018                      Houston, TX   45 to 54 Years   \n",
       "6601        6601  2018                      Houston, TX  75 Years & Over   \n",
       "6600        6600  2018                      Houston, TX   18 to 24 Years   \n",
       "6609        6609  2018                      Houston, TX   25 to 34 Years   \n",
       "0              0  2018                       Albany, NY   18 to 24 Years   \n",
       "\n",
       "      Number in Range  \n",
       "8117           249942  \n",
       "6991            18161  \n",
       "6990           139215  \n",
       "6989           108946  \n",
       "6988            23520  \n",
       "...               ...  \n",
       "6602           273635  \n",
       "6601           100271  \n",
       "6600           230538  \n",
       "6609           428263  \n",
       "0               21091  \n",
       "\n",
       "[16236 rows x 5 columns]"
      ],
      "text/html": "<div>\n<style scoped>\n    .dataframe tbody tr th:only-of-type {\n        vertical-align: middle;\n    }\n\n    .dataframe tbody tr th {\n        vertical-align: top;\n    }\n\n    .dataframe thead th {\n        text-align: right;\n    }\n</style>\n<table border=\"1\" class=\"dataframe\">\n  <thead>\n    <tr style=\"text-align: right;\">\n      <th></th>\n      <th>Unnamed: 0</th>\n      <th>Year</th>\n      <th>City</th>\n      <th>Age Range</th>\n      <th>Number in Range</th>\n    </tr>\n  </thead>\n  <tbody>\n    <tr>\n      <th>8117</th>\n      <td>8117</td>\n      <td>2013</td>\n      <td>Los Angeles, CA</td>\n      <td>Under 5 Years</td>\n      <td>249942</td>\n    </tr>\n    <tr>\n      <th>6991</th>\n      <td>6991</td>\n      <td>2013</td>\n      <td>Indianapolis city (balance), IN</td>\n      <td>60 &amp; 61 Years</td>\n      <td>18161</td>\n    </tr>\n    <tr>\n      <th>6990</th>\n      <td>6990</td>\n      <td>2013</td>\n      <td>Indianapolis city (balance), IN</td>\n      <td>25 to 34 Years</td>\n      <td>139215</td>\n    </tr>\n    <tr>\n      <th>6989</th>\n      <td>6989</td>\n      <td>2013</td>\n      <td>Indianapolis city (balance), IN</td>\n      <td>35 to 44 Years</td>\n      <td>108946</td>\n    </tr>\n    <tr>\n      <th>6988</th>\n      <td>6988</td>\n      <td>2013</td>\n      <td>Indianapolis city (balance), IN</td>\n      <td>62 to 64 Years</td>\n      <td>23520</td>\n    </tr>\n    <tr>\n      <th>...</th>\n      <td>...</td>\n      <td>...</td>\n      <td>...</td>\n      <td>...</td>\n      <td>...</td>\n    </tr>\n    <tr>\n      <th>6602</th>\n      <td>6602</td>\n      <td>2018</td>\n      <td>Houston, TX</td>\n      <td>45 to 54 Years</td>\n      <td>273635</td>\n    </tr>\n    <tr>\n      <th>6601</th>\n      <td>6601</td>\n      <td>2018</td>\n      <td>Houston, TX</td>\n      <td>75 Years &amp; Over</td>\n      <td>100271</td>\n    </tr>\n    <tr>\n      <th>6600</th>\n      <td>6600</td>\n      <td>2018</td>\n      <td>Houston, TX</td>\n      <td>18 to 24 Years</td>\n      <td>230538</td>\n    </tr>\n    <tr>\n      <th>6609</th>\n      <td>6609</td>\n      <td>2018</td>\n      <td>Houston, TX</td>\n      <td>25 to 34 Years</td>\n      <td>428263</td>\n    </tr>\n    <tr>\n      <th>0</th>\n      <td>0</td>\n      <td>2018</td>\n      <td>Albany, NY</td>\n      <td>18 to 24 Years</td>\n      <td>21091</td>\n    </tr>\n  </tbody>\n</table>\n<p>16236 rows × 5 columns</p>\n</div>"
     },
     "metadata": {},
     "execution_count": 14
    }
   ],
   "source": [
    "#sort by year\n",
    "age_data_df.sort_values(by=[\"Year\"])"
   ]
  },
  {
   "cell_type": "code",
   "execution_count": null,
   "metadata": {},
   "outputs": [],
   "source": [
    "#lets get data by year - 2015 with age group 25-34; all cities\n",
    "\n",
    "age_data_df.loc[age_data_df[\"Year\"] == 2015\n",
    "]"
   ]
  },
  {
   "cell_type": "code",
   "execution_count": null,
   "metadata": {},
   "outputs": [],
   "source": []
  }
 ]
}