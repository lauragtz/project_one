{
 "metadata": {
  "language_info": {
   "codemirror_mode": {
    "name": "ipython",
    "version": 3
   },
   "file_extension": ".py",
   "mimetype": "text/x-python",
   "name": "python",
   "nbconvert_exporter": "python",
   "pygments_lexer": "ipython3",
   "version": "3.8.3-final"
  },
  "orig_nbformat": 2,
  "kernelspec": {
   "name": "python3",
   "display_name": "Python 3"
  }
 },
 "nbformat": 4,
 "nbformat_minor": 2,
 "cells": [
  {
   "cell_type": "code",
   "execution_count": 1,
   "metadata": {},
   "outputs": [
    {
     "output_type": "execute_result",
     "data": {
      "text/plain": [
       "{'ID Nation': '01000US',\n",
       " 'Nation': 'United States',\n",
       " 'ID Year': 2017,\n",
       " 'Year': '2017',\n",
       " 'Population': 325719178,\n",
       " 'Slug Nation': 'united-states'}"
      ]
     },
     "metadata": {},
     "execution_count": 1
    }
   ],
   "source": [
    "#import dependancies\n",
    "import pandas as pd \n",
    "import pprint as pp \n",
    "import json\n",
    "import requests\n",
    "\n",
    "#testing JSON URL to see it visually\n",
    "url = 'https://datausa.io/api/data?drilldowns=Nation&measures=Population'\n",
    "results = requests.get(url).json()\n",
    "results[\"data\"][1]"
   ]
  },
  {
   "cell_type": "code",
   "execution_count": 2,
   "metadata": {},
   "outputs": [
    {
     "output_type": "execute_result",
     "data": {
      "text/plain": [
       "{'ID Age': 10,\n",
       " 'Age': '75 Years & Over',\n",
       " 'ID Year': 2018,\n",
       " 'Year': '2018',\n",
       " 'Birthplace': 216817,\n",
       " 'Birthplace Moe': 6002.368865706271,\n",
       " 'Geography': 'Los Angeles, CA',\n",
       " 'ID Geography': '16000US0644000',\n",
       " 'Slug Geography': 'los-angeles-ca'}"
      ]
     },
     "metadata": {},
     "execution_count": 2
    }
   ],
   "source": [
    "#setting up query 1 for age group data\n",
    "query_1_url = 'https://datausa.io/api/data?Geography=16000US0644000&measures=Birthplace,Birthplace%20Moe&drilldowns=Age'\n",
    "results_1 = requests.get(query_1_url).json()\n",
    "results_1['data'][1]"
   ]
  },
  {
   "cell_type": "code",
   "execution_count": 3,
   "metadata": {},
   "outputs": [
    {
     "output_type": "execute_result",
     "data": {
      "text/plain": [
       "{'ID Year': 2018,\n",
       " 'Year': '2018',\n",
       " 'Household Income by Race': 61937,\n",
       " 'Household Income by Race Moe': 94,\n",
       " 'Geography': 'United States',\n",
       " 'ID Geography': '01000US',\n",
       " 'Slug Geography': 'united-states'}"
      ]
     },
     "metadata": {},
     "execution_count": 3
    }
   ],
   "source": [
    "#setting up query 2 for income data\n",
    "query_2_url = 'https://datausa.io/api/data?measure=Household%20Income%20by%20Race,Household%20Income%20by%20Race%20Moe&Geography=16000US0644000:parents,16000US0644000,16000US0644000:similar'\n",
    "results_2 = requests.get(query_2_url).json()\n",
    "results_2['data'][1]"
   ]
  },
  {
   "cell_type": "code",
   "execution_count": 20,
   "metadata": {},
   "outputs": [],
   "source": [
    "#query 1 loop to getting age group data\n",
    "query_1_url = 'https://datausa.io/api/data?Geography=16000US0644000&measures=Birthplace,Birthplace%20Moe&drilldowns=Age'\n",
    "\n",
    "years = [2013,2014,2015,2016,2017,2018]\n",
    "\n",
    "city_data_1 = {\n",
    "    \"Year\": [],\n",
    "    \"City\": [],\n",
    "    \"Age Range\": [],\n",
    "    \"Number in Range\": []\n",
    "\n",
    "}\n",
    "\n",
    "results_1 = requests.get(query_1_url).json()\n",
    "\n",
    "for year in years:\n",
    "    for i in range(len(results_1['data'])):\n",
    "        try:\n",
    "            results_1 = requests.get(query_1_url).json()\n",
    "            city_data_1[\"City\"].append(results_1['data'][i]['Geography'])\n",
    "            city_data_1[\"Year\"].append(results_1['data'][i]['Year'])\n",
    "            city_data_1[\"Age Range\"].append(results_1['data'][i]['Age'])\n",
    "            city_data_1[\"Number in Range\"].append(results_1['data'][i]['Birthplace'])\n",
    "        except:\n",
    "            pass\n"
   ]
  },
  {
   "cell_type": "code",
   "execution_count": 21,
   "metadata": {},
   "outputs": [],
   "source": [
    "#query 2 loop for getting income data\n",
    "query_2_url = 'https://datausa.io/api/data?measure=Household%20Income%20by%20Race,Household%20Income%20by%20Race%20Moe&Geography=16000US0644000:parents,16000US0644000,16000US0644000:similar'\n",
    "\n",
    "years = [2013,2014,2015,2016,2017,2018]\n",
    "\n",
    "city_data_2 = {\n",
    "    \"Year\": [],\n",
    "    \"City\": [],\n",
    "    \"Household Income by Race\": []\n",
    "}\n",
    "\n",
    "results_2 = requests.get(query_2_url).json()\n",
    "\n",
    "for year in years:\n",
    "    for i in range(len(results_2['data'])):\n",
    "        try:       \n",
    "            results_2 = requests.get(query_2_url).json()\n",
    "            city_data_2['City'].append(results_2['data'][i]['Geography'])\n",
    "            city_data_2['Household Income by Race'].append(results_2['data'][i]['Household Income by Race'])\n",
    "            city_data_2['Year'].append(results_2['data'][i]['Year'])\n",
    "        except:\n",
    "            pass\n",
    "        \n",
    "   "
   ]
  },
  {
   "cell_type": "code",
   "execution_count": 22,
   "metadata": {},
   "outputs": [
    {
     "output_type": "execute_result",
     "data": {
      "text/plain": [
       "   Year             City        Age Range  Number in Range\n",
       "0  2018  Los Angeles, CA   18 to 24 Years           400942\n",
       "1  2018  Los Angeles, CA  75 Years & Over           216817\n",
       "2  2018  Los Angeles, CA   45 to 54 Years           513173\n",
       "3  2018  Los Angeles, CA    Under 5 Years           228554\n",
       "4  2018  Los Angeles, CA   65 to 74 Years           295610"
      ],
      "text/html": "<div>\n<style scoped>\n    .dataframe tbody tr th:only-of-type {\n        vertical-align: middle;\n    }\n\n    .dataframe tbody tr th {\n        vertical-align: top;\n    }\n\n    .dataframe thead th {\n        text-align: right;\n    }\n</style>\n<table border=\"1\" class=\"dataframe\">\n  <thead>\n    <tr style=\"text-align: right;\">\n      <th></th>\n      <th>Year</th>\n      <th>City</th>\n      <th>Age Range</th>\n      <th>Number in Range</th>\n    </tr>\n  </thead>\n  <tbody>\n    <tr>\n      <th>0</th>\n      <td>2018</td>\n      <td>Los Angeles, CA</td>\n      <td>18 to 24 Years</td>\n      <td>400942</td>\n    </tr>\n    <tr>\n      <th>1</th>\n      <td>2018</td>\n      <td>Los Angeles, CA</td>\n      <td>75 Years &amp; Over</td>\n      <td>216817</td>\n    </tr>\n    <tr>\n      <th>2</th>\n      <td>2018</td>\n      <td>Los Angeles, CA</td>\n      <td>45 to 54 Years</td>\n      <td>513173</td>\n    </tr>\n    <tr>\n      <th>3</th>\n      <td>2018</td>\n      <td>Los Angeles, CA</td>\n      <td>Under 5 Years</td>\n      <td>228554</td>\n    </tr>\n    <tr>\n      <th>4</th>\n      <td>2018</td>\n      <td>Los Angeles, CA</td>\n      <td>65 to 74 Years</td>\n      <td>295610</td>\n    </tr>\n  </tbody>\n</table>\n</div>"
     },
     "metadata": {},
     "execution_count": 22
    }
   ],
   "source": [
    "#first dataframe\n",
    "city_df_1 = pd.DataFrame(city_data_1)\n",
    "city_df_1.head()"
   ]
  },
  {
   "cell_type": "code",
   "execution_count": 23,
   "metadata": {},
   "outputs": [
    {
     "output_type": "execute_result",
     "data": {
      "text/plain": [
       "    Year             City  Median Household Income\n",
       "2   2018  Los Angeles, CA                    62474\n",
       "7   2017  Los Angeles, CA                    60197\n",
       "12  2016  Los Angeles, CA                    54432\n",
       "17  2015  Los Angeles, CA                    52024\n",
       "22  2014  Los Angeles, CA                    50544"
      ],
      "text/html": "<div>\n<style scoped>\n    .dataframe tbody tr th:only-of-type {\n        vertical-align: middle;\n    }\n\n    .dataframe tbody tr th {\n        vertical-align: top;\n    }\n\n    .dataframe thead th {\n        text-align: right;\n    }\n</style>\n<table border=\"1\" class=\"dataframe\">\n  <thead>\n    <tr style=\"text-align: right;\">\n      <th></th>\n      <th>Year</th>\n      <th>City</th>\n      <th>Median Household Income</th>\n    </tr>\n  </thead>\n  <tbody>\n    <tr>\n      <th>2</th>\n      <td>2018</td>\n      <td>Los Angeles, CA</td>\n      <td>62474</td>\n    </tr>\n    <tr>\n      <th>7</th>\n      <td>2017</td>\n      <td>Los Angeles, CA</td>\n      <td>60197</td>\n    </tr>\n    <tr>\n      <th>12</th>\n      <td>2016</td>\n      <td>Los Angeles, CA</td>\n      <td>54432</td>\n    </tr>\n    <tr>\n      <th>17</th>\n      <td>2015</td>\n      <td>Los Angeles, CA</td>\n      <td>52024</td>\n    </tr>\n    <tr>\n      <th>22</th>\n      <td>2014</td>\n      <td>Los Angeles, CA</td>\n      <td>50544</td>\n    </tr>\n  </tbody>\n</table>\n</div>"
     },
     "metadata": {},
     "execution_count": 23
    }
   ],
   "source": [
    "#second dataframe\n",
    "city_data_2 ={\n",
    "    \"Year\": year_results_2,\n",
    "    \"City\": city_2,\n",
    "    \"Median Household Income\": med_household_income,\n",
    "}\n",
    "city_df_2 = pd.DataFrame(city_data_2)\n",
    "city_df_2 = city_df_2.loc[city_df_2['City']== 'Los Angeles, CA']\n",
    "city_df_2.head()"
   ]
  },
  {
   "cell_type": "code",
   "execution_count": 19,
   "metadata": {},
   "outputs": [
    {
     "output_type": "execute_result",
     "data": {
      "text/plain": [
       "      Year_x             City       Age Range  Number in Range  \\\n",
       "0       2018  Los Angeles, CA  18 to 24 Years           400942   \n",
       "1       2018  Los Angeles, CA  18 to 24 Years           400942   \n",
       "2       2018  Los Angeles, CA  18 to 24 Years           400942   \n",
       "3       2018  Los Angeles, CA  18 to 24 Years           400942   \n",
       "4       2018  Los Angeles, CA  18 to 24 Years           400942   \n",
       "...      ...              ...             ...              ...   \n",
       "14251   2013  Los Angeles, CA   Under 5 Years           249942   \n",
       "14252   2013  Los Angeles, CA   Under 5 Years           249942   \n",
       "14253   2013  Los Angeles, CA   Under 5 Years           249942   \n",
       "14254   2013  Los Angeles, CA   Under 5 Years           249942   \n",
       "14255   2013  Los Angeles, CA   Under 5 Years           249942   \n",
       "\n",
       "       Median Household Income  \n",
       "0                        62474  \n",
       "1                        60197  \n",
       "2                        54432  \n",
       "3                        52024  \n",
       "4                        50544  \n",
       "...                        ...  \n",
       "14251                    60197  \n",
       "14252                    54432  \n",
       "14253                    52024  \n",
       "14254                    50544  \n",
       "14255                    48466  \n",
       "\n",
       "[14256 rows x 5 columns]"
      ],
      "text/html": "<div>\n<style scoped>\n    .dataframe tbody tr th:only-of-type {\n        vertical-align: middle;\n    }\n\n    .dataframe tbody tr th {\n        vertical-align: top;\n    }\n\n    .dataframe thead th {\n        text-align: right;\n    }\n</style>\n<table border=\"1\" class=\"dataframe\">\n  <thead>\n    <tr style=\"text-align: right;\">\n      <th></th>\n      <th>Year_x</th>\n      <th>City</th>\n      <th>Age Range</th>\n      <th>Number in Range</th>\n      <th>Median Household Income</th>\n    </tr>\n  </thead>\n  <tbody>\n    <tr>\n      <th>0</th>\n      <td>2018</td>\n      <td>Los Angeles, CA</td>\n      <td>18 to 24 Years</td>\n      <td>400942</td>\n      <td>62474</td>\n    </tr>\n    <tr>\n      <th>1</th>\n      <td>2018</td>\n      <td>Los Angeles, CA</td>\n      <td>18 to 24 Years</td>\n      <td>400942</td>\n      <td>60197</td>\n    </tr>\n    <tr>\n      <th>2</th>\n      <td>2018</td>\n      <td>Los Angeles, CA</td>\n      <td>18 to 24 Years</td>\n      <td>400942</td>\n      <td>54432</td>\n    </tr>\n    <tr>\n      <th>3</th>\n      <td>2018</td>\n      <td>Los Angeles, CA</td>\n      <td>18 to 24 Years</td>\n      <td>400942</td>\n      <td>52024</td>\n    </tr>\n    <tr>\n      <th>4</th>\n      <td>2018</td>\n      <td>Los Angeles, CA</td>\n      <td>18 to 24 Years</td>\n      <td>400942</td>\n      <td>50544</td>\n    </tr>\n    <tr>\n      <th>...</th>\n      <td>...</td>\n      <td>...</td>\n      <td>...</td>\n      <td>...</td>\n      <td>...</td>\n    </tr>\n    <tr>\n      <th>14251</th>\n      <td>2013</td>\n      <td>Los Angeles, CA</td>\n      <td>Under 5 Years</td>\n      <td>249942</td>\n      <td>60197</td>\n    </tr>\n    <tr>\n      <th>14252</th>\n      <td>2013</td>\n      <td>Los Angeles, CA</td>\n      <td>Under 5 Years</td>\n      <td>249942</td>\n      <td>54432</td>\n    </tr>\n    <tr>\n      <th>14253</th>\n      <td>2013</td>\n      <td>Los Angeles, CA</td>\n      <td>Under 5 Years</td>\n      <td>249942</td>\n      <td>52024</td>\n    </tr>\n    <tr>\n      <th>14254</th>\n      <td>2013</td>\n      <td>Los Angeles, CA</td>\n      <td>Under 5 Years</td>\n      <td>249942</td>\n      <td>50544</td>\n    </tr>\n    <tr>\n      <th>14255</th>\n      <td>2013</td>\n      <td>Los Angeles, CA</td>\n      <td>Under 5 Years</td>\n      <td>249942</td>\n      <td>48466</td>\n    </tr>\n  </tbody>\n</table>\n<p>14256 rows × 5 columns</p>\n</div>"
     },
     "metadata": {},
     "execution_count": 19
    }
   ],
   "source": [
    "#merge dataframes to get unified data\n",
    "city_data_clean = pd.merge(city_df_1, city_df_2, on='City', how='left')\n",
    "city_data_clean = city_data_clean[['Year_x','City','Age Range','Number in Range','Median Household Income']]\n",
    "city_data_clean"
   ]
  },
  {
   "cell_type": "code",
   "execution_count": 9,
   "metadata": {},
   "outputs": [
    {
     "output_type": "execute_result",
     "data": {
      "text/plain": [
       "       State Code (FIPS)  Place Code (FIPS)  \\\n",
       "0                      0                  0   \n",
       "1                      1                  0   \n",
       "2                      1                  0   \n",
       "3                      1                  0   \n",
       "4                      1                  0   \n",
       "...                  ...                ...   \n",
       "43842                 72                  0   \n",
       "43843                 72                  0   \n",
       "43844                 72                  0   \n",
       "43845                 72                  0   \n",
       "43846                 72                  0   \n",
       "\n",
       "      Area Name (including legal/statistical area description)  \n",
       "0                                          United States        \n",
       "1                                                Alabama        \n",
       "2                                         Autauga County        \n",
       "3                                         Baldwin County        \n",
       "4                                         Barbour County        \n",
       "...                                                  ...        \n",
       "43842                                Vega Baja Municipio        \n",
       "43843                                  Vieques Municipio        \n",
       "43844                                 Villalba Municipio        \n",
       "43845                                  Yabucoa Municipio        \n",
       "43846                                    Yauco Municipio        \n",
       "\n",
       "[43847 rows x 3 columns]"
      ],
      "text/html": "<div>\n<style scoped>\n    .dataframe tbody tr th:only-of-type {\n        vertical-align: middle;\n    }\n\n    .dataframe tbody tr th {\n        vertical-align: top;\n    }\n\n    .dataframe thead th {\n        text-align: right;\n    }\n</style>\n<table border=\"1\" class=\"dataframe\">\n  <thead>\n    <tr style=\"text-align: right;\">\n      <th></th>\n      <th>State Code (FIPS)</th>\n      <th>Place Code (FIPS)</th>\n      <th>Area Name (including legal/statistical area description)</th>\n    </tr>\n  </thead>\n  <tbody>\n    <tr>\n      <th>0</th>\n      <td>0</td>\n      <td>0</td>\n      <td>United States</td>\n    </tr>\n    <tr>\n      <th>1</th>\n      <td>1</td>\n      <td>0</td>\n      <td>Alabama</td>\n    </tr>\n    <tr>\n      <th>2</th>\n      <td>1</td>\n      <td>0</td>\n      <td>Autauga County</td>\n    </tr>\n    <tr>\n      <th>3</th>\n      <td>1</td>\n      <td>0</td>\n      <td>Baldwin County</td>\n    </tr>\n    <tr>\n      <th>4</th>\n      <td>1</td>\n      <td>0</td>\n      <td>Barbour County</td>\n    </tr>\n    <tr>\n      <th>...</th>\n      <td>...</td>\n      <td>...</td>\n      <td>...</td>\n    </tr>\n    <tr>\n      <th>43842</th>\n      <td>72</td>\n      <td>0</td>\n      <td>Vega Baja Municipio</td>\n    </tr>\n    <tr>\n      <th>43843</th>\n      <td>72</td>\n      <td>0</td>\n      <td>Vieques Municipio</td>\n    </tr>\n    <tr>\n      <th>43844</th>\n      <td>72</td>\n      <td>0</td>\n      <td>Villalba Municipio</td>\n    </tr>\n    <tr>\n      <th>43845</th>\n      <td>72</td>\n      <td>0</td>\n      <td>Yabucoa Municipio</td>\n    </tr>\n    <tr>\n      <th>43846</th>\n      <td>72</td>\n      <td>0</td>\n      <td>Yauco Municipio</td>\n    </tr>\n  </tbody>\n</table>\n<p>43847 rows × 3 columns</p>\n</div>"
     },
     "metadata": {},
     "execution_count": 9
    }
   ],
   "source": [
    "#pulling in geo-codes\n",
    "geo_data = \"all-geocodes-v2018 (1).xlsx\"\n",
    "geo_codes = pd.read_excel(geo_data, index_col=0, header=4).reset_index()\n",
    "geo_codes = geo_codes[['State Code (FIPS)','Place Code (FIPS)','Area Name (including legal/statistical area description)']]\n",
    "geo_codes"
   ]
  },
  {
   "cell_type": "code",
   "execution_count": null,
   "metadata": {},
   "outputs": [],
   "source": []
  }
 ]
}