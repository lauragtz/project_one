{
 "metadata": {
  "orig_nbformat": 2,
  "kernelspec": {
   "name": "python3",
   "display_name": "Python 3"
  }
 },
 "nbformat": 4,
 "nbformat_minor": 2,
 "cells": [
  {
   "cell_type": "code",
   "execution_count": 1,
   "metadata": {},
   "outputs": [],
   "source": [
    "import pandas as pd\n",
    "\n",
    "income_df = pd.read_csv('Resources/income_data.csv')\n",
    "age_df = pd.read_csv('Resources/Age_Data.csv')"
   ]
  },
  {
   "cell_type": "code",
   "execution_count": 2,
   "metadata": {},
   "outputs": [
    {
     "output_type": "execute_result",
     "data": {
      "text/plain": [
       "      Unnamed: 0  Year        City  Median Income\n",
       "0              0  2018  Albany, NY          45500\n",
       "1              1  2017  Albany, NY          43790\n",
       "2              2  2016  Albany, NY          42335\n",
       "3              3  2015  Albany, NY          40949\n",
       "4              4  2014  Albany, NY          41099\n",
       "...          ...   ...         ...            ...\n",
       "1471        1471  2017   Tampa, FL          50489\n",
       "1472        1472  2016   Tampa, FL          50405\n",
       "1473        1473  2015   Tampa, FL          44432\n",
       "1474        1474  2014   Tampa, FL          45709\n",
       "1475        1475  2013   Tampa, FL          42649\n",
       "\n",
       "[1476 rows x 4 columns]"
      ],
      "text/html": "<div>\n<style scoped>\n    .dataframe tbody tr th:only-of-type {\n        vertical-align: middle;\n    }\n\n    .dataframe tbody tr th {\n        vertical-align: top;\n    }\n\n    .dataframe thead th {\n        text-align: right;\n    }\n</style>\n<table border=\"1\" class=\"dataframe\">\n  <thead>\n    <tr style=\"text-align: right;\">\n      <th></th>\n      <th>Unnamed: 0</th>\n      <th>Year</th>\n      <th>City</th>\n      <th>Median Income</th>\n    </tr>\n  </thead>\n  <tbody>\n    <tr>\n      <th>0</th>\n      <td>0</td>\n      <td>2018</td>\n      <td>Albany, NY</td>\n      <td>45500</td>\n    </tr>\n    <tr>\n      <th>1</th>\n      <td>1</td>\n      <td>2017</td>\n      <td>Albany, NY</td>\n      <td>43790</td>\n    </tr>\n    <tr>\n      <th>2</th>\n      <td>2</td>\n      <td>2016</td>\n      <td>Albany, NY</td>\n      <td>42335</td>\n    </tr>\n    <tr>\n      <th>3</th>\n      <td>3</td>\n      <td>2015</td>\n      <td>Albany, NY</td>\n      <td>40949</td>\n    </tr>\n    <tr>\n      <th>4</th>\n      <td>4</td>\n      <td>2014</td>\n      <td>Albany, NY</td>\n      <td>41099</td>\n    </tr>\n    <tr>\n      <th>...</th>\n      <td>...</td>\n      <td>...</td>\n      <td>...</td>\n      <td>...</td>\n    </tr>\n    <tr>\n      <th>1471</th>\n      <td>1471</td>\n      <td>2017</td>\n      <td>Tampa, FL</td>\n      <td>50489</td>\n    </tr>\n    <tr>\n      <th>1472</th>\n      <td>1472</td>\n      <td>2016</td>\n      <td>Tampa, FL</td>\n      <td>50405</td>\n    </tr>\n    <tr>\n      <th>1473</th>\n      <td>1473</td>\n      <td>2015</td>\n      <td>Tampa, FL</td>\n      <td>44432</td>\n    </tr>\n    <tr>\n      <th>1474</th>\n      <td>1474</td>\n      <td>2014</td>\n      <td>Tampa, FL</td>\n      <td>45709</td>\n    </tr>\n    <tr>\n      <th>1475</th>\n      <td>1475</td>\n      <td>2013</td>\n      <td>Tampa, FL</td>\n      <td>42649</td>\n    </tr>\n  </tbody>\n</table>\n<p>1476 rows × 4 columns</p>\n</div>"
     },
     "metadata": {},
     "execution_count": 2
    }
   ],
   "source": [
    "income_df"
   ]
  },
  {
   "cell_type": "code",
   "execution_count": 3,
   "metadata": {},
   "outputs": [],
   "source": [
    "income_df = income_df.rename(columns= {'Household Income by Race': 'Household Income'})\n"
   ]
  },
  {
   "cell_type": "code",
   "execution_count": 4,
   "metadata": {},
   "outputs": [
    {
     "output_type": "execute_result",
     "data": {
      "text/plain": [
       "array([2018, 2017, 2016, 2015, 2014, 2013], dtype=int64)"
      ]
     },
     "metadata": {},
     "execution_count": 4
    }
   ],
   "source": [
    "income_df['Year'].unique()"
   ]
  },
  {
   "cell_type": "code",
   "execution_count": 5,
   "metadata": {},
   "outputs": [],
   "source": [
    "drop_years = [2013, 2014]\n",
    "for year in drop_years:\n",
    "    income_df.drop(income_df.loc[income_df['Year']==year].index, inplace=True)\n",
    "    age_df.drop(age_df.loc[age_df['Year']==year].index, inplace=True)"
   ]
  },
  {
   "cell_type": "code",
   "execution_count": 6,
   "metadata": {},
   "outputs": [
    {
     "output_type": "execute_result",
     "data": {
      "text/plain": [
       "array(['Albany, NY', 'Atlanta, GA', 'Boise City, ID', 'Boston, MA',\n",
       "       'Buffalo, NY', 'Charlotte, NC', 'Chicago, IL', 'Cincinnati, OH',\n",
       "       'Columbus, OH', 'Dallas, TX', 'Denver, CO', 'Detroit, MI',\n",
       "       'Grand Rapids, MI', 'Harrisburg, PA', 'Hartford, CT',\n",
       "       'Houston, TX', 'Indianapolis city (balance), IN',\n",
       "       'Jacksonville, FL', 'Las Vegas, NV', 'Los Angeles, CA',\n",
       "       'Miami, FL', 'Nashville, NC', 'New Orleans, LA', 'New York, NY',\n",
       "       'Orlando, FL', 'Philadelphia, PA', 'Phoenix, AZ', 'Pittsburgh, PA',\n",
       "       'Portland, OR', 'Raleigh, NC', 'Richmond, VA', 'Roanoke, VA',\n",
       "       'Sacramento, CA', 'San Diego, CA', 'San Francisco, CA',\n",
       "       'Seattle, WA', 'Spokane, WA', 'St. Louis, MO', 'Syracuse, NY',\n",
       "       'Tampa, FL'], dtype=object)"
      ]
     },
     "metadata": {},
     "execution_count": 6
    }
   ],
   "source": [
    "income_df['City'].unique()"
   ]
  },
  {
   "cell_type": "code",
   "execution_count": 7,
   "metadata": {},
   "outputs": [
    {
     "output_type": "execute_result",
     "data": {
      "text/plain": [
       "array(['18 to 24 Years', '75 Years & Over', '45 to 54 Years',\n",
       "       'Under 5 Years', '65 to 74 Years', '35 to 44 Years',\n",
       "       '55 to 59 Years', '5 to 17 Years', '62 to 64 Years',\n",
       "       '25 to 34 Years', '60 & 61 Years'], dtype=object)"
      ]
     },
     "metadata": {},
     "execution_count": 7
    }
   ],
   "source": [
    "age_df['Age Range'].unique()"
   ]
  },
  {
   "cell_type": "code",
   "execution_count": 8,
   "metadata": {},
   "outputs": [],
   "source": [
    "income_df.to_csv('Resources/clean_income_data.csv')\n",
    "age_df.to_csv('Resources/clean_age_data.csv')\n"
   ]
  },
  {
   "cell_type": "code",
   "execution_count": null,
   "metadata": {},
   "outputs": [],
   "source": []
  }
 ]
}