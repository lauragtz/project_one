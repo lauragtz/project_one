{
 "metadata": {
  "language_info": {
   "codemirror_mode": {
    "name": "ipython",
    "version": 3
   },
   "file_extension": ".py",
   "mimetype": "text/x-python",
   "name": "python",
   "nbconvert_exporter": "python",
   "pygments_lexer": "ipython3",
   "version": "3.8.3-final"
  },
  "orig_nbformat": 2,
  "kernelspec": {
   "name": "python3",
   "display_name": "Python 3"
  }
 },
 "nbformat": 4,
 "nbformat_minor": 2,
 "cells": [
  {
   "cell_type": "code",
   "execution_count": 1,
   "metadata": {},
   "outputs": [],
   "source": [
    "import pandas as pd\n",
    "\n",
    "income_df = pd.read_csv('Resources/income_data.csv')\n",
    "age_df = pd.read_csv('Resources/Age_Data.csv')"
   ]
  },
  {
   "cell_type": "code",
   "execution_count": 2,
   "metadata": {},
   "outputs": [
    {
     "output_type": "execute_result",
     "data": {
      "text/plain": [
       "       Unnamed: 0  Year                                City  \\\n",
       "0               0  2018                Albany City PUMA, NY   \n",
       "1               1  2018  Los Angeles-Long Beach-Anaheim, CA   \n",
       "2               2  2018                       United States   \n",
       "3               3  2018         Albany-Schenectady-Troy, NY   \n",
       "4               4  2018                     Los Angeles, CA   \n",
       "...           ...   ...                                 ...   \n",
       "13495       13495  2013              Los Angeles County, CA   \n",
       "13496       13496  2013                             Florida   \n",
       "13497       13497  2013                          California   \n",
       "13498       13498  2013                     Los Angeles, CA   \n",
       "13499       13499  2013  Los Angeles-Long Beach-Anaheim, CA   \n",
       "\n",
       "       Household Income by Race  \n",
       "0                         47121  \n",
       "1                         69138  \n",
       "2                         60293  \n",
       "3                         68651  \n",
       "4                         58385  \n",
       "...                         ...  \n",
       "13495                     54529  \n",
       "13496                     46036  \n",
       "13497                     60190  \n",
       "13498                     48466  \n",
       "13499                     58869  \n",
       "\n",
       "[13500 rows x 4 columns]"
      ],
      "text/html": "<div>\n<style scoped>\n    .dataframe tbody tr th:only-of-type {\n        vertical-align: middle;\n    }\n\n    .dataframe tbody tr th {\n        vertical-align: top;\n    }\n\n    .dataframe thead th {\n        text-align: right;\n    }\n</style>\n<table border=\"1\" class=\"dataframe\">\n  <thead>\n    <tr style=\"text-align: right;\">\n      <th></th>\n      <th>Unnamed: 0</th>\n      <th>Year</th>\n      <th>City</th>\n      <th>Household Income by Race</th>\n    </tr>\n  </thead>\n  <tbody>\n    <tr>\n      <th>0</th>\n      <td>0</td>\n      <td>2018</td>\n      <td>Albany City PUMA, NY</td>\n      <td>47121</td>\n    </tr>\n    <tr>\n      <th>1</th>\n      <td>1</td>\n      <td>2018</td>\n      <td>Los Angeles-Long Beach-Anaheim, CA</td>\n      <td>69138</td>\n    </tr>\n    <tr>\n      <th>2</th>\n      <td>2</td>\n      <td>2018</td>\n      <td>United States</td>\n      <td>60293</td>\n    </tr>\n    <tr>\n      <th>3</th>\n      <td>3</td>\n      <td>2018</td>\n      <td>Albany-Schenectady-Troy, NY</td>\n      <td>68651</td>\n    </tr>\n    <tr>\n      <th>4</th>\n      <td>4</td>\n      <td>2018</td>\n      <td>Los Angeles, CA</td>\n      <td>58385</td>\n    </tr>\n    <tr>\n      <th>...</th>\n      <td>...</td>\n      <td>...</td>\n      <td>...</td>\n      <td>...</td>\n    </tr>\n    <tr>\n      <th>13495</th>\n      <td>13495</td>\n      <td>2013</td>\n      <td>Los Angeles County, CA</td>\n      <td>54529</td>\n    </tr>\n    <tr>\n      <th>13496</th>\n      <td>13496</td>\n      <td>2013</td>\n      <td>Florida</td>\n      <td>46036</td>\n    </tr>\n    <tr>\n      <th>13497</th>\n      <td>13497</td>\n      <td>2013</td>\n      <td>California</td>\n      <td>60190</td>\n    </tr>\n    <tr>\n      <th>13498</th>\n      <td>13498</td>\n      <td>2013</td>\n      <td>Los Angeles, CA</td>\n      <td>48466</td>\n    </tr>\n    <tr>\n      <th>13499</th>\n      <td>13499</td>\n      <td>2013</td>\n      <td>Los Angeles-Long Beach-Anaheim, CA</td>\n      <td>58869</td>\n    </tr>\n  </tbody>\n</table>\n<p>13500 rows × 4 columns</p>\n</div>"
     },
     "metadata": {},
     "execution_count": 2
    }
   ],
   "source": [
    "income_df"
   ]
  },
  {
   "cell_type": "code",
   "execution_count": 3,
   "metadata": {},
   "outputs": [],
   "source": [
    "income_df = income_df.rename(columns= {'Household Income by Race': 'Household Income'})\n"
   ]
  },
  {
   "cell_type": "code",
   "execution_count": 4,
   "metadata": {},
   "outputs": [
    {
     "output_type": "execute_result",
     "data": {
      "text/plain": [
       "array([2018, 2017, 2016, 2015, 2014, 2013], dtype=int64)"
      ]
     },
     "metadata": {},
     "execution_count": 4
    }
   ],
   "source": [
    "income_df['Year'].unique()"
   ]
  },
  {
   "cell_type": "code",
   "execution_count": 5,
   "metadata": {},
   "outputs": [],
   "source": [
    "drop_years = [2013, 2014]\n",
    "for year in drop_years:\n",
    "    income_df.drop(income_df.loc[income_df['Year']==year].index, inplace=True)\n",
    "    age_df.drop(age_df.loc[age_df['Year']==year].index, inplace=True)"
   ]
  },
  {
   "cell_type": "code",
   "execution_count": 6,
   "metadata": {},
   "outputs": [
    {
     "output_type": "execute_result",
     "data": {
      "text/plain": [
       "array(['Albany City PUMA, NY', 'Los Angeles-Long Beach-Anaheim, CA',\n",
       "       'United States', 'Albany-Schenectady-Troy, NY', 'Los Angeles, CA',\n",
       "       'Albany County, NY', 'Los Angeles County, CA', 'California',\n",
       "       'New York', 'Atlanta-Sandy Springs-Roswell, GA', 'Georgia',\n",
       "       'Fulton County, GA', 'DeKalb County, GA',\n",
       "       'Boise (South) & Kuna Cities PUMA, ID',\n",
       "       'Boise (North & West) & Garden City Cities PUMA, ID',\n",
       "       'Meridian (Northeast) & Boise (Far West) Cities PUMA, ID', 'Idaho',\n",
       "       'Nampa (Central & East) & Meridian (West) Cities PUMA, ID',\n",
       "       'Eagle City PUMA, ID', 'Ada County, ID', 'Boise City, ID',\n",
       "       'Boston-Cambridge-Newton, MA-NH', 'Massachusetts',\n",
       "       'Suffolk County, MA', 'Buffalo-Cheektowaga-Niagara Falls, NY',\n",
       "       'Erie County, NY', 'Charlotte-Concord-Gastonia, NC-SC',\n",
       "       'North Carolina', 'Mecklenburg County, NC',\n",
       "       'Chicago-Naperville-Elgin, IL-IN-WI', 'Illinois',\n",
       "       'DuPage County, IL', 'Cook County, IL', 'Cincinnati, OH-KY-IN',\n",
       "       'Ohio', 'Hamilton County, OH', 'Columbus, OH',\n",
       "       'Franklin County, OH', 'Collin County, TX', 'Dallas County, TX',\n",
       "       'Denton County, TX', 'Texas', 'Dallas-Fort Worth-Arlington, TX',\n",
       "       'Denver-Aurora-Lakewood, CO', 'Colorado', 'Denver County, CO',\n",
       "       'Detroit-Warren-Dearborn, MI', 'Michigan', 'Wayne County, MI',\n",
       "       'Kent County (Southeast) PUMA, MI',\n",
       "       'Kent County (Southwest) PUMA, MI', 'Kent County, MI',\n",
       "       'Grand Rapids-Wyoming, MI', 'Grand Rapids City Area PUMA, MI',\n",
       "       'Harrisburg City & Colonial Park PUMA, PA',\n",
       "       'Harrisburg-Carlisle, PA', 'Dauphin County, PA', 'Pennsylvania',\n",
       "       'Hartford Town PUMA, CT',\n",
       "       'Hartford-West Hartford-East Hartford, CT', 'Hartford County, CT',\n",
       "       'Connecticut', 'Fort Bend County, TX', 'Harris County, TX',\n",
       "       'Montgomery County, TX', 'Houston-The Woodlands-Sugar Land, TX',\n",
       "       'Indianapolis-Carmel-Anderson, IN', 'Indiana', 'Marion County, IN',\n",
       "       'Jacksonville, FL', 'Florida', 'Duval County, FL',\n",
       "       'Las Vegas-Henderson-Paradise, NV', 'Nevada', 'Clark County, NV',\n",
       "       'Kentucky', 'Louisville/Jefferson County (Southwest) PUMA, KY',\n",
       "       'Louisville/Jefferson County (Southeast) PUMA, KY',\n",
       "       'Louisville/Jefferson County (Northeast) PUMA, KY',\n",
       "       'Louisville/Jefferson County (North Central) PUMA, KY',\n",
       "       'Louisville/Jefferson County (Northwest) PUMA, KY',\n",
       "       'Louisville/Jefferson County (South Central) PUMA, KY',\n",
       "       'Jefferson County, KY', 'Louisville/Jefferson County, KY-IN',\n",
       "       'Miami-Fort Lauderdale-West Palm Beach, FL',\n",
       "       'Miami-Dade County, FL', 'Rocky Mount City PUMA, NC',\n",
       "       'Rocky Mount, NC', 'Nash County, NC', 'New Orleans-Metairie, LA',\n",
       "       'Louisiana', 'Orleans Parish, LA', 'Richmond County, NY',\n",
       "       'New York-Newark-Jersey City, NY-NJ-PA', 'Bronx County, NY',\n",
       "       'Kings County, NY', 'New York County, NY', 'Queens County, NY',\n",
       "       'Orlando-Kissimmee-Sanford, FL', 'Orange County, FL',\n",
       "       'Philadelphia-Camden-Wilmington, PA-NJ-DE-MD',\n",
       "       'Philadelphia County, PA', 'Phoenix-Mesa-Scottsdale, AZ',\n",
       "       'Arizona', 'Maricopa County, AZ', 'Pittsburgh, PA',\n",
       "       'Allegheny County, PA', 'Portland-Vancouver-Hillsboro, OR-WA',\n",
       "       'Clackamas County, OR', 'Multnomah County, OR',\n",
       "       'Washington County, OR', 'Oregon', 'Raleigh, NC',\n",
       "       'Durham-Chapel Hill, NC', 'Wake County, NC', 'Durham County, NC',\n",
       "       'Richmond City PUMA, VA',\n",
       "       'Tuckahoe, Short Pump & Wyndham PUMA, VA',\n",
       "       'Highland Springs, East Highland Park & Glen Allen PUMA, VA',\n",
       "       'James River Region PUMA, VA', 'Richmond, VA', 'Richmond city, VA',\n",
       "       'Virginia',\n",
       "       'Roanoke Valley-Alleghany Regional Commission (Outside Roanoke & Salem Cities) PUMA, VA',\n",
       "       'Roanoke Valley-Alleghany Regional Commission (Roanoke, Salem Cities & Vinton Town) PUMA, VA',\n",
       "       'Roanoke, VA', 'Roanoke city, VA',\n",
       "       'Sacramento--Roseville--Arden-Arcade, CA', 'Sacramento County, CA',\n",
       "       'San Diego-Carlsbad, CA', 'San Diego County, CA',\n",
       "       'San Francisco-Oakland-Hayward, CA', 'San Francisco County, CA',\n",
       "       'Seattle-Tacoma-Bellevue, WA', 'Washington', 'King County, WA',\n",
       "       'Cheney City PUMA, WA', 'Greater Spokane Valley City PUMA, WA',\n",
       "       'Spokane City (South) PUMA, WA', 'Spokane City (North) PUMA, WA',\n",
       "       'Spokane-Spokane Valley, WA', 'Spokane County, WA',\n",
       "       'St. Louis, MO-IL', 'Missouri', 'St. Louis city, MO',\n",
       "       'Syracuse City (Outer) PUMA, NY', 'Syracuse City PUMA, NY',\n",
       "       'Syracuse, NY', 'Onondaga County, NY',\n",
       "       'Tampa-St. Petersburg-Clearwater, FL', 'Hillsborough County, FL'],\n",
       "      dtype=object)"
      ]
     },
     "metadata": {},
     "execution_count": 6
    }
   ],
   "source": [
    "income_df['City'].unique()"
   ]
  },
  {
   "cell_type": "code",
   "execution_count": 7,
   "metadata": {},
   "outputs": [
    {
     "output_type": "execute_result",
     "data": {
      "text/plain": [
       "array(['18 to 24 Years', '75 Years & Over', '45 to 54 Years',\n",
       "       'Under 5 Years', '65 to 74 Years', '35 to 44 Years',\n",
       "       '55 to 59 Years', '5 to 17 Years', '62 to 64 Years',\n",
       "       '25 to 34 Years', '60 & 61 Years'], dtype=object)"
      ]
     },
     "metadata": {},
     "execution_count": 7
    }
   ],
   "source": [
    "age_df['Age Range'].unique()"
   ]
  },
  {
   "cell_type": "code",
   "execution_count": 8,
   "metadata": {},
   "outputs": [],
   "source": [
    "income_df.to_csv('Resources/clean_income_data.csv')\n",
    "age_df.to_csv('Resources/clean_age_data.csv')\n"
   ]
  },
  {
   "cell_type": "code",
   "execution_count": null,
   "metadata": {},
   "outputs": [],
   "source": []
  }
 ]
}