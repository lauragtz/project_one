{
 "metadata": {
  "language_info": {
   "codemirror_mode": {
    "name": "ipython",
    "version": 3
   },
   "file_extension": ".py",
   "mimetype": "text/x-python",
   "name": "python",
   "nbconvert_exporter": "python",
   "pygments_lexer": "ipython3",
   "version": "3.8.3-final"
  },
  "orig_nbformat": 2,
  "kernelspec": {
   "name": "python3",
   "display_name": "Python 3"
  }
 },
 "nbformat": 4,
 "nbformat_minor": 2,
 "cells": [
  {
   "cell_type": "code",
   "execution_count": 10,
   "metadata": {},
   "outputs": [],
   "source": [
    "import pandas as pd\n",
    "import matplotlib.pyplot as plt\n",
    "import numpy as np"
   ]
  },
  {
   "cell_type": "code",
   "execution_count": 11,
   "metadata": {},
   "outputs": [],
   "source": [
    "avocado_df = pd.read_csv('Resources/clean_avocado.csv')\n",
    "income_df = pd.read_csv('Resources/clean_income_data.csv')\n",
    "age_df = pd.read_csv('Resources/clean_age_data.csv')"
   ]
  },
  {
   "cell_type": "code",
   "execution_count": 12,
   "metadata": {},
   "outputs": [
    {
     "output_type": "execute_result",
     "data": {
      "text/plain": [
       "       Unnamed: 0        Date  AveragePrice  Total Volume     4046      4225  \\\n",
       "0               0    1/4/2015          1.22      40873.28  2819.50  28287.42   \n",
       "1               1   1/11/2015          1.24      41195.08  1002.85  31640.34   \n",
       "2               2   1/18/2015          1.17      44511.28   914.14  31540.32   \n",
       "3               3   1/25/2015          1.06      45147.50   941.38  33196.16   \n",
       "4               4    2/1/2015          0.99      70873.60  1353.90  60017.20   \n",
       "...           ...         ...           ...           ...      ...       ...   \n",
       "14755       26512   11/4/2018          1.49       8300.71   152.99    521.23   \n",
       "14756       26513  11/11/2018          1.54       9113.31   136.55    670.58   \n",
       "14757       26514  11/18/2018          1.52      12259.52   220.91   1231.73   \n",
       "14758       26515  11/25/2018          1.24        710.36    52.13     25.74   \n",
       "14759       26516   12/2/2018          1.29       7374.15   176.32      5.44   \n",
       "\n",
       "         4770  Total Bags  Small Bags  Large Bags  XLarge Bags          type  \\\n",
       "0       49.90     9716.46     9186.93      529.53          0.0  conventional   \n",
       "1      127.12     8424.77     8036.04      388.73          0.0  conventional   \n",
       "2      135.77    11921.05    11651.09      269.96          0.0  conventional   \n",
       "3      164.14    10845.82    10103.35      742.47          0.0  conventional   \n",
       "4      179.32     9323.18     9170.82      152.36          0.0  conventional   \n",
       "...       ...         ...         ...         ...          ...           ...   \n",
       "14755    0.00     7626.49     6953.34      673.15          0.0       organic   \n",
       "14756    0.00     8306.18     7048.18     1258.00          0.0       organic   \n",
       "14757    0.00    10806.88     7333.34     3473.54          0.0       organic   \n",
       "14758    0.00      632.49      567.77       64.72          0.0       organic   \n",
       "14759    0.00     7192.39     7192.39        0.00          0.0       organic   \n",
       "\n",
       "       year      region  \n",
       "0      2015  Albany, NY  \n",
       "1      2015  Albany, NY  \n",
       "2      2015  Albany, NY  \n",
       "3      2015  Albany, NY  \n",
       "4      2015  Albany, NY  \n",
       "...     ...         ...  \n",
       "14755  2018   Tampa, FL  \n",
       "14756  2018   Tampa, FL  \n",
       "14757  2018   Tampa, FL  \n",
       "14758  2018   Tampa, FL  \n",
       "14759  2018   Tampa, FL  \n",
       "\n",
       "[14760 rows x 14 columns]"
      ],
      "text/html": "<div>\n<style scoped>\n    .dataframe tbody tr th:only-of-type {\n        vertical-align: middle;\n    }\n\n    .dataframe tbody tr th {\n        vertical-align: top;\n    }\n\n    .dataframe thead th {\n        text-align: right;\n    }\n</style>\n<table border=\"1\" class=\"dataframe\">\n  <thead>\n    <tr style=\"text-align: right;\">\n      <th></th>\n      <th>Unnamed: 0</th>\n      <th>Date</th>\n      <th>AveragePrice</th>\n      <th>Total Volume</th>\n      <th>4046</th>\n      <th>4225</th>\n      <th>4770</th>\n      <th>Total Bags</th>\n      <th>Small Bags</th>\n      <th>Large Bags</th>\n      <th>XLarge Bags</th>\n      <th>type</th>\n      <th>year</th>\n      <th>region</th>\n    </tr>\n  </thead>\n  <tbody>\n    <tr>\n      <th>0</th>\n      <td>0</td>\n      <td>1/4/2015</td>\n      <td>1.22</td>\n      <td>40873.28</td>\n      <td>2819.50</td>\n      <td>28287.42</td>\n      <td>49.90</td>\n      <td>9716.46</td>\n      <td>9186.93</td>\n      <td>529.53</td>\n      <td>0.0</td>\n      <td>conventional</td>\n      <td>2015</td>\n      <td>Albany, NY</td>\n    </tr>\n    <tr>\n      <th>1</th>\n      <td>1</td>\n      <td>1/11/2015</td>\n      <td>1.24</td>\n      <td>41195.08</td>\n      <td>1002.85</td>\n      <td>31640.34</td>\n      <td>127.12</td>\n      <td>8424.77</td>\n      <td>8036.04</td>\n      <td>388.73</td>\n      <td>0.0</td>\n      <td>conventional</td>\n      <td>2015</td>\n      <td>Albany, NY</td>\n    </tr>\n    <tr>\n      <th>2</th>\n      <td>2</td>\n      <td>1/18/2015</td>\n      <td>1.17</td>\n      <td>44511.28</td>\n      <td>914.14</td>\n      <td>31540.32</td>\n      <td>135.77</td>\n      <td>11921.05</td>\n      <td>11651.09</td>\n      <td>269.96</td>\n      <td>0.0</td>\n      <td>conventional</td>\n      <td>2015</td>\n      <td>Albany, NY</td>\n    </tr>\n    <tr>\n      <th>3</th>\n      <td>3</td>\n      <td>1/25/2015</td>\n      <td>1.06</td>\n      <td>45147.50</td>\n      <td>941.38</td>\n      <td>33196.16</td>\n      <td>164.14</td>\n      <td>10845.82</td>\n      <td>10103.35</td>\n      <td>742.47</td>\n      <td>0.0</td>\n      <td>conventional</td>\n      <td>2015</td>\n      <td>Albany, NY</td>\n    </tr>\n    <tr>\n      <th>4</th>\n      <td>4</td>\n      <td>2/1/2015</td>\n      <td>0.99</td>\n      <td>70873.60</td>\n      <td>1353.90</td>\n      <td>60017.20</td>\n      <td>179.32</td>\n      <td>9323.18</td>\n      <td>9170.82</td>\n      <td>152.36</td>\n      <td>0.0</td>\n      <td>conventional</td>\n      <td>2015</td>\n      <td>Albany, NY</td>\n    </tr>\n    <tr>\n      <th>...</th>\n      <td>...</td>\n      <td>...</td>\n      <td>...</td>\n      <td>...</td>\n      <td>...</td>\n      <td>...</td>\n      <td>...</td>\n      <td>...</td>\n      <td>...</td>\n      <td>...</td>\n      <td>...</td>\n      <td>...</td>\n      <td>...</td>\n      <td>...</td>\n    </tr>\n    <tr>\n      <th>14755</th>\n      <td>26512</td>\n      <td>11/4/2018</td>\n      <td>1.49</td>\n      <td>8300.71</td>\n      <td>152.99</td>\n      <td>521.23</td>\n      <td>0.00</td>\n      <td>7626.49</td>\n      <td>6953.34</td>\n      <td>673.15</td>\n      <td>0.0</td>\n      <td>organic</td>\n      <td>2018</td>\n      <td>Tampa, FL</td>\n    </tr>\n    <tr>\n      <th>14756</th>\n      <td>26513</td>\n      <td>11/11/2018</td>\n      <td>1.54</td>\n      <td>9113.31</td>\n      <td>136.55</td>\n      <td>670.58</td>\n      <td>0.00</td>\n      <td>8306.18</td>\n      <td>7048.18</td>\n      <td>1258.00</td>\n      <td>0.0</td>\n      <td>organic</td>\n      <td>2018</td>\n      <td>Tampa, FL</td>\n    </tr>\n    <tr>\n      <th>14757</th>\n      <td>26514</td>\n      <td>11/18/2018</td>\n      <td>1.52</td>\n      <td>12259.52</td>\n      <td>220.91</td>\n      <td>1231.73</td>\n      <td>0.00</td>\n      <td>10806.88</td>\n      <td>7333.34</td>\n      <td>3473.54</td>\n      <td>0.0</td>\n      <td>organic</td>\n      <td>2018</td>\n      <td>Tampa, FL</td>\n    </tr>\n    <tr>\n      <th>14758</th>\n      <td>26515</td>\n      <td>11/25/2018</td>\n      <td>1.24</td>\n      <td>710.36</td>\n      <td>52.13</td>\n      <td>25.74</td>\n      <td>0.00</td>\n      <td>632.49</td>\n      <td>567.77</td>\n      <td>64.72</td>\n      <td>0.0</td>\n      <td>organic</td>\n      <td>2018</td>\n      <td>Tampa, FL</td>\n    </tr>\n    <tr>\n      <th>14759</th>\n      <td>26516</td>\n      <td>12/2/2018</td>\n      <td>1.29</td>\n      <td>7374.15</td>\n      <td>176.32</td>\n      <td>5.44</td>\n      <td>0.00</td>\n      <td>7192.39</td>\n      <td>7192.39</td>\n      <td>0.00</td>\n      <td>0.0</td>\n      <td>organic</td>\n      <td>2018</td>\n      <td>Tampa, FL</td>\n    </tr>\n  </tbody>\n</table>\n<p>14760 rows × 14 columns</p>\n</div>"
     },
     "metadata": {},
     "execution_count": 12
    }
   ],
   "source": [
    "avocado_df"
   ]
  },
  {
   "cell_type": "code",
   "execution_count": 13,
   "metadata": {},
   "outputs": [
    {
     "output_type": "execute_result",
     "data": {
      "text/plain": [
       "      Unnamed: 0  Unnamed: 0.1  Year                                City  \\\n",
       "0              0             0  2018                Albany City PUMA, NY   \n",
       "1              1             1  2018  Los Angeles-Long Beach-Anaheim, CA   \n",
       "2              2             2  2018                       United States   \n",
       "3              3             3  2018         Albany-Schenectady-Troy, NY   \n",
       "4              4             4  2018                     Los Angeles, CA   \n",
       "...          ...           ...   ...                                 ...   \n",
       "8995       13479         13479  2015  Los Angeles-Long Beach-Anaheim, CA   \n",
       "8996       13480         13480  2015              Los Angeles County, CA   \n",
       "8997       13481         13481  2015                     Los Angeles, CA   \n",
       "8998       13482         13482  2015                             Florida   \n",
       "8999       13483         13483  2015                          California   \n",
       "\n",
       "      Household Income  \n",
       "0                47121  \n",
       "1                69138  \n",
       "2                60293  \n",
       "3                68651  \n",
       "4                58385  \n",
       "...                ...  \n",
       "8995             62544  \n",
       "8996             59134  \n",
       "8997             52024  \n",
       "8998             49426  \n",
       "8999             64500  \n",
       "\n",
       "[9000 rows x 5 columns]"
      ],
      "text/html": "<div>\n<style scoped>\n    .dataframe tbody tr th:only-of-type {\n        vertical-align: middle;\n    }\n\n    .dataframe tbody tr th {\n        vertical-align: top;\n    }\n\n    .dataframe thead th {\n        text-align: right;\n    }\n</style>\n<table border=\"1\" class=\"dataframe\">\n  <thead>\n    <tr style=\"text-align: right;\">\n      <th></th>\n      <th>Unnamed: 0</th>\n      <th>Unnamed: 0.1</th>\n      <th>Year</th>\n      <th>City</th>\n      <th>Household Income</th>\n    </tr>\n  </thead>\n  <tbody>\n    <tr>\n      <th>0</th>\n      <td>0</td>\n      <td>0</td>\n      <td>2018</td>\n      <td>Albany City PUMA, NY</td>\n      <td>47121</td>\n    </tr>\n    <tr>\n      <th>1</th>\n      <td>1</td>\n      <td>1</td>\n      <td>2018</td>\n      <td>Los Angeles-Long Beach-Anaheim, CA</td>\n      <td>69138</td>\n    </tr>\n    <tr>\n      <th>2</th>\n      <td>2</td>\n      <td>2</td>\n      <td>2018</td>\n      <td>United States</td>\n      <td>60293</td>\n    </tr>\n    <tr>\n      <th>3</th>\n      <td>3</td>\n      <td>3</td>\n      <td>2018</td>\n      <td>Albany-Schenectady-Troy, NY</td>\n      <td>68651</td>\n    </tr>\n    <tr>\n      <th>4</th>\n      <td>4</td>\n      <td>4</td>\n      <td>2018</td>\n      <td>Los Angeles, CA</td>\n      <td>58385</td>\n    </tr>\n    <tr>\n      <th>...</th>\n      <td>...</td>\n      <td>...</td>\n      <td>...</td>\n      <td>...</td>\n      <td>...</td>\n    </tr>\n    <tr>\n      <th>8995</th>\n      <td>13479</td>\n      <td>13479</td>\n      <td>2015</td>\n      <td>Los Angeles-Long Beach-Anaheim, CA</td>\n      <td>62544</td>\n    </tr>\n    <tr>\n      <th>8996</th>\n      <td>13480</td>\n      <td>13480</td>\n      <td>2015</td>\n      <td>Los Angeles County, CA</td>\n      <td>59134</td>\n    </tr>\n    <tr>\n      <th>8997</th>\n      <td>13481</td>\n      <td>13481</td>\n      <td>2015</td>\n      <td>Los Angeles, CA</td>\n      <td>52024</td>\n    </tr>\n    <tr>\n      <th>8998</th>\n      <td>13482</td>\n      <td>13482</td>\n      <td>2015</td>\n      <td>Florida</td>\n      <td>49426</td>\n    </tr>\n    <tr>\n      <th>8999</th>\n      <td>13483</td>\n      <td>13483</td>\n      <td>2015</td>\n      <td>California</td>\n      <td>64500</td>\n    </tr>\n  </tbody>\n</table>\n<p>9000 rows × 5 columns</p>\n</div>"
     },
     "metadata": {},
     "execution_count": 13
    }
   ],
   "source": [
    "income_df"
   ]
  },
  {
   "cell_type": "code",
   "execution_count": 14,
   "metadata": {},
   "outputs": [
    {
     "output_type": "execute_result",
     "data": {
      "text/plain": [
       "       Unnamed: 0  Unnamed: 0.1  Year        City        Age Range  \\\n",
       "0               0             0  2018  Albany, NY   18 to 24 Years   \n",
       "1               1             1  2018  Albany, NY  75 Years & Over   \n",
       "2               2             2  2018  Albany, NY   45 to 54 Years   \n",
       "3               3             3  2018  Albany, NY    Under 5 Years   \n",
       "4               4             4  2018  Albany, NY   65 to 74 Years   \n",
       "...           ...           ...   ...         ...              ...   \n",
       "10819       16209         16209  2015   Tampa, FL    Under 5 Years   \n",
       "10820       16210         16210  2015   Tampa, FL    5 to 17 Years   \n",
       "10821       16211         16211  2015   Tampa, FL   45 to 54 Years   \n",
       "10822       16212         16212  2015   Tampa, FL   62 to 64 Years   \n",
       "10823       16213         16213  2015   Tampa, FL   65 to 74 Years   \n",
       "\n",
       "       Number in Range  \n",
       "0                21091  \n",
       "1                 5906  \n",
       "2                10514  \n",
       "3                 5491  \n",
       "4                 6670  \n",
       "...                ...  \n",
       "10819            22686  \n",
       "10820            57889  \n",
       "10821            50313  \n",
       "10822            10131  \n",
       "10823            25388  \n",
       "\n",
       "[10824 rows x 6 columns]"
      ],
      "text/html": "<div>\n<style scoped>\n    .dataframe tbody tr th:only-of-type {\n        vertical-align: middle;\n    }\n\n    .dataframe tbody tr th {\n        vertical-align: top;\n    }\n\n    .dataframe thead th {\n        text-align: right;\n    }\n</style>\n<table border=\"1\" class=\"dataframe\">\n  <thead>\n    <tr style=\"text-align: right;\">\n      <th></th>\n      <th>Unnamed: 0</th>\n      <th>Unnamed: 0.1</th>\n      <th>Year</th>\n      <th>City</th>\n      <th>Age Range</th>\n      <th>Number in Range</th>\n    </tr>\n  </thead>\n  <tbody>\n    <tr>\n      <th>0</th>\n      <td>0</td>\n      <td>0</td>\n      <td>2018</td>\n      <td>Albany, NY</td>\n      <td>18 to 24 Years</td>\n      <td>21091</td>\n    </tr>\n    <tr>\n      <th>1</th>\n      <td>1</td>\n      <td>1</td>\n      <td>2018</td>\n      <td>Albany, NY</td>\n      <td>75 Years &amp; Over</td>\n      <td>5906</td>\n    </tr>\n    <tr>\n      <th>2</th>\n      <td>2</td>\n      <td>2</td>\n      <td>2018</td>\n      <td>Albany, NY</td>\n      <td>45 to 54 Years</td>\n      <td>10514</td>\n    </tr>\n    <tr>\n      <th>3</th>\n      <td>3</td>\n      <td>3</td>\n      <td>2018</td>\n      <td>Albany, NY</td>\n      <td>Under 5 Years</td>\n      <td>5491</td>\n    </tr>\n    <tr>\n      <th>4</th>\n      <td>4</td>\n      <td>4</td>\n      <td>2018</td>\n      <td>Albany, NY</td>\n      <td>65 to 74 Years</td>\n      <td>6670</td>\n    </tr>\n    <tr>\n      <th>...</th>\n      <td>...</td>\n      <td>...</td>\n      <td>...</td>\n      <td>...</td>\n      <td>...</td>\n      <td>...</td>\n    </tr>\n    <tr>\n      <th>10819</th>\n      <td>16209</td>\n      <td>16209</td>\n      <td>2015</td>\n      <td>Tampa, FL</td>\n      <td>Under 5 Years</td>\n      <td>22686</td>\n    </tr>\n    <tr>\n      <th>10820</th>\n      <td>16210</td>\n      <td>16210</td>\n      <td>2015</td>\n      <td>Tampa, FL</td>\n      <td>5 to 17 Years</td>\n      <td>57889</td>\n    </tr>\n    <tr>\n      <th>10821</th>\n      <td>16211</td>\n      <td>16211</td>\n      <td>2015</td>\n      <td>Tampa, FL</td>\n      <td>45 to 54 Years</td>\n      <td>50313</td>\n    </tr>\n    <tr>\n      <th>10822</th>\n      <td>16212</td>\n      <td>16212</td>\n      <td>2015</td>\n      <td>Tampa, FL</td>\n      <td>62 to 64 Years</td>\n      <td>10131</td>\n    </tr>\n    <tr>\n      <th>10823</th>\n      <td>16213</td>\n      <td>16213</td>\n      <td>2015</td>\n      <td>Tampa, FL</td>\n      <td>65 to 74 Years</td>\n      <td>25388</td>\n    </tr>\n  </tbody>\n</table>\n<p>10824 rows × 6 columns</p>\n</div>"
     },
     "metadata": {},
     "execution_count": 14
    }
   ],
   "source": [
    "age_df"
   ]
  },
  {
   "cell_type": "code",
   "execution_count": 16,
   "metadata": {},
   "outputs": [],
   "source": [
    "age_df = pd.DataFrame(age_df[['Year', 'City', 'Age Range', 'Number in Range']])\n",
    "age_df"
   ]
  },
  {
   "cell_type": "code",
   "execution_count": 19,
   "metadata": {},
   "outputs": [
    {
     "output_type": "execute_result",
     "data": {
      "text/plain": [
       "      Year                                City  Household Income\n",
       "0     2018                Albany City PUMA, NY             47121\n",
       "1     2018  Los Angeles-Long Beach-Anaheim, CA             69138\n",
       "2     2018                       United States             60293\n",
       "3     2018         Albany-Schenectady-Troy, NY             68651\n",
       "4     2018                     Los Angeles, CA             58385\n",
       "...    ...                                 ...               ...\n",
       "8995  2015  Los Angeles-Long Beach-Anaheim, CA             62544\n",
       "8996  2015              Los Angeles County, CA             59134\n",
       "8997  2015                     Los Angeles, CA             52024\n",
       "8998  2015                             Florida             49426\n",
       "8999  2015                          California             64500\n",
       "\n",
       "[9000 rows x 3 columns]"
      ],
      "text/html": "<div>\n<style scoped>\n    .dataframe tbody tr th:only-of-type {\n        vertical-align: middle;\n    }\n\n    .dataframe tbody tr th {\n        vertical-align: top;\n    }\n\n    .dataframe thead th {\n        text-align: right;\n    }\n</style>\n<table border=\"1\" class=\"dataframe\">\n  <thead>\n    <tr style=\"text-align: right;\">\n      <th></th>\n      <th>Year</th>\n      <th>City</th>\n      <th>Household Income</th>\n    </tr>\n  </thead>\n  <tbody>\n    <tr>\n      <th>0</th>\n      <td>2018</td>\n      <td>Albany City PUMA, NY</td>\n      <td>47121</td>\n    </tr>\n    <tr>\n      <th>1</th>\n      <td>2018</td>\n      <td>Los Angeles-Long Beach-Anaheim, CA</td>\n      <td>69138</td>\n    </tr>\n    <tr>\n      <th>2</th>\n      <td>2018</td>\n      <td>United States</td>\n      <td>60293</td>\n    </tr>\n    <tr>\n      <th>3</th>\n      <td>2018</td>\n      <td>Albany-Schenectady-Troy, NY</td>\n      <td>68651</td>\n    </tr>\n    <tr>\n      <th>4</th>\n      <td>2018</td>\n      <td>Los Angeles, CA</td>\n      <td>58385</td>\n    </tr>\n    <tr>\n      <th>...</th>\n      <td>...</td>\n      <td>...</td>\n      <td>...</td>\n    </tr>\n    <tr>\n      <th>8995</th>\n      <td>2015</td>\n      <td>Los Angeles-Long Beach-Anaheim, CA</td>\n      <td>62544</td>\n    </tr>\n    <tr>\n      <th>8996</th>\n      <td>2015</td>\n      <td>Los Angeles County, CA</td>\n      <td>59134</td>\n    </tr>\n    <tr>\n      <th>8997</th>\n      <td>2015</td>\n      <td>Los Angeles, CA</td>\n      <td>52024</td>\n    </tr>\n    <tr>\n      <th>8998</th>\n      <td>2015</td>\n      <td>Florida</td>\n      <td>49426</td>\n    </tr>\n    <tr>\n      <th>8999</th>\n      <td>2015</td>\n      <td>California</td>\n      <td>64500</td>\n    </tr>\n  </tbody>\n</table>\n<p>9000 rows × 3 columns</p>\n</div>"
     },
     "metadata": {},
     "execution_count": 19
    }
   ],
   "source": [
    "income_df = pd.DataFrame(income_df[['Year', 'City', 'Household Income']])\n",
    "income_df"
   ]
  },
  {
   "cell_type": "code",
   "execution_count": 21,
   "metadata": {},
   "outputs": [
    {
     "output_type": "execute_result",
     "data": {
      "text/plain": [
       "             Date  AveragePrice  Total Volume     4046      4225    4770  \\\n",
       "0        1/4/2015          1.22      40873.28  2819.50  28287.42   49.90   \n",
       "1       1/11/2015          1.24      41195.08  1002.85  31640.34  127.12   \n",
       "2       1/18/2015          1.17      44511.28   914.14  31540.32  135.77   \n",
       "3       1/25/2015          1.06      45147.50   941.38  33196.16  164.14   \n",
       "4        2/1/2015          0.99      70873.60  1353.90  60017.20  179.32   \n",
       "...           ...           ...           ...      ...       ...     ...   \n",
       "14755   11/4/2018          1.49       8300.71   152.99    521.23    0.00   \n",
       "14756  11/11/2018          1.54       9113.31   136.55    670.58    0.00   \n",
       "14757  11/18/2018          1.52      12259.52   220.91   1231.73    0.00   \n",
       "14758  11/25/2018          1.24        710.36    52.13     25.74    0.00   \n",
       "14759   12/2/2018          1.29       7374.15   176.32      5.44    0.00   \n",
       "\n",
       "       Total Bags  Small Bags  Large Bags  XLarge Bags          type  year  \\\n",
       "0         9716.46     9186.93      529.53          0.0  conventional  2015   \n",
       "1         8424.77     8036.04      388.73          0.0  conventional  2015   \n",
       "2        11921.05    11651.09      269.96          0.0  conventional  2015   \n",
       "3        10845.82    10103.35      742.47          0.0  conventional  2015   \n",
       "4         9323.18     9170.82      152.36          0.0  conventional  2015   \n",
       "...           ...         ...         ...          ...           ...   ...   \n",
       "14755     7626.49     6953.34      673.15          0.0       organic  2018   \n",
       "14756     8306.18     7048.18     1258.00          0.0       organic  2018   \n",
       "14757    10806.88     7333.34     3473.54          0.0       organic  2018   \n",
       "14758      632.49      567.77       64.72          0.0       organic  2018   \n",
       "14759     7192.39     7192.39        0.00          0.0       organic  2018   \n",
       "\n",
       "           region  \n",
       "0      Albany, NY  \n",
       "1      Albany, NY  \n",
       "2      Albany, NY  \n",
       "3      Albany, NY  \n",
       "4      Albany, NY  \n",
       "...           ...  \n",
       "14755   Tampa, FL  \n",
       "14756   Tampa, FL  \n",
       "14757   Tampa, FL  \n",
       "14758   Tampa, FL  \n",
       "14759   Tampa, FL  \n",
       "\n",
       "[14760 rows x 13 columns]"
      ],
      "text/html": "<div>\n<style scoped>\n    .dataframe tbody tr th:only-of-type {\n        vertical-align: middle;\n    }\n\n    .dataframe tbody tr th {\n        vertical-align: top;\n    }\n\n    .dataframe thead th {\n        text-align: right;\n    }\n</style>\n<table border=\"1\" class=\"dataframe\">\n  <thead>\n    <tr style=\"text-align: right;\">\n      <th></th>\n      <th>Date</th>\n      <th>AveragePrice</th>\n      <th>Total Volume</th>\n      <th>4046</th>\n      <th>4225</th>\n      <th>4770</th>\n      <th>Total Bags</th>\n      <th>Small Bags</th>\n      <th>Large Bags</th>\n      <th>XLarge Bags</th>\n      <th>type</th>\n      <th>year</th>\n      <th>region</th>\n    </tr>\n  </thead>\n  <tbody>\n    <tr>\n      <th>0</th>\n      <td>1/4/2015</td>\n      <td>1.22</td>\n      <td>40873.28</td>\n      <td>2819.50</td>\n      <td>28287.42</td>\n      <td>49.90</td>\n      <td>9716.46</td>\n      <td>9186.93</td>\n      <td>529.53</td>\n      <td>0.0</td>\n      <td>conventional</td>\n      <td>2015</td>\n      <td>Albany, NY</td>\n    </tr>\n    <tr>\n      <th>1</th>\n      <td>1/11/2015</td>\n      <td>1.24</td>\n      <td>41195.08</td>\n      <td>1002.85</td>\n      <td>31640.34</td>\n      <td>127.12</td>\n      <td>8424.77</td>\n      <td>8036.04</td>\n      <td>388.73</td>\n      <td>0.0</td>\n      <td>conventional</td>\n      <td>2015</td>\n      <td>Albany, NY</td>\n    </tr>\n    <tr>\n      <th>2</th>\n      <td>1/18/2015</td>\n      <td>1.17</td>\n      <td>44511.28</td>\n      <td>914.14</td>\n      <td>31540.32</td>\n      <td>135.77</td>\n      <td>11921.05</td>\n      <td>11651.09</td>\n      <td>269.96</td>\n      <td>0.0</td>\n      <td>conventional</td>\n      <td>2015</td>\n      <td>Albany, NY</td>\n    </tr>\n    <tr>\n      <th>3</th>\n      <td>1/25/2015</td>\n      <td>1.06</td>\n      <td>45147.50</td>\n      <td>941.38</td>\n      <td>33196.16</td>\n      <td>164.14</td>\n      <td>10845.82</td>\n      <td>10103.35</td>\n      <td>742.47</td>\n      <td>0.0</td>\n      <td>conventional</td>\n      <td>2015</td>\n      <td>Albany, NY</td>\n    </tr>\n    <tr>\n      <th>4</th>\n      <td>2/1/2015</td>\n      <td>0.99</td>\n      <td>70873.60</td>\n      <td>1353.90</td>\n      <td>60017.20</td>\n      <td>179.32</td>\n      <td>9323.18</td>\n      <td>9170.82</td>\n      <td>152.36</td>\n      <td>0.0</td>\n      <td>conventional</td>\n      <td>2015</td>\n      <td>Albany, NY</td>\n    </tr>\n    <tr>\n      <th>...</th>\n      <td>...</td>\n      <td>...</td>\n      <td>...</td>\n      <td>...</td>\n      <td>...</td>\n      <td>...</td>\n      <td>...</td>\n      <td>...</td>\n      <td>...</td>\n      <td>...</td>\n      <td>...</td>\n      <td>...</td>\n      <td>...</td>\n    </tr>\n    <tr>\n      <th>14755</th>\n      <td>11/4/2018</td>\n      <td>1.49</td>\n      <td>8300.71</td>\n      <td>152.99</td>\n      <td>521.23</td>\n      <td>0.00</td>\n      <td>7626.49</td>\n      <td>6953.34</td>\n      <td>673.15</td>\n      <td>0.0</td>\n      <td>organic</td>\n      <td>2018</td>\n      <td>Tampa, FL</td>\n    </tr>\n    <tr>\n      <th>14756</th>\n      <td>11/11/2018</td>\n      <td>1.54</td>\n      <td>9113.31</td>\n      <td>136.55</td>\n      <td>670.58</td>\n      <td>0.00</td>\n      <td>8306.18</td>\n      <td>7048.18</td>\n      <td>1258.00</td>\n      <td>0.0</td>\n      <td>organic</td>\n      <td>2018</td>\n      <td>Tampa, FL</td>\n    </tr>\n    <tr>\n      <th>14757</th>\n      <td>11/18/2018</td>\n      <td>1.52</td>\n      <td>12259.52</td>\n      <td>220.91</td>\n      <td>1231.73</td>\n      <td>0.00</td>\n      <td>10806.88</td>\n      <td>7333.34</td>\n      <td>3473.54</td>\n      <td>0.0</td>\n      <td>organic</td>\n      <td>2018</td>\n      <td>Tampa, FL</td>\n    </tr>\n    <tr>\n      <th>14758</th>\n      <td>11/25/2018</td>\n      <td>1.24</td>\n      <td>710.36</td>\n      <td>52.13</td>\n      <td>25.74</td>\n      <td>0.00</td>\n      <td>632.49</td>\n      <td>567.77</td>\n      <td>64.72</td>\n      <td>0.0</td>\n      <td>organic</td>\n      <td>2018</td>\n      <td>Tampa, FL</td>\n    </tr>\n    <tr>\n      <th>14759</th>\n      <td>12/2/2018</td>\n      <td>1.29</td>\n      <td>7374.15</td>\n      <td>176.32</td>\n      <td>5.44</td>\n      <td>0.00</td>\n      <td>7192.39</td>\n      <td>7192.39</td>\n      <td>0.00</td>\n      <td>0.0</td>\n      <td>organic</td>\n      <td>2018</td>\n      <td>Tampa, FL</td>\n    </tr>\n  </tbody>\n</table>\n<p>14760 rows × 13 columns</p>\n</div>"
     },
     "metadata": {},
     "execution_count": 21
    }
   ],
   "source": [
    "avocado_df = pd.DataFrame(avocado_df[['Date','AveragePrice', 'Total Volume', '4046', '4225', '4770', 'Total Bags', 'Small Bags', 'Large Bags', 'XLarge Bags', 'type', 'year', 'region']])\n",
    "avocado_df"
   ]
  },
  {
   "cell_type": "code",
   "execution_count": 23,
   "metadata": {},
   "outputs": [],
   "source": [
    "income_df.to_csv('Resources/clean_income_data.csv')\n",
    "age_df.to_csv('Resources/clean_age_data.csv')\n",
    "avocado_df.to_csv('Resources/clean_avocado.csv')"
   ]
  },
  {
   "cell_type": "code",
   "execution_count": null,
   "metadata": {},
   "outputs": [],
   "source": []
  }
 ]
}