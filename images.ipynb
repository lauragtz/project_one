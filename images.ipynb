{
 "metadata": {
  "language_info": {
   "codemirror_mode": {
    "name": "ipython",
    "version": 3
   },
   "file_extension": ".py",
   "mimetype": "text/x-python",
   "name": "python",
   "nbconvert_exporter": "python",
   "pygments_lexer": "ipython3",
   "version": "3.8.5-final"
  },
  "orig_nbformat": 2,
  "kernelspec": {
   "name": "python3",
   "display_name": "Python 3"
  }
 },
 "nbformat": 4,
 "nbformat_minor": 2,
 "cells": [
  {
   "cell_type": "code",
   "execution_count": 1,
   "metadata": {},
   "outputs": [],
   "source": [
    "import matplotlib.pyplot as plt\n",
    "import pandas as pd\n",
    "import numpy as np\n",
    "import requests\n",
    "import time\n",
    "from scipy.stats import linregress\n",
    "import gmaps\n",
    "from api_keys import weather_api_key as api_key\n",
    "from citipy import citipy"
   ]
  },
  {
   "cell_type": "code",
   "execution_count": 2,
   "metadata": {},
   "outputs": [],
   "source": [
    "income_df = pd.read_csv('Resources/clean_income_data.csv')\n",
    "age_df = pd.read_csv('Resources/clean_age_data.csv')\n",
    "avocado_df = pd.read_csv('Resources/clean_avocado.csv')"
   ]
  },
  {
   "cell_type": "code",
   "execution_count": 3,
   "metadata": {},
   "outputs": [
    {
     "output_type": "execute_result",
     "data": {
      "text/plain": [
       "             Date  AveragePrice  Total Volume     4046      4225    4770  \\\n",
       "0        1/4/2015          1.22      40873.28  2819.50  28287.42   49.90   \n",
       "1       1/11/2015          1.24      41195.08  1002.85  31640.34  127.12   \n",
       "2       1/18/2015          1.17      44511.28   914.14  31540.32  135.77   \n",
       "3       1/25/2015          1.06      45147.50   941.38  33196.16  164.14   \n",
       "4        2/1/2015          0.99      70873.60  1353.90  60017.20  179.32   \n",
       "...           ...           ...           ...      ...       ...     ...   \n",
       "14755   11/4/2018          1.49       8300.71   152.99    521.23    0.00   \n",
       "14756  11/11/2018          1.54       9113.31   136.55    670.58    0.00   \n",
       "14757  11/18/2018          1.52      12259.52   220.91   1231.73    0.00   \n",
       "14758  11/25/2018          1.24        710.36    52.13     25.74    0.00   \n",
       "14759   12/2/2018          1.29       7374.15   176.32      5.44    0.00   \n",
       "\n",
       "       Total Bags  Small Bags  Large Bags  XLarge Bags          type  year  \\\n",
       "0         9716.46     9186.93      529.53          0.0  conventional  2015   \n",
       "1         8424.77     8036.04      388.73          0.0  conventional  2015   \n",
       "2        11921.05    11651.09      269.96          0.0  conventional  2015   \n",
       "3        10845.82    10103.35      742.47          0.0  conventional  2015   \n",
       "4         9323.18     9170.82      152.36          0.0  conventional  2015   \n",
       "...           ...         ...         ...          ...           ...   ...   \n",
       "14755     7626.49     6953.34      673.15          0.0       organic  2018   \n",
       "14756     8306.18     7048.18     1258.00          0.0       organic  2018   \n",
       "14757    10806.88     7333.34     3473.54          0.0       organic  2018   \n",
       "14758      632.49      567.77       64.72          0.0       organic  2018   \n",
       "14759     7192.39     7192.39        0.00          0.0       organic  2018   \n",
       "\n",
       "           region    City State  \n",
       "0      Albany, NY  Albany    NY  \n",
       "1      Albany, NY  Albany    NY  \n",
       "2      Albany, NY  Albany    NY  \n",
       "3      Albany, NY  Albany    NY  \n",
       "4      Albany, NY  Albany    NY  \n",
       "...           ...     ...   ...  \n",
       "14755   Tampa, FL   Tampa    FL  \n",
       "14756   Tampa, FL   Tampa    FL  \n",
       "14757   Tampa, FL   Tampa    FL  \n",
       "14758   Tampa, FL   Tampa    FL  \n",
       "14759   Tampa, FL   Tampa    FL  \n",
       "\n",
       "[14760 rows x 15 columns]"
      ],
      "text/html": "<div>\n<style scoped>\n    .dataframe tbody tr th:only-of-type {\n        vertical-align: middle;\n    }\n\n    .dataframe tbody tr th {\n        vertical-align: top;\n    }\n\n    .dataframe thead th {\n        text-align: right;\n    }\n</style>\n<table border=\"1\" class=\"dataframe\">\n  <thead>\n    <tr style=\"text-align: right;\">\n      <th></th>\n      <th>Date</th>\n      <th>AveragePrice</th>\n      <th>Total Volume</th>\n      <th>4046</th>\n      <th>4225</th>\n      <th>4770</th>\n      <th>Total Bags</th>\n      <th>Small Bags</th>\n      <th>Large Bags</th>\n      <th>XLarge Bags</th>\n      <th>type</th>\n      <th>year</th>\n      <th>region</th>\n      <th>City</th>\n      <th>State</th>\n    </tr>\n  </thead>\n  <tbody>\n    <tr>\n      <th>0</th>\n      <td>1/4/2015</td>\n      <td>1.22</td>\n      <td>40873.28</td>\n      <td>2819.50</td>\n      <td>28287.42</td>\n      <td>49.90</td>\n      <td>9716.46</td>\n      <td>9186.93</td>\n      <td>529.53</td>\n      <td>0.0</td>\n      <td>conventional</td>\n      <td>2015</td>\n      <td>Albany, NY</td>\n      <td>Albany</td>\n      <td>NY</td>\n    </tr>\n    <tr>\n      <th>1</th>\n      <td>1/11/2015</td>\n      <td>1.24</td>\n      <td>41195.08</td>\n      <td>1002.85</td>\n      <td>31640.34</td>\n      <td>127.12</td>\n      <td>8424.77</td>\n      <td>8036.04</td>\n      <td>388.73</td>\n      <td>0.0</td>\n      <td>conventional</td>\n      <td>2015</td>\n      <td>Albany, NY</td>\n      <td>Albany</td>\n      <td>NY</td>\n    </tr>\n    <tr>\n      <th>2</th>\n      <td>1/18/2015</td>\n      <td>1.17</td>\n      <td>44511.28</td>\n      <td>914.14</td>\n      <td>31540.32</td>\n      <td>135.77</td>\n      <td>11921.05</td>\n      <td>11651.09</td>\n      <td>269.96</td>\n      <td>0.0</td>\n      <td>conventional</td>\n      <td>2015</td>\n      <td>Albany, NY</td>\n      <td>Albany</td>\n      <td>NY</td>\n    </tr>\n    <tr>\n      <th>3</th>\n      <td>1/25/2015</td>\n      <td>1.06</td>\n      <td>45147.50</td>\n      <td>941.38</td>\n      <td>33196.16</td>\n      <td>164.14</td>\n      <td>10845.82</td>\n      <td>10103.35</td>\n      <td>742.47</td>\n      <td>0.0</td>\n      <td>conventional</td>\n      <td>2015</td>\n      <td>Albany, NY</td>\n      <td>Albany</td>\n      <td>NY</td>\n    </tr>\n    <tr>\n      <th>4</th>\n      <td>2/1/2015</td>\n      <td>0.99</td>\n      <td>70873.60</td>\n      <td>1353.90</td>\n      <td>60017.20</td>\n      <td>179.32</td>\n      <td>9323.18</td>\n      <td>9170.82</td>\n      <td>152.36</td>\n      <td>0.0</td>\n      <td>conventional</td>\n      <td>2015</td>\n      <td>Albany, NY</td>\n      <td>Albany</td>\n      <td>NY</td>\n    </tr>\n    <tr>\n      <th>...</th>\n      <td>...</td>\n      <td>...</td>\n      <td>...</td>\n      <td>...</td>\n      <td>...</td>\n      <td>...</td>\n      <td>...</td>\n      <td>...</td>\n      <td>...</td>\n      <td>...</td>\n      <td>...</td>\n      <td>...</td>\n      <td>...</td>\n      <td>...</td>\n      <td>...</td>\n    </tr>\n    <tr>\n      <th>14755</th>\n      <td>11/4/2018</td>\n      <td>1.49</td>\n      <td>8300.71</td>\n      <td>152.99</td>\n      <td>521.23</td>\n      <td>0.00</td>\n      <td>7626.49</td>\n      <td>6953.34</td>\n      <td>673.15</td>\n      <td>0.0</td>\n      <td>organic</td>\n      <td>2018</td>\n      <td>Tampa, FL</td>\n      <td>Tampa</td>\n      <td>FL</td>\n    </tr>\n    <tr>\n      <th>14756</th>\n      <td>11/11/2018</td>\n      <td>1.54</td>\n      <td>9113.31</td>\n      <td>136.55</td>\n      <td>670.58</td>\n      <td>0.00</td>\n      <td>8306.18</td>\n      <td>7048.18</td>\n      <td>1258.00</td>\n      <td>0.0</td>\n      <td>organic</td>\n      <td>2018</td>\n      <td>Tampa, FL</td>\n      <td>Tampa</td>\n      <td>FL</td>\n    </tr>\n    <tr>\n      <th>14757</th>\n      <td>11/18/2018</td>\n      <td>1.52</td>\n      <td>12259.52</td>\n      <td>220.91</td>\n      <td>1231.73</td>\n      <td>0.00</td>\n      <td>10806.88</td>\n      <td>7333.34</td>\n      <td>3473.54</td>\n      <td>0.0</td>\n      <td>organic</td>\n      <td>2018</td>\n      <td>Tampa, FL</td>\n      <td>Tampa</td>\n      <td>FL</td>\n    </tr>\n    <tr>\n      <th>14758</th>\n      <td>11/25/2018</td>\n      <td>1.24</td>\n      <td>710.36</td>\n      <td>52.13</td>\n      <td>25.74</td>\n      <td>0.00</td>\n      <td>632.49</td>\n      <td>567.77</td>\n      <td>64.72</td>\n      <td>0.0</td>\n      <td>organic</td>\n      <td>2018</td>\n      <td>Tampa, FL</td>\n      <td>Tampa</td>\n      <td>FL</td>\n    </tr>\n    <tr>\n      <th>14759</th>\n      <td>12/2/2018</td>\n      <td>1.29</td>\n      <td>7374.15</td>\n      <td>176.32</td>\n      <td>5.44</td>\n      <td>0.00</td>\n      <td>7192.39</td>\n      <td>7192.39</td>\n      <td>0.00</td>\n      <td>0.0</td>\n      <td>organic</td>\n      <td>2018</td>\n      <td>Tampa, FL</td>\n      <td>Tampa</td>\n      <td>FL</td>\n    </tr>\n  </tbody>\n</table>\n<p>14760 rows × 15 columns</p>\n</div>"
     },
     "metadata": {},
     "execution_count": 3
    }
   ],
   "source": [
    "avocado_df['region'].unique()\n",
    "city_split_df = avocado_df['region'].str.split(\",\", n = 1, expand = True)\n",
    "avocado_df['City'] = city_split_df[0]\n",
    "avocado_df['State'] = city_split_df[1]\n",
    "avocado_df"
   ]
  },
  {
   "cell_type": "code",
   "execution_count": 4,
   "metadata": {},
   "outputs": [],
   "source": [
    "income_df = income_df[['Year', 'City', 'Median Income']]"
   ]
  },
  {
   "cell_type": "code",
   "execution_count": 5,
   "metadata": {},
   "outputs": [
    {
     "output_type": "execute_result",
     "data": {
      "text/plain": [
       "     Year          City  Median Income\n",
       "0    2018    Albany, NY          45500\n",
       "1    2017    Albany, NY          43790\n",
       "2    2016    Albany, NY          42335\n",
       "3    2015    Albany, NY          40949\n",
       "24   2018   Atlanta, GA          65345\n",
       "..    ...           ...            ...\n",
       "939  2015  Syracuse, NY          31881\n",
       "960  2018     Tampa, FL          54599\n",
       "961  2017     Tampa, FL          50489\n",
       "962  2016     Tampa, FL          50405\n",
       "963  2015     Tampa, FL          44432\n",
       "\n",
       "[160 rows x 3 columns]"
      ],
      "text/html": "<div>\n<style scoped>\n    .dataframe tbody tr th:only-of-type {\n        vertical-align: middle;\n    }\n\n    .dataframe tbody tr th {\n        vertical-align: top;\n    }\n\n    .dataframe thead th {\n        text-align: right;\n    }\n</style>\n<table border=\"1\" class=\"dataframe\">\n  <thead>\n    <tr style=\"text-align: right;\">\n      <th></th>\n      <th>Year</th>\n      <th>City</th>\n      <th>Median Income</th>\n    </tr>\n  </thead>\n  <tbody>\n    <tr>\n      <th>0</th>\n      <td>2018</td>\n      <td>Albany, NY</td>\n      <td>45500</td>\n    </tr>\n    <tr>\n      <th>1</th>\n      <td>2017</td>\n      <td>Albany, NY</td>\n      <td>43790</td>\n    </tr>\n    <tr>\n      <th>2</th>\n      <td>2016</td>\n      <td>Albany, NY</td>\n      <td>42335</td>\n    </tr>\n    <tr>\n      <th>3</th>\n      <td>2015</td>\n      <td>Albany, NY</td>\n      <td>40949</td>\n    </tr>\n    <tr>\n      <th>24</th>\n      <td>2018</td>\n      <td>Atlanta, GA</td>\n      <td>65345</td>\n    </tr>\n    <tr>\n      <th>...</th>\n      <td>...</td>\n      <td>...</td>\n      <td>...</td>\n    </tr>\n    <tr>\n      <th>939</th>\n      <td>2015</td>\n      <td>Syracuse, NY</td>\n      <td>31881</td>\n    </tr>\n    <tr>\n      <th>960</th>\n      <td>2018</td>\n      <td>Tampa, FL</td>\n      <td>54599</td>\n    </tr>\n    <tr>\n      <th>961</th>\n      <td>2017</td>\n      <td>Tampa, FL</td>\n      <td>50489</td>\n    </tr>\n    <tr>\n      <th>962</th>\n      <td>2016</td>\n      <td>Tampa, FL</td>\n      <td>50405</td>\n    </tr>\n    <tr>\n      <th>963</th>\n      <td>2015</td>\n      <td>Tampa, FL</td>\n      <td>44432</td>\n    </tr>\n  </tbody>\n</table>\n<p>160 rows × 3 columns</p>\n</div>"
     },
     "metadata": {},
     "execution_count": 5
    }
   ],
   "source": [
    "income_df = income_df.drop_duplicates()\n",
    "income_df"
   ]
  },
  {
   "cell_type": "code",
   "execution_count": 6,
   "metadata": {},
   "outputs": [
    {
     "output_type": "execute_result",
     "data": {
      "text/plain": [
       "array(['18 to 24 Years', '75 Years & Over', '45 to 54 Years',\n",
       "       'Under 5 Years', '65 to 74 Years', '35 to 44 Years',\n",
       "       '55 to 59 Years', '5 to 17 Years', '62 to 64 Years',\n",
       "       '25 to 34 Years', '60 & 61 Years'], dtype=object)"
      ]
     },
     "metadata": {},
     "execution_count": 6
    }
   ],
   "source": [
    "age_df = age_df[['Year', 'City', 'Age Range', 'Number in Range']]\n",
    "age_df['Age Range'].unique()"
   ]
  },
  {
   "cell_type": "code",
   "execution_count": 7,
   "metadata": {},
   "outputs": [
    {
     "output_type": "execute_result",
     "data": {
      "text/plain": [
       "       Year        City       Age Range  Number in Range\n",
       "9      2018  Albany, NY  25 to 34 Years            15951\n",
       "14     2017  Albany, NY  25 to 34 Years            16607\n",
       "32     2016  Albany, NY  25 to 34 Years            16205\n",
       "33     2015  Albany, NY  25 to 34 Years            16221\n",
       "53     2018  Albany, NY  25 to 34 Years            15951\n",
       "...     ...         ...             ...              ...\n",
       "10769  2015   Tampa, FL  25 to 34 Years            61534\n",
       "10789  2018   Tampa, FL  25 to 34 Years            69950\n",
       "10794  2017   Tampa, FL  25 to 34 Years            62853\n",
       "10812  2016   Tampa, FL  25 to 34 Years            61411\n",
       "10813  2015   Tampa, FL  25 to 34 Years            61534\n",
       "\n",
       "[984 rows x 4 columns]"
      ],
      "text/html": "<div>\n<style scoped>\n    .dataframe tbody tr th:only-of-type {\n        vertical-align: middle;\n    }\n\n    .dataframe tbody tr th {\n        vertical-align: top;\n    }\n\n    .dataframe thead th {\n        text-align: right;\n    }\n</style>\n<table border=\"1\" class=\"dataframe\">\n  <thead>\n    <tr style=\"text-align: right;\">\n      <th></th>\n      <th>Year</th>\n      <th>City</th>\n      <th>Age Range</th>\n      <th>Number in Range</th>\n    </tr>\n  </thead>\n  <tbody>\n    <tr>\n      <th>9</th>\n      <td>2018</td>\n      <td>Albany, NY</td>\n      <td>25 to 34 Years</td>\n      <td>15951</td>\n    </tr>\n    <tr>\n      <th>14</th>\n      <td>2017</td>\n      <td>Albany, NY</td>\n      <td>25 to 34 Years</td>\n      <td>16607</td>\n    </tr>\n    <tr>\n      <th>32</th>\n      <td>2016</td>\n      <td>Albany, NY</td>\n      <td>25 to 34 Years</td>\n      <td>16205</td>\n    </tr>\n    <tr>\n      <th>33</th>\n      <td>2015</td>\n      <td>Albany, NY</td>\n      <td>25 to 34 Years</td>\n      <td>16221</td>\n    </tr>\n    <tr>\n      <th>53</th>\n      <td>2018</td>\n      <td>Albany, NY</td>\n      <td>25 to 34 Years</td>\n      <td>15951</td>\n    </tr>\n    <tr>\n      <th>...</th>\n      <td>...</td>\n      <td>...</td>\n      <td>...</td>\n      <td>...</td>\n    </tr>\n    <tr>\n      <th>10769</th>\n      <td>2015</td>\n      <td>Tampa, FL</td>\n      <td>25 to 34 Years</td>\n      <td>61534</td>\n    </tr>\n    <tr>\n      <th>10789</th>\n      <td>2018</td>\n      <td>Tampa, FL</td>\n      <td>25 to 34 Years</td>\n      <td>69950</td>\n    </tr>\n    <tr>\n      <th>10794</th>\n      <td>2017</td>\n      <td>Tampa, FL</td>\n      <td>25 to 34 Years</td>\n      <td>62853</td>\n    </tr>\n    <tr>\n      <th>10812</th>\n      <td>2016</td>\n      <td>Tampa, FL</td>\n      <td>25 to 34 Years</td>\n      <td>61411</td>\n    </tr>\n    <tr>\n      <th>10813</th>\n      <td>2015</td>\n      <td>Tampa, FL</td>\n      <td>25 to 34 Years</td>\n      <td>61534</td>\n    </tr>\n  </tbody>\n</table>\n<p>984 rows × 4 columns</p>\n</div>"
     },
     "metadata": {},
     "execution_count": 7
    }
   ],
   "source": [
    "unwanted = ['18 to 24 Years', '75 Years & Over', '45 to 54 Years',\n",
    "       'Under 5 Years', '65 to 74 Years', '35 to 44 Years',\n",
    "       '55 to 59 Years', '5 to 17 Years', '62 to 64 Years', '60 & 61 Years']\n",
    "millenial_df = age_df\n",
    "for age in unwanted:\n",
    "    millenial_df.drop(millenial_df.loc[millenial_df['Age Range']==age].index, inplace=True)\n",
    "\n",
    "millenial_df"
   ]
  },
  {
   "cell_type": "code",
   "execution_count": 8,
   "metadata": {},
   "outputs": [
    {
     "output_type": "execute_result",
     "data": {
      "text/plain": [
       "                    City  AveragePrice\n",
       "0                 Albany      1.552341\n",
       "1                Atlanta      1.318976\n",
       "2             Boise City      1.371780\n",
       "3                 Boston      1.516293\n",
       "4              Charlotte      1.594976\n",
       "5                Chicago      1.547854\n",
       "6               Columbus      1.239561\n",
       "7                 Denver      1.241268\n",
       "8                Detroit      1.266098\n",
       "9           Grand Rapids      1.479293\n",
       "10           Great Lakes      1.324854\n",
       "11               Houston      1.046317\n",
       "12          Indianapolis      1.306780\n",
       "13          Jacksonville      1.477610\n",
       "14             Las Vegas      1.377585\n",
       "15           Los Angeles      1.249146\n",
       "16            Louisville      1.289293\n",
       "17              Midsouth      1.406390\n",
       "18             Nashville      1.217268\n",
       "19              New York      1.694634\n",
       "20  Northern New England      1.472585\n",
       "21               Orlando      1.458220\n",
       "22          Philadelphia      1.589146\n",
       "23            Pittsburgh      1.359122\n",
       "24                Plains      1.412756\n",
       "25              Portland      1.347659\n",
       "26               Roanoke      1.255927\n",
       "27            Sacramento      1.607463\n",
       "28             San Diego      1.417049\n",
       "29         San Francisco      1.793780\n",
       "30               Seattle      1.466317\n",
       "31        South Carolina      1.375976\n",
       "32               Spokane      1.465073\n",
       "33              St.Louis      1.419976\n",
       "34              Syracuse      1.473366\n",
       "35                 Tampa      1.387049"
      ],
      "text/html": "<div>\n<style scoped>\n    .dataframe tbody tr th:only-of-type {\n        vertical-align: middle;\n    }\n\n    .dataframe tbody tr th {\n        vertical-align: top;\n    }\n\n    .dataframe thead th {\n        text-align: right;\n    }\n</style>\n<table border=\"1\" class=\"dataframe\">\n  <thead>\n    <tr style=\"text-align: right;\">\n      <th></th>\n      <th>City</th>\n      <th>AveragePrice</th>\n    </tr>\n  </thead>\n  <tbody>\n    <tr>\n      <th>0</th>\n      <td>Albany</td>\n      <td>1.552341</td>\n    </tr>\n    <tr>\n      <th>1</th>\n      <td>Atlanta</td>\n      <td>1.318976</td>\n    </tr>\n    <tr>\n      <th>2</th>\n      <td>Boise City</td>\n      <td>1.371780</td>\n    </tr>\n    <tr>\n      <th>3</th>\n      <td>Boston</td>\n      <td>1.516293</td>\n    </tr>\n    <tr>\n      <th>4</th>\n      <td>Charlotte</td>\n      <td>1.594976</td>\n    </tr>\n    <tr>\n      <th>5</th>\n      <td>Chicago</td>\n      <td>1.547854</td>\n    </tr>\n    <tr>\n      <th>6</th>\n      <td>Columbus</td>\n      <td>1.239561</td>\n    </tr>\n    <tr>\n      <th>7</th>\n      <td>Denver</td>\n      <td>1.241268</td>\n    </tr>\n    <tr>\n      <th>8</th>\n      <td>Detroit</td>\n      <td>1.266098</td>\n    </tr>\n    <tr>\n      <th>9</th>\n      <td>Grand Rapids</td>\n      <td>1.479293</td>\n    </tr>\n    <tr>\n      <th>10</th>\n      <td>Great Lakes</td>\n      <td>1.324854</td>\n    </tr>\n    <tr>\n      <th>11</th>\n      <td>Houston</td>\n      <td>1.046317</td>\n    </tr>\n    <tr>\n      <th>12</th>\n      <td>Indianapolis</td>\n      <td>1.306780</td>\n    </tr>\n    <tr>\n      <th>13</th>\n      <td>Jacksonville</td>\n      <td>1.477610</td>\n    </tr>\n    <tr>\n      <th>14</th>\n      <td>Las Vegas</td>\n      <td>1.377585</td>\n    </tr>\n    <tr>\n      <th>15</th>\n      <td>Los Angeles</td>\n      <td>1.249146</td>\n    </tr>\n    <tr>\n      <th>16</th>\n      <td>Louisville</td>\n      <td>1.289293</td>\n    </tr>\n    <tr>\n      <th>17</th>\n      <td>Midsouth</td>\n      <td>1.406390</td>\n    </tr>\n    <tr>\n      <th>18</th>\n      <td>Nashville</td>\n      <td>1.217268</td>\n    </tr>\n    <tr>\n      <th>19</th>\n      <td>New York</td>\n      <td>1.694634</td>\n    </tr>\n    <tr>\n      <th>20</th>\n      <td>Northern New England</td>\n      <td>1.472585</td>\n    </tr>\n    <tr>\n      <th>21</th>\n      <td>Orlando</td>\n      <td>1.458220</td>\n    </tr>\n    <tr>\n      <th>22</th>\n      <td>Philadelphia</td>\n      <td>1.589146</td>\n    </tr>\n    <tr>\n      <th>23</th>\n      <td>Pittsburgh</td>\n      <td>1.359122</td>\n    </tr>\n    <tr>\n      <th>24</th>\n      <td>Plains</td>\n      <td>1.412756</td>\n    </tr>\n    <tr>\n      <th>25</th>\n      <td>Portland</td>\n      <td>1.347659</td>\n    </tr>\n    <tr>\n      <th>26</th>\n      <td>Roanoke</td>\n      <td>1.255927</td>\n    </tr>\n    <tr>\n      <th>27</th>\n      <td>Sacramento</td>\n      <td>1.607463</td>\n    </tr>\n    <tr>\n      <th>28</th>\n      <td>San Diego</td>\n      <td>1.417049</td>\n    </tr>\n    <tr>\n      <th>29</th>\n      <td>San Francisco</td>\n      <td>1.793780</td>\n    </tr>\n    <tr>\n      <th>30</th>\n      <td>Seattle</td>\n      <td>1.466317</td>\n    </tr>\n    <tr>\n      <th>31</th>\n      <td>South Carolina</td>\n      <td>1.375976</td>\n    </tr>\n    <tr>\n      <th>32</th>\n      <td>Spokane</td>\n      <td>1.465073</td>\n    </tr>\n    <tr>\n      <th>33</th>\n      <td>St.Louis</td>\n      <td>1.419976</td>\n    </tr>\n    <tr>\n      <th>34</th>\n      <td>Syracuse</td>\n      <td>1.473366</td>\n    </tr>\n    <tr>\n      <th>35</th>\n      <td>Tampa</td>\n      <td>1.387049</td>\n    </tr>\n  </tbody>\n</table>\n</div>"
     },
     "metadata": {},
     "execution_count": 8
    }
   ],
   "source": [
    "grouped_avocado = avocado_df.groupby(avocado_df['City'], as_index=False).mean()\n",
    "grouped_avocado = grouped_avocado[['City', 'AveragePrice']]\n",
    "#Avocado Average Price by City\n",
    "city_avo_df = grouped_avocado\n",
    "city_avo_df\n",
    "\n"
   ]
  },
  {
   "cell_type": "code",
   "execution_count": 26,
   "metadata": {},
   "outputs": [
    {
     "output_type": "stream",
     "name": "stdout",
     "text": [
      "Not fount skipping\n",
      "Not fount skipping\n",
      "Not fount skipping\n"
     ]
    }
   ],
   "source": [
    "for index, row in city_avo_df.iterrows():\n",
    "    city_name = row['City']\n",
    "    country_code = 'US'\n",
    "    url = f'http://api.openweathermap.org/data/2.5/weather?appid={api_key}&units=imperial&q={city_name}'\n",
    "    response = requests.get(url)\n",
    "    response = response.json()\n",
    "    try:\n",
    "        city_avo_df.loc[index, 'Temp'] = response['main']['temp']\n",
    "    except (KeyError, IndexError):\n",
    "        print('Not found skipping')"
   ]
  },
  {
   "cell_type": "code",
   "execution_count": 36,
   "metadata": {},
   "outputs": [
    {
     "output_type": "execute_result",
     "data": {
      "text/plain": [
       "'http://api.openweathermap.org/data/2.5/weather?appid=c395bc40851fa7fe224c6ac64d025a9b&units=imperial&q=Tampa'"
      ]
     },
     "metadata": {},
     "execution_count": 36
    }
   ],
   "source": [
    "url"
   ]
  },
  {
   "cell_type": "code",
   "execution_count": 28,
   "metadata": {},
   "outputs": [
    {
     "output_type": "execute_result",
     "data": {
      "text/plain": [
       "              City  AveragePrice   Temp\n",
       "0           Albany      1.552341  40.80\n",
       "1          Atlanta      1.318976  46.54\n",
       "2       Boise City      1.371780  51.01\n",
       "3           Boston      1.516293  45.05\n",
       "4        Charlotte      1.594976  39.78\n",
       "5          Chicago      1.547854  58.51\n",
       "6         Columbus      1.239561  52.93\n",
       "7           Denver      1.241268  44.31\n",
       "8          Detroit      1.266098  55.72\n",
       "9     Grand Rapids      1.479293  58.57\n",
       "10     Great Lakes      1.324854  84.31\n",
       "11         Houston      1.046317  67.30\n",
       "12    Indianapolis      1.306780  58.46\n",
       "13    Jacksonville      1.477610  62.22\n",
       "14       Las Vegas      1.377585  57.36\n",
       "15     Los Angeles      1.249146  55.72\n",
       "16      Louisville      1.289293  57.36\n",
       "18       Nashville      1.217268  54.54\n",
       "19        New York      1.694634  45.00\n",
       "21         Orlando      1.458220  66.00\n",
       "22    Philadelphia      1.589146  44.83\n",
       "23      Pittsburgh      1.359122  58.33\n",
       "24          Plains      1.412756  40.71\n",
       "25        Portland      1.347659  43.16\n",
       "26         Roanoke      1.255927  37.20\n",
       "27      Sacramento      1.607463  51.33\n",
       "28       San Diego      1.417049  58.78\n",
       "29   San Francisco      1.793780  51.62\n",
       "30         Seattle      1.466317  44.74\n",
       "31  South Carolina      1.375976  41.47\n",
       "32         Spokane      1.465073  36.64\n",
       "34        Syracuse      1.473366  55.27\n",
       "35           Tampa      1.387049  65.57"
      ],
      "text/html": "<div>\n<style scoped>\n    .dataframe tbody tr th:only-of-type {\n        vertical-align: middle;\n    }\n\n    .dataframe tbody tr th {\n        vertical-align: top;\n    }\n\n    .dataframe thead th {\n        text-align: right;\n    }\n</style>\n<table border=\"1\" class=\"dataframe\">\n  <thead>\n    <tr style=\"text-align: right;\">\n      <th></th>\n      <th>City</th>\n      <th>AveragePrice</th>\n      <th>Temp</th>\n    </tr>\n  </thead>\n  <tbody>\n    <tr>\n      <th>0</th>\n      <td>Albany</td>\n      <td>1.552341</td>\n      <td>40.80</td>\n    </tr>\n    <tr>\n      <th>1</th>\n      <td>Atlanta</td>\n      <td>1.318976</td>\n      <td>46.54</td>\n    </tr>\n    <tr>\n      <th>2</th>\n      <td>Boise City</td>\n      <td>1.371780</td>\n      <td>51.01</td>\n    </tr>\n    <tr>\n      <th>3</th>\n      <td>Boston</td>\n      <td>1.516293</td>\n      <td>45.05</td>\n    </tr>\n    <tr>\n      <th>4</th>\n      <td>Charlotte</td>\n      <td>1.594976</td>\n      <td>39.78</td>\n    </tr>\n    <tr>\n      <th>5</th>\n      <td>Chicago</td>\n      <td>1.547854</td>\n      <td>58.51</td>\n    </tr>\n    <tr>\n      <th>6</th>\n      <td>Columbus</td>\n      <td>1.239561</td>\n      <td>52.93</td>\n    </tr>\n    <tr>\n      <th>7</th>\n      <td>Denver</td>\n      <td>1.241268</td>\n      <td>44.31</td>\n    </tr>\n    <tr>\n      <th>8</th>\n      <td>Detroit</td>\n      <td>1.266098</td>\n      <td>55.72</td>\n    </tr>\n    <tr>\n      <th>9</th>\n      <td>Grand Rapids</td>\n      <td>1.479293</td>\n      <td>58.57</td>\n    </tr>\n    <tr>\n      <th>10</th>\n      <td>Great Lakes</td>\n      <td>1.324854</td>\n      <td>84.31</td>\n    </tr>\n    <tr>\n      <th>11</th>\n      <td>Houston</td>\n      <td>1.046317</td>\n      <td>67.30</td>\n    </tr>\n    <tr>\n      <th>12</th>\n      <td>Indianapolis</td>\n      <td>1.306780</td>\n      <td>58.46</td>\n    </tr>\n    <tr>\n      <th>13</th>\n      <td>Jacksonville</td>\n      <td>1.477610</td>\n      <td>62.22</td>\n    </tr>\n    <tr>\n      <th>14</th>\n      <td>Las Vegas</td>\n      <td>1.377585</td>\n      <td>57.36</td>\n    </tr>\n    <tr>\n      <th>15</th>\n      <td>Los Angeles</td>\n      <td>1.249146</td>\n      <td>55.72</td>\n    </tr>\n    <tr>\n      <th>16</th>\n      <td>Louisville</td>\n      <td>1.289293</td>\n      <td>57.36</td>\n    </tr>\n    <tr>\n      <th>18</th>\n      <td>Nashville</td>\n      <td>1.217268</td>\n      <td>54.54</td>\n    </tr>\n    <tr>\n      <th>19</th>\n      <td>New York</td>\n      <td>1.694634</td>\n      <td>45.00</td>\n    </tr>\n    <tr>\n      <th>21</th>\n      <td>Orlando</td>\n      <td>1.458220</td>\n      <td>66.00</td>\n    </tr>\n    <tr>\n      <th>22</th>\n      <td>Philadelphia</td>\n      <td>1.589146</td>\n      <td>44.83</td>\n    </tr>\n    <tr>\n      <th>23</th>\n      <td>Pittsburgh</td>\n      <td>1.359122</td>\n      <td>58.33</td>\n    </tr>\n    <tr>\n      <th>24</th>\n      <td>Plains</td>\n      <td>1.412756</td>\n      <td>40.71</td>\n    </tr>\n    <tr>\n      <th>25</th>\n      <td>Portland</td>\n      <td>1.347659</td>\n      <td>43.16</td>\n    </tr>\n    <tr>\n      <th>26</th>\n      <td>Roanoke</td>\n      <td>1.255927</td>\n      <td>37.20</td>\n    </tr>\n    <tr>\n      <th>27</th>\n      <td>Sacramento</td>\n      <td>1.607463</td>\n      <td>51.33</td>\n    </tr>\n    <tr>\n      <th>28</th>\n      <td>San Diego</td>\n      <td>1.417049</td>\n      <td>58.78</td>\n    </tr>\n    <tr>\n      <th>29</th>\n      <td>San Francisco</td>\n      <td>1.793780</td>\n      <td>51.62</td>\n    </tr>\n    <tr>\n      <th>30</th>\n      <td>Seattle</td>\n      <td>1.466317</td>\n      <td>44.74</td>\n    </tr>\n    <tr>\n      <th>31</th>\n      <td>South Carolina</td>\n      <td>1.375976</td>\n      <td>41.47</td>\n    </tr>\n    <tr>\n      <th>32</th>\n      <td>Spokane</td>\n      <td>1.465073</td>\n      <td>36.64</td>\n    </tr>\n    <tr>\n      <th>34</th>\n      <td>Syracuse</td>\n      <td>1.473366</td>\n      <td>55.27</td>\n    </tr>\n    <tr>\n      <th>35</th>\n      <td>Tampa</td>\n      <td>1.387049</td>\n      <td>65.57</td>\n    </tr>\n  </tbody>\n</table>\n</div>"
     },
     "metadata": {},
     "execution_count": 28
    }
   ],
   "source": [
    "city_avo_df.dropna()\n"
   ]
  },
  {
   "cell_type": "code",
   "execution_count": 35,
   "metadata": {},
   "outputs": [
    {
     "output_type": "execute_result",
     "data": {
      "text/plain": [
       "Text(0, 0.5, 'Average Price ($)')"
      ]
     },
     "metadata": {},
     "execution_count": 35
    },
    {
     "output_type": "display_data",
     "data": {
      "text/plain": "<Figure size 432x288 with 1 Axes>",
      "image/svg+xml": "<?xml version=\"1.0\" encoding=\"utf-8\" standalone=\"no\"?>\r\n<!DOCTYPE svg PUBLIC \"-//W3C//DTD SVG 1.1//EN\"\r\n  \"http://www.w3.org/Graphics/SVG/1.1/DTD/svg11.dtd\">\r\n<!-- Created with matplotlib (https://matplotlib.org/) -->\r\n<svg height=\"277.314375pt\" version=\"1.1\" viewBox=\"0 0 385.78125 277.314375\" width=\"385.78125pt\" xmlns=\"http://www.w3.org/2000/svg\" xmlns:xlink=\"http://www.w3.org/1999/xlink\">\r\n <metadata>\r\n  <rdf:RDF xmlns:cc=\"http://creativecommons.org/ns#\" xmlns:dc=\"http://purl.org/dc/elements/1.1/\" xmlns:rdf=\"http://www.w3.org/1999/02/22-rdf-syntax-ns#\">\r\n   <cc:Work>\r\n    <dc:type rdf:resource=\"http://purl.org/dc/dcmitype/StillImage\"/>\r\n    <dc:date>2020-11-19T21:19:21.825793</dc:date>\r\n    <dc:format>image/svg+xml</dc:format>\r\n    <dc:creator>\r\n     <cc:Agent>\r\n      <dc:title>Matplotlib v3.3.2, https://matplotlib.org/</dc:title>\r\n     </cc:Agent>\r\n    </dc:creator>\r\n   </cc:Work>\r\n  </rdf:RDF>\r\n </metadata>\r\n <defs>\r\n  <style type=\"text/css\">*{stroke-linecap:butt;stroke-linejoin:round;}</style>\r\n </defs>\r\n <g id=\"figure_1\">\r\n  <g id=\"patch_1\">\r\n   <path d=\"M 0 277.314375 \r\nL 385.78125 277.314375 \r\nL 385.78125 0 \r\nL 0 0 \r\nz\r\n\" style=\"fill:none;\"/>\r\n  </g>\r\n  <g id=\"axes_1\">\r\n   <g id=\"patch_2\">\r\n    <path d=\"M 43.78125 239.758125 \r\nL 378.58125 239.758125 \r\nL 378.58125 22.318125 \r\nL 43.78125 22.318125 \r\nz\r\n\" style=\"fill:#ffffff;\"/>\r\n   </g>\r\n   <g id=\"PathCollection_1\">\r\n    <defs>\r\n     <path d=\"M 0 3 \r\nC 0.795609 3 1.55874 2.683901 2.12132 2.12132 \r\nC 2.683901 1.55874 3 0.795609 3 0 \r\nC 3 -0.795609 2.683901 -1.55874 2.12132 -2.12132 \r\nC 1.55874 -2.683901 0.795609 -3 0 -3 \r\nC -0.795609 -3 -1.55874 -2.683901 -2.12132 -2.12132 \r\nC -2.683901 -1.55874 -3 -0.795609 -3 0 \r\nC -3 0.795609 -2.683901 1.55874 -2.12132 2.12132 \r\nC -1.55874 2.683901 -0.795609 3 0 3 \r\nz\r\n\" id=\"m9591a769ae\" style=\"stroke:#000000;\"/>\r\n    </defs>\r\n    <g clip-path=\"url(#pb9c9dbd776)\">\r\n     <use style=\"fill:#0000ff;stroke:#000000;\" x=\"85.560219\" xlink:href=\"#m9591a769ae\" y=\"96.052258\"/>\r\n     <use style=\"fill:#0000ff;stroke:#000000;\" x=\"122.208998\" xlink:href=\"#m9591a769ae\" y=\"157.76774\"/>\r\n     <use style=\"fill:#0000ff;stroke:#000000;\" x=\"150.749074\" xlink:href=\"#m9591a769ae\" y=\"143.803064\"/>\r\n     <use style=\"fill:#0000ff;stroke:#000000;\" x=\"112.695639\" xlink:href=\"#m9591a769ae\" y=\"105.585649\"/>\r\n     <use style=\"fill:#0000ff;stroke:#000000;\" x=\"79.047718\" xlink:href=\"#m9591a769ae\" y=\"84.777314\"/>\r\n     <use style=\"fill:#0000ff;stroke:#000000;\" x=\"198.635109\" xlink:href=\"#m9591a769ae\" y=\"97.239094\"/>\r\n     <use style=\"fill:#0000ff;stroke:#000000;\" x=\"163.007899\" xlink:href=\"#m9591a769ae\" y=\"178.76958\"/>\r\n     <use style=\"fill:#0000ff;stroke:#000000;\" x=\"107.970883\" xlink:href=\"#m9591a769ae\" y=\"178.318067\"/>\r\n     <use style=\"fill:#0000ff;stroke:#000000;\" x=\"180.821504\" xlink:href=\"#m9591a769ae\" y=\"171.751766\"/>\r\n     <use style=\"fill:#0000ff;stroke:#000000;\" x=\"199.018197\" xlink:href=\"#m9591a769ae\" y=\"115.370597\"/>\r\n     <use style=\"fill:#0000ff;stroke:#000000;\" x=\"363.363068\" xlink:href=\"#m9591a769ae\" y=\"156.213243\"/>\r\n     <use style=\"fill:#0000ff;stroke:#000000;\" x=\"254.757542\" xlink:href=\"#m9591a769ae\" y=\"229.874489\"/>\r\n     <use style=\"fill:#0000ff;stroke:#000000;\" x=\"198.315869\" xlink:href=\"#m9591a769ae\" y=\"160.992838\"/>\r\n     <use style=\"fill:#0000ff;stroke:#000000;\" x=\"222.322734\" xlink:href=\"#m9591a769ae\" y=\"115.815661\"/>\r\n     <use style=\"fill:#0000ff;stroke:#000000;\" x=\"191.292584\" xlink:href=\"#m9591a769ae\" y=\"142.267917\"/>\r\n     <use style=\"fill:#0000ff;stroke:#000000;\" x=\"180.821504\" xlink:href=\"#m9591a769ae\" y=\"176.234653\"/>\r\n     <use style=\"fill:#0000ff;stroke:#000000;\" x=\"191.292584\" xlink:href=\"#m9591a769ae\" y=\"165.617629\"/>\r\n     <use style=\"fill:#0000ff;stroke:#000000;\" x=\"173.287435\" xlink:href=\"#m9591a769ae\" y=\"184.66506\"/>\r\n     <use style=\"fill:#0000ff;stroke:#000000;\" x=\"112.376398\" xlink:href=\"#m9591a769ae\" y=\"58.421811\"/>\r\n     <use style=\"fill:#0000ff;stroke:#000000;\" x=\"246.457296\" xlink:href=\"#m9591a769ae\" y=\"120.943567\"/>\r\n     <use style=\"fill:#0000ff;stroke:#000000;\" x=\"111.290982\" xlink:href=\"#m9591a769ae\" y=\"86.318911\"/>\r\n     <use style=\"fill:#0000ff;stroke:#000000;\" x=\"197.485844\" xlink:href=\"#m9591a769ae\" y=\"147.150716\"/>\r\n     <use style=\"fill:#0000ff;stroke:#000000;\" x=\"84.985587\" xlink:href=\"#m9591a769ae\" y=\"132.966734\"/>\r\n     <use style=\"fill:#0000ff;stroke:#000000;\" x=\"100.628358\" xlink:href=\"#m9591a769ae\" y=\"150.182309\"/>\r\n     <use style=\"fill:#0000ff;stroke:#000000;\" x=\"62.574922\" xlink:href=\"#m9591a769ae\" y=\"174.441498\"/>\r\n     <use style=\"fill:#0000ff;stroke:#000000;\" x=\"152.792212\" xlink:href=\"#m9591a769ae\" y=\"81.474814\"/>\r\n     <use style=\"fill:#0000ff;stroke:#000000;\" x=\"200.359006\" xlink:href=\"#m9591a769ae\" y=\"131.831499\"/>\r\n     <use style=\"fill:#0000ff;stroke:#000000;\" x=\"154.643805\" xlink:href=\"#m9591a769ae\" y=\"32.201761\"/>\r\n     <use style=\"fill:#0000ff;stroke:#000000;\" x=\"110.716349\" xlink:href=\"#m9591a769ae\" y=\"118.802102\"/>\r\n     <use style=\"fill:#0000ff;stroke:#000000;\" x=\"89.838038\" xlink:href=\"#m9591a769ae\" y=\"142.69363\"/>\r\n     <use style=\"fill:#0000ff;stroke:#000000;\" x=\"58.999432\" xlink:href=\"#m9591a769ae\" y=\"119.131062\"/>\r\n     <use style=\"fill:#0000ff;stroke:#000000;\" x=\"177.948342\" xlink:href=\"#m9591a769ae\" y=\"116.937995\"/>\r\n     <use style=\"fill:#0000ff;stroke:#000000;\" x=\"243.71183\" xlink:href=\"#m9591a769ae\" y=\"139.765241\"/>\r\n    </g>\r\n   </g>\r\n   <g id=\"matplotlib.axis_1\">\r\n    <g id=\"xtick_1\">\r\n     <g id=\"line2d_1\">\r\n      <defs>\r\n       <path d=\"M 0 0 \r\nL 0 3.5 \r\n\" id=\"m07ba6a922b\" style=\"stroke:#000000;stroke-width:0.8;\"/>\r\n      </defs>\r\n      <g>\r\n       <use style=\"stroke:#000000;stroke-width:0.8;\" x=\"80.452375\" xlink:href=\"#m07ba6a922b\" y=\"239.758125\"/>\r\n      </g>\r\n     </g>\r\n     <g id=\"text_1\">\r\n      <!-- 40 -->\r\n      <g transform=\"translate(74.089875 254.356562)scale(0.1 -0.1)\">\r\n       <defs>\r\n        <path d=\"M 37.796875 64.3125 \r\nL 12.890625 25.390625 \r\nL 37.796875 25.390625 \r\nz\r\nM 35.203125 72.90625 \r\nL 47.609375 72.90625 \r\nL 47.609375 25.390625 \r\nL 58.015625 25.390625 \r\nL 58.015625 17.1875 \r\nL 47.609375 17.1875 \r\nL 47.609375 0 \r\nL 37.796875 0 \r\nL 37.796875 17.1875 \r\nL 4.890625 17.1875 \r\nL 4.890625 26.703125 \r\nz\r\n\" id=\"DejaVuSans-52\"/>\r\n        <path d=\"M 31.78125 66.40625 \r\nQ 24.171875 66.40625 20.328125 58.90625 \r\nQ 16.5 51.421875 16.5 36.375 \r\nQ 16.5 21.390625 20.328125 13.890625 \r\nQ 24.171875 6.390625 31.78125 6.390625 \r\nQ 39.453125 6.390625 43.28125 13.890625 \r\nQ 47.125 21.390625 47.125 36.375 \r\nQ 47.125 51.421875 43.28125 58.90625 \r\nQ 39.453125 66.40625 31.78125 66.40625 \r\nz\r\nM 31.78125 74.21875 \r\nQ 44.046875 74.21875 50.515625 64.515625 \r\nQ 56.984375 54.828125 56.984375 36.375 \r\nQ 56.984375 17.96875 50.515625 8.265625 \r\nQ 44.046875 -1.421875 31.78125 -1.421875 \r\nQ 19.53125 -1.421875 13.0625 8.265625 \r\nQ 6.59375 17.96875 6.59375 36.375 \r\nQ 6.59375 54.828125 13.0625 64.515625 \r\nQ 19.53125 74.21875 31.78125 74.21875 \r\nz\r\n\" id=\"DejaVuSans-48\"/>\r\n       </defs>\r\n       <use xlink:href=\"#DejaVuSans-52\"/>\r\n       <use x=\"63.623047\" xlink:href=\"#DejaVuSans-48\"/>\r\n      </g>\r\n     </g>\r\n    </g>\r\n    <g id=\"xtick_2\">\r\n     <g id=\"line2d_2\">\r\n      <g>\r\n       <use style=\"stroke:#000000;stroke-width:0.8;\" x=\"144.300422\" xlink:href=\"#m07ba6a922b\" y=\"239.758125\"/>\r\n      </g>\r\n     </g>\r\n     <g id=\"text_2\">\r\n      <!-- 50 -->\r\n      <g transform=\"translate(137.937922 254.356562)scale(0.1 -0.1)\">\r\n       <defs>\r\n        <path d=\"M 10.796875 72.90625 \r\nL 49.515625 72.90625 \r\nL 49.515625 64.59375 \r\nL 19.828125 64.59375 \r\nL 19.828125 46.734375 \r\nQ 21.96875 47.46875 24.109375 47.828125 \r\nQ 26.265625 48.1875 28.421875 48.1875 \r\nQ 40.625 48.1875 47.75 41.5 \r\nQ 54.890625 34.8125 54.890625 23.390625 \r\nQ 54.890625 11.625 47.5625 5.09375 \r\nQ 40.234375 -1.421875 26.90625 -1.421875 \r\nQ 22.3125 -1.421875 17.546875 -0.640625 \r\nQ 12.796875 0.140625 7.71875 1.703125 \r\nL 7.71875 11.625 \r\nQ 12.109375 9.234375 16.796875 8.0625 \r\nQ 21.484375 6.890625 26.703125 6.890625 \r\nQ 35.15625 6.890625 40.078125 11.328125 \r\nQ 45.015625 15.765625 45.015625 23.390625 \r\nQ 45.015625 31 40.078125 35.4375 \r\nQ 35.15625 39.890625 26.703125 39.890625 \r\nQ 22.75 39.890625 18.8125 39.015625 \r\nQ 14.890625 38.140625 10.796875 36.28125 \r\nz\r\n\" id=\"DejaVuSans-53\"/>\r\n       </defs>\r\n       <use xlink:href=\"#DejaVuSans-53\"/>\r\n       <use x=\"63.623047\" xlink:href=\"#DejaVuSans-48\"/>\r\n      </g>\r\n     </g>\r\n    </g>\r\n    <g id=\"xtick_3\">\r\n     <g id=\"line2d_3\">\r\n      <g>\r\n       <use style=\"stroke:#000000;stroke-width:0.8;\" x=\"208.148468\" xlink:href=\"#m07ba6a922b\" y=\"239.758125\"/>\r\n      </g>\r\n     </g>\r\n     <g id=\"text_3\">\r\n      <!-- 60 -->\r\n      <g transform=\"translate(201.785968 254.356562)scale(0.1 -0.1)\">\r\n       <defs>\r\n        <path d=\"M 33.015625 40.375 \r\nQ 26.375 40.375 22.484375 35.828125 \r\nQ 18.609375 31.296875 18.609375 23.390625 \r\nQ 18.609375 15.53125 22.484375 10.953125 \r\nQ 26.375 6.390625 33.015625 6.390625 \r\nQ 39.65625 6.390625 43.53125 10.953125 \r\nQ 47.40625 15.53125 47.40625 23.390625 \r\nQ 47.40625 31.296875 43.53125 35.828125 \r\nQ 39.65625 40.375 33.015625 40.375 \r\nz\r\nM 52.59375 71.296875 \r\nL 52.59375 62.3125 \r\nQ 48.875 64.0625 45.09375 64.984375 \r\nQ 41.3125 65.921875 37.59375 65.921875 \r\nQ 27.828125 65.921875 22.671875 59.328125 \r\nQ 17.53125 52.734375 16.796875 39.40625 \r\nQ 19.671875 43.65625 24.015625 45.921875 \r\nQ 28.375 48.1875 33.59375 48.1875 \r\nQ 44.578125 48.1875 50.953125 41.515625 \r\nQ 57.328125 34.859375 57.328125 23.390625 \r\nQ 57.328125 12.15625 50.6875 5.359375 \r\nQ 44.046875 -1.421875 33.015625 -1.421875 \r\nQ 20.359375 -1.421875 13.671875 8.265625 \r\nQ 6.984375 17.96875 6.984375 36.375 \r\nQ 6.984375 53.65625 15.1875 63.9375 \r\nQ 23.390625 74.21875 37.203125 74.21875 \r\nQ 40.921875 74.21875 44.703125 73.484375 \r\nQ 48.484375 72.75 52.59375 71.296875 \r\nz\r\n\" id=\"DejaVuSans-54\"/>\r\n       </defs>\r\n       <use xlink:href=\"#DejaVuSans-54\"/>\r\n       <use x=\"63.623047\" xlink:href=\"#DejaVuSans-48\"/>\r\n      </g>\r\n     </g>\r\n    </g>\r\n    <g id=\"xtick_4\">\r\n     <g id=\"line2d_4\">\r\n      <g>\r\n       <use style=\"stroke:#000000;stroke-width:0.8;\" x=\"271.996514\" xlink:href=\"#m07ba6a922b\" y=\"239.758125\"/>\r\n      </g>\r\n     </g>\r\n     <g id=\"text_4\">\r\n      <!-- 70 -->\r\n      <g transform=\"translate(265.634014 254.356562)scale(0.1 -0.1)\">\r\n       <defs>\r\n        <path d=\"M 8.203125 72.90625 \r\nL 55.078125 72.90625 \r\nL 55.078125 68.703125 \r\nL 28.609375 0 \r\nL 18.3125 0 \r\nL 43.21875 64.59375 \r\nL 8.203125 64.59375 \r\nz\r\n\" id=\"DejaVuSans-55\"/>\r\n       </defs>\r\n       <use xlink:href=\"#DejaVuSans-55\"/>\r\n       <use x=\"63.623047\" xlink:href=\"#DejaVuSans-48\"/>\r\n      </g>\r\n     </g>\r\n    </g>\r\n    <g id=\"xtick_5\">\r\n     <g id=\"line2d_5\">\r\n      <g>\r\n       <use style=\"stroke:#000000;stroke-width:0.8;\" x=\"335.84456\" xlink:href=\"#m07ba6a922b\" y=\"239.758125\"/>\r\n      </g>\r\n     </g>\r\n     <g id=\"text_5\">\r\n      <!-- 80 -->\r\n      <g transform=\"translate(329.48206 254.356562)scale(0.1 -0.1)\">\r\n       <defs>\r\n        <path d=\"M 31.78125 34.625 \r\nQ 24.75 34.625 20.71875 30.859375 \r\nQ 16.703125 27.09375 16.703125 20.515625 \r\nQ 16.703125 13.921875 20.71875 10.15625 \r\nQ 24.75 6.390625 31.78125 6.390625 \r\nQ 38.8125 6.390625 42.859375 10.171875 \r\nQ 46.921875 13.96875 46.921875 20.515625 \r\nQ 46.921875 27.09375 42.890625 30.859375 \r\nQ 38.875 34.625 31.78125 34.625 \r\nz\r\nM 21.921875 38.8125 \r\nQ 15.578125 40.375 12.03125 44.71875 \r\nQ 8.5 49.078125 8.5 55.328125 \r\nQ 8.5 64.0625 14.71875 69.140625 \r\nQ 20.953125 74.21875 31.78125 74.21875 \r\nQ 42.671875 74.21875 48.875 69.140625 \r\nQ 55.078125 64.0625 55.078125 55.328125 \r\nQ 55.078125 49.078125 51.53125 44.71875 \r\nQ 48 40.375 41.703125 38.8125 \r\nQ 48.828125 37.15625 52.796875 32.3125 \r\nQ 56.78125 27.484375 56.78125 20.515625 \r\nQ 56.78125 9.90625 50.3125 4.234375 \r\nQ 43.84375 -1.421875 31.78125 -1.421875 \r\nQ 19.734375 -1.421875 13.25 4.234375 \r\nQ 6.78125 9.90625 6.78125 20.515625 \r\nQ 6.78125 27.484375 10.78125 32.3125 \r\nQ 14.796875 37.15625 21.921875 38.8125 \r\nz\r\nM 18.3125 54.390625 \r\nQ 18.3125 48.734375 21.84375 45.5625 \r\nQ 25.390625 42.390625 31.78125 42.390625 \r\nQ 38.140625 42.390625 41.71875 45.5625 \r\nQ 45.3125 48.734375 45.3125 54.390625 \r\nQ 45.3125 60.0625 41.71875 63.234375 \r\nQ 38.140625 66.40625 31.78125 66.40625 \r\nQ 25.390625 66.40625 21.84375 63.234375 \r\nQ 18.3125 60.0625 18.3125 54.390625 \r\nz\r\n\" id=\"DejaVuSans-56\"/>\r\n       </defs>\r\n       <use xlink:href=\"#DejaVuSans-56\"/>\r\n       <use x=\"63.623047\" xlink:href=\"#DejaVuSans-48\"/>\r\n      </g>\r\n     </g>\r\n    </g>\r\n    <g id=\"text_6\">\r\n     <!-- Temp -->\r\n     <g transform=\"translate(197.85625 268.034687)scale(0.1 -0.1)\">\r\n      <defs>\r\n       <path d=\"M -0.296875 72.90625 \r\nL 61.375 72.90625 \r\nL 61.375 64.59375 \r\nL 35.5 64.59375 \r\nL 35.5 0 \r\nL 25.59375 0 \r\nL 25.59375 64.59375 \r\nL -0.296875 64.59375 \r\nz\r\n\" id=\"DejaVuSans-84\"/>\r\n       <path d=\"M 56.203125 29.59375 \r\nL 56.203125 25.203125 \r\nL 14.890625 25.203125 \r\nQ 15.484375 15.921875 20.484375 11.0625 \r\nQ 25.484375 6.203125 34.421875 6.203125 \r\nQ 39.59375 6.203125 44.453125 7.46875 \r\nQ 49.3125 8.734375 54.109375 11.28125 \r\nL 54.109375 2.78125 \r\nQ 49.265625 0.734375 44.1875 -0.34375 \r\nQ 39.109375 -1.421875 33.890625 -1.421875 \r\nQ 20.796875 -1.421875 13.15625 6.1875 \r\nQ 5.515625 13.8125 5.515625 26.8125 \r\nQ 5.515625 40.234375 12.765625 48.109375 \r\nQ 20.015625 56 32.328125 56 \r\nQ 43.359375 56 49.78125 48.890625 \r\nQ 56.203125 41.796875 56.203125 29.59375 \r\nz\r\nM 47.21875 32.234375 \r\nQ 47.125 39.59375 43.09375 43.984375 \r\nQ 39.0625 48.390625 32.421875 48.390625 \r\nQ 24.90625 48.390625 20.390625 44.140625 \r\nQ 15.875 39.890625 15.1875 32.171875 \r\nz\r\n\" id=\"DejaVuSans-101\"/>\r\n       <path d=\"M 52 44.1875 \r\nQ 55.375 50.25 60.0625 53.125 \r\nQ 64.75 56 71.09375 56 \r\nQ 79.640625 56 84.28125 50.015625 \r\nQ 88.921875 44.046875 88.921875 33.015625 \r\nL 88.921875 0 \r\nL 79.890625 0 \r\nL 79.890625 32.71875 \r\nQ 79.890625 40.578125 77.09375 44.375 \r\nQ 74.3125 48.1875 68.609375 48.1875 \r\nQ 61.625 48.1875 57.5625 43.546875 \r\nQ 53.515625 38.921875 53.515625 30.90625 \r\nL 53.515625 0 \r\nL 44.484375 0 \r\nL 44.484375 32.71875 \r\nQ 44.484375 40.625 41.703125 44.40625 \r\nQ 38.921875 48.1875 33.109375 48.1875 \r\nQ 26.21875 48.1875 22.15625 43.53125 \r\nQ 18.109375 38.875 18.109375 30.90625 \r\nL 18.109375 0 \r\nL 9.078125 0 \r\nL 9.078125 54.6875 \r\nL 18.109375 54.6875 \r\nL 18.109375 46.1875 \r\nQ 21.1875 51.21875 25.484375 53.609375 \r\nQ 29.78125 56 35.6875 56 \r\nQ 41.65625 56 45.828125 52.96875 \r\nQ 50 49.953125 52 44.1875 \r\nz\r\n\" id=\"DejaVuSans-109\"/>\r\n       <path d=\"M 18.109375 8.203125 \r\nL 18.109375 -20.796875 \r\nL 9.078125 -20.796875 \r\nL 9.078125 54.6875 \r\nL 18.109375 54.6875 \r\nL 18.109375 46.390625 \r\nQ 20.953125 51.265625 25.265625 53.625 \r\nQ 29.59375 56 35.59375 56 \r\nQ 45.5625 56 51.78125 48.09375 \r\nQ 58.015625 40.1875 58.015625 27.296875 \r\nQ 58.015625 14.40625 51.78125 6.484375 \r\nQ 45.5625 -1.421875 35.59375 -1.421875 \r\nQ 29.59375 -1.421875 25.265625 0.953125 \r\nQ 20.953125 3.328125 18.109375 8.203125 \r\nz\r\nM 48.6875 27.296875 \r\nQ 48.6875 37.203125 44.609375 42.84375 \r\nQ 40.53125 48.484375 33.40625 48.484375 \r\nQ 26.265625 48.484375 22.1875 42.84375 \r\nQ 18.109375 37.203125 18.109375 27.296875 \r\nQ 18.109375 17.390625 22.1875 11.75 \r\nQ 26.265625 6.109375 33.40625 6.109375 \r\nQ 40.53125 6.109375 44.609375 11.75 \r\nQ 48.6875 17.390625 48.6875 27.296875 \r\nz\r\n\" id=\"DejaVuSans-112\"/>\r\n      </defs>\r\n      <use xlink:href=\"#DejaVuSans-84\"/>\r\n      <use x=\"44.083984\" xlink:href=\"#DejaVuSans-101\"/>\r\n      <use x=\"105.607422\" xlink:href=\"#DejaVuSans-109\"/>\r\n      <use x=\"203.019531\" xlink:href=\"#DejaVuSans-112\"/>\r\n     </g>\r\n    </g>\r\n   </g>\r\n   <g id=\"matplotlib.axis_2\">\r\n    <g id=\"ytick_1\">\r\n     <g id=\"line2d_6\">\r\n      <defs>\r\n       <path d=\"M 0 0 \r\nL -3.5 0 \r\n\" id=\"mf5fb7d755f\" style=\"stroke:#000000;stroke-width:0.8;\"/>\r\n      </defs>\r\n      <g>\r\n       <use style=\"stroke:#000000;stroke-width:0.8;\" x=\"43.78125\" xlink:href=\"#mf5fb7d755f\" y=\"215.677606\"/>\r\n      </g>\r\n     </g>\r\n     <g id=\"text_7\">\r\n      <!-- 1.1 -->\r\n      <g transform=\"translate(20.878125 219.476825)scale(0.1 -0.1)\">\r\n       <defs>\r\n        <path d=\"M 12.40625 8.296875 \r\nL 28.515625 8.296875 \r\nL 28.515625 63.921875 \r\nL 10.984375 60.40625 \r\nL 10.984375 69.390625 \r\nL 28.421875 72.90625 \r\nL 38.28125 72.90625 \r\nL 38.28125 8.296875 \r\nL 54.390625 8.296875 \r\nL 54.390625 0 \r\nL 12.40625 0 \r\nz\r\n\" id=\"DejaVuSans-49\"/>\r\n        <path d=\"M 10.6875 12.40625 \r\nL 21 12.40625 \r\nL 21 0 \r\nL 10.6875 0 \r\nz\r\n\" id=\"DejaVuSans-46\"/>\r\n       </defs>\r\n       <use xlink:href=\"#DejaVuSans-49\"/>\r\n       <use x=\"63.623047\" xlink:href=\"#DejaVuSans-46\"/>\r\n       <use x=\"95.410156\" xlink:href=\"#DejaVuSans-49\"/>\r\n      </g>\r\n     </g>\r\n    </g>\r\n    <g id=\"ytick_2\">\r\n     <g id=\"line2d_7\">\r\n      <g>\r\n       <use style=\"stroke:#000000;stroke-width:0.8;\" x=\"43.78125\" xlink:href=\"#mf5fb7d755f\" y=\"189.231799\"/>\r\n      </g>\r\n     </g>\r\n     <g id=\"text_8\">\r\n      <!-- 1.2 -->\r\n      <g transform=\"translate(20.878125 193.031018)scale(0.1 -0.1)\">\r\n       <defs>\r\n        <path d=\"M 19.1875 8.296875 \r\nL 53.609375 8.296875 \r\nL 53.609375 0 \r\nL 7.328125 0 \r\nL 7.328125 8.296875 \r\nQ 12.9375 14.109375 22.625 23.890625 \r\nQ 32.328125 33.6875 34.8125 36.53125 \r\nQ 39.546875 41.84375 41.421875 45.53125 \r\nQ 43.3125 49.21875 43.3125 52.78125 \r\nQ 43.3125 58.59375 39.234375 62.25 \r\nQ 35.15625 65.921875 28.609375 65.921875 \r\nQ 23.96875 65.921875 18.8125 64.3125 \r\nQ 13.671875 62.703125 7.8125 59.421875 \r\nL 7.8125 69.390625 \r\nQ 13.765625 71.78125 18.9375 73 \r\nQ 24.125 74.21875 28.421875 74.21875 \r\nQ 39.75 74.21875 46.484375 68.546875 \r\nQ 53.21875 62.890625 53.21875 53.421875 \r\nQ 53.21875 48.921875 51.53125 44.890625 \r\nQ 49.859375 40.875 45.40625 35.40625 \r\nQ 44.1875 33.984375 37.640625 27.21875 \r\nQ 31.109375 20.453125 19.1875 8.296875 \r\nz\r\n\" id=\"DejaVuSans-50\"/>\r\n       </defs>\r\n       <use xlink:href=\"#DejaVuSans-49\"/>\r\n       <use x=\"63.623047\" xlink:href=\"#DejaVuSans-46\"/>\r\n       <use x=\"95.410156\" xlink:href=\"#DejaVuSans-50\"/>\r\n      </g>\r\n     </g>\r\n    </g>\r\n    <g id=\"ytick_3\">\r\n     <g id=\"line2d_8\">\r\n      <g>\r\n       <use style=\"stroke:#000000;stroke-width:0.8;\" x=\"43.78125\" xlink:href=\"#mf5fb7d755f\" y=\"162.785993\"/>\r\n      </g>\r\n     </g>\r\n     <g id=\"text_9\">\r\n      <!-- 1.3 -->\r\n      <g transform=\"translate(20.878125 166.585212)scale(0.1 -0.1)\">\r\n       <defs>\r\n        <path d=\"M 40.578125 39.3125 \r\nQ 47.65625 37.796875 51.625 33 \r\nQ 55.609375 28.21875 55.609375 21.1875 \r\nQ 55.609375 10.40625 48.1875 4.484375 \r\nQ 40.765625 -1.421875 27.09375 -1.421875 \r\nQ 22.515625 -1.421875 17.65625 -0.515625 \r\nQ 12.796875 0.390625 7.625 2.203125 \r\nL 7.625 11.71875 \r\nQ 11.71875 9.328125 16.59375 8.109375 \r\nQ 21.484375 6.890625 26.8125 6.890625 \r\nQ 36.078125 6.890625 40.9375 10.546875 \r\nQ 45.796875 14.203125 45.796875 21.1875 \r\nQ 45.796875 27.640625 41.28125 31.265625 \r\nQ 36.765625 34.90625 28.71875 34.90625 \r\nL 20.21875 34.90625 \r\nL 20.21875 43.015625 \r\nL 29.109375 43.015625 \r\nQ 36.375 43.015625 40.234375 45.921875 \r\nQ 44.09375 48.828125 44.09375 54.296875 \r\nQ 44.09375 59.90625 40.109375 62.90625 \r\nQ 36.140625 65.921875 28.71875 65.921875 \r\nQ 24.65625 65.921875 20.015625 65.03125 \r\nQ 15.375 64.15625 9.8125 62.3125 \r\nL 9.8125 71.09375 \r\nQ 15.4375 72.65625 20.34375 73.4375 \r\nQ 25.25 74.21875 29.59375 74.21875 \r\nQ 40.828125 74.21875 47.359375 69.109375 \r\nQ 53.90625 64.015625 53.90625 55.328125 \r\nQ 53.90625 49.265625 50.4375 45.09375 \r\nQ 46.96875 40.921875 40.578125 39.3125 \r\nz\r\n\" id=\"DejaVuSans-51\"/>\r\n       </defs>\r\n       <use xlink:href=\"#DejaVuSans-49\"/>\r\n       <use x=\"63.623047\" xlink:href=\"#DejaVuSans-46\"/>\r\n       <use x=\"95.410156\" xlink:href=\"#DejaVuSans-51\"/>\r\n      </g>\r\n     </g>\r\n    </g>\r\n    <g id=\"ytick_4\">\r\n     <g id=\"line2d_9\">\r\n      <g>\r\n       <use style=\"stroke:#000000;stroke-width:0.8;\" x=\"43.78125\" xlink:href=\"#mf5fb7d755f\" y=\"136.340187\"/>\r\n      </g>\r\n     </g>\r\n     <g id=\"text_10\">\r\n      <!-- 1.4 -->\r\n      <g transform=\"translate(20.878125 140.139405)scale(0.1 -0.1)\">\r\n       <use xlink:href=\"#DejaVuSans-49\"/>\r\n       <use x=\"63.623047\" xlink:href=\"#DejaVuSans-46\"/>\r\n       <use x=\"95.410156\" xlink:href=\"#DejaVuSans-52\"/>\r\n      </g>\r\n     </g>\r\n    </g>\r\n    <g id=\"ytick_5\">\r\n     <g id=\"line2d_10\">\r\n      <g>\r\n       <use style=\"stroke:#000000;stroke-width:0.8;\" x=\"43.78125\" xlink:href=\"#mf5fb7d755f\" y=\"109.89438\"/>\r\n      </g>\r\n     </g>\r\n     <g id=\"text_11\">\r\n      <!-- 1.5 -->\r\n      <g transform=\"translate(20.878125 113.693599)scale(0.1 -0.1)\">\r\n       <use xlink:href=\"#DejaVuSans-49\"/>\r\n       <use x=\"63.623047\" xlink:href=\"#DejaVuSans-46\"/>\r\n       <use x=\"95.410156\" xlink:href=\"#DejaVuSans-53\"/>\r\n      </g>\r\n     </g>\r\n    </g>\r\n    <g id=\"ytick_6\">\r\n     <g id=\"line2d_11\">\r\n      <g>\r\n       <use style=\"stroke:#000000;stroke-width:0.8;\" x=\"43.78125\" xlink:href=\"#mf5fb7d755f\" y=\"83.448574\"/>\r\n      </g>\r\n     </g>\r\n     <g id=\"text_12\">\r\n      <!-- 1.6 -->\r\n      <g transform=\"translate(20.878125 87.247793)scale(0.1 -0.1)\">\r\n       <use xlink:href=\"#DejaVuSans-49\"/>\r\n       <use x=\"63.623047\" xlink:href=\"#DejaVuSans-46\"/>\r\n       <use x=\"95.410156\" xlink:href=\"#DejaVuSans-54\"/>\r\n      </g>\r\n     </g>\r\n    </g>\r\n    <g id=\"ytick_7\">\r\n     <g id=\"line2d_12\">\r\n      <g>\r\n       <use style=\"stroke:#000000;stroke-width:0.8;\" x=\"43.78125\" xlink:href=\"#mf5fb7d755f\" y=\"57.002768\"/>\r\n      </g>\r\n     </g>\r\n     <g id=\"text_13\">\r\n      <!-- 1.7 -->\r\n      <g transform=\"translate(20.878125 60.801986)scale(0.1 -0.1)\">\r\n       <use xlink:href=\"#DejaVuSans-49\"/>\r\n       <use x=\"63.623047\" xlink:href=\"#DejaVuSans-46\"/>\r\n       <use x=\"95.410156\" xlink:href=\"#DejaVuSans-55\"/>\r\n      </g>\r\n     </g>\r\n    </g>\r\n    <g id=\"ytick_8\">\r\n     <g id=\"line2d_13\">\r\n      <g>\r\n       <use style=\"stroke:#000000;stroke-width:0.8;\" x=\"43.78125\" xlink:href=\"#mf5fb7d755f\" y=\"30.556961\"/>\r\n      </g>\r\n     </g>\r\n     <g id=\"text_14\">\r\n      <!-- 1.8 -->\r\n      <g transform=\"translate(20.878125 34.35618)scale(0.1 -0.1)\">\r\n       <use xlink:href=\"#DejaVuSans-49\"/>\r\n       <use x=\"63.623047\" xlink:href=\"#DejaVuSans-46\"/>\r\n       <use x=\"95.410156\" xlink:href=\"#DejaVuSans-56\"/>\r\n      </g>\r\n     </g>\r\n    </g>\r\n    <g id=\"text_15\">\r\n     <!-- Average Price ($) -->\r\n     <g transform=\"translate(14.798438 174.029531)rotate(-90)scale(0.1 -0.1)\">\r\n      <defs>\r\n       <path d=\"M 34.1875 63.1875 \r\nL 20.796875 26.90625 \r\nL 47.609375 26.90625 \r\nz\r\nM 28.609375 72.90625 \r\nL 39.796875 72.90625 \r\nL 67.578125 0 \r\nL 57.328125 0 \r\nL 50.6875 18.703125 \r\nL 17.828125 18.703125 \r\nL 11.1875 0 \r\nL 0.78125 0 \r\nz\r\n\" id=\"DejaVuSans-65\"/>\r\n       <path d=\"M 2.984375 54.6875 \r\nL 12.5 54.6875 \r\nL 29.59375 8.796875 \r\nL 46.6875 54.6875 \r\nL 56.203125 54.6875 \r\nL 35.6875 0 \r\nL 23.484375 0 \r\nz\r\n\" id=\"DejaVuSans-118\"/>\r\n       <path d=\"M 41.109375 46.296875 \r\nQ 39.59375 47.171875 37.8125 47.578125 \r\nQ 36.03125 48 33.890625 48 \r\nQ 26.265625 48 22.1875 43.046875 \r\nQ 18.109375 38.09375 18.109375 28.8125 \r\nL 18.109375 0 \r\nL 9.078125 0 \r\nL 9.078125 54.6875 \r\nL 18.109375 54.6875 \r\nL 18.109375 46.1875 \r\nQ 20.953125 51.171875 25.484375 53.578125 \r\nQ 30.03125 56 36.53125 56 \r\nQ 37.453125 56 38.578125 55.875 \r\nQ 39.703125 55.765625 41.0625 55.515625 \r\nz\r\n\" id=\"DejaVuSans-114\"/>\r\n       <path d=\"M 34.28125 27.484375 \r\nQ 23.390625 27.484375 19.1875 25 \r\nQ 14.984375 22.515625 14.984375 16.5 \r\nQ 14.984375 11.71875 18.140625 8.90625 \r\nQ 21.296875 6.109375 26.703125 6.109375 \r\nQ 34.1875 6.109375 38.703125 11.40625 \r\nQ 43.21875 16.703125 43.21875 25.484375 \r\nL 43.21875 27.484375 \r\nz\r\nM 52.203125 31.203125 \r\nL 52.203125 0 \r\nL 43.21875 0 \r\nL 43.21875 8.296875 \r\nQ 40.140625 3.328125 35.546875 0.953125 \r\nQ 30.953125 -1.421875 24.3125 -1.421875 \r\nQ 15.921875 -1.421875 10.953125 3.296875 \r\nQ 6 8.015625 6 15.921875 \r\nQ 6 25.140625 12.171875 29.828125 \r\nQ 18.359375 34.515625 30.609375 34.515625 \r\nL 43.21875 34.515625 \r\nL 43.21875 35.40625 \r\nQ 43.21875 41.609375 39.140625 45 \r\nQ 35.0625 48.390625 27.6875 48.390625 \r\nQ 23 48.390625 18.546875 47.265625 \r\nQ 14.109375 46.140625 10.015625 43.890625 \r\nL 10.015625 52.203125 \r\nQ 14.9375 54.109375 19.578125 55.046875 \r\nQ 24.21875 56 28.609375 56 \r\nQ 40.484375 56 46.34375 49.84375 \r\nQ 52.203125 43.703125 52.203125 31.203125 \r\nz\r\n\" id=\"DejaVuSans-97\"/>\r\n       <path d=\"M 45.40625 27.984375 \r\nQ 45.40625 37.75 41.375 43.109375 \r\nQ 37.359375 48.484375 30.078125 48.484375 \r\nQ 22.859375 48.484375 18.828125 43.109375 \r\nQ 14.796875 37.75 14.796875 27.984375 \r\nQ 14.796875 18.265625 18.828125 12.890625 \r\nQ 22.859375 7.515625 30.078125 7.515625 \r\nQ 37.359375 7.515625 41.375 12.890625 \r\nQ 45.40625 18.265625 45.40625 27.984375 \r\nz\r\nM 54.390625 6.78125 \r\nQ 54.390625 -7.171875 48.1875 -13.984375 \r\nQ 42 -20.796875 29.203125 -20.796875 \r\nQ 24.46875 -20.796875 20.265625 -20.09375 \r\nQ 16.0625 -19.390625 12.109375 -17.921875 \r\nL 12.109375 -9.1875 \r\nQ 16.0625 -11.328125 19.921875 -12.34375 \r\nQ 23.78125 -13.375 27.78125 -13.375 \r\nQ 36.625 -13.375 41.015625 -8.765625 \r\nQ 45.40625 -4.15625 45.40625 5.171875 \r\nL 45.40625 9.625 \r\nQ 42.625 4.78125 38.28125 2.390625 \r\nQ 33.9375 0 27.875 0 \r\nQ 17.828125 0 11.671875 7.65625 \r\nQ 5.515625 15.328125 5.515625 27.984375 \r\nQ 5.515625 40.671875 11.671875 48.328125 \r\nQ 17.828125 56 27.875 56 \r\nQ 33.9375 56 38.28125 53.609375 \r\nQ 42.625 51.21875 45.40625 46.390625 \r\nL 45.40625 54.6875 \r\nL 54.390625 54.6875 \r\nz\r\n\" id=\"DejaVuSans-103\"/>\r\n       <path id=\"DejaVuSans-32\"/>\r\n       <path d=\"M 19.671875 64.796875 \r\nL 19.671875 37.40625 \r\nL 32.078125 37.40625 \r\nQ 38.96875 37.40625 42.71875 40.96875 \r\nQ 46.484375 44.53125 46.484375 51.125 \r\nQ 46.484375 57.671875 42.71875 61.234375 \r\nQ 38.96875 64.796875 32.078125 64.796875 \r\nz\r\nM 9.8125 72.90625 \r\nL 32.078125 72.90625 \r\nQ 44.34375 72.90625 50.609375 67.359375 \r\nQ 56.890625 61.8125 56.890625 51.125 \r\nQ 56.890625 40.328125 50.609375 34.8125 \r\nQ 44.34375 29.296875 32.078125 29.296875 \r\nL 19.671875 29.296875 \r\nL 19.671875 0 \r\nL 9.8125 0 \r\nz\r\n\" id=\"DejaVuSans-80\"/>\r\n       <path d=\"M 9.421875 54.6875 \r\nL 18.40625 54.6875 \r\nL 18.40625 0 \r\nL 9.421875 0 \r\nz\r\nM 9.421875 75.984375 \r\nL 18.40625 75.984375 \r\nL 18.40625 64.59375 \r\nL 9.421875 64.59375 \r\nz\r\n\" id=\"DejaVuSans-105\"/>\r\n       <path d=\"M 48.78125 52.59375 \r\nL 48.78125 44.1875 \r\nQ 44.96875 46.296875 41.140625 47.34375 \r\nQ 37.3125 48.390625 33.40625 48.390625 \r\nQ 24.65625 48.390625 19.8125 42.84375 \r\nQ 14.984375 37.3125 14.984375 27.296875 \r\nQ 14.984375 17.28125 19.8125 11.734375 \r\nQ 24.65625 6.203125 33.40625 6.203125 \r\nQ 37.3125 6.203125 41.140625 7.25 \r\nQ 44.96875 8.296875 48.78125 10.40625 \r\nL 48.78125 2.09375 \r\nQ 45.015625 0.34375 40.984375 -0.53125 \r\nQ 36.96875 -1.421875 32.421875 -1.421875 \r\nQ 20.0625 -1.421875 12.78125 6.34375 \r\nQ 5.515625 14.109375 5.515625 27.296875 \r\nQ 5.515625 40.671875 12.859375 48.328125 \r\nQ 20.21875 56 33.015625 56 \r\nQ 37.15625 56 41.109375 55.140625 \r\nQ 45.0625 54.296875 48.78125 52.59375 \r\nz\r\n\" id=\"DejaVuSans-99\"/>\r\n       <path d=\"M 31 75.875 \r\nQ 24.46875 64.65625 21.28125 53.65625 \r\nQ 18.109375 42.671875 18.109375 31.390625 \r\nQ 18.109375 20.125 21.3125 9.0625 \r\nQ 24.515625 -2 31 -13.1875 \r\nL 23.1875 -13.1875 \r\nQ 15.875 -1.703125 12.234375 9.375 \r\nQ 8.59375 20.453125 8.59375 31.390625 \r\nQ 8.59375 42.28125 12.203125 53.3125 \r\nQ 15.828125 64.359375 23.1875 75.875 \r\nz\r\n\" id=\"DejaVuSans-40\"/>\r\n       <path d=\"M 33.796875 -14.703125 \r\nL 28.90625 -14.703125 \r\nL 28.859375 0 \r\nQ 23.734375 0.09375 18.609375 1.1875 \r\nQ 13.484375 2.296875 8.296875 4.5 \r\nL 8.296875 13.28125 \r\nQ 13.28125 10.15625 18.375 8.5625 \r\nQ 23.484375 6.984375 28.90625 6.9375 \r\nL 28.90625 29.203125 \r\nQ 18.109375 30.953125 13.203125 35.15625 \r\nQ 8.296875 39.359375 8.296875 46.6875 \r\nQ 8.296875 54.640625 13.625 59.21875 \r\nQ 18.953125 63.8125 28.90625 64.5 \r\nL 28.90625 75.984375 \r\nL 33.796875 75.984375 \r\nL 33.796875 64.65625 \r\nQ 38.328125 64.453125 42.578125 63.6875 \r\nQ 46.828125 62.9375 50.875 61.625 \r\nL 50.875 53.078125 \r\nQ 46.828125 55.125 42.546875 56.25 \r\nQ 38.28125 57.375 33.796875 57.5625 \r\nL 33.796875 36.71875 \r\nQ 44.875 35.015625 50.09375 30.609375 \r\nQ 55.328125 26.21875 55.328125 18.609375 \r\nQ 55.328125 10.359375 49.78125 5.59375 \r\nQ 44.234375 0.828125 33.796875 0.09375 \r\nz\r\nM 28.90625 37.59375 \r\nL 28.90625 57.625 \r\nQ 23.25 56.984375 20.265625 54.390625 \r\nQ 17.28125 51.8125 17.28125 47.515625 \r\nQ 17.28125 43.3125 20.03125 40.96875 \r\nQ 22.796875 38.625 28.90625 37.59375 \r\nz\r\nM 33.796875 28.21875 \r\nL 33.796875 7.078125 \r\nQ 39.984375 7.90625 43.140625 10.59375 \r\nQ 46.296875 13.28125 46.296875 17.671875 \r\nQ 46.296875 21.96875 43.28125 24.5 \r\nQ 40.28125 27.046875 33.796875 28.21875 \r\nz\r\n\" id=\"DejaVuSans-36\"/>\r\n       <path d=\"M 8.015625 75.875 \r\nL 15.828125 75.875 \r\nQ 23.140625 64.359375 26.78125 53.3125 \r\nQ 30.421875 42.28125 30.421875 31.390625 \r\nQ 30.421875 20.453125 26.78125 9.375 \r\nQ 23.140625 -1.703125 15.828125 -13.1875 \r\nL 8.015625 -13.1875 \r\nQ 14.5 -2 17.703125 9.0625 \r\nQ 20.90625 20.125 20.90625 31.390625 \r\nQ 20.90625 42.671875 17.703125 53.65625 \r\nQ 14.5 64.65625 8.015625 75.875 \r\nz\r\n\" id=\"DejaVuSans-41\"/>\r\n      </defs>\r\n      <use xlink:href=\"#DejaVuSans-65\"/>\r\n      <use x=\"62.533203\" xlink:href=\"#DejaVuSans-118\"/>\r\n      <use x=\"121.712891\" xlink:href=\"#DejaVuSans-101\"/>\r\n      <use x=\"183.236328\" xlink:href=\"#DejaVuSans-114\"/>\r\n      <use x=\"224.349609\" xlink:href=\"#DejaVuSans-97\"/>\r\n      <use x=\"285.628906\" xlink:href=\"#DejaVuSans-103\"/>\r\n      <use x=\"349.105469\" xlink:href=\"#DejaVuSans-101\"/>\r\n      <use x=\"410.628906\" xlink:href=\"#DejaVuSans-32\"/>\r\n      <use x=\"442.416016\" xlink:href=\"#DejaVuSans-80\"/>\r\n      <use x=\"500.96875\" xlink:href=\"#DejaVuSans-114\"/>\r\n      <use x=\"542.082031\" xlink:href=\"#DejaVuSans-105\"/>\r\n      <use x=\"569.865234\" xlink:href=\"#DejaVuSans-99\"/>\r\n      <use x=\"624.845703\" xlink:href=\"#DejaVuSans-101\"/>\r\n      <use x=\"686.369141\" xlink:href=\"#DejaVuSans-32\"/>\r\n      <use x=\"718.15625\" xlink:href=\"#DejaVuSans-40\"/>\r\n      <use x=\"757.169922\" xlink:href=\"#DejaVuSans-36\"/>\r\n      <use x=\"820.792969\" xlink:href=\"#DejaVuSans-41\"/>\r\n     </g>\r\n    </g>\r\n   </g>\r\n   <g id=\"patch_3\">\r\n    <path d=\"M 43.78125 239.758125 \r\nL 43.78125 22.318125 \r\n\" style=\"fill:none;stroke:#000000;stroke-linecap:square;stroke-linejoin:miter;stroke-width:0.8;\"/>\r\n   </g>\r\n   <g id=\"patch_4\">\r\n    <path d=\"M 378.58125 239.758125 \r\nL 378.58125 22.318125 \r\n\" style=\"fill:none;stroke:#000000;stroke-linecap:square;stroke-linejoin:miter;stroke-width:0.8;\"/>\r\n   </g>\r\n   <g id=\"patch_5\">\r\n    <path d=\"M 43.78125 239.758125 \r\nL 378.58125 239.758125 \r\n\" style=\"fill:none;stroke:#000000;stroke-linecap:square;stroke-linejoin:miter;stroke-width:0.8;\"/>\r\n   </g>\r\n   <g id=\"patch_6\">\r\n    <path d=\"M 43.78125 22.318125 \r\nL 378.58125 22.318125 \r\n\" style=\"fill:none;stroke:#000000;stroke-linecap:square;stroke-linejoin:miter;stroke-width:0.8;\"/>\r\n   </g>\r\n   <g id=\"text_16\">\r\n    <!-- Temperature Vs Price -->\r\n    <g transform=\"translate(147.496875 16.318125)scale(0.12 -0.12)\">\r\n     <defs>\r\n      <path d=\"M 18.3125 70.21875 \r\nL 18.3125 54.6875 \r\nL 36.8125 54.6875 \r\nL 36.8125 47.703125 \r\nL 18.3125 47.703125 \r\nL 18.3125 18.015625 \r\nQ 18.3125 11.328125 20.140625 9.421875 \r\nQ 21.96875 7.515625 27.59375 7.515625 \r\nL 36.8125 7.515625 \r\nL 36.8125 0 \r\nL 27.59375 0 \r\nQ 17.1875 0 13.234375 3.875 \r\nQ 9.28125 7.765625 9.28125 18.015625 \r\nL 9.28125 47.703125 \r\nL 2.6875 47.703125 \r\nL 2.6875 54.6875 \r\nL 9.28125 54.6875 \r\nL 9.28125 70.21875 \r\nz\r\n\" id=\"DejaVuSans-116\"/>\r\n      <path d=\"M 8.5 21.578125 \r\nL 8.5 54.6875 \r\nL 17.484375 54.6875 \r\nL 17.484375 21.921875 \r\nQ 17.484375 14.15625 20.5 10.265625 \r\nQ 23.53125 6.390625 29.59375 6.390625 \r\nQ 36.859375 6.390625 41.078125 11.03125 \r\nQ 45.3125 15.671875 45.3125 23.6875 \r\nL 45.3125 54.6875 \r\nL 54.296875 54.6875 \r\nL 54.296875 0 \r\nL 45.3125 0 \r\nL 45.3125 8.40625 \r\nQ 42.046875 3.421875 37.71875 1 \r\nQ 33.40625 -1.421875 27.6875 -1.421875 \r\nQ 18.265625 -1.421875 13.375 4.4375 \r\nQ 8.5 10.296875 8.5 21.578125 \r\nz\r\nM 31.109375 56 \r\nz\r\n\" id=\"DejaVuSans-117\"/>\r\n      <path d=\"M 28.609375 0 \r\nL 0.78125 72.90625 \r\nL 11.078125 72.90625 \r\nL 34.1875 11.53125 \r\nL 57.328125 72.90625 \r\nL 67.578125 72.90625 \r\nL 39.796875 0 \r\nz\r\n\" id=\"DejaVuSans-86\"/>\r\n      <path d=\"M 44.28125 53.078125 \r\nL 44.28125 44.578125 \r\nQ 40.484375 46.53125 36.375 47.5 \r\nQ 32.28125 48.484375 27.875 48.484375 \r\nQ 21.1875 48.484375 17.84375 46.4375 \r\nQ 14.5 44.390625 14.5 40.28125 \r\nQ 14.5 37.15625 16.890625 35.375 \r\nQ 19.28125 33.59375 26.515625 31.984375 \r\nL 29.59375 31.296875 \r\nQ 39.15625 29.25 43.1875 25.515625 \r\nQ 47.21875 21.78125 47.21875 15.09375 \r\nQ 47.21875 7.46875 41.1875 3.015625 \r\nQ 35.15625 -1.421875 24.609375 -1.421875 \r\nQ 20.21875 -1.421875 15.453125 -0.5625 \r\nQ 10.6875 0.296875 5.421875 2 \r\nL 5.421875 11.28125 \r\nQ 10.40625 8.6875 15.234375 7.390625 \r\nQ 20.0625 6.109375 24.8125 6.109375 \r\nQ 31.15625 6.109375 34.5625 8.28125 \r\nQ 37.984375 10.453125 37.984375 14.40625 \r\nQ 37.984375 18.0625 35.515625 20.015625 \r\nQ 33.0625 21.96875 24.703125 23.78125 \r\nL 21.578125 24.515625 \r\nQ 13.234375 26.265625 9.515625 29.90625 \r\nQ 5.8125 33.546875 5.8125 39.890625 \r\nQ 5.8125 47.609375 11.28125 51.796875 \r\nQ 16.75 56 26.8125 56 \r\nQ 31.78125 56 36.171875 55.265625 \r\nQ 40.578125 54.546875 44.28125 53.078125 \r\nz\r\n\" id=\"DejaVuSans-115\"/>\r\n     </defs>\r\n     <use xlink:href=\"#DejaVuSans-84\"/>\r\n     <use x=\"44.083984\" xlink:href=\"#DejaVuSans-101\"/>\r\n     <use x=\"105.607422\" xlink:href=\"#DejaVuSans-109\"/>\r\n     <use x=\"203.019531\" xlink:href=\"#DejaVuSans-112\"/>\r\n     <use x=\"266.496094\" xlink:href=\"#DejaVuSans-101\"/>\r\n     <use x=\"328.019531\" xlink:href=\"#DejaVuSans-114\"/>\r\n     <use x=\"369.132812\" xlink:href=\"#DejaVuSans-97\"/>\r\n     <use x=\"430.412109\" xlink:href=\"#DejaVuSans-116\"/>\r\n     <use x=\"469.621094\" xlink:href=\"#DejaVuSans-117\"/>\r\n     <use x=\"533\" xlink:href=\"#DejaVuSans-114\"/>\r\n     <use x=\"571.863281\" xlink:href=\"#DejaVuSans-101\"/>\r\n     <use x=\"633.386719\" xlink:href=\"#DejaVuSans-32\"/>\r\n     <use x=\"665.173828\" xlink:href=\"#DejaVuSans-86\"/>\r\n     <use x=\"733.582031\" xlink:href=\"#DejaVuSans-115\"/>\r\n     <use x=\"785.681641\" xlink:href=\"#DejaVuSans-32\"/>\r\n     <use x=\"817.46875\" xlink:href=\"#DejaVuSans-80\"/>\r\n     <use x=\"876.021484\" xlink:href=\"#DejaVuSans-114\"/>\r\n     <use x=\"917.134766\" xlink:href=\"#DejaVuSans-105\"/>\r\n     <use x=\"944.917969\" xlink:href=\"#DejaVuSans-99\"/>\r\n     <use x=\"999.898438\" xlink:href=\"#DejaVuSans-101\"/>\r\n    </g>\r\n   </g>\r\n  </g>\r\n </g>\r\n <defs>\r\n  <clipPath id=\"pb9c9dbd776\">\r\n   <rect height=\"217.44\" width=\"334.8\" x=\"43.78125\" y=\"22.318125\"/>\r\n  </clipPath>\r\n </defs>\r\n</svg>\r\n",
      "image/png": "[encoded data removed]"
     },
     "metadata": {
      "needs_background": "light"
     }
    }
   ],
   "source": [
    "plt.scatter(city_avo_df['Temp'], city_avo_df['AveragePrice'], marker= 'o', color= 'blue',edgecolors='black')\n",
    "plt.title('Temperature Vs Price')\n",
    "plt.xlabel('Temp')\n",
    "plt.ylabel('Average Price ($)')\n"
   ]
  },
  {
   "cell_type": "code",
   "execution_count": null,
   "metadata": {},
   "outputs": [],
   "source": []
  }
 ]
}